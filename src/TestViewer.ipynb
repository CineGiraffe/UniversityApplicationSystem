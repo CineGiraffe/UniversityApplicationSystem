{
 "cells": [
  {
   "cell_type": "code",
   "execution_count": 1,
   "id": "4b7e05c4",
   "metadata": {
    "pycharm": {
     "name": "#%%\n"
    }
   },
   "outputs": [],
   "source": [
    "from university import University\n",
    "from student import Student\n",
    "from application_system import ApplicationSystem\n",
    "\n",
    "from functools import cmp_to_key"
   ]
  },
  {
   "cell_type": "code",
   "execution_count": 2,
   "id": "3b3701ff",
   "metadata": {
    "pycharm": {
     "name": "#%%\n"
    }
   },
   "outputs": [
    {
     "name": "stdout",
     "output_type": "stream",
     "text": [
      "МФТИ\n"
     ]
    }
   ],
   "source": [
    "print(University.MIPT.value)"
   ]
  },
  {
   "cell_type": "code",
   "execution_count": 3,
   "id": "fe697a2e",
   "metadata": {
    "pycharm": {
     "name": "#%%\n"
    }
   },
   "outputs": [],
   "source": [
    "test_student = Student(\"123\", 275, False)"
   ]
  },
  {
   "cell_type": "code",
   "execution_count": 4,
   "id": "f1986aa3",
   "metadata": {
    "pycharm": {
     "name": "#%%\n"
    }
   },
   "outputs": [],
   "source": [
    "system = ApplicationSystem()"
   ]
  },
  {
   "cell_type": "code",
   "execution_count": 5,
   "id": "43e77164",
   "metadata": {
    "pycharm": {
     "name": "#%%\n"
    }
   },
   "outputs": [],
   "source": [
    "MAI_PMI = []\n",
    "BMSTU_PMI = []\n",
    "MIREA_PMI = []\n",
    "MIREA_PR_INJ = []\n",
    "MIPT_PMI = []\n",
    "\n",
    "# for BVI we can use 1000\n",
    "\n",
    "MAI_PMI.append(Student('111-111-111 01', 297, False))\n",
    "BMSTU_PMI.append(Student('111-111-111 01', 297, True))\n",
    "MIREA_PMI.append(Student('111-111-111 01', 297, False))\n",
    "MIREA_PR_INJ.append(Student('111-111-111 01', 297, False))\n",
    "MIPT_PMI.append(Student('111-111-111 01', 297, False))\n",
    "\n",
    "MAI_PMI.append(Student('111-111-111 02', 285, True))\n",
    "BMSTU_PMI.append(Student('111-111-111 02', 285, False))\n",
    "MIREA_PMI.append(Student('111-111-111 02', 285, False))\n",
    "MIREA_PR_INJ.append(Student('111-111-111 02', 285, False))\n",
    "\n",
    "MAI_PMI.append(Student('111-111-111 03', 271, False))\n",
    "BMSTU_PMI.append(Student('111-111-111 03', 271, False))\n",
    "MIREA_PMI.append(Student('111-111-111 03', 271, False))\n",
    "MIREA_PR_INJ.append(Student('111-111-111 03', 271, False))\n",
    "\n",
    "MAI_PMI.append(Student('111-111-111 04', 272, False))\n",
    "BMSTU_PMI.append(Student('111-111-111 04', 272, False))\n",
    "MIREA_PMI.append(Student('111-111-111 04', 272, True))\n",
    "MIREA_PR_INJ.append(Student('111-111-111 04', 272, False))\n",
    "\n",
    "MAI_PMI.append(Student('111-111-111 05', 272, False))\n",
    "BMSTU_PMI.append(Student('111-111-111 05', 272, False))\n",
    "MIREA_PMI.append(Student('111-111-111 05', 272, False))\n",
    "MIREA_PR_INJ.append(Student('111-111-111 05', 272, True))\n",
    "\n",
    "MAI_PMI.append(Student('111-111-111 06', 272, True))\n",
    "BMSTU_PMI.append(Student('111-111-111 06', 272, False))\n",
    "MIREA_PMI.append(Student('111-111-111 06', 272, False))\n",
    "MIREA_PR_INJ.append(Student('111-111-111 06', 272, False))\n",
    "\n",
    "MAI_PMI.append(Student('111-111-111 07', 272, False))\n",
    "BMSTU_PMI.append(Student('111-111-111 07', 272, False))\n",
    "MIREA_PMI.append(Student('111-111-111 07', 272, False))\n",
    "MIREA_PR_INJ.append(Student('111-111-111 07', 272, False))\n",
    "\n",
    "MAI_PMI.append(Student('111-111-111 08', 273, False))\n",
    "BMSTU_PMI.append(Student('111-111-111 08', 273, False))\n",
    "MIREA_PMI.append(Student('111-111-111 08', 273, False))\n",
    "MIREA_PR_INJ.append(Student('111-111-111 08', 273, False))\n",
    "\n",
    "MAI_PMI.append(Student('111-111-111 09', 273, True))\n",
    "BMSTU_PMI.append(Student('111-111-111 09', 273, False))\n",
    "MIREA_PMI.append(Student('111-111-111 09', 273, False))\n",
    "MIREA_PR_INJ.append(Student('111-111-111 09', 273, False))\n",
    "\n",
    "MAI_PMI.append(Student('111-111-111 10', 273, False))\n",
    "BMSTU_PMI.append(Student('111-111-111 10', 273, False))\n",
    "MIREA_PMI.append(Student('111-111-111 10', 273, True))\n",
    "MIREA_PR_INJ.append(Student('111-111-111 10', 273, False))\n",
    "\n",
    "MAI_PMI.append(Student('111-111-111 11', 273, False))\n",
    "BMSTU_PMI.append(Student('111-111-111 11', 273, False))\n",
    "MIREA_PMI.append(Student('111-111-111 11', 273, False))\n",
    "MIREA_PR_INJ.append(Student('111-111-111 11', 273, True))\n",
    "\n",
    "def cmp_func(x, y):\n",
    "    if x.score < y.score:\n",
    "        return 1\n",
    "    elif x.score > y.score:\n",
    "        return -1\n",
    "    else:\n",
    "        if x.id > y.id:\n",
    "            return 1\n",
    "        else:\n",
    "            return -1\n",
    "my_cmp = cmp_to_key(cmp_func)\n",
    "\n",
    "system.add_profile_students_data(University.MAI, '01.03.02', sorted(MAI_PMI, key=my_cmp))\n",
    "system.add_profile_students_data(University.BMSTU, '01.03.02', sorted(BMSTU_PMI, key=my_cmp))\n",
    "system.add_profile_students_data(University.MIREA, '01.03.02', sorted(MIREA_PMI, key=my_cmp))\n",
    "system.add_profile_students_data(University.MIREA, '09.03.04', sorted(MIREA_PR_INJ, key=my_cmp))\n",
    "system.add_profile_students_data(University.MIPT, '01.03.02', sorted(MIPT_PMI, key=my_cmp))"
   ]
  },
  {
   "cell_type": "code",
   "execution_count": 6,
   "outputs": [],
   "source": [
    "places = {University.MIPT: {'01.03.02': 2}, University.MAI: {'01.03.02': 4}, University.MIREA: {'01.03.02': 3, '09.03.04': 3}, University.BMSTU: {'01.03.02': 2}}\n",
    "system.add_places_details(places)"
   ],
   "metadata": {
    "collapsed": false,
    "pycharm": {
     "name": "#%%\n"
    }
   }
  },
  {
   "cell_type": "code",
   "execution_count": 7,
   "id": "6ab2d727",
   "metadata": {
    "pycharm": {
     "name": "#%%\n"
    }
   },
   "outputs": [
    {
     "data": {
      "text/plain": "['111-111-111 01',\n '111-111-111 02',\n '111-111-111 08',\n '111-111-111 09',\n '111-111-111 10',\n '111-111-111 11',\n '111-111-111 04',\n '111-111-111 05',\n '111-111-111 06',\n '111-111-111 07',\n '111-111-111 03']"
     },
     "execution_count": 7,
     "metadata": {},
     "output_type": "execute_result"
    }
   ],
   "source": [
    "[student.id for student in system.get_all_students_where_score_ge(University.MIREA, \"01.03.02\", 271)]"
   ]
  },
  {
   "cell_type": "code",
   "execution_count": 8,
   "id": "15414019",
   "metadata": {
    "pycharm": {
     "name": "#%%\n"
    }
   },
   "outputs": [
    {
     "data": {
      "text/plain": "['111-111-111 08',\n '111-111-111 10',\n '111-111-111 11',\n '111-111-111 04',\n '111-111-111 05',\n '111-111-111 07',\n '111-111-111 03']"
     },
     "execution_count": 8,
     "metadata": {},
     "output_type": "execute_result"
    }
   ],
   "source": [
    "[student.id for student in system.get_all_students_where_score_ge_and_admission_possible(University.MIREA, \"01.03.02\", 271)]"
   ]
  },
  {
   "cell_type": "code",
   "execution_count": 9,
   "id": "da09ed97",
   "metadata": {
    "pycharm": {
     "name": "#%%\n"
    }
   },
   "outputs": [
    {
     "data": {
      "text/plain": "['111-111-111 01', '111-111-111 08', '111-111-111 07', '111-111-111 03']"
     },
     "execution_count": 9,
     "metadata": {},
     "output_type": "execute_result"
    }
   ],
   "source": [
    "[student.id for student in system.get_all_students_where_score_ge_and_admission_possible(University.BMSTU, \"01.03.02\", 271)]"
   ]
  },
  {
   "cell_type": "code",
   "execution_count": 10,
   "id": "a92c3e8e",
   "metadata": {
    "pycharm": {
     "name": "#%%\n"
    }
   },
   "outputs": [
    {
     "name": "stdout",
     "output_type": "stream",
     "text": [
      "\u001B[31mNot found students for 01.03.02 in University.MIPT\u001B[0m\n"
     ]
    },
    {
     "data": {
      "text/plain": "{<University.MIPT: 'МФТИ'>: {'01.03.02': -1},\n <University.VSE: 'ВШЭ'>: {},\n <University.MSU: 'МГУ'>: {},\n <University.MEPHI: 'МИФИ'>: {},\n <University.BMSTU: 'Бауманка'>: {'01.03.02': 273},\n <University.MIREA: 'МИРЭА'>: {'01.03.02': 273, '09.03.04': 273},\n <University.MAI: 'МАИ'>: {'01.03.02': 272},\n <University.MPEI: 'МЭИ'>: {},\n <University.MTUCI: 'МТУСИ'>: {},\n <University.MPOLITECH: 'МосПолитех'>: {},\n <University.MIET: 'МИЭТ'>: {},\n <University.ITMO: 'ИТМО'>: {},\n <University.SPBSU: 'СПБГУ'>: {}}"
     },
     "execution_count": 10,
     "metadata": {},
     "output_type": "execute_result"
    }
   ],
   "source": [
    "system.get_current_min_scores()"
   ]
  },
  {
   "cell_type": "code",
   "execution_count": 11,
   "id": "10f6ae1b",
   "metadata": {
    "pycharm": {
     "name": "#%%\n"
    }
   },
   "outputs": [
    {
     "data": {
      "text/plain": "{<University.MAI: 'МАИ'>: {'01.03.02': (5, 272)},\n <University.BMSTU: 'Бауманка'>: {'01.03.02': (3, 272)},\n <University.MIREA: 'МИРЭА'>: {'01.03.02': (6, 272), '09.03.04': (6, 272)}}"
     },
     "execution_count": 11,
     "metadata": {},
     "output_type": "execute_result"
    }
   ],
   "source": [
    "system.get_current_positions(\"111-111-111 07\")"
   ]
  },
  {
   "cell_type": "code",
   "execution_count": 12,
   "outputs": [
    {
     "data": {
      "text/plain": "<pandas.io.formats.style.Styler at 0x20e72883340>",
      "text/html": "<style type=\"text/css\">\n</style>\n<table id=\"T_768ed\">\n  <caption>All agreements (with listed)</caption>\n  <thead>\n    <tr>\n      <th class=\"blank level0\" >&nbsp;</th>\n      <th id=\"T_768ed_level0_col0\" class=\"col_heading level0 col0\" >University</th>\n      <th id=\"T_768ed_level0_col1\" class=\"col_heading level0 col1\" >Agreements</th>\n    </tr>\n  </thead>\n  <tbody>\n    <tr>\n      <th id=\"T_768ed_level0_row0\" class=\"row_heading level0 row0\" >0</th>\n      <td id=\"T_768ed_row0_col0\" class=\"data row0 col0\" >МФТИ</td>\n      <td id=\"T_768ed_row0_col1\" class=\"data row0 col1\" >0</td>\n    </tr>\n    <tr>\n      <th id=\"T_768ed_level0_row1\" class=\"row_heading level0 row1\" >1</th>\n      <td id=\"T_768ed_row1_col0\" class=\"data row1 col0\" >ВШЭ</td>\n      <td id=\"T_768ed_row1_col1\" class=\"data row1 col1\" >0</td>\n    </tr>\n    <tr>\n      <th id=\"T_768ed_level0_row2\" class=\"row_heading level0 row2\" >2</th>\n      <td id=\"T_768ed_row2_col0\" class=\"data row2 col0\" >МГУ</td>\n      <td id=\"T_768ed_row2_col1\" class=\"data row2 col1\" >0</td>\n    </tr>\n    <tr>\n      <th id=\"T_768ed_level0_row3\" class=\"row_heading level0 row3\" >3</th>\n      <td id=\"T_768ed_row3_col0\" class=\"data row3 col0\" >МИФИ</td>\n      <td id=\"T_768ed_row3_col1\" class=\"data row3 col1\" >0</td>\n    </tr>\n    <tr>\n      <th id=\"T_768ed_level0_row4\" class=\"row_heading level0 row4\" >4</th>\n      <td id=\"T_768ed_row4_col0\" class=\"data row4 col0\" >Бауманка</td>\n      <td id=\"T_768ed_row4_col1\" class=\"data row4 col1\" >1</td>\n    </tr>\n    <tr>\n      <th id=\"T_768ed_level0_row5\" class=\"row_heading level0 row5\" >5</th>\n      <td id=\"T_768ed_row5_col0\" class=\"data row5 col0\" >МИРЭА</td>\n      <td id=\"T_768ed_row5_col1\" class=\"data row5 col1\" >4</td>\n    </tr>\n    <tr>\n      <th id=\"T_768ed_level0_row6\" class=\"row_heading level0 row6\" >6</th>\n      <td id=\"T_768ed_row6_col0\" class=\"data row6 col0\" >МАИ</td>\n      <td id=\"T_768ed_row6_col1\" class=\"data row6 col1\" >3</td>\n    </tr>\n    <tr>\n      <th id=\"T_768ed_level0_row7\" class=\"row_heading level0 row7\" >7</th>\n      <td id=\"T_768ed_row7_col0\" class=\"data row7 col0\" >МЭИ</td>\n      <td id=\"T_768ed_row7_col1\" class=\"data row7 col1\" >0</td>\n    </tr>\n    <tr>\n      <th id=\"T_768ed_level0_row8\" class=\"row_heading level0 row8\" >8</th>\n      <td id=\"T_768ed_row8_col0\" class=\"data row8 col0\" >МТУСИ</td>\n      <td id=\"T_768ed_row8_col1\" class=\"data row8 col1\" >0</td>\n    </tr>\n    <tr>\n      <th id=\"T_768ed_level0_row9\" class=\"row_heading level0 row9\" >9</th>\n      <td id=\"T_768ed_row9_col0\" class=\"data row9 col0\" >МосПолитех</td>\n      <td id=\"T_768ed_row9_col1\" class=\"data row9 col1\" >0</td>\n    </tr>\n    <tr>\n      <th id=\"T_768ed_level0_row10\" class=\"row_heading level0 row10\" >10</th>\n      <td id=\"T_768ed_row10_col0\" class=\"data row10 col0\" >МИЭТ</td>\n      <td id=\"T_768ed_row10_col1\" class=\"data row10 col1\" >0</td>\n    </tr>\n    <tr>\n      <th id=\"T_768ed_level0_row11\" class=\"row_heading level0 row11\" >11</th>\n      <td id=\"T_768ed_row11_col0\" class=\"data row11 col0\" >ИТМО</td>\n      <td id=\"T_768ed_row11_col1\" class=\"data row11 col1\" >0</td>\n    </tr>\n    <tr>\n      <th id=\"T_768ed_level0_row12\" class=\"row_heading level0 row12\" >12</th>\n      <td id=\"T_768ed_row12_col0\" class=\"data row12 col0\" >СПБГУ</td>\n      <td id=\"T_768ed_row12_col1\" class=\"data row12 col1\" >0</td>\n    </tr>\n  </tbody>\n</table>\n"
     },
     "metadata": {},
     "output_type": "display_data"
    }
   ],
   "source": [
    "system.showNumberOfAgreementsByUniversity()"
   ],
   "metadata": {
    "collapsed": false,
    "pycharm": {
     "name": "#%%\n"
    }
   }
  },
  {
   "cell_type": "code",
   "execution_count": 13,
   "outputs": [
    {
     "data": {
      "text/plain": "<pandas.io.formats.style.Styler at 0x20e736f3f40>",
      "text/html": "<style type=\"text/css\">\n</style>\n<table id=\"T_cd452\">\n  <caption>All pending agreements</caption>\n  <thead>\n    <tr>\n      <th class=\"blank level0\" >&nbsp;</th>\n      <th id=\"T_cd452_level0_col0\" class=\"col_heading level0 col0\" >University</th>\n      <th id=\"T_cd452_level0_col1\" class=\"col_heading level0 col1\" >Agreements</th>\n    </tr>\n  </thead>\n  <tbody>\n    <tr>\n      <th id=\"T_cd452_level0_row0\" class=\"row_heading level0 row0\" >0</th>\n      <td id=\"T_cd452_row0_col0\" class=\"data row0 col0\" >МФТИ</td>\n      <td id=\"T_cd452_row0_col1\" class=\"data row0 col1\" >0</td>\n    </tr>\n    <tr>\n      <th id=\"T_cd452_level0_row1\" class=\"row_heading level0 row1\" >1</th>\n      <td id=\"T_cd452_row1_col0\" class=\"data row1 col0\" >ВШЭ</td>\n      <td id=\"T_cd452_row1_col1\" class=\"data row1 col1\" >0</td>\n    </tr>\n    <tr>\n      <th id=\"T_cd452_level0_row2\" class=\"row_heading level0 row2\" >2</th>\n      <td id=\"T_cd452_row2_col0\" class=\"data row2 col0\" >МГУ</td>\n      <td id=\"T_cd452_row2_col1\" class=\"data row2 col1\" >0</td>\n    </tr>\n    <tr>\n      <th id=\"T_cd452_level0_row3\" class=\"row_heading level0 row3\" >3</th>\n      <td id=\"T_cd452_row3_col0\" class=\"data row3 col0\" >МИФИ</td>\n      <td id=\"T_cd452_row3_col1\" class=\"data row3 col1\" >0</td>\n    </tr>\n    <tr>\n      <th id=\"T_cd452_level0_row4\" class=\"row_heading level0 row4\" >4</th>\n      <td id=\"T_cd452_row4_col0\" class=\"data row4 col0\" >Бауманка</td>\n      <td id=\"T_cd452_row4_col1\" class=\"data row4 col1\" >1</td>\n    </tr>\n    <tr>\n      <th id=\"T_cd452_level0_row5\" class=\"row_heading level0 row5\" >5</th>\n      <td id=\"T_cd452_row5_col0\" class=\"data row5 col0\" >МИРЭА</td>\n      <td id=\"T_cd452_row5_col1\" class=\"data row5 col1\" >4</td>\n    </tr>\n    <tr>\n      <th id=\"T_cd452_level0_row6\" class=\"row_heading level0 row6\" >6</th>\n      <td id=\"T_cd452_row6_col0\" class=\"data row6 col0\" >МАИ</td>\n      <td id=\"T_cd452_row6_col1\" class=\"data row6 col1\" >3</td>\n    </tr>\n    <tr>\n      <th id=\"T_cd452_level0_row7\" class=\"row_heading level0 row7\" >7</th>\n      <td id=\"T_cd452_row7_col0\" class=\"data row7 col0\" >МЭИ</td>\n      <td id=\"T_cd452_row7_col1\" class=\"data row7 col1\" >0</td>\n    </tr>\n    <tr>\n      <th id=\"T_cd452_level0_row8\" class=\"row_heading level0 row8\" >8</th>\n      <td id=\"T_cd452_row8_col0\" class=\"data row8 col0\" >МТУСИ</td>\n      <td id=\"T_cd452_row8_col1\" class=\"data row8 col1\" >0</td>\n    </tr>\n    <tr>\n      <th id=\"T_cd452_level0_row9\" class=\"row_heading level0 row9\" >9</th>\n      <td id=\"T_cd452_row9_col0\" class=\"data row9 col0\" >МосПолитех</td>\n      <td id=\"T_cd452_row9_col1\" class=\"data row9 col1\" >0</td>\n    </tr>\n    <tr>\n      <th id=\"T_cd452_level0_row10\" class=\"row_heading level0 row10\" >10</th>\n      <td id=\"T_cd452_row10_col0\" class=\"data row10 col0\" >МИЭТ</td>\n      <td id=\"T_cd452_row10_col1\" class=\"data row10 col1\" >0</td>\n    </tr>\n    <tr>\n      <th id=\"T_cd452_level0_row11\" class=\"row_heading level0 row11\" >11</th>\n      <td id=\"T_cd452_row11_col0\" class=\"data row11 col0\" >ИТМО</td>\n      <td id=\"T_cd452_row11_col1\" class=\"data row11 col1\" >0</td>\n    </tr>\n    <tr>\n      <th id=\"T_cd452_level0_row12\" class=\"row_heading level0 row12\" >12</th>\n      <td id=\"T_cd452_row12_col0\" class=\"data row12 col0\" >СПБГУ</td>\n      <td id=\"T_cd452_row12_col1\" class=\"data row12 col1\" >0</td>\n    </tr>\n  </tbody>\n</table>\n"
     },
     "metadata": {},
     "output_type": "display_data"
    }
   ],
   "source": [
    "system.showNumberOfPendingAgreementsByUniversity()"
   ],
   "metadata": {
    "collapsed": false,
    "pycharm": {
     "name": "#%%\n"
    }
   }
  },
  {
   "cell_type": "code",
   "execution_count": 14,
   "outputs": [
    {
     "data": {
      "text/plain": "  University  N of Agreements  Average score  Median score  Top 5% score  \\\n1      МИРЭА                4          272.5         272.5         273.0   \n2        МАИ                3          276.7         273.0         294.6   \n\n   Top 10% score  Top 20% score  \n1          273.0          273.0  \n2          292.2          287.4  ",
      "text/html": "<div>\n<style scoped>\n    .dataframe tbody tr th:only-of-type {\n        vertical-align: middle;\n    }\n\n    .dataframe tbody tr th {\n        vertical-align: top;\n    }\n\n    .dataframe thead th {\n        text-align: right;\n    }\n</style>\n<table border=\"1\" class=\"dataframe\">\n  <thead>\n    <tr style=\"text-align: right;\">\n      <th></th>\n      <th>University</th>\n      <th>N of Agreements</th>\n      <th>Average score</th>\n      <th>Median score</th>\n      <th>Top 5% score</th>\n      <th>Top 10% score</th>\n      <th>Top 20% score</th>\n    </tr>\n  </thead>\n  <tbody>\n    <tr>\n      <th>1</th>\n      <td>МИРЭА</td>\n      <td>4</td>\n      <td>272.5</td>\n      <td>272.5</td>\n      <td>273.0</td>\n      <td>273.0</td>\n      <td>273.0</td>\n    </tr>\n    <tr>\n      <th>2</th>\n      <td>МАИ</td>\n      <td>3</td>\n      <td>276.7</td>\n      <td>273.0</td>\n      <td>294.6</td>\n      <td>292.2</td>\n      <td>287.4</td>\n    </tr>\n  </tbody>\n</table>\n</div>"
     },
     "metadata": {},
     "output_type": "display_data"
    }
   ],
   "source": [
    "system.agreementsStatisticsByUniversities()"
   ],
   "metadata": {
    "collapsed": false,
    "pycharm": {
     "name": "#%%\n"
    }
   }
  },
  {
   "cell_type": "code",
   "execution_count": 15,
   "outputs": [
    {
     "data": {
      "text/plain": "  University   Profile  N of Agreements  Average score  Median score  \\\n1      МИРЭА  01.03.02                2          272.5         272.5   \n2      МИРЭА  09.03.04                2          272.5         272.5   \n3        МАИ  01.03.02                3          276.7         273.0   \n\n   Top 5% score  Top 10% score  Top 20% score  \n1         273.8          273.7          273.4  \n2         273.8          273.7          273.4  \n3         294.6          292.2          287.4  ",
      "text/html": "<div>\n<style scoped>\n    .dataframe tbody tr th:only-of-type {\n        vertical-align: middle;\n    }\n\n    .dataframe tbody tr th {\n        vertical-align: top;\n    }\n\n    .dataframe thead th {\n        text-align: right;\n    }\n</style>\n<table border=\"1\" class=\"dataframe\">\n  <thead>\n    <tr style=\"text-align: right;\">\n      <th></th>\n      <th>University</th>\n      <th>Profile</th>\n      <th>N of Agreements</th>\n      <th>Average score</th>\n      <th>Median score</th>\n      <th>Top 5% score</th>\n      <th>Top 10% score</th>\n      <th>Top 20% score</th>\n    </tr>\n  </thead>\n  <tbody>\n    <tr>\n      <th>1</th>\n      <td>МИРЭА</td>\n      <td>01.03.02</td>\n      <td>2</td>\n      <td>272.5</td>\n      <td>272.5</td>\n      <td>273.8</td>\n      <td>273.7</td>\n      <td>273.4</td>\n    </tr>\n    <tr>\n      <th>2</th>\n      <td>МИРЭА</td>\n      <td>09.03.04</td>\n      <td>2</td>\n      <td>272.5</td>\n      <td>272.5</td>\n      <td>273.8</td>\n      <td>273.7</td>\n      <td>273.4</td>\n    </tr>\n    <tr>\n      <th>3</th>\n      <td>МАИ</td>\n      <td>01.03.02</td>\n      <td>3</td>\n      <td>276.7</td>\n      <td>273.0</td>\n      <td>294.6</td>\n      <td>292.2</td>\n      <td>287.4</td>\n    </tr>\n  </tbody>\n</table>\n</div>"
     },
     "metadata": {},
     "output_type": "display_data"
    }
   ],
   "source": [
    "system.agreementsStatisticsByUniversitiesAndProfiles()"
   ],
   "metadata": {
    "collapsed": false,
    "pycharm": {
     "name": "#%%\n"
    }
   }
  },
  {
   "cell_type": "code",
   "execution_count": 16,
   "outputs": [
    {
     "name": "stdout",
     "output_type": "stream",
     "text": [
      "\u001B[31mNot found students for 01.03.02 in University.MIPT\u001B[0m\n"
     ]
    },
    {
     "data": {
      "text/plain": "         University   Profile  Current Position  Number of Places  Score  \\\n1    University.MAI  01.03.02                 5                 4    272   \n2  University.BMSTU  01.03.02                 3                 2    272   \n3  University.MIREA  01.03.02                 6                 3    272   \n4  University.MIREA  09.03.04                 6                 3    272   \n\n   Min Score  \n1        272  \n2        273  \n3        273  \n4        273  ",
      "text/html": "<div>\n<style scoped>\n    .dataframe tbody tr th:only-of-type {\n        vertical-align: middle;\n    }\n\n    .dataframe tbody tr th {\n        vertical-align: top;\n    }\n\n    .dataframe thead th {\n        text-align: right;\n    }\n</style>\n<table border=\"1\" class=\"dataframe\">\n  <thead>\n    <tr style=\"text-align: right;\">\n      <th></th>\n      <th>University</th>\n      <th>Profile</th>\n      <th>Current Position</th>\n      <th>Number of Places</th>\n      <th>Score</th>\n      <th>Min Score</th>\n    </tr>\n  </thead>\n  <tbody>\n    <tr>\n      <th>1</th>\n      <td>University.MAI</td>\n      <td>01.03.02</td>\n      <td>5</td>\n      <td>4</td>\n      <td>272</td>\n      <td>272</td>\n    </tr>\n    <tr>\n      <th>2</th>\n      <td>University.BMSTU</td>\n      <td>01.03.02</td>\n      <td>3</td>\n      <td>2</td>\n      <td>272</td>\n      <td>273</td>\n    </tr>\n    <tr>\n      <th>3</th>\n      <td>University.MIREA</td>\n      <td>01.03.02</td>\n      <td>6</td>\n      <td>3</td>\n      <td>272</td>\n      <td>273</td>\n    </tr>\n    <tr>\n      <th>4</th>\n      <td>University.MIREA</td>\n      <td>09.03.04</td>\n      <td>6</td>\n      <td>3</td>\n      <td>272</td>\n      <td>273</td>\n    </tr>\n  </tbody>\n</table>\n</div>"
     },
     "metadata": {},
     "output_type": "display_data"
    }
   ],
   "source": [
    "system.show_current_situation_for(\"111-111-111 07\")"
   ],
   "metadata": {
    "collapsed": false,
    "pycharm": {
     "name": "#%%\n"
    }
   }
  },
  {
   "cell_type": "code",
   "execution_count": 17,
   "outputs": [
    {
     "data": {
      "text/plain": "                Id  Score Chosen University Chosen Profile\n1   111-111-111 01    297             BMSTU       01.03.02\n2   111-111-111 02    285               MAI       01.03.02\n3   111-111-111 08    273                                 \n4   111-111-111 09    273               MAI       01.03.02\n5   111-111-111 10    273             MIREA       01.03.02\n6   111-111-111 11    273             MIREA       09.03.04\n7   111-111-111 04    272             MIREA       01.03.02\n8   111-111-111 05    272             MIREA       09.03.04\n9   111-111-111 06    272               MAI       01.03.02\n10  111-111-111 07    272                                 \n11  111-111-111 03    271                                 ",
      "text/html": "<div>\n<style scoped>\n    .dataframe tbody tr th:only-of-type {\n        vertical-align: middle;\n    }\n\n    .dataframe tbody tr th {\n        vertical-align: top;\n    }\n\n    .dataframe thead th {\n        text-align: right;\n    }\n</style>\n<table border=\"1\" class=\"dataframe\">\n  <thead>\n    <tr style=\"text-align: right;\">\n      <th></th>\n      <th>Id</th>\n      <th>Score</th>\n      <th>Chosen University</th>\n      <th>Chosen Profile</th>\n    </tr>\n  </thead>\n  <tbody>\n    <tr>\n      <th>1</th>\n      <td>111-111-111 01</td>\n      <td>297</td>\n      <td>BMSTU</td>\n      <td>01.03.02</td>\n    </tr>\n    <tr>\n      <th>2</th>\n      <td>111-111-111 02</td>\n      <td>285</td>\n      <td>MAI</td>\n      <td>01.03.02</td>\n    </tr>\n    <tr>\n      <th>3</th>\n      <td>111-111-111 08</td>\n      <td>273</td>\n      <td></td>\n      <td></td>\n    </tr>\n    <tr>\n      <th>4</th>\n      <td>111-111-111 09</td>\n      <td>273</td>\n      <td>MAI</td>\n      <td>01.03.02</td>\n    </tr>\n    <tr>\n      <th>5</th>\n      <td>111-111-111 10</td>\n      <td>273</td>\n      <td>MIREA</td>\n      <td>01.03.02</td>\n    </tr>\n    <tr>\n      <th>6</th>\n      <td>111-111-111 11</td>\n      <td>273</td>\n      <td>MIREA</td>\n      <td>09.03.04</td>\n    </tr>\n    <tr>\n      <th>7</th>\n      <td>111-111-111 04</td>\n      <td>272</td>\n      <td>MIREA</td>\n      <td>01.03.02</td>\n    </tr>\n    <tr>\n      <th>8</th>\n      <td>111-111-111 05</td>\n      <td>272</td>\n      <td>MIREA</td>\n      <td>09.03.04</td>\n    </tr>\n    <tr>\n      <th>9</th>\n      <td>111-111-111 06</td>\n      <td>272</td>\n      <td>MAI</td>\n      <td>01.03.02</td>\n    </tr>\n    <tr>\n      <th>10</th>\n      <td>111-111-111 07</td>\n      <td>272</td>\n      <td></td>\n      <td></td>\n    </tr>\n    <tr>\n      <th>11</th>\n      <td>111-111-111 03</td>\n      <td>271</td>\n      <td></td>\n      <td></td>\n    </tr>\n  </tbody>\n</table>\n</div>"
     },
     "metadata": {},
     "output_type": "display_data"
    }
   ],
   "source": [
    "system.show_all_students_with_score_ge_and_their_agreement(University.MIREA, '01.03.02', 270)"
   ],
   "metadata": {
    "collapsed": false,
    "pycharm": {
     "name": "#%%\n"
    }
   }
  },
  {
   "cell_type": "code",
   "execution_count": 18,
   "outputs": [
    {
     "data": {
      "text/plain": "               Id  Score Chosen Profile in MIREA\n1  111-111-111 08    273                        \n2  111-111-111 10    273                01.03.02\n3  111-111-111 11    273                09.03.04\n4  111-111-111 04    272                01.03.02\n5  111-111-111 05    272                09.03.04\n6  111-111-111 07    272                        \n7  111-111-111 03    271                        ",
      "text/html": "<div>\n<style scoped>\n    .dataframe tbody tr th:only-of-type {\n        vertical-align: middle;\n    }\n\n    .dataframe tbody tr th {\n        vertical-align: top;\n    }\n\n    .dataframe thead th {\n        text-align: right;\n    }\n</style>\n<table border=\"1\" class=\"dataframe\">\n  <thead>\n    <tr style=\"text-align: right;\">\n      <th></th>\n      <th>Id</th>\n      <th>Score</th>\n      <th>Chosen Profile in MIREA</th>\n    </tr>\n  </thead>\n  <tbody>\n    <tr>\n      <th>1</th>\n      <td>111-111-111 08</td>\n      <td>273</td>\n      <td></td>\n    </tr>\n    <tr>\n      <th>2</th>\n      <td>111-111-111 10</td>\n      <td>273</td>\n      <td>01.03.02</td>\n    </tr>\n    <tr>\n      <th>3</th>\n      <td>111-111-111 11</td>\n      <td>273</td>\n      <td>09.03.04</td>\n    </tr>\n    <tr>\n      <th>4</th>\n      <td>111-111-111 04</td>\n      <td>272</td>\n      <td>01.03.02</td>\n    </tr>\n    <tr>\n      <th>5</th>\n      <td>111-111-111 05</td>\n      <td>272</td>\n      <td>09.03.04</td>\n    </tr>\n    <tr>\n      <th>6</th>\n      <td>111-111-111 07</td>\n      <td>272</td>\n      <td></td>\n    </tr>\n    <tr>\n      <th>7</th>\n      <td>111-111-111 03</td>\n      <td>271</td>\n      <td></td>\n    </tr>\n  </tbody>\n</table>\n</div>"
     },
     "metadata": {},
     "output_type": "display_data"
    }
   ],
   "source": [
    "system.show_all_students_with_score_ge_and_admission_possible(University.MIREA, '01.03.02', 270)"
   ],
   "metadata": {
    "collapsed": false,
    "pycharm": {
     "name": "#%%\n"
    }
   }
  }
 ],
 "metadata": {
  "kernelspec": {
   "display_name": "Python 3 (ipykernel)",
   "language": "python",
   "name": "python3"
  },
  "language_info": {
   "codemirror_mode": {
    "name": "ipython",
    "version": 3
   },
   "file_extension": ".py",
   "mimetype": "text/x-python",
   "name": "python",
   "nbconvert_exporter": "python",
   "pygments_lexer": "ipython3",
   "version": "3.9.12"
  }
 },
 "nbformat": 4,
 "nbformat_minor": 5
}