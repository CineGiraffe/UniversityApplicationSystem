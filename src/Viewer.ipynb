{
 "cells": [
  {
   "cell_type": "code",
   "execution_count": 1,
   "id": "4b7e05c4",
   "metadata": {
    "pycharm": {
     "name": "#%%\n"
    }
   },
   "outputs": [],
   "source": [
    "from university import University\n",
    "from student import Student\n",
    "from application_system import ApplicationSystem\n",
    "from loader import DataLoader"
   ]
  },
  {
   "cell_type": "code",
   "execution_count": 2,
   "id": "f1986aa3",
   "metadata": {
    "pycharm": {
     "name": "#%%\n"
    }
   },
   "outputs": [],
   "source": [
    "system = ApplicationSystem()"
   ]
  },
  {
   "cell_type": "code",
   "execution_count": 3,
   "outputs": [],
   "source": [
    "loader = DataLoader()"
   ],
   "metadata": {
    "collapsed": false,
    "pycharm": {
     "name": "#%%\n"
    }
   }
  },
  {
   "cell_type": "code",
   "execution_count": 4,
   "outputs": [],
   "source": [
    "loader.loadData(system, \"../data/\")"
   ],
   "metadata": {
    "collapsed": false,
    "pycharm": {
     "name": "#%%\n"
    }
   }
  },
  {
   "cell_type": "code",
   "execution_count": 5,
   "outputs": [
    {
     "data": {
      "text/plain": "{<University.MIPT: 'МФТИ'>: {},\n <University.VSE: 'ВШЭ'>: {},\n <University.MSU: 'МГУ'>: {},\n <University.MEPHI: 'МИФИ'>: {},\n <University.BMSTU: 'Бауманка'>: {},\n <University.MIREA: 'МИРЭА'>: {},\n <University.MAI: 'МАИ'>: {},\n <University.MPEI: 'МЭИ'>: {},\n <University.MTUCI: 'МТУСИ'>: {},\n <University.MPOLITECH: 'МосПолитех'>: {},\n <University.MIET: 'МИЭТ'>: {},\n <University.ITMO: 'ИТМО'>: {},\n <University.SPBSU: 'СПБГУ'>: {}}"
     },
     "execution_count": 5,
     "metadata": {},
     "output_type": "execute_result"
    }
   ],
   "source": [
    "system.get_current_min_scores()"
   ],
   "metadata": {
    "collapsed": false,
    "pycharm": {
     "name": "#%%\n"
    }
   }
  },
  {
   "cell_type": "code",
   "execution_count": 6,
   "outputs": [
    {
     "name": "stdout",
     "output_type": "stream",
     "text": [
      "\u001B[33mWARNING: student id=111-111-111 07 not found\u001B[0m\n"
     ]
    },
    {
     "data": {
      "text/plain": "{}"
     },
     "execution_count": 6,
     "metadata": {},
     "output_type": "execute_result"
    }
   ],
   "source": [
    "system.get_current_positions(\"111-111-111 07\")"
   ],
   "metadata": {
    "collapsed": false,
    "pycharm": {
     "name": "#%%\n"
    }
   }
  },
  {
   "cell_type": "code",
   "execution_count": 7,
   "outputs": [
    {
     "data": {
      "text/plain": "<pandas.io.formats.style.Styler at 0x23d4f4498e0>",
      "text/html": "<style type=\"text/css\">\n</style>\n<table id=\"T_9c02a\">\n  <caption>All agreements (with listed)</caption>\n  <thead>\n    <tr>\n      <th class=\"blank level0\" >&nbsp;</th>\n      <th id=\"T_9c02a_level0_col0\" class=\"col_heading level0 col0\" >University</th>\n      <th id=\"T_9c02a_level0_col1\" class=\"col_heading level0 col1\" >Agreements</th>\n    </tr>\n  </thead>\n  <tbody>\n    <tr>\n      <th id=\"T_9c02a_level0_row0\" class=\"row_heading level0 row0\" >0</th>\n      <td id=\"T_9c02a_row0_col0\" class=\"data row0 col0\" >МФТИ</td>\n      <td id=\"T_9c02a_row0_col1\" class=\"data row0 col1\" >0</td>\n    </tr>\n    <tr>\n      <th id=\"T_9c02a_level0_row1\" class=\"row_heading level0 row1\" >1</th>\n      <td id=\"T_9c02a_row1_col0\" class=\"data row1 col0\" >ВШЭ</td>\n      <td id=\"T_9c02a_row1_col1\" class=\"data row1 col1\" >0</td>\n    </tr>\n    <tr>\n      <th id=\"T_9c02a_level0_row2\" class=\"row_heading level0 row2\" >2</th>\n      <td id=\"T_9c02a_row2_col0\" class=\"data row2 col0\" >МГУ</td>\n      <td id=\"T_9c02a_row2_col1\" class=\"data row2 col1\" >0</td>\n    </tr>\n    <tr>\n      <th id=\"T_9c02a_level0_row3\" class=\"row_heading level0 row3\" >3</th>\n      <td id=\"T_9c02a_row3_col0\" class=\"data row3 col0\" >МИФИ</td>\n      <td id=\"T_9c02a_row3_col1\" class=\"data row3 col1\" >0</td>\n    </tr>\n    <tr>\n      <th id=\"T_9c02a_level0_row4\" class=\"row_heading level0 row4\" >4</th>\n      <td id=\"T_9c02a_row4_col0\" class=\"data row4 col0\" >Бауманка</td>\n      <td id=\"T_9c02a_row4_col1\" class=\"data row4 col1\" >0</td>\n    </tr>\n    <tr>\n      <th id=\"T_9c02a_level0_row5\" class=\"row_heading level0 row5\" >5</th>\n      <td id=\"T_9c02a_row5_col0\" class=\"data row5 col0\" >МИРЭА</td>\n      <td id=\"T_9c02a_row5_col1\" class=\"data row5 col1\" >0</td>\n    </tr>\n    <tr>\n      <th id=\"T_9c02a_level0_row6\" class=\"row_heading level0 row6\" >6</th>\n      <td id=\"T_9c02a_row6_col0\" class=\"data row6 col0\" >МАИ</td>\n      <td id=\"T_9c02a_row6_col1\" class=\"data row6 col1\" >0</td>\n    </tr>\n    <tr>\n      <th id=\"T_9c02a_level0_row7\" class=\"row_heading level0 row7\" >7</th>\n      <td id=\"T_9c02a_row7_col0\" class=\"data row7 col0\" >МЭИ</td>\n      <td id=\"T_9c02a_row7_col1\" class=\"data row7 col1\" >0</td>\n    </tr>\n    <tr>\n      <th id=\"T_9c02a_level0_row8\" class=\"row_heading level0 row8\" >8</th>\n      <td id=\"T_9c02a_row8_col0\" class=\"data row8 col0\" >МТУСИ</td>\n      <td id=\"T_9c02a_row8_col1\" class=\"data row8 col1\" >0</td>\n    </tr>\n    <tr>\n      <th id=\"T_9c02a_level0_row9\" class=\"row_heading level0 row9\" >9</th>\n      <td id=\"T_9c02a_row9_col0\" class=\"data row9 col0\" >МосПолитех</td>\n      <td id=\"T_9c02a_row9_col1\" class=\"data row9 col1\" >0</td>\n    </tr>\n    <tr>\n      <th id=\"T_9c02a_level0_row10\" class=\"row_heading level0 row10\" >10</th>\n      <td id=\"T_9c02a_row10_col0\" class=\"data row10 col0\" >МИЭТ</td>\n      <td id=\"T_9c02a_row10_col1\" class=\"data row10 col1\" >0</td>\n    </tr>\n    <tr>\n      <th id=\"T_9c02a_level0_row11\" class=\"row_heading level0 row11\" >11</th>\n      <td id=\"T_9c02a_row11_col0\" class=\"data row11 col0\" >ИТМО</td>\n      <td id=\"T_9c02a_row11_col1\" class=\"data row11 col1\" >0</td>\n    </tr>\n    <tr>\n      <th id=\"T_9c02a_level0_row12\" class=\"row_heading level0 row12\" >12</th>\n      <td id=\"T_9c02a_row12_col0\" class=\"data row12 col0\" >СПБГУ</td>\n      <td id=\"T_9c02a_row12_col1\" class=\"data row12 col1\" >0</td>\n    </tr>\n  </tbody>\n</table>\n"
     },
     "metadata": {},
     "output_type": "display_data"
    }
   ],
   "source": [
    "system.showNumberOfAgreementsByUniversity()"
   ],
   "metadata": {
    "collapsed": false,
    "pycharm": {
     "name": "#%%\n"
    }
   }
  },
  {
   "cell_type": "code",
   "execution_count": 8,
   "outputs": [
    {
     "data": {
      "text/plain": "<pandas.io.formats.style.Styler at 0x23d502c8b20>",
      "text/html": "<style type=\"text/css\">\n</style>\n<table id=\"T_8fcd3\">\n  <caption>All pending agreements</caption>\n  <thead>\n    <tr>\n      <th class=\"blank level0\" >&nbsp;</th>\n      <th id=\"T_8fcd3_level0_col0\" class=\"col_heading level0 col0\" >University</th>\n      <th id=\"T_8fcd3_level0_col1\" class=\"col_heading level0 col1\" >Agreements</th>\n    </tr>\n  </thead>\n  <tbody>\n    <tr>\n      <th id=\"T_8fcd3_level0_row0\" class=\"row_heading level0 row0\" >0</th>\n      <td id=\"T_8fcd3_row0_col0\" class=\"data row0 col0\" >МФТИ</td>\n      <td id=\"T_8fcd3_row0_col1\" class=\"data row0 col1\" >0</td>\n    </tr>\n    <tr>\n      <th id=\"T_8fcd3_level0_row1\" class=\"row_heading level0 row1\" >1</th>\n      <td id=\"T_8fcd3_row1_col0\" class=\"data row1 col0\" >ВШЭ</td>\n      <td id=\"T_8fcd3_row1_col1\" class=\"data row1 col1\" >0</td>\n    </tr>\n    <tr>\n      <th id=\"T_8fcd3_level0_row2\" class=\"row_heading level0 row2\" >2</th>\n      <td id=\"T_8fcd3_row2_col0\" class=\"data row2 col0\" >МГУ</td>\n      <td id=\"T_8fcd3_row2_col1\" class=\"data row2 col1\" >0</td>\n    </tr>\n    <tr>\n      <th id=\"T_8fcd3_level0_row3\" class=\"row_heading level0 row3\" >3</th>\n      <td id=\"T_8fcd3_row3_col0\" class=\"data row3 col0\" >МИФИ</td>\n      <td id=\"T_8fcd3_row3_col1\" class=\"data row3 col1\" >0</td>\n    </tr>\n    <tr>\n      <th id=\"T_8fcd3_level0_row4\" class=\"row_heading level0 row4\" >4</th>\n      <td id=\"T_8fcd3_row4_col0\" class=\"data row4 col0\" >Бауманка</td>\n      <td id=\"T_8fcd3_row4_col1\" class=\"data row4 col1\" >0</td>\n    </tr>\n    <tr>\n      <th id=\"T_8fcd3_level0_row5\" class=\"row_heading level0 row5\" >5</th>\n      <td id=\"T_8fcd3_row5_col0\" class=\"data row5 col0\" >МИРЭА</td>\n      <td id=\"T_8fcd3_row5_col1\" class=\"data row5 col1\" >0</td>\n    </tr>\n    <tr>\n      <th id=\"T_8fcd3_level0_row6\" class=\"row_heading level0 row6\" >6</th>\n      <td id=\"T_8fcd3_row6_col0\" class=\"data row6 col0\" >МАИ</td>\n      <td id=\"T_8fcd3_row6_col1\" class=\"data row6 col1\" >0</td>\n    </tr>\n    <tr>\n      <th id=\"T_8fcd3_level0_row7\" class=\"row_heading level0 row7\" >7</th>\n      <td id=\"T_8fcd3_row7_col0\" class=\"data row7 col0\" >МЭИ</td>\n      <td id=\"T_8fcd3_row7_col1\" class=\"data row7 col1\" >0</td>\n    </tr>\n    <tr>\n      <th id=\"T_8fcd3_level0_row8\" class=\"row_heading level0 row8\" >8</th>\n      <td id=\"T_8fcd3_row8_col0\" class=\"data row8 col0\" >МТУСИ</td>\n      <td id=\"T_8fcd3_row8_col1\" class=\"data row8 col1\" >0</td>\n    </tr>\n    <tr>\n      <th id=\"T_8fcd3_level0_row9\" class=\"row_heading level0 row9\" >9</th>\n      <td id=\"T_8fcd3_row9_col0\" class=\"data row9 col0\" >МосПолитех</td>\n      <td id=\"T_8fcd3_row9_col1\" class=\"data row9 col1\" >0</td>\n    </tr>\n    <tr>\n      <th id=\"T_8fcd3_level0_row10\" class=\"row_heading level0 row10\" >10</th>\n      <td id=\"T_8fcd3_row10_col0\" class=\"data row10 col0\" >МИЭТ</td>\n      <td id=\"T_8fcd3_row10_col1\" class=\"data row10 col1\" >0</td>\n    </tr>\n    <tr>\n      <th id=\"T_8fcd3_level0_row11\" class=\"row_heading level0 row11\" >11</th>\n      <td id=\"T_8fcd3_row11_col0\" class=\"data row11 col0\" >ИТМО</td>\n      <td id=\"T_8fcd3_row11_col1\" class=\"data row11 col1\" >0</td>\n    </tr>\n    <tr>\n      <th id=\"T_8fcd3_level0_row12\" class=\"row_heading level0 row12\" >12</th>\n      <td id=\"T_8fcd3_row12_col0\" class=\"data row12 col0\" >СПБГУ</td>\n      <td id=\"T_8fcd3_row12_col1\" class=\"data row12 col1\" >0</td>\n    </tr>\n  </tbody>\n</table>\n"
     },
     "metadata": {},
     "output_type": "display_data"
    }
   ],
   "source": [
    "system.showNumberOfPendingAgreementsByUniversity()"
   ],
   "metadata": {
    "collapsed": false,
    "pycharm": {
     "name": "#%%\n"
    }
   }
  },
  {
   "cell_type": "code",
   "execution_count": 9,
   "outputs": [
    {
     "data": {
      "text/plain": "Empty DataFrame\nColumns: [University, N of Agreements, Average score, Median score, Top 5% score, Top 10% score, Top 20% score]\nIndex: []",
      "text/html": "<div>\n<style scoped>\n    .dataframe tbody tr th:only-of-type {\n        vertical-align: middle;\n    }\n\n    .dataframe tbody tr th {\n        vertical-align: top;\n    }\n\n    .dataframe thead th {\n        text-align: right;\n    }\n</style>\n<table border=\"1\" class=\"dataframe\">\n  <thead>\n    <tr style=\"text-align: right;\">\n      <th></th>\n      <th>University</th>\n      <th>N of Agreements</th>\n      <th>Average score</th>\n      <th>Median score</th>\n      <th>Top 5% score</th>\n      <th>Top 10% score</th>\n      <th>Top 20% score</th>\n    </tr>\n  </thead>\n  <tbody>\n  </tbody>\n</table>\n</div>"
     },
     "metadata": {},
     "output_type": "display_data"
    }
   ],
   "source": [
    "system.agreementsStatisticsByUniversities()"
   ],
   "metadata": {
    "collapsed": false,
    "pycharm": {
     "name": "#%%\n"
    }
   }
  },
  {
   "cell_type": "code",
   "execution_count": 10,
   "outputs": [
    {
     "data": {
      "text/plain": "Empty DataFrame\nColumns: [University, Profile, N of Agreements, Average score, Median score, Top 5% score, Top 10% score, Top 20% score]\nIndex: []",
      "text/html": "<div>\n<style scoped>\n    .dataframe tbody tr th:only-of-type {\n        vertical-align: middle;\n    }\n\n    .dataframe tbody tr th {\n        vertical-align: top;\n    }\n\n    .dataframe thead th {\n        text-align: right;\n    }\n</style>\n<table border=\"1\" class=\"dataframe\">\n  <thead>\n    <tr style=\"text-align: right;\">\n      <th></th>\n      <th>University</th>\n      <th>Profile</th>\n      <th>N of Agreements</th>\n      <th>Average score</th>\n      <th>Median score</th>\n      <th>Top 5% score</th>\n      <th>Top 10% score</th>\n      <th>Top 20% score</th>\n    </tr>\n  </thead>\n  <tbody>\n  </tbody>\n</table>\n</div>"
     },
     "metadata": {},
     "output_type": "display_data"
    }
   ],
   "source": [
    "system.agreementsStatisticsByUniversitiesAndProfiles()"
   ],
   "metadata": {
    "collapsed": false,
    "pycharm": {
     "name": "#%%\n"
    }
   }
  },
  {
   "cell_type": "code",
   "execution_count": null,
   "outputs": [],
   "source": [
    "system.show_current_situation_for(\"111-111-111 07\")"
   ],
   "metadata": {
    "collapsed": false,
    "pycharm": {
     "name": "#%%\n"
    }
   }
  }
 ],
 "metadata": {
  "kernelspec": {
   "display_name": "Python 3 (ipykernel)",
   "language": "python",
   "name": "python3"
  },
  "language_info": {
   "codemirror_mode": {
    "name": "ipython",
    "version": 3
   },
   "file_extension": ".py",
   "mimetype": "text/x-python",
   "name": "python",
   "nbconvert_exporter": "python",
   "pygments_lexer": "ipython3",
   "version": "3.9.12"
  }
 },
 "nbformat": 4,
 "nbformat_minor": 5
}