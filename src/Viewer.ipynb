{
 "cells": [
  {
   "cell_type": "code",
   "execution_count": 1,
   "id": "4b7e05c4",
   "metadata": {
    "pycharm": {
     "name": "#%%\n"
    }
   },
   "outputs": [],
   "source": [
    "from university import University\n",
    "from student import Student\n",
    "from application_system import ApplicationSystem"
   ]
  },
  {
   "cell_type": "code",
   "execution_count": 2,
   "id": "3b3701ff",
   "metadata": {
    "pycharm": {
     "name": "#%%\n"
    }
   },
   "outputs": [
    {
     "name": "stdout",
     "output_type": "stream",
     "text": [
      "МФТИ\n"
     ]
    }
   ],
   "source": [
    "print(University.MIPT.value)"
   ]
  },
  {
   "cell_type": "code",
   "execution_count": 3,
   "id": "fe697a2e",
   "metadata": {
    "pycharm": {
     "name": "#%%\n"
    }
   },
   "outputs": [],
   "source": [
    "test_student = Student(\"123\", 275, False)"
   ]
  },
  {
   "cell_type": "code",
   "execution_count": 4,
   "id": "f1986aa3",
   "metadata": {
    "pycharm": {
     "name": "#%%\n"
    }
   },
   "outputs": [],
   "source": [
    "system = ApplicationSystem()"
   ]
  },
  {
   "cell_type": "code",
   "execution_count": 5,
   "id": "43e77164",
   "metadata": {
    "pycharm": {
     "name": "#%%\n"
    }
   },
   "outputs": [],
   "source": [
    "system.add_profile_students_data(University.MIPT, \"01.03.02\", [Student(\"1234\", 299, False), Student(\"1222\", 306, True), Student(\"1211\", 301, False)])\n",
    "system.add_profile_students_data(University.BMSTU, \"01.03.02\", [Student(\"1234\", 299, False), Student(\"1222\", 306, False), Student(\"1211\", 301, True), Student(\"1112\", 289, True)])\n"
   ]
  },
  {
   "cell_type": "code",
   "execution_count": 6,
   "id": "6ab2d727",
   "metadata": {
    "pycharm": {
     "name": "#%%\n"
    }
   },
   "outputs": [
    {
     "data": {
      "text/plain": "['1234', '1222', '1211']"
     },
     "execution_count": 6,
     "metadata": {},
     "output_type": "execute_result"
    }
   ],
   "source": [
    "[student.id for student in system.get_all_students_where_score_ge(University.MIPT, \"01.03.02\", 290)]"
   ]
  },
  {
   "cell_type": "code",
   "execution_count": 7,
   "id": "15414019",
   "metadata": {
    "pycharm": {
     "name": "#%%\n"
    }
   },
   "outputs": [
    {
     "data": {
      "text/plain": "['1234', '1222']"
     },
     "execution_count": 7,
     "metadata": {},
     "output_type": "execute_result"
    }
   ],
   "source": [
    "[student.id for student in system.get_all_students_where_score_ge_and_admission_possible(University.MIPT, \"01.03.02\", 290)]"
   ]
  },
  {
   "cell_type": "code",
   "execution_count": 8,
   "id": "da09ed97",
   "metadata": {
    "pycharm": {
     "name": "#%%\n"
    }
   },
   "outputs": [
    {
     "data": {
      "text/plain": "['1234', '1211']"
     },
     "execution_count": 8,
     "metadata": {},
     "output_type": "execute_result"
    }
   ],
   "source": [
    "[student.id for student in system.get_all_students_where_score_ge_and_admission_possible(University.BMSTU, \"01.03.02\", 290)]"
   ]
  },
  {
   "cell_type": "code",
   "execution_count": 9,
   "id": "a92c3e8e",
   "metadata": {
    "pycharm": {
     "name": "#%%\n"
    }
   },
   "outputs": [
    {
     "data": {
      "text/plain": "{<University.MIPT: 'МФТИ'>: {'01.03.02': 0},\n <University.VSE: 'ВШЭ'>: {},\n <University.MSU: 'МГУ'>: {},\n <University.MEPHI: 'МИФИ'>: {},\n <University.BMSTU: 'Бауманка'>: {'01.03.02': 0},\n <University.MIREA: 'МИРЭА'>: {},\n <University.MAI: 'МАИ'>: {},\n <University.MPEI: 'МЭИ'>: {},\n <University.MTUCI: 'МТУСИ'>: {},\n <University.MPOLITECH: 'МосПолитех'>: {},\n <University.MIET: 'МИЭТ'>: {},\n <University.ITMO: 'ИТМО'>: {},\n <University.SPBSU: 'СПБГУ'>: {}}"
     },
     "execution_count": 9,
     "metadata": {},
     "output_type": "execute_result"
    }
   ],
   "source": [
    "system.get_current_min_scores()"
   ]
  },
  {
   "cell_type": "code",
   "execution_count": 10,
   "id": "10f6ae1b",
   "metadata": {
    "pycharm": {
     "name": "#%%\n"
    }
   },
   "outputs": [
    {
     "name": "stdout",
     "output_type": "stream",
     "text": [
      "chosen university is None\n"
     ]
    },
    {
     "data": {
      "text/plain": "{<University.MIPT: 'МФТИ'>: {'01.03.02': (1, 299)},\n <University.BMSTU: 'Бауманка'>: {'01.03.02': (1, 299)}}"
     },
     "execution_count": 10,
     "metadata": {},
     "output_type": "execute_result"
    }
   ],
   "source": [
    "system.get_current_positions(\"1234\")"
   ]
  }
 ],
 "metadata": {
  "kernelspec": {
   "display_name": "Python 3 (ipykernel)",
   "language": "python",
   "name": "python3"
  },
  "language_info": {
   "codemirror_mode": {
    "name": "ipython",
    "version": 3
   },
   "file_extension": ".py",
   "mimetype": "text/x-python",
   "name": "python",
   "nbconvert_exporter": "python",
   "pygments_lexer": "ipython3",
   "version": "3.9.12"
  }
 },
 "nbformat": 4,
 "nbformat_minor": 5
}