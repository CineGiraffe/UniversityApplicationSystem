{
 "cells": [
  {
   "cell_type": "code",
   "execution_count": 1,
   "id": "4b7e05c4",
   "metadata": {
    "pycharm": {
     "name": "#%%\n"
    }
   },
   "outputs": [],
   "source": [
    "from src.core import Profile, StudentId, University\n",
    "from src.application import ApplicationSystem, DataLoader"
   ]
  },
  {
   "cell_type": "code",
   "execution_count": 2,
   "id": "f1986aa3",
   "metadata": {
    "pycharm": {
     "name": "#%%\n"
    }
   },
   "outputs": [],
   "source": [
    "system = ApplicationSystem()"
   ]
  },
  {
   "cell_type": "code",
   "execution_count": 3,
   "outputs": [
    {
     "name": "stdout",
     "output_type": "stream",
     "text": [
      "Parser for MIET registered.\n",
      "Parser for MIPT registered.\n",
      "Parser for MIREA registered.\n",
      "Parser for MPEI registered.\n",
      "Parser for MPOLITECH registered.\n",
      "Parser for MTUCI registered.\n"
     ]
    }
   ],
   "source": [
    "loader = DataLoader()"
   ],
   "metadata": {
    "collapsed": false,
    "pycharm": {
     "name": "#%%\n"
    }
   }
  },
  {
   "cell_type": "code",
   "execution_count": 4,
   "outputs": [
    {
     "name": "stdout",
     "output_type": "stream",
     "text": [
      "2478 already listed students uploaded\n",
      "\u001B[32mMIET file D:\\Personal\\IT\\Programming\\Projects\\UniversityApplicationSystem\\data\\MIET_01.03.04.csv read started\u001B[0m\n",
      "\u001B[32mMIET file D:\\Personal\\IT\\Programming\\Projects\\UniversityApplicationSystem\\data\\MIET_01.03.04.csv read finished\u001B[0m\n",
      "\n",
      "\u001B[32mMIET file D:\\Personal\\IT\\Programming\\Projects\\UniversityApplicationSystem\\data\\MIET_09.03.01.csv read started\u001B[0m\n",
      "\u001B[32mMIET file D:\\Personal\\IT\\Programming\\Projects\\UniversityApplicationSystem\\data\\MIET_09.03.01.csv read finished\u001B[0m\n",
      "\n",
      "\u001B[32mMIET file D:\\Personal\\IT\\Programming\\Projects\\UniversityApplicationSystem\\data\\MIET_09.03.02.csv read started\u001B[0m\n",
      "\u001B[32mMIET file D:\\Personal\\IT\\Programming\\Projects\\UniversityApplicationSystem\\data\\MIET_09.03.02.csv read finished\u001B[0m\n",
      "\n",
      "\u001B[32mMIET file D:\\Personal\\IT\\Programming\\Projects\\UniversityApplicationSystem\\data\\MIET_09.03.03.csv read started\u001B[0m\n",
      "\u001B[32mMIET file D:\\Personal\\IT\\Programming\\Projects\\UniversityApplicationSystem\\data\\MIET_09.03.03.csv read finished\u001B[0m\n",
      "\n",
      "\u001B[32mMIET file D:\\Personal\\IT\\Programming\\Projects\\UniversityApplicationSystem\\data\\MIET_09.03.04.csv read started\u001B[0m\n",
      "\u001B[32mMIET file D:\\Personal\\IT\\Programming\\Projects\\UniversityApplicationSystem\\data\\MIET_09.03.04.csv read finished\u001B[0m\n",
      "\n",
      "\u001B[32mMIET file D:\\Personal\\IT\\Programming\\Projects\\UniversityApplicationSystem\\data\\MIET_10.03.01.csv read started\u001B[0m\n",
      "\u001B[32mMIET file D:\\Personal\\IT\\Programming\\Projects\\UniversityApplicationSystem\\data\\MIET_10.03.01.csv read finished\u001B[0m\n",
      "\n",
      "\u001B[32mMIET file D:\\Personal\\IT\\Programming\\Projects\\UniversityApplicationSystem\\data\\MIET_11.03.01.csv read started\u001B[0m\n",
      "\u001B[32mMIET file D:\\Personal\\IT\\Programming\\Projects\\UniversityApplicationSystem\\data\\MIET_11.03.01.csv read finished\u001B[0m\n",
      "\n",
      "\u001B[32mMIET file D:\\Personal\\IT\\Programming\\Projects\\UniversityApplicationSystem\\data\\MIET_11.03.02.csv read started\u001B[0m\n",
      "\u001B[32mMIET file D:\\Personal\\IT\\Programming\\Projects\\UniversityApplicationSystem\\data\\MIET_11.03.02.csv read finished\u001B[0m\n",
      "\n",
      "\u001B[32mMIET file D:\\Personal\\IT\\Programming\\Projects\\UniversityApplicationSystem\\data\\MIET_27.03.04.csv read started\u001B[0m\n",
      "\u001B[32mMIET file D:\\Personal\\IT\\Programming\\Projects\\UniversityApplicationSystem\\data\\MIET_27.03.04.csv read finished\u001B[0m\n",
      "\n",
      "\u001B[32mMIPT file D:\\Personal\\IT\\Programming\\Projects\\UniversityApplicationSystem\\data\\MIPT_01.03.02.csv read started\u001B[0m\n",
      "An exception occurred in line 51: ('found incompatible id', '526')\n",
      "Row: ['526', '310', 'Yes', 'No']\n",
      "An exception occurred in line 244: ('found incompatible id', '2477')\n",
      "Row: ['2477', '162', 'Yes', 'No']\n",
      "\u001B[32mMIPT file D:\\Personal\\IT\\Programming\\Projects\\UniversityApplicationSystem\\data\\MIPT_01.03.02.csv read finished\u001B[0m\n",
      "\u001B[31mERROR: student id=184-910-373 85 is already registered for profile 01.03.02 in university MIPT\u001B[0m\n",
      "\u001B[31mERROR: student id=171-981-748 05 is already registered for profile 01.03.02 in university MIPT\u001B[0m\n",
      "\u001B[31mERROR: student id=152-209-892 54 is already registered for profile 01.03.02 in university MIPT\u001B[0m\n",
      "\u001B[31mERROR: student id=163-223-617 38 is already registered for profile 01.03.02 in university MIPT\u001B[0m\n",
      "\u001B[31mERROR: student id=205-285-381 50 is already registered for profile 01.03.02 in university MIPT\u001B[0m\n",
      "\u001B[31mERROR: student id=189-177-849 44 is already registered for profile 01.03.02 in university MIPT\u001B[0m\n",
      "\u001B[31mERROR: student id=146-226-843 63 is already registered for profile 01.03.02 in university MIPT\u001B[0m\n",
      "\u001B[31mERROR: student id=168-288-240 09 is already registered for profile 01.03.02 in university MIPT\u001B[0m\n",
      "\u001B[31mERROR: student id=202-405-259 00 is already registered for profile 01.03.02 in university MIPT\u001B[0m\n",
      "\u001B[31mERROR: student id=144-092-747 57 is already registered for profile 01.03.02 in university MIPT\u001B[0m\n",
      "\u001B[31mERROR: student id=178-078-581 18 is already registered for profile 01.03.02 in university MIPT\u001B[0m\n",
      "\u001B[31mERROR: student id=162-739-455 90 is already registered for profile 01.03.02 in university MIPT\u001B[0m\n",
      "\u001B[31mERROR: student id=191-930-239 77 is already registered for profile 01.03.02 in university MIPT\u001B[0m\n",
      "\u001B[31mERROR: student id=185-154-404 70 is already registered for profile 01.03.02 in university MIPT\u001B[0m\n",
      "\u001B[31mERROR: student id=186-148-477 04 is already registered for profile 01.03.02 in university MIPT\u001B[0m\n",
      "\u001B[31mERROR: student id=178-538-893 41 is already registered for profile 01.03.02 in university MIPT\u001B[0m\n",
      "\u001B[31mERROR: student id=168-675-504 21 is already registered for profile 01.03.02 in university MIPT\u001B[0m\n",
      "\u001B[31mERROR: student id=184-809-926 20 is already registered for profile 01.03.02 in university MIPT\u001B[0m\n",
      "\u001B[31mERROR: student id=169-704-557 08 is already registered for profile 01.03.02 in university MIPT\u001B[0m\n",
      "\u001B[31mERROR: student id=175-078-705 92 is already registered for profile 01.03.02 in university MIPT\u001B[0m\n",
      "\u001B[31mERROR: student id=181-646-311 71 is already registered for profile 01.03.02 in university MIPT\u001B[0m\n",
      "\u001B[31mERROR: student id=177-056-862 00 is already registered for profile 01.03.02 in university MIPT\u001B[0m\n",
      "\u001B[31mERROR: student id=191-127-294 59 is already registered for profile 01.03.02 in university MIPT\u001B[0m\n",
      "\u001B[31mERROR: student id=178-378-970 45 is already registered for profile 01.03.02 in university MIPT\u001B[0m\n",
      "\u001B[31mERROR: student id=182-933-952 05 is already registered for profile 01.03.02 in university MIPT\u001B[0m\n",
      "\u001B[31mERROR: student id=146-226-843 63 is already registered for profile 01.03.02 in university MIPT\u001B[0m\n",
      "\u001B[31mERROR: student id=162-739-455 90 is already registered for profile 01.03.02 in university MIPT\u001B[0m\n",
      "\u001B[31mERROR: student id=201-106-689 98 is already registered for profile 01.03.02 in university MIPT\u001B[0m\n",
      "\u001B[31mERROR: student id=187-838-299 48 is already registered for profile 01.03.02 in university MIPT\u001B[0m\n",
      "\u001B[31mERROR: student id=195-597-976 64 is already registered for profile 01.03.02 in university MIPT\u001B[0m\n",
      "\u001B[31mERROR: student id=145-022-549 25 is already registered for profile 01.03.02 in university MIPT\u001B[0m\n",
      "\u001B[31mERROR: student id=158-108-382 69 is already registered for profile 01.03.02 in university MIPT\u001B[0m\n",
      "\u001B[31mERROR: student id=201-106-689 98 is already registered for profile 01.03.02 in university MIPT\u001B[0m\n",
      "\u001B[31mERROR: student id=165-495-036 92 is already registered for profile 01.03.02 in university MIPT\u001B[0m\n",
      "\u001B[31mERROR: student id=195-597-976 64 is already registered for profile 01.03.02 in university MIPT\u001B[0m\n",
      "\u001B[31mERROR: student id=183-560-422 71 is already registered for profile 01.03.02 in university MIPT\u001B[0m\n",
      "\u001B[31mERROR: student id=158-108-382 69 is already registered for profile 01.03.02 in university MIPT\u001B[0m\n",
      "\u001B[31mERROR: student id=206-190-295 39 is already registered for profile 01.03.02 in university MIPT\u001B[0m\n",
      "\n",
      "\u001B[32mMIPT file D:\\Personal\\IT\\Programming\\Projects\\UniversityApplicationSystem\\data\\MIPT_03.03.01.csv read started\u001B[0m\n",
      "An exception occurred in line 6: ('found incompatible id', '2410')\n",
      "Row: ['2410', '276', 'Yes', 'Yes']\n",
      "\u001B[32mMIPT file D:\\Personal\\IT\\Programming\\Projects\\UniversityApplicationSystem\\data\\MIPT_03.03.01.csv read finished\u001B[0m\n",
      "\u001B[31mERROR: student id=202-673-052 26 is already registered for profile 03.03.01 in university MIPT\u001B[0m\n",
      "\u001B[31mERROR: student id=185-061-003 44 is already registered for profile 03.03.01 in university MIPT\u001B[0m\n",
      "\u001B[31mERROR: student id=175-445-986 11 is already registered for profile 03.03.01 in university MIPT\u001B[0m\n",
      "\u001B[31mERROR: student id=189-080-704 00 is already registered for profile 03.03.01 in university MIPT\u001B[0m\n",
      "\n",
      "\u001B[32mMIPT file D:\\Personal\\IT\\Programming\\Projects\\UniversityApplicationSystem\\data\\MIPT_09.03.01.csv read started\u001B[0m\n",
      "\u001B[32mMIPT file D:\\Personal\\IT\\Programming\\Projects\\UniversityApplicationSystem\\data\\MIPT_09.03.01.csv read finished\u001B[0m\n",
      "\u001B[31mERROR: student id=150-217-826 27 is already registered for profile 09.03.01 in university MIPT\u001B[0m\n",
      "\u001B[31mERROR: student id=146-226-843 63 is already registered for profile 09.03.01 in university MIPT\u001B[0m\n",
      "\u001B[31mERROR: student id=201-106-689 98 is already registered for profile 09.03.01 in university MIPT\u001B[0m\n",
      "\u001B[31mERROR: student id=184-371-554 86 is already registered for profile 09.03.01 in university MIPT\u001B[0m\n",
      "\u001B[31mERROR: student id=141-390-918 47 is already registered for profile 09.03.01 in university MIPT\u001B[0m\n",
      "\u001B[31mERROR: student id=195-597-976 64 is already registered for profile 09.03.01 in university MIPT\u001B[0m\n",
      "\u001B[31mERROR: student id=206-679-793 07 is already registered for profile 09.03.01 in university MIPT\u001B[0m\n",
      "\n",
      "\u001B[32mMIREA file D:\\Personal\\IT\\Programming\\Projects\\UniversityApplicationSystem\\data\\MIREA_01.03.02.csv read started\u001B[0m\n",
      "An exception occurred in line 620: ('found incompatible id', '')\n",
      "Row: ['', '', '', '', '', '', '', '', '', 'Преим. право']\n",
      "An exception occurred in line 768: ('found incompatible id', '')\n",
      "Row: ['', '', '', '', '', '', '', '', '', '']\n",
      "An exception occurred in line 769: ('found incompatible id', '')\n",
      "Row: ['', '', '', '', '', '', '', '', '', 'Преим. право']\n",
      "An exception occurred in line 889: ('found incompatible id', '')\n",
      "Row: ['', '', '', '', '', '', '', '', '', 'Преим. право']\n",
      "An exception occurred in line 1001: ('found incompatible id', '')\n",
      "Row: ['', '', '', '', '', '', '', '', '', 'Преим. право']\n",
      "An exception occurred in line 1104: ('found incompatible id', '')\n",
      "Row: ['', '', '', '', '', '', '', '', '', 'Преим. право']\n",
      "An exception occurred in line 1704: ('found incompatible id', '')\n",
      "Row: ['', '', '', '', '', '', '', '', '', 'Преим. право']\n",
      "An exception occurred in line 1747: ('found incompatible id', '')\n",
      "Row: ['', '', '', '', '', '', '', '', '', 'Преим. право']\n",
      "An exception occurred in line 1782: ('found incompatible id', '')\n",
      "Row: ['', '', '', '', '', '', '', '', '', 'Преим. право']\n",
      "An exception occurred in line 1796: ('found incompatible id', '')\n",
      "Row: ['', '', '', '', '', '', '', '', '', 'Преим. право']\n",
      "\u001B[32mMIREA file D:\\Personal\\IT\\Programming\\Projects\\UniversityApplicationSystem\\data\\MIREA_01.03.02.csv read finished\u001B[0m\n",
      "\n",
      "\u001B[32mMIREA file D:\\Personal\\IT\\Programming\\Projects\\UniversityApplicationSystem\\data\\MIREA_01.03.04.csv read started\u001B[0m\n",
      "An exception occurred in line 740: ('found incompatible id', '')\n",
      "Row: ['', '', '', '', '', '', '', '', '', 'Преим. право']\n",
      "An exception occurred in line 777: ('found incompatible id', '')\n",
      "Row: ['', '', '', '', '', '', '', '', '', 'Преим. право']\n",
      "\u001B[32mMIREA file D:\\Personal\\IT\\Programming\\Projects\\UniversityApplicationSystem\\data\\MIREA_01.03.04.csv read finished\u001B[0m\n",
      "\n",
      "\u001B[32mMIREA file D:\\Personal\\IT\\Programming\\Projects\\UniversityApplicationSystem\\data\\MIREA_02.03.02.csv read started\u001B[0m\n",
      "An exception occurred in line 237: ('found incompatible id', '')\n",
      "Row: ['', '', '', '', '', '', '', '', '', 'Преим. право']\n",
      "An exception occurred in line 246: ('found incompatible id', '')\n",
      "Row: ['', '', '', '', '', '', '', '', '', 'Преим. право']\n",
      "An exception occurred in line 360: ('found incompatible id', '')\n",
      "Row: ['', '', '', '', '', '', '', '', '', 'Преим. право']\n",
      "An exception occurred in line 691: ('found incompatible id', '')\n",
      "Row: ['', '', '', '', '', '', '', '', '', 'Преим. право']\n",
      "An exception occurred in line 743: ('found incompatible id', '')\n",
      "Row: ['', '', '', '', '', '', '', '', '', 'Преим. право']\n",
      "An exception occurred in line 748: ('found incompatible id', '')\n",
      "Row: ['', '', '', '', '', '', '', '', '', 'Преим. право']\n",
      "An exception occurred in line 814: ('found incompatible id', '')\n",
      "Row: ['', '', '', '', '', '', '', '', '', 'Преим. право']\n",
      "An exception occurred in line 1108: ('found incompatible id', '')\n",
      "Row: ['', '', '', '', '', '', '', '', '', 'Преим. право']\n",
      "\u001B[32mMIREA file D:\\Personal\\IT\\Programming\\Projects\\UniversityApplicationSystem\\data\\MIREA_02.03.02.csv read finished\u001B[0m\n",
      "\n",
      "\u001B[32mMIREA file D:\\Personal\\IT\\Programming\\Projects\\UniversityApplicationSystem\\data\\MIREA_09.03.01_III.csv read started\u001B[0m\n",
      "An exception occurred in line 106: ('found incompatible id', '')\n",
      "Row: ['', '', '', '', '', '', '', '', '', 'Преим. право']\n",
      "An exception occurred in line 484: ('found incompatible id', '')\n",
      "Row: ['', '', '', '', '', '', '', '', '', 'Преим. право']\n",
      "An exception occurred in line 597: ('found incompatible id', '')\n",
      "Row: ['', '', '', '', '', '', '', '', '', 'Преим. право']\n",
      "An exception occurred in line 609: ('found incompatible id', '')\n",
      "Row: ['', '', '', '', '', '', '', '', '', 'Преим. право']\n",
      "An exception occurred in line 678: ('found incompatible id', '')\n",
      "Row: ['', '', '', '', '', '', '', '', '', 'Преим. право']\n",
      "An exception occurred in line 842: ('found incompatible id', '')\n",
      "Row: ['', '', '', '', '', '', '', '', '', 'Преим. право']\n",
      "An exception occurred in line 889: ('found incompatible id', '')\n",
      "Row: ['', '', '', '', '', '', '', '', '', 'Преим. право']\n",
      "An exception occurred in line 1101: ('found incompatible id', '')\n",
      "Row: ['', '', '', '', '', '', '', '', '', 'Преим. право']\n",
      "An exception occurred in line 1445: ('found incompatible id', '')\n",
      "Row: ['', '', '', '', '', '', '', '', '', 'Преим. право']\n",
      "An exception occurred in line 1798: ('found incompatible id', '')\n",
      "Row: ['', '', '', '', '', '', '', '', '', 'Преим. право']\n",
      "An exception occurred in line 1804: ('found incompatible id', '')\n",
      "Row: ['', '', '', '', '', '', '', '', '', 'Преим. право']\n",
      "An exception occurred in line 2034: ('found incompatible id', '')\n",
      "Row: ['', '', '', '', '', '', '', '', '', 'Преим. право']\n",
      "An exception occurred in line 2047: ('found incompatible id', '')\n",
      "Row: ['', '', '', '', '', '', '', '', '', 'Преим. право']\n",
      "An exception occurred in line 2106: ('found incompatible id', '')\n",
      "Row: ['', '', '', '', '', '', '', '', '', 'Преим. право']\n",
      "An exception occurred in line 2176: ('found incompatible id', '')\n",
      "Row: ['', '', '', '', '', '', '', '', '', 'Преим. право']\n",
      "\u001B[32mMIREA file D:\\Personal\\IT\\Programming\\Projects\\UniversityApplicationSystem\\data\\MIREA_09.03.01_III.csv read finished\u001B[0m\n",
      "\n",
      "\u001B[32mMIREA file D:\\Personal\\IT\\Programming\\Projects\\UniversityApplicationSystem\\data\\MIREA_09.03.01_IIT.csv read started\u001B[0m\n",
      "An exception occurred in line 110: ('found incompatible id', '')\n",
      "Row: ['', '', '', '', '', '', '', '', '', 'Преим. право']\n",
      "An exception occurred in line 472: ('found incompatible id', '')\n",
      "Row: ['', '', '', '', '', '', '', '', '', 'Преим. право']\n",
      "An exception occurred in line 487: ('found incompatible id', '')\n",
      "Row: ['', '', '', '', '', '', '', '', '', 'Преим. право']\n",
      "An exception occurred in line 586: ('found incompatible id', '')\n",
      "Row: ['', '', '', '', '', '', '', '', '', 'Преим. право']\n",
      "An exception occurred in line 600: ('found incompatible id', '')\n",
      "Row: ['', '', '', '', '', '', '', '', '', 'Преим. право']\n",
      "An exception occurred in line 660: ('found incompatible id', '')\n",
      "Row: ['', '', '', '', '', '', '', '', '', 'Преим. право']\n",
      "An exception occurred in line 707: ('found incompatible id', '')\n",
      "Row: ['', '', '', '', '', '', '', '', '', 'Преим. право']\n",
      "An exception occurred in line 813: ('found incompatible id', '')\n",
      "Row: ['', '', '', '', '', '', '', '', '', 'Преим. право']\n",
      "An exception occurred in line 1006: ('found incompatible id', '')\n",
      "Row: ['', '', '', '', '', '', '', '', '', 'Преим. право']\n",
      "An exception occurred in line 1053: ('found incompatible id', '')\n",
      "Row: ['', '', '', '', '', '', '', '', '', 'Преим. право']\n",
      "An exception occurred in line 1366: ('found incompatible id', '')\n",
      "Row: ['', '', '', '', '', '', '', '', '', 'Преим. право']\n",
      "An exception occurred in line 1664: ('found incompatible id', '')\n",
      "Row: ['', '', '', '', '', '', '', '', '', 'Преим. право']\n",
      "An exception occurred in line 1832: ('found incompatible id', '')\n",
      "Row: ['', '', '', '', '', '', '', '', '', 'Преим. право']\n",
      "An exception occurred in line 1928: ('found incompatible id', '')\n",
      "Row: ['', '', '', '', '', '', '', '', '', 'Преим. право']\n",
      "An exception occurred in line 1946: ('found incompatible id', '')\n",
      "Row: ['', '', '', '', '', '', '', '', '', 'Преим. право']\n",
      "An exception occurred in line 1966: ('found incompatible id', '')\n",
      "Row: ['', '', '', '', '', '', '', '', '', 'Преим. право']\n",
      "An exception occurred in line 1993: ('found incompatible id', '')\n",
      "Row: ['', '', '', '', '', '', '', '', '', 'Преим. право']\n",
      "\u001B[32mMIREA file D:\\Personal\\IT\\Programming\\Projects\\UniversityApplicationSystem\\data\\MIREA_09.03.01_IIT.csv read finished\u001B[0m\n",
      "\n",
      "\u001B[32mMIREA file D:\\Personal\\IT\\Programming\\Projects\\UniversityApplicationSystem\\data\\MIREA_09.03.02_IKB.csv read started\u001B[0m\n",
      "An exception occurred in line 54: ('found incompatible id', '')\n",
      "Row: ['', '', '', '', '', '', '', '', '', 'Преим. право']\n",
      "An exception occurred in line 308: ('found incompatible id', '')\n",
      "Row: ['', '', '', '', '', '', '', '', '', 'Преим. право']\n",
      "An exception occurred in line 402: ('found incompatible id', '')\n",
      "Row: ['', '', '', '', '', '', '', '', '', 'Преим. право']\n",
      "An exception occurred in line 417: ('found incompatible id', '')\n",
      "Row: ['', '', '', '', '', '', '', '', '', 'Преим. право']\n",
      "An exception occurred in line 509: ('found incompatible id', '')\n",
      "Row: ['', '', '', '', '', '', '', '', '', 'Преим. право']\n",
      "An exception occurred in line 826: ('found incompatible id', '')\n",
      "Row: ['', '', '', '', '', '', '', '', '', '']\n",
      "An exception occurred in line 827: ('found incompatible id', '')\n",
      "Row: ['', '', '', '', '', '', '', '', '', 'Преим. право']\n",
      "An exception occurred in line 1397: ('found incompatible id', '')\n",
      "Row: ['', '', '', '', '', '', '', '', '', 'Преим. право']\n",
      "An exception occurred in line 1400: ('found incompatible id', '')\n",
      "Row: ['', '', '', '', '', '', '', '', '', 'Преим. право']\n",
      "\u001B[32mMIREA file D:\\Personal\\IT\\Programming\\Projects\\UniversityApplicationSystem\\data\\MIREA_09.03.02_IKB.csv read finished\u001B[0m\n",
      "\n",
      "\u001B[32mMIREA file D:\\Personal\\IT\\Programming\\Projects\\UniversityApplicationSystem\\data\\MIREA_09.03.02_IPTIP-design.csv read started\u001B[0m\n",
      "An exception occurred in line 25: ('found incompatible id', '')\n",
      "Row: ['', '', '', '', '', '', '', '', '', 'Преим. право']\n",
      "An exception occurred in line 136: ('found incompatible id', '')\n",
      "Row: ['', '', '', '', '', '', '', '', '', 'Преим. право']\n",
      "An exception occurred in line 174: ('found incompatible id', '')\n",
      "Row: ['', '', '', '', '', '', '', '', '', 'Преим. право']\n",
      "An exception occurred in line 223: ('found incompatible id', '')\n",
      "Row: ['', '', '', '', '', '', '', '', '', 'Преим. право']\n",
      "An exception occurred in line 354: ('found incompatible id', '')\n",
      "Row: ['', '', '', '', '', '', '', '', '', 'Преим. право']\n",
      "An exception occurred in line 380: ('found incompatible id', '')\n",
      "Row: ['', '', '', '', '', '', '', '', '', 'Преим. право']\n",
      "An exception occurred in line 655: ('found incompatible id', '')\n",
      "Row: ['', '', '', '', '', '', '', '', '', 'Преим. право']\n",
      "An exception occurred in line 772: ('found incompatible id', '')\n",
      "Row: ['', '', '', '', '', '', '', '', '', 'Преим. право']\n",
      "\u001B[32mMIREA file D:\\Personal\\IT\\Programming\\Projects\\UniversityApplicationSystem\\data\\MIREA_09.03.02_IPTIP-design.csv read finished\u001B[0m\n",
      "\n",
      "\u001B[32mMIREA file D:\\Personal\\IT\\Programming\\Projects\\UniversityApplicationSystem\\data\\MIREA_09.03.02_IPTIP-fullstack.csv read started\u001B[0m\n",
      "An exception occurred in line 62: ('found incompatible id', '')\n",
      "Row: ['', '', '', '', '', '', '', '', '', 'Преим. право']\n",
      "An exception occurred in line 281: ('found incompatible id', '')\n",
      "Row: ['', '', '', '', '', '', '', '', '', 'Преим. право']\n",
      "An exception occurred in line 291: ('found incompatible id', '')\n",
      "Row: ['', '', '', '', '', '', '', '', '', 'Преим. право']\n",
      "An exception occurred in line 350: ('found incompatible id', '')\n",
      "Row: ['', '', '', '', '', '', '', '', '', 'Преим. право']\n",
      "An exception occurred in line 431: ('found incompatible id', '')\n",
      "Row: ['', '', '', '', '', '', '', '', '', 'Преим. право']\n",
      "An exception occurred in line 646: ('found incompatible id', '')\n",
      "Row: ['', '', '', '', '', '', '', '', '', 'Преим. право']\n",
      "An exception occurred in line 685: ('found incompatible id', '')\n",
      "Row: ['', '', '', '', '', '', '', '', '', 'Преим. право']\n",
      "An exception occurred in line 1100: ('found incompatible id', '')\n",
      "Row: ['', '', '', '', '', '', '', '', '', 'Преим. право']\n",
      "An exception occurred in line 1103: ('found incompatible id', '')\n",
      "Row: ['', '', '', '', '', '', '', '', '', 'Преим. право']\n",
      "\u001B[32mMIREA file D:\\Personal\\IT\\Programming\\Projects\\UniversityApplicationSystem\\data\\MIREA_09.03.02_IPTIP-fullstack.csv read finished\u001B[0m\n",
      "\u001B[31mERROR: student id=166-457-441 96 is already registered for profile 09.03.02:IPTIP-fullstack in university MIREA\u001B[0m\n",
      "\n",
      "\u001B[32mMIREA file D:\\Personal\\IT\\Programming\\Projects\\UniversityApplicationSystem\\data\\MIREA_09.03.02_IRI.csv read started\u001B[0m\n",
      "An exception occurred in line 31: ('found incompatible id', '')\n",
      "Row: ['', '', '', '', '', '', '', '', '', 'Преим. право']\n",
      "An exception occurred in line 190: ('found incompatible id', '')\n",
      "Row: ['', '', '', '', '', '', '', '', '', 'Преим. право']\n",
      "An exception occurred in line 384: ('found incompatible id', '')\n",
      "Row: ['', '', '', '', '', '', '', '', '', 'Преим. право']\n",
      "An exception occurred in line 987: ('found incompatible id', '')\n",
      "Row: ['', '', '', '', '', '', '', '', '', 'Преим. право']\n",
      "An exception occurred in line 1015: ('found incompatible id', '')\n",
      "Row: ['', '', '', '', '', '', '', '', '', 'Преим. право']\n",
      "\u001B[32mMIREA file D:\\Personal\\IT\\Programming\\Projects\\UniversityApplicationSystem\\data\\MIREA_09.03.02_IRI.csv read finished\u001B[0m\n",
      "\n",
      "\u001B[32mMIREA file D:\\Personal\\IT\\Programming\\Projects\\UniversityApplicationSystem\\data\\MIREA_09.03.03.csv read started\u001B[0m\n",
      "An exception occurred in line 133: ('found incompatible id', '')\n",
      "Row: ['', '', '', '', '', '', '', '', '', 'Преим. право']\n",
      "An exception occurred in line 534: ('found incompatible id', '')\n",
      "Row: ['', '', '', '', '', '', '', '', '', 'Преим. право']\n",
      "An exception occurred in line 594: ('found incompatible id', '')\n",
      "Row: ['', '', '', '', '', '', '', '', '', '']\n",
      "An exception occurred in line 595: ('found incompatible id', '')\n",
      "Row: ['', '', '', '', '', '', '', '', '', 'Преим. право']\n",
      "An exception occurred in line 604: ('found incompatible id', '')\n",
      "Row: ['', '', '', '', '', '', '', '', '', 'Преим. право']\n",
      "An exception occurred in line 732: ('found incompatible id', '')\n",
      "Row: ['', '', '', '', '', '', '', '', '', 'Преим. право']\n",
      "An exception occurred in line 756: ('found incompatible id', '')\n",
      "Row: ['', '', '', '', '', '', '', '', '', 'Преим. право']\n",
      "An exception occurred in line 840: ('found incompatible id', '')\n",
      "Row: ['', '', '', '', '', '', '', '', '', '']\n",
      "An exception occurred in line 841: ('found incompatible id', '')\n",
      "Row: ['', '', '', '', '', '', '', '', '', 'Преим. право']\n",
      "An exception occurred in line 882: ('found incompatible id', '')\n",
      "Row: ['', '', '', '', '', '', '', '', '', '']\n",
      "An exception occurred in line 883: ('found incompatible id', '')\n",
      "Row: ['', '', '', '', '', '', '', '', '', 'Преим. право']\n",
      "An exception occurred in line 898: ('found incompatible id', '')\n",
      "Row: ['', '', '', '', '', '', '', '', '', 'Преим. право']\n",
      "An exception occurred in line 1025: ('found incompatible id', '')\n",
      "Row: ['', '', '', '', '', '', '', '', '', '']\n",
      "An exception occurred in line 1026: ('found incompatible id', '')\n",
      "Row: ['', '', '', '', '', '', '', '', '', 'Преим. право']\n",
      "An exception occurred in line 1078: ('found incompatible id', '')\n",
      "Row: ['', '', '', '', '', '', '', '', '', 'Преим. право']\n",
      "An exception occurred in line 1254: ('found incompatible id', '')\n",
      "Row: ['', '', '', '', '', '', '', '', '', 'Преим. право']\n",
      "An exception occurred in line 1299: ('found incompatible id', '')\n",
      "Row: ['', '', '', '', '', '', '', '', '', 'Преим. право']\n",
      "An exception occurred in line 1604: ('found incompatible id', '')\n",
      "Row: ['', '', '', '', '', '', '', '', '', 'Преим. право']\n",
      "An exception occurred in line 1846: ('found incompatible id', '')\n",
      "Row: ['', '', '', '', '', '', '', '', '', 'Преим. право']\n",
      "An exception occurred in line 1849: ('found incompatible id', '')\n",
      "Row: ['', '', '', '', '', '', '', '', '', 'Преим. право']\n",
      "An exception occurred in line 2080: ('found incompatible id', '')\n",
      "Row: ['', '', '', '', '', '', '', '', '', 'Преим. право']\n",
      "\u001B[32mMIREA file D:\\Personal\\IT\\Programming\\Projects\\UniversityApplicationSystem\\data\\MIREA_09.03.03.csv read finished\u001B[0m\n",
      "\n",
      "\u001B[32mMIREA file D:\\Personal\\IT\\Programming\\Projects\\UniversityApplicationSystem\\data\\MIREA_09.03.04.csv read started\u001B[0m\n",
      "An exception occurred in line 201: ('found incompatible id', '')\n",
      "Row: ['', '', '', '', '', '', '', '', '', '']\n",
      "An exception occurred in line 202: ('found incompatible id', '')\n",
      "Row: ['', '', '', '', '', '', '', '', '', 'Преим. право']\n",
      "An exception occurred in line 808: ('found incompatible id', '')\n",
      "Row: ['', '', '', '', '', '', '', '', '', 'Преим. право']\n",
      "An exception occurred in line 981: ('found incompatible id', '')\n",
      "Row: ['', '', '', '', '', '', '', '', '', '']\n",
      "An exception occurred in line 982: ('found incompatible id', '')\n",
      "Row: ['', '', '', '', '', '', '', '', '', 'Преим. право']\n",
      "An exception occurred in line 1089: ('found incompatible id', '')\n",
      "Row: ['', '', '', '', '', '', '', '', '', 'Преим. право']\n",
      "An exception occurred in line 1135: ('found incompatible id', '')\n",
      "Row: ['', '', '', '', '', '', '', '', '', 'Преим. право']\n",
      "An exception occurred in line 1273: ('found incompatible id', '')\n",
      "Row: ['', '', '', '', '', '', '', '', '', 'Преим. право']\n",
      "An exception occurred in line 1326: ('found incompatible id', '')\n",
      "Row: ['', '', '', '', '', '', '', '', '', '']\n",
      "An exception occurred in line 1327: ('found incompatible id', '')\n",
      "Row: ['', '', '', '', '', '', '', '', '', 'Преим. право']\n",
      "An exception occurred in line 1545: ('found incompatible id', '')\n",
      "Row: ['', '', '', '', '', '', '', '', '', 'Преим. право']\n",
      "An exception occurred in line 2214: ('found incompatible id', '')\n",
      "Row: ['', '', '', '', '', '', '', '', '', 'Преим. право']\n",
      "An exception occurred in line 2433: ('found incompatible id', '')\n",
      "Row: ['', '', '', '', '', '', '', '', '', 'Преим. право']\n",
      "\u001B[32mMIREA file D:\\Personal\\IT\\Programming\\Projects\\UniversityApplicationSystem\\data\\MIREA_09.03.04.csv read finished\u001B[0m\n",
      "\n",
      "\u001B[32mMIREA file D:\\Personal\\IT\\Programming\\Projects\\UniversityApplicationSystem\\data\\MIREA_10.03.01.csv read started\u001B[0m\n",
      "An exception occurred in line 51: ('found incompatible id', '')\n",
      "Row: ['', '', '', '', '', '', '', '', '', 'Преим. право']\n",
      "An exception occurred in line 523: ('found incompatible id', '')\n",
      "Row: ['', '', '', '', '', '', '', '', '', 'Преим. право']\n",
      "An exception occurred in line 637: ('found incompatible id', '')\n",
      "Row: ['', '', '', '', '', '', '', '', '', 'Преим. право']\n",
      "An exception occurred in line 896: ('found incompatible id', '')\n",
      "Row: ['', '', '', '', '', '', '', '', '', 'Преим. право']\n",
      "An exception occurred in line 969: ('found incompatible id', '')\n",
      "Row: ['', '', '', '', '', '', '', '', '', 'Преим. право']\n",
      "An exception occurred in line 1025: ('found incompatible id', '')\n",
      "Row: ['', '', '', '', '', '', '', '', '', 'Преим. право']\n",
      "\u001B[32mMIREA file D:\\Personal\\IT\\Programming\\Projects\\UniversityApplicationSystem\\data\\MIREA_10.03.01.csv read finished\u001B[0m\n",
      "\n",
      "\u001B[32mMIREA file D:\\Personal\\IT\\Programming\\Projects\\UniversityApplicationSystem\\data\\MIREA_10.05.01.csv read started\u001B[0m\n",
      "An exception occurred in line 186: ('found incompatible id', '')\n",
      "Row: ['', '', '', '', '', '', '', '', '', 'Преим. право']\n",
      "An exception occurred in line 654: ('found incompatible id', '')\n",
      "Row: ['', '', '', '', '', '', '', '', '', '']\n",
      "An exception occurred in line 655: ('found incompatible id', '')\n",
      "Row: ['', '', '', '', '', '', '', '', '', 'Преим. право']\n",
      "An exception occurred in line 755: ('found incompatible id', '')\n",
      "Row: ['', '', '', '', '', '', '', '', '', 'Преим. право']\n",
      "\u001B[32mMIREA file D:\\Personal\\IT\\Programming\\Projects\\UniversityApplicationSystem\\data\\MIREA_10.05.01.csv read finished\u001B[0m\n",
      "\n",
      "\u001B[32mMPEI file D:\\Personal\\IT\\Programming\\Projects\\UniversityApplicationSystem\\data\\MPEI_01.03.02_inf.csv read started\u001B[0m\n",
      "An exception occurred in line 566: ('found incompatible id', '')\n",
      "Row: ['', '', '', '', '', '', '', '', '', '', '', 'Преимущественное право']\n",
      "\u001B[32mMPEI file D:\\Personal\\IT\\Programming\\Projects\\UniversityApplicationSystem\\data\\MPEI_01.03.02_inf.csv read finished\u001B[0m\n",
      "\n",
      "\u001B[32mMPEI file D:\\Personal\\IT\\Programming\\Projects\\UniversityApplicationSystem\\data\\MPEI_01.03.02_mat.csv read started\u001B[0m\n",
      "An exception occurred in line 562: ('found incompatible id', '')\n",
      "Row: ['', '', '', '', '', '', '', '', '', '', '', 'Преимущественное право']\n",
      "\u001B[32mMPEI file D:\\Personal\\IT\\Programming\\Projects\\UniversityApplicationSystem\\data\\MPEI_01.03.02_mat.csv read finished\u001B[0m\n",
      "\u001B[31mERROR: student id=183-287-095 96 is already registered for profile 01.03.02:mat in university MPEI\u001B[0m\n",
      "\u001B[31mERROR: student id=160-820-443 37 is already registered for profile 01.03.02:mat in university MPEI\u001B[0m\n",
      "\n",
      "\u001B[32mMPEI file D:\\Personal\\IT\\Programming\\Projects\\UniversityApplicationSystem\\data\\MPEI_09.03.01.csv read started\u001B[0m\n",
      "An exception occurred in line 769: ('found incompatible id', '')\n",
      "Row: ['', '', '', '', '', '', '', '', '', '', '', '', 'Преимущественное право']\n",
      "\u001B[32mMPEI file D:\\Personal\\IT\\Programming\\Projects\\UniversityApplicationSystem\\data\\MPEI_09.03.01.csv read finished\u001B[0m\n",
      "\n",
      "\u001B[32mMPEI file D:\\Personal\\IT\\Programming\\Projects\\UniversityApplicationSystem\\data\\MPEI_09.03.03.csv read started\u001B[0m\n",
      "An exception occurred in line 685: ('found incompatible id', '')\n",
      "Row: ['', '', '', '', '', '', '', '', '', '', '', '', 'Преимущественное право']\n",
      "An exception occurred in line 990: ('found incompatible id', '')\n",
      "Row: ['', '', '', '', '', '', '', '', '', '', '', '', 'Преимущественное право']\n",
      "\u001B[32mMPEI file D:\\Personal\\IT\\Programming\\Projects\\UniversityApplicationSystem\\data\\MPEI_09.03.03.csv read finished\u001B[0m\n",
      "\n",
      "\u001B[32mMPEI file D:\\Personal\\IT\\Programming\\Projects\\UniversityApplicationSystem\\data\\MPEI_10.03.01.csv read started\u001B[0m\n",
      "An exception occurred in line 630: ('found incompatible id', '')\n",
      "Row: ['', '', '', '', '', '', '', '', '', '', '', '', 'Преимущественное право']\n",
      "An exception occurred in line 946: ('found incompatible id', '')\n",
      "Row: ['', '', '', '', '', '', '', '', '', '', '', '', 'Преимущественное право']\n",
      "\u001B[32mMPEI file D:\\Personal\\IT\\Programming\\Projects\\UniversityApplicationSystem\\data\\MPEI_10.03.01.csv read finished\u001B[0m\n",
      "\n",
      "\u001B[32mMPEI file D:\\Personal\\IT\\Programming\\Projects\\UniversityApplicationSystem\\data\\MPEI_27.03.04.csv read started\u001B[0m\n",
      "An exception occurred in line 225: ('found incompatible id', '')\n",
      "Row: ['', '', '', '', '', '', '', '', '', '', '', '', 'Преимущественное право']\n",
      "\u001B[32mMPEI file D:\\Personal\\IT\\Programming\\Projects\\UniversityApplicationSystem\\data\\MPEI_27.03.04.csv read finished\u001B[0m\n",
      "\u001B[31mERROR: student id=183-287-095 96 is already registered for profile 27.03.04 in university MPEI\u001B[0m\n",
      "\n",
      "\u001B[32mMPEI file D:\\Personal\\IT\\Programming\\Projects\\UniversityApplicationSystem\\data\\MPEI_38.03.05.csv read started\u001B[0m\n",
      "An exception occurred in line 257: ('found incompatible id', '')\n",
      "Row: ['', '', '', '', '', '', '', '', '', '', '', '', 'Преимущественное право']\n",
      "An exception occurred in line 603: ('found incompatible id', '')\n",
      "Row: ['', '', '', '', '', '', '', '', '', '', '', '', 'Преимущественное право']\n",
      "An exception occurred in line 656: ('found incompatible id', '')\n",
      "Row: ['', '', '', '', '', '', '', '', '', '', '', '', 'Преимущественное право']\n",
      "\u001B[32mMPEI file D:\\Personal\\IT\\Programming\\Projects\\UniversityApplicationSystem\\data\\MPEI_38.03.05.csv read finished\u001B[0m\n",
      "\n",
      "\u001B[32mMPOLITECH file D:\\Personal\\IT\\Programming\\Projects\\UniversityApplicationSystem\\data\\MPOLITECH_01.03.02.csv read started\u001B[0m\n",
      "\u001B[32mMPOLITECH file D:\\Personal\\IT\\Programming\\Projects\\UniversityApplicationSystem\\data\\MPOLITECH_01.03.02.csv read finished\u001B[0m\n",
      "\n",
      "\u001B[32mMPOLITECH file D:\\Personal\\IT\\Programming\\Projects\\UniversityApplicationSystem\\data\\MPOLITECH_09.03.01_01.csv read started\u001B[0m\n",
      "\u001B[33m  да (№2)   agreement found\u001B[0m\n",
      "\u001B[32mMPOLITECH file D:\\Personal\\IT\\Programming\\Projects\\UniversityApplicationSystem\\data\\MPOLITECH_09.03.01_01.csv read finished\u001B[0m\n",
      "\n",
      "\u001B[32mMPOLITECH file D:\\Personal\\IT\\Programming\\Projects\\UniversityApplicationSystem\\data\\MPOLITECH_09.03.01_02.csv read started\u001B[0m\n",
      "\u001B[32mMPOLITECH file D:\\Personal\\IT\\Programming\\Projects\\UniversityApplicationSystem\\data\\MPOLITECH_09.03.01_02.csv read finished\u001B[0m\n",
      "\n",
      "\u001B[32mMPOLITECH file D:\\Personal\\IT\\Programming\\Projects\\UniversityApplicationSystem\\data\\MPOLITECH_09.03.01_04.csv read started\u001B[0m\n",
      "\u001B[33m  да (№2)   agreement found\u001B[0m\n",
      "\u001B[33m  да (№2)   agreement found\u001B[0m\n",
      "\u001B[32mMPOLITECH file D:\\Personal\\IT\\Programming\\Projects\\UniversityApplicationSystem\\data\\MPOLITECH_09.03.01_04.csv read finished\u001B[0m\n",
      "\n",
      "\u001B[32mMPOLITECH file D:\\Personal\\IT\\Programming\\Projects\\UniversityApplicationSystem\\data\\MPOLITECH_09.03.01_05.csv read started\u001B[0m\n",
      "\u001B[33m  да (№2)   agreement found\u001B[0m\n",
      "\u001B[33m  да (№2)   agreement found\u001B[0m\n",
      "\u001B[32mMPOLITECH file D:\\Personal\\IT\\Programming\\Projects\\UniversityApplicationSystem\\data\\MPOLITECH_09.03.01_05.csv read finished\u001B[0m\n",
      "\n",
      "\u001B[32mMPOLITECH file D:\\Personal\\IT\\Programming\\Projects\\UniversityApplicationSystem\\data\\MPOLITECH_09.03.02_01.csv read started\u001B[0m\n",
      "\u001B[33m  да (№2)   agreement found\u001B[0m\n",
      "\u001B[33m  да (№2)   agreement found\u001B[0m\n",
      "\u001B[33m  да (№3)   agreement found\u001B[0m\n",
      "\u001B[32mMPOLITECH file D:\\Personal\\IT\\Programming\\Projects\\UniversityApplicationSystem\\data\\MPOLITECH_09.03.02_01.csv read finished\u001B[0m\n",
      "\n",
      "\u001B[32mMPOLITECH file D:\\Personal\\IT\\Programming\\Projects\\UniversityApplicationSystem\\data\\MPOLITECH_09.03.02_02.csv read started\u001B[0m\n",
      "\u001B[33m  да (№2)   agreement found\u001B[0m\n",
      "\u001B[32mMPOLITECH file D:\\Personal\\IT\\Programming\\Projects\\UniversityApplicationSystem\\data\\MPOLITECH_09.03.02_02.csv read finished\u001B[0m\n",
      "\n",
      "\u001B[32mMPOLITECH file D:\\Personal\\IT\\Programming\\Projects\\UniversityApplicationSystem\\data\\MPOLITECH_09.03.02_03.csv read started\u001B[0m\n",
      "\u001B[33m  да (№2)   agreement found\u001B[0m\n",
      "\u001B[32mMPOLITECH file D:\\Personal\\IT\\Programming\\Projects\\UniversityApplicationSystem\\data\\MPOLITECH_09.03.02_03.csv read finished\u001B[0m\n",
      "\n",
      "\u001B[32mMPOLITECH file D:\\Personal\\IT\\Programming\\Projects\\UniversityApplicationSystem\\data\\MPOLITECH_09.03.03_01.csv read started\u001B[0m\n",
      "\u001B[32mMPOLITECH file D:\\Personal\\IT\\Programming\\Projects\\UniversityApplicationSystem\\data\\MPOLITECH_09.03.03_01.csv read finished\u001B[0m\n",
      "\n",
      "\u001B[32mMPOLITECH file D:\\Personal\\IT\\Programming\\Projects\\UniversityApplicationSystem\\data\\MPOLITECH_09.03.03_02.csv read started\u001B[0m\n",
      "\u001B[33m  да (№2)   agreement found\u001B[0m\n",
      "\u001B[32mMPOLITECH file D:\\Personal\\IT\\Programming\\Projects\\UniversityApplicationSystem\\data\\MPOLITECH_09.03.03_02.csv read finished\u001B[0m\n",
      "\u001B[31mERROR: student id=207-624-240 42 is already registered for profile 09.03.03:02 in university MPOLITECH\u001B[0m\n",
      "\n",
      "\u001B[32mMPOLITECH file D:\\Personal\\IT\\Programming\\Projects\\UniversityApplicationSystem\\data\\MPOLITECH_09.03.03_03.csv read started\u001B[0m\n",
      "\u001B[32mMPOLITECH file D:\\Personal\\IT\\Programming\\Projects\\UniversityApplicationSystem\\data\\MPOLITECH_09.03.03_03.csv read finished\u001B[0m\n",
      "\n",
      "\u001B[32mMPOLITECH file D:\\Personal\\IT\\Programming\\Projects\\UniversityApplicationSystem\\data\\MPOLITECH_10.03.01.csv read started\u001B[0m\n",
      "\u001B[32mMPOLITECH file D:\\Personal\\IT\\Programming\\Projects\\UniversityApplicationSystem\\data\\MPOLITECH_10.03.01.csv read finished\u001B[0m\n",
      "\n",
      "\u001B[32mMPOLITECH file D:\\Personal\\IT\\Programming\\Projects\\UniversityApplicationSystem\\data\\MPOLITECH_10.05.03.csv read started\u001B[0m\n",
      "\u001B[33m  да (№2)   agreement found\u001B[0m\n",
      "\u001B[32mMPOLITECH file D:\\Personal\\IT\\Programming\\Projects\\UniversityApplicationSystem\\data\\MPOLITECH_10.05.03.csv read finished\u001B[0m\n",
      "\n",
      "\u001B[32mMTUCI file D:\\Personal\\IT\\Programming\\Projects\\UniversityApplicationSystem\\data\\MTUCI_01.03.04.csv read started\u001B[0m\n",
      "\u001B[32mMTUCI file D:\\Personal\\IT\\Programming\\Projects\\UniversityApplicationSystem\\data\\MTUCI_01.03.04.csv read finished\u001B[0m\n",
      "\n",
      "\u001B[32mMTUCI file D:\\Personal\\IT\\Programming\\Projects\\UniversityApplicationSystem\\data\\MTUCI_02.03.02.csv read started\u001B[0m\n",
      "\u001B[32mMTUCI file D:\\Personal\\IT\\Programming\\Projects\\UniversityApplicationSystem\\data\\MTUCI_02.03.02.csv read finished\u001B[0m\n",
      "\n",
      "\u001B[32mMTUCI file D:\\Personal\\IT\\Programming\\Projects\\UniversityApplicationSystem\\data\\MTUCI_09.03.01.csv read started\u001B[0m\n",
      "\u001B[32mMTUCI file D:\\Personal\\IT\\Programming\\Projects\\UniversityApplicationSystem\\data\\MTUCI_09.03.01.csv read finished\u001B[0m\n",
      "\n",
      "\u001B[32mMTUCI file D:\\Personal\\IT\\Programming\\Projects\\UniversityApplicationSystem\\data\\MTUCI_09.03.02.csv read started\u001B[0m\n",
      "\u001B[32mMTUCI file D:\\Personal\\IT\\Programming\\Projects\\UniversityApplicationSystem\\data\\MTUCI_09.03.02.csv read finished\u001B[0m\n",
      "\n",
      "\u001B[32mMTUCI file D:\\Personal\\IT\\Programming\\Projects\\UniversityApplicationSystem\\data\\MTUCI_09.03.03.csv read started\u001B[0m\n",
      "\u001B[32mMTUCI file D:\\Personal\\IT\\Programming\\Projects\\UniversityApplicationSystem\\data\\MTUCI_09.03.03.csv read finished\u001B[0m\n",
      "\n",
      "\u001B[32mMTUCI file D:\\Personal\\IT\\Programming\\Projects\\UniversityApplicationSystem\\data\\MTUCI_10.03.01.csv read started\u001B[0m\n",
      "\u001B[32mMTUCI file D:\\Personal\\IT\\Programming\\Projects\\UniversityApplicationSystem\\data\\MTUCI_10.03.01.csv read finished\u001B[0m\n",
      "\n",
      "\u001B[32mMTUCI file D:\\Personal\\IT\\Programming\\Projects\\UniversityApplicationSystem\\data\\MTUCI_10.05.02.csv read started\u001B[0m\n",
      "\u001B[32mMTUCI file D:\\Personal\\IT\\Programming\\Projects\\UniversityApplicationSystem\\data\\MTUCI_10.05.02.csv read finished\u001B[0m\n",
      "\n",
      "\u001B[32mMTUCI file D:\\Personal\\IT\\Programming\\Projects\\UniversityApplicationSystem\\data\\MTUCI_11.03.01.csv read started\u001B[0m\n",
      "\u001B[32mMTUCI file D:\\Personal\\IT\\Programming\\Projects\\UniversityApplicationSystem\\data\\MTUCI_11.03.01.csv read finished\u001B[0m\n",
      "\n",
      "\u001B[32mMTUCI file D:\\Personal\\IT\\Programming\\Projects\\UniversityApplicationSystem\\data\\MTUCI_11.03.02_RIT.csv read started\u001B[0m\n",
      "\u001B[32mMTUCI file D:\\Personal\\IT\\Programming\\Projects\\UniversityApplicationSystem\\data\\MTUCI_11.03.02_RIT.csv read finished\u001B[0m\n",
      "\n",
      "\u001B[32mMTUCI file D:\\Personal\\IT\\Programming\\Projects\\UniversityApplicationSystem\\data\\MTUCI_11.03.02_SISS.csv read started\u001B[0m\n",
      "\u001B[32mMTUCI file D:\\Personal\\IT\\Programming\\Projects\\UniversityApplicationSystem\\data\\MTUCI_11.03.02_SISS.csv read finished\u001B[0m\n",
      "\n",
      "\u001B[32mMTUCI file D:\\Personal\\IT\\Programming\\Projects\\UniversityApplicationSystem\\data\\MTUCI_15.03.04.csv read started\u001B[0m\n",
      "\u001B[32mMTUCI file D:\\Personal\\IT\\Programming\\Projects\\UniversityApplicationSystem\\data\\MTUCI_15.03.04.csv read finished\u001B[0m\n",
      "\n",
      "\u001B[32mMTUCI file D:\\Personal\\IT\\Programming\\Projects\\UniversityApplicationSystem\\data\\MTUCI_27.03.04.csv read started\u001B[0m\n",
      "\u001B[32mMTUCI file D:\\Personal\\IT\\Programming\\Projects\\UniversityApplicationSystem\\data\\MTUCI_27.03.04.csv read finished\u001B[0m\n",
      "\n"
     ]
    }
   ],
   "source": [
    "loader.load_data(system, \"../../data/\")"
   ],
   "metadata": {
    "collapsed": false,
    "pycharm": {
     "name": "#%%\n"
    }
   }
  },
  {
   "cell_type": "code",
   "execution_count": 5,
   "outputs": [],
   "source": [
    "places_details = {\n",
    "    University.MPEI: {\n",
    "        Profile('01.03.02', 'inf'): 46,\n",
    "        Profile('01.03.02', 'mat'): 36,\n",
    "        Profile('09.03.01'): 157,\n",
    "        Profile('09.03.03'): 27,\n",
    "        Profile('10.03.01'): 35,\n",
    "        Profile('27.03.04'): 66,\n",
    "        Profile('38.03.05'): 7,\n",
    "    },\n",
    "    University.MIREA: {\n",
    "        Profile('01.03.02'): 65,\n",
    "        Profile('01.03.04'): 25,\n",
    "        Profile('02.03.02'): 13,\n",
    "        Profile('09.03.01', 'IIT'): 78,\n",
    "        Profile('09.03.01', 'III'): 115,\n",
    "        Profile('09.03.02', 'IKB'): 168,\n",
    "        Profile('09.03.02', 'IRI'): 39,\n",
    "        Profile('09.03.02', 'IPTIP-design'): 39,\n",
    "        Profile('09.03.02', 'IPTIP-fullstack'): 16,\n",
    "        Profile('09.03.03'): 139,\n",
    "        Profile('09.03.04'): 147,\n",
    "        Profile('10.03.01'): 21,\n",
    "        Profile('10.05.01'): 32,\n",
    "    },\n",
    "    University.MAI: {\n",
    "        Profile('01.03.00'): 201,\n",
    "        Profile('01.03.02'): 19,\n",
    "        Profile('02.03.02'): 49,\n",
    "        Profile('09.03.01'): 147,\n",
    "        Profile('09.03.02'): 47,\n",
    "        Profile('09.03.03'): 50,\n",
    "        Profile('09.03.04'): 46,\n",
    "        Profile('10.03.01'): 38,\n",
    "    },\n",
    "    University.MPOLITECH: {\n",
    "        Profile('01.03.02'): 27,\n",
    "        Profile('09.03.01', '01'): 37,\n",
    "        Profile('09.03.01', '02'): 66,\n",
    "        Profile('09.03.01', '04'): 45,\n",
    "        Profile('09.03.01', '05'): 24,\n",
    "        Profile('09.03.02', '01'): 179,\n",
    "        Profile('09.03.02', '02'): 21,\n",
    "        Profile('09.03.02', '03'): 22,\n",
    "        Profile('09.03.03', '01'): 44,\n",
    "        Profile('09.03.03', '02'): 44,\n",
    "        Profile('09.03.03', '03'): 22,\n",
    "        Profile('10.03.01'): 31,\n",
    "        Profile('10.05.03'): 27,\n",
    "    },\n",
    "    University.MTUCI: {\n",
    "        Profile('01.03.04'): 16,\n",
    "        Profile('02.03.02'): 46,\n",
    "        Profile('09.03.01'): 100,\n",
    "        Profile('09.03.02'): 90,\n",
    "        Profile('09.03.03'): 50,\n",
    "        Profile('10.03.01'): 52,\n",
    "        Profile('10.05.02'): 60,\n",
    "        Profile('11.03.01'): 75,\n",
    "        Profile('11.03.02', 'RIT'): 232,\n",
    "        Profile('11.03.02', 'SISS'): 306,\n",
    "        Profile('15.03.04'): 20,\n",
    "        Profile('27.03.04'): 24,\n",
    "    },\n",
    "}\n",
    "system.add_places_details(places_details)"
   ],
   "metadata": {
    "collapsed": false,
    "pycharm": {
     "name": "#%%\n"
    }
   }
  },
  {
   "cell_type": "code",
   "execution_count": 6,
   "outputs": [
    {
     "name": "stdout",
     "output_type": "stream",
     "text": [
      "\u001B[33mFound less students than places for 11.03.01 in MTUCI\u001B[0m\n",
      "\u001B[33mFound less students than places for 11.03.02:RIT in MTUCI\u001B[0m\n",
      "\u001B[33mFound less students than places for 11.03.02:SISS in MTUCI\u001B[0m\n"
     ]
    },
    {
     "data": {
      "text/plain": "{MIPT: {01.03.02: 0, 03.03.01: 0, 09.03.01: 0},\n VSE: {},\n MSU: {},\n MEPHI: {},\n BMSTU: {},\n MIREA: {01.03.02: 294,\n  01.03.04: 291,\n  02.03.02: 293,\n  09.03.01:III: 287,\n  09.03.01:IIT: 289,\n  09.03.02:IKB: 280,\n  09.03.02:IPTIP-design: 284,\n  09.03.02:IPTIP-fullstack: 295,\n  09.03.02:IRI: 285,\n  09.03.03: 287,\n  09.03.04: 289,\n  10.03.01: 292,\n  10.05.01: 288},\n MAI: {},\n MPEI: {01.03.02:inf: 280,\n  01.03.02:mat: 278,\n  09.03.01: 274,\n  09.03.03: 285,\n  10.03.01: 283,\n  27.03.04: 272,\n  38.03.05: 288},\n MTUCI: {01.03.04: 283,\n  02.03.02: 280,\n  09.03.01: 276,\n  09.03.02: 276,\n  09.03.03: 280,\n  10.03.01: 278,\n  10.05.02: 270,\n  11.03.01: 262,\n  11.03.02:RIT: 262,\n  11.03.02:SISS: 262,\n  15.03.04: 279,\n  27.03.04: 280},\n MPOLITECH: {01.03.02: 275,\n  09.03.01:01: 283,\n  09.03.01:02: 273,\n  09.03.01:04: 274,\n  09.03.01:05: 284,\n  09.03.02:01: 270,\n  09.03.02:02: 283,\n  09.03.02:03: 283,\n  09.03.03:01: 276,\n  09.03.03:02: 281,\n  09.03.03:03: 283,\n  10.03.01: 281,\n  10.05.03: 276},\n MIET: {01.03.04: 0,\n  09.03.01: 0,\n  09.03.02: 0,\n  09.03.03: 0,\n  09.03.04: 0,\n  10.03.01: 0,\n  11.03.01: 0,\n  11.03.02: 0,\n  27.03.04: 0},\n ITMO: {},\n SPBSU: {}}"
     },
     "execution_count": 6,
     "metadata": {},
     "output_type": "execute_result"
    }
   ],
   "source": [
    "system.get_current_min_scores()"
   ],
   "metadata": {
    "collapsed": false,
    "pycharm": {
     "name": "#%%\n"
    }
   }
  },
  {
   "cell_type": "code",
   "execution_count": 7,
   "outputs": [
    {
     "data": {
      "text/plain": "{MIREA: {01.03.02: (523, 278),\n  01.03.04: (163, 278),\n  02.03.02: (184, 278),\n  09.03.02:IKB: (233, 278),\n  09.03.03: (460, 278)},\n MPOLITECH: {01.03.02: (22, 278),\n  09.03.01:01: (65, 278),\n  09.03.01:02: (39, 278),\n  09.03.02:01: (61, 278),\n  09.03.02:02: (30, 278),\n  09.03.02:03: (36, 278),\n  09.03.03:01: (37, 278),\n  09.03.03:02: (54, 278),\n  09.03.03:03: (36, 278)},\n MTUCI: {01.03.04: (51, 278),\n  02.03.02: (70, 278),\n  09.03.01: (76, 278),\n  09.03.02: (69, 278),\n  09.03.03: (76, 278),\n  10.03.01: (52, 278),\n  15.03.04: (24, 278),\n  27.03.04: (34, 278)}}"
     },
     "execution_count": 7,
     "metadata": {},
     "output_type": "execute_result"
    }
   ],
   "source": [
    "system.get_current_positions(StudentId(\"185-597-938 50\"))"
   ],
   "metadata": {
    "collapsed": false,
    "pycharm": {
     "name": "#%%\n"
    }
   }
  },
  {
   "cell_type": "code",
   "execution_count": 8,
   "outputs": [
    {
     "data": {
      "text/plain": "    University  Agreements\n1         МФТИ         694\n2          ВШЭ           0\n3          МГУ           0\n4         МИФИ         199\n5     Бауманка         296\n6        МИРЭА        1096\n7          МАИ          84\n8          МЭИ         267\n9        МТУСИ         124\n10  МосПолитех         482\n11        МИЭТ         140\n12        ИТМО         639\n13       СПБГУ         138",
      "text/html": "<div>\n<style scoped>\n    .dataframe tbody tr th:only-of-type {\n        vertical-align: middle;\n    }\n\n    .dataframe tbody tr th {\n        vertical-align: top;\n    }\n\n    .dataframe thead th {\n        text-align: right;\n    }\n</style>\n<table border=\"1\" class=\"dataframe\">\n  <thead>\n    <tr style=\"text-align: right;\">\n      <th></th>\n      <th>University</th>\n      <th>Agreements</th>\n    </tr>\n  </thead>\n  <tbody>\n    <tr>\n      <th>1</th>\n      <td>МФТИ</td>\n      <td>694</td>\n    </tr>\n    <tr>\n      <th>2</th>\n      <td>ВШЭ</td>\n      <td>0</td>\n    </tr>\n    <tr>\n      <th>3</th>\n      <td>МГУ</td>\n      <td>0</td>\n    </tr>\n    <tr>\n      <th>4</th>\n      <td>МИФИ</td>\n      <td>199</td>\n    </tr>\n    <tr>\n      <th>5</th>\n      <td>Бауманка</td>\n      <td>296</td>\n    </tr>\n    <tr>\n      <th>6</th>\n      <td>МИРЭА</td>\n      <td>1096</td>\n    </tr>\n    <tr>\n      <th>7</th>\n      <td>МАИ</td>\n      <td>84</td>\n    </tr>\n    <tr>\n      <th>8</th>\n      <td>МЭИ</td>\n      <td>267</td>\n    </tr>\n    <tr>\n      <th>9</th>\n      <td>МТУСИ</td>\n      <td>124</td>\n    </tr>\n    <tr>\n      <th>10</th>\n      <td>МосПолитех</td>\n      <td>482</td>\n    </tr>\n    <tr>\n      <th>11</th>\n      <td>МИЭТ</td>\n      <td>140</td>\n    </tr>\n    <tr>\n      <th>12</th>\n      <td>ИТМО</td>\n      <td>639</td>\n    </tr>\n    <tr>\n      <th>13</th>\n      <td>СПБГУ</td>\n      <td>138</td>\n    </tr>\n  </tbody>\n</table>\n</div>"
     },
     "metadata": {},
     "output_type": "display_data"
    }
   ],
   "source": [
    "system.show_number_of_agreements_by_university()"
   ],
   "metadata": {
    "collapsed": false,
    "pycharm": {
     "name": "#%%\n"
    }
   }
  },
  {
   "cell_type": "code",
   "execution_count": 9,
   "outputs": [
    {
     "data": {
      "text/plain": "    University  Agreements\n1         МФТИ         144\n2          ВШЭ           0\n3          МГУ           0\n4         МИФИ           0\n5     Бауманка           0\n6        МИРЭА         843\n7          МАИ           0\n8          МЭИ         171\n9        МТУСИ          72\n10  МосПолитех         362\n11        МИЭТ          89\n12        ИТМО           0\n13       СПБГУ           0",
      "text/html": "<div>\n<style scoped>\n    .dataframe tbody tr th:only-of-type {\n        vertical-align: middle;\n    }\n\n    .dataframe tbody tr th {\n        vertical-align: top;\n    }\n\n    .dataframe thead th {\n        text-align: right;\n    }\n</style>\n<table border=\"1\" class=\"dataframe\">\n  <thead>\n    <tr style=\"text-align: right;\">\n      <th></th>\n      <th>University</th>\n      <th>Agreements</th>\n    </tr>\n  </thead>\n  <tbody>\n    <tr>\n      <th>1</th>\n      <td>МФТИ</td>\n      <td>144</td>\n    </tr>\n    <tr>\n      <th>2</th>\n      <td>ВШЭ</td>\n      <td>0</td>\n    </tr>\n    <tr>\n      <th>3</th>\n      <td>МГУ</td>\n      <td>0</td>\n    </tr>\n    <tr>\n      <th>4</th>\n      <td>МИФИ</td>\n      <td>0</td>\n    </tr>\n    <tr>\n      <th>5</th>\n      <td>Бауманка</td>\n      <td>0</td>\n    </tr>\n    <tr>\n      <th>6</th>\n      <td>МИРЭА</td>\n      <td>843</td>\n    </tr>\n    <tr>\n      <th>7</th>\n      <td>МАИ</td>\n      <td>0</td>\n    </tr>\n    <tr>\n      <th>8</th>\n      <td>МЭИ</td>\n      <td>171</td>\n    </tr>\n    <tr>\n      <th>9</th>\n      <td>МТУСИ</td>\n      <td>72</td>\n    </tr>\n    <tr>\n      <th>10</th>\n      <td>МосПолитех</td>\n      <td>362</td>\n    </tr>\n    <tr>\n      <th>11</th>\n      <td>МИЭТ</td>\n      <td>89</td>\n    </tr>\n    <tr>\n      <th>12</th>\n      <td>ИТМО</td>\n      <td>0</td>\n    </tr>\n    <tr>\n      <th>13</th>\n      <td>СПБГУ</td>\n      <td>0</td>\n    </tr>\n  </tbody>\n</table>\n</div>"
     },
     "metadata": {},
     "output_type": "display_data"
    }
   ],
   "source": [
    "system.show_number_of_pending_agreements_by_university()"
   ],
   "metadata": {
    "collapsed": false,
    "pycharm": {
     "name": "#%%\n"
    }
   }
  },
  {
   "cell_type": "code",
   "execution_count": 10,
   "outputs": [
    {
     "data": {
      "text/plain": "   University  N of Agreements  Average score  Median score  Top 5% score  \\\n1        МФТИ              144          291.4         293.5         310.0   \n2       МИРЭА              843          269.5         270.0         287.0   \n3         МЭИ              171          264.3         264.0         278.0   \n4       МТУСИ               72          270.1         268.0         284.4   \n5  МосПолитех              362          261.7         260.0         283.0   \n6        МИЭТ               89          269.5         268.0         283.0   \n\n   Top 10% score  Top 20% score  \n1          308.0          306.0  \n2          284.0          279.0  \n3          276.0          270.6  \n4          282.0          278.4  \n5          277.7          271.4  \n6          277.0          275.0  ",
      "text/html": "<div>\n<style scoped>\n    .dataframe tbody tr th:only-of-type {\n        vertical-align: middle;\n    }\n\n    .dataframe tbody tr th {\n        vertical-align: top;\n    }\n\n    .dataframe thead th {\n        text-align: right;\n    }\n</style>\n<table border=\"1\" class=\"dataframe\">\n  <thead>\n    <tr style=\"text-align: right;\">\n      <th></th>\n      <th>University</th>\n      <th>N of Agreements</th>\n      <th>Average score</th>\n      <th>Median score</th>\n      <th>Top 5% score</th>\n      <th>Top 10% score</th>\n      <th>Top 20% score</th>\n    </tr>\n  </thead>\n  <tbody>\n    <tr>\n      <th>1</th>\n      <td>МФТИ</td>\n      <td>144</td>\n      <td>291.4</td>\n      <td>293.5</td>\n      <td>310.0</td>\n      <td>308.0</td>\n      <td>306.0</td>\n    </tr>\n    <tr>\n      <th>2</th>\n      <td>МИРЭА</td>\n      <td>843</td>\n      <td>269.5</td>\n      <td>270.0</td>\n      <td>287.0</td>\n      <td>284.0</td>\n      <td>279.0</td>\n    </tr>\n    <tr>\n      <th>3</th>\n      <td>МЭИ</td>\n      <td>171</td>\n      <td>264.3</td>\n      <td>264.0</td>\n      <td>278.0</td>\n      <td>276.0</td>\n      <td>270.6</td>\n    </tr>\n    <tr>\n      <th>4</th>\n      <td>МТУСИ</td>\n      <td>72</td>\n      <td>270.1</td>\n      <td>268.0</td>\n      <td>284.4</td>\n      <td>282.0</td>\n      <td>278.4</td>\n    </tr>\n    <tr>\n      <th>5</th>\n      <td>МосПолитех</td>\n      <td>362</td>\n      <td>261.7</td>\n      <td>260.0</td>\n      <td>283.0</td>\n      <td>277.7</td>\n      <td>271.4</td>\n    </tr>\n    <tr>\n      <th>6</th>\n      <td>МИЭТ</td>\n      <td>89</td>\n      <td>269.5</td>\n      <td>268.0</td>\n      <td>283.0</td>\n      <td>277.0</td>\n      <td>275.0</td>\n    </tr>\n  </tbody>\n</table>\n</div>"
     },
     "metadata": {},
     "output_type": "display_data"
    }
   ],
   "source": [
    "system.show_agreements_statistics_by_universities()"
   ],
   "metadata": {
    "collapsed": false,
    "pycharm": {
     "name": "#%%\n"
    }
   }
  },
  {
   "cell_type": "code",
   "execution_count": 11,
   "outputs": [
    {
     "data": {
      "text/plain": "    University                   Profile  N of Agreements  Average score  \\\n1         МФТИ                  01.03.02               94          295.4   \n2         МФТИ                  03.03.01               25          281.4   \n3         МФТИ                  09.03.01               25          286.6   \n4        МИРЭА                  01.03.02               50          269.9   \n5        МИРЭА                  01.03.04               37          263.2   \n6        МИРЭА                  02.03.02               21          256.2   \n7        МИРЭА              09.03.01:III               63          264.5   \n8        МИРЭА              09.03.01:IIT               53          268.1   \n9        МИРЭА              09.03.02:IKB              126          267.0   \n10       МИРЭА     09.03.02:IPTIP-design               38          266.3   \n11       МИРЭА  09.03.02:IPTIP-fullstack               28          268.5   \n12       МИРЭА              09.03.02:IRI                8          258.0   \n13       МИРЭА                  09.03.03              130          269.9   \n14       МИРЭА                  09.03.04              232          277.5   \n15       МИРЭА                  10.03.01               22          262.6   \n16       МИРЭА                  10.05.01               35          261.0   \n17         МЭИ              01.03.02:inf               41          263.0   \n18         МЭИ              01.03.02:mat               21          262.3   \n19         МЭИ                  09.03.01               50          265.0   \n20         МЭИ                  09.03.03               21          266.3   \n21         МЭИ                  10.03.01               21          267.0   \n22         МЭИ                  27.03.04               11          255.1   \n23         МЭИ                  38.03.05                6          265.7   \n24       МТУСИ                  02.03.02               16          271.1   \n25       МТУСИ                  09.03.01               24          268.7   \n26       МТУСИ                  09.03.02                6          271.2   \n27       МТУСИ                  09.03.03                9          273.3   \n28       МТУСИ                  10.03.01               11          269.8   \n29       МТУСИ                  10.05.02                4          265.8   \n30  МосПолитех                  01.03.02                2          259.0   \n31  МосПолитех               09.03.01:01               28          274.0   \n32  МосПолитех               09.03.01:02               14          262.6   \n33  МосПолитех               09.03.01:04                7          267.1   \n34  МосПолитех               09.03.01:05               23          261.0   \n35  МосПолитех               09.03.02:01              183          261.2   \n36  МосПолитех               09.03.02:02               12          248.2   \n37  МосПолитех               09.03.02:03                6          267.2   \n38  МосПолитех               09.03.03:01               16          258.1   \n39  МосПолитех               09.03.03:02               27          262.0   \n40  МосПолитех               09.03.03:03                3          271.3   \n41  МосПолитех                  10.03.01               23          260.3   \n42  МосПолитех                  10.05.03               18          257.1   \n43        МИЭТ                  01.03.04                4          268.8   \n44        МИЭТ                  09.03.01                8          269.8   \n45        МИЭТ                  09.03.02               13          268.5   \n46        МИЭТ                  09.03.04               53          269.5   \n47        МИЭТ                  10.03.01                9          267.8   \n48        МИЭТ                  11.03.02                2          271.0   \n\n    Median score  Top 5% score  Top 10% score  Top 20% score  \n1          297.0         308.0          308.0          306.0  \n2          279.0         309.4          306.8          298.8  \n3          281.0         310.0          310.0          310.0  \n4          271.5         288.4          285.7          279.0  \n5          265.0         278.0          276.2          271.4  \n6          257.0         280.0          279.8          273.2  \n7          262.0         281.0          276.6          271.0  \n8          268.0         282.9          280.6          275.0  \n9          266.0         281.3          278.0          272.0  \n10         261.0         287.0          284.2          279.0  \n11         267.5         280.6          277.3          274.4  \n12         255.5         283.6          278.2          267.4  \n13         271.0         281.0          278.9          276.0  \n14         279.0         293.0          290.0          286.0  \n15         263.5         286.2          279.3          269.8  \n16         259.0         282.0          277.2          266.8  \n17         262.0         274.9          273.8          269.0  \n18         262.0         271.9          271.0          268.2  \n19         264.0         279.0          275.9          269.0  \n20         265.0         276.0          275.6          271.2  \n21         263.0         286.4          280.6          277.6  \n22         251.0         273.0          270.0          263.2  \n23         266.0         283.8          280.7          274.4  \n24         270.0         287.3          285.6          277.8  \n25         267.0         283.8          283.0          273.0  \n26         271.0         284.0          282.9          280.8  \n27         271.0         295.5          290.0          279.0  \n28         267.0         282.4          281.8          279.0  \n29         265.5         271.2          270.5          269.0  \n30         259.0         264.4          263.8          262.6  \n31         273.5         298.2          296.0          283.4  \n32         259.5         281.2          277.5          274.0  \n33         265.0         306.8          297.6          279.2  \n34         260.0         288.2          281.4          268.6  \n35         259.0         280.0          277.0          269.0  \n36         245.5         288.4          272.8          252.4  \n37         268.5         291.2          289.5          286.0  \n38         258.0         273.4          270.9          267.2  \n39         261.0         286.8          281.8          269.8  \n40         274.0         288.4          286.8          283.6  \n41         259.0         282.4          274.4          264.2  \n42         255.5         289.6          278.2          267.8  \n43         268.5         274.5          274.0          273.0  \n44         268.0         287.3          284.6          279.2  \n45         268.0         277.9          275.8          273.2  \n46         267.0         282.9          277.6          276.0  \n47         268.0         273.5          273.0          272.0  \n48         271.0         281.8          280.6          278.2  ",
      "text/html": "<div>\n<style scoped>\n    .dataframe tbody tr th:only-of-type {\n        vertical-align: middle;\n    }\n\n    .dataframe tbody tr th {\n        vertical-align: top;\n    }\n\n    .dataframe thead th {\n        text-align: right;\n    }\n</style>\n<table border=\"1\" class=\"dataframe\">\n  <thead>\n    <tr style=\"text-align: right;\">\n      <th></th>\n      <th>University</th>\n      <th>Profile</th>\n      <th>N of Agreements</th>\n      <th>Average score</th>\n      <th>Median score</th>\n      <th>Top 5% score</th>\n      <th>Top 10% score</th>\n      <th>Top 20% score</th>\n    </tr>\n  </thead>\n  <tbody>\n    <tr>\n      <th>1</th>\n      <td>МФТИ</td>\n      <td>01.03.02</td>\n      <td>94</td>\n      <td>295.4</td>\n      <td>297.0</td>\n      <td>308.0</td>\n      <td>308.0</td>\n      <td>306.0</td>\n    </tr>\n    <tr>\n      <th>2</th>\n      <td>МФТИ</td>\n      <td>03.03.01</td>\n      <td>25</td>\n      <td>281.4</td>\n      <td>279.0</td>\n      <td>309.4</td>\n      <td>306.8</td>\n      <td>298.8</td>\n    </tr>\n    <tr>\n      <th>3</th>\n      <td>МФТИ</td>\n      <td>09.03.01</td>\n      <td>25</td>\n      <td>286.6</td>\n      <td>281.0</td>\n      <td>310.0</td>\n      <td>310.0</td>\n      <td>310.0</td>\n    </tr>\n    <tr>\n      <th>4</th>\n      <td>МИРЭА</td>\n      <td>01.03.02</td>\n      <td>50</td>\n      <td>269.9</td>\n      <td>271.5</td>\n      <td>288.4</td>\n      <td>285.7</td>\n      <td>279.0</td>\n    </tr>\n    <tr>\n      <th>5</th>\n      <td>МИРЭА</td>\n      <td>01.03.04</td>\n      <td>37</td>\n      <td>263.2</td>\n      <td>265.0</td>\n      <td>278.0</td>\n      <td>276.2</td>\n      <td>271.4</td>\n    </tr>\n    <tr>\n      <th>6</th>\n      <td>МИРЭА</td>\n      <td>02.03.02</td>\n      <td>21</td>\n      <td>256.2</td>\n      <td>257.0</td>\n      <td>280.0</td>\n      <td>279.8</td>\n      <td>273.2</td>\n    </tr>\n    <tr>\n      <th>7</th>\n      <td>МИРЭА</td>\n      <td>09.03.01:III</td>\n      <td>63</td>\n      <td>264.5</td>\n      <td>262.0</td>\n      <td>281.0</td>\n      <td>276.6</td>\n      <td>271.0</td>\n    </tr>\n    <tr>\n      <th>8</th>\n      <td>МИРЭА</td>\n      <td>09.03.01:IIT</td>\n      <td>53</td>\n      <td>268.1</td>\n      <td>268.0</td>\n      <td>282.9</td>\n      <td>280.6</td>\n      <td>275.0</td>\n    </tr>\n    <tr>\n      <th>9</th>\n      <td>МИРЭА</td>\n      <td>09.03.02:IKB</td>\n      <td>126</td>\n      <td>267.0</td>\n      <td>266.0</td>\n      <td>281.3</td>\n      <td>278.0</td>\n      <td>272.0</td>\n    </tr>\n    <tr>\n      <th>10</th>\n      <td>МИРЭА</td>\n      <td>09.03.02:IPTIP-design</td>\n      <td>38</td>\n      <td>266.3</td>\n      <td>261.0</td>\n      <td>287.0</td>\n      <td>284.2</td>\n      <td>279.0</td>\n    </tr>\n    <tr>\n      <th>11</th>\n      <td>МИРЭА</td>\n      <td>09.03.02:IPTIP-fullstack</td>\n      <td>28</td>\n      <td>268.5</td>\n      <td>267.5</td>\n      <td>280.6</td>\n      <td>277.3</td>\n      <td>274.4</td>\n    </tr>\n    <tr>\n      <th>12</th>\n      <td>МИРЭА</td>\n      <td>09.03.02:IRI</td>\n      <td>8</td>\n      <td>258.0</td>\n      <td>255.5</td>\n      <td>283.6</td>\n      <td>278.2</td>\n      <td>267.4</td>\n    </tr>\n    <tr>\n      <th>13</th>\n      <td>МИРЭА</td>\n      <td>09.03.03</td>\n      <td>130</td>\n      <td>269.9</td>\n      <td>271.0</td>\n      <td>281.0</td>\n      <td>278.9</td>\n      <td>276.0</td>\n    </tr>\n    <tr>\n      <th>14</th>\n      <td>МИРЭА</td>\n      <td>09.03.04</td>\n      <td>232</td>\n      <td>277.5</td>\n      <td>279.0</td>\n      <td>293.0</td>\n      <td>290.0</td>\n      <td>286.0</td>\n    </tr>\n    <tr>\n      <th>15</th>\n      <td>МИРЭА</td>\n      <td>10.03.01</td>\n      <td>22</td>\n      <td>262.6</td>\n      <td>263.5</td>\n      <td>286.2</td>\n      <td>279.3</td>\n      <td>269.8</td>\n    </tr>\n    <tr>\n      <th>16</th>\n      <td>МИРЭА</td>\n      <td>10.05.01</td>\n      <td>35</td>\n      <td>261.0</td>\n      <td>259.0</td>\n      <td>282.0</td>\n      <td>277.2</td>\n      <td>266.8</td>\n    </tr>\n    <tr>\n      <th>17</th>\n      <td>МЭИ</td>\n      <td>01.03.02:inf</td>\n      <td>41</td>\n      <td>263.0</td>\n      <td>262.0</td>\n      <td>274.9</td>\n      <td>273.8</td>\n      <td>269.0</td>\n    </tr>\n    <tr>\n      <th>18</th>\n      <td>МЭИ</td>\n      <td>01.03.02:mat</td>\n      <td>21</td>\n      <td>262.3</td>\n      <td>262.0</td>\n      <td>271.9</td>\n      <td>271.0</td>\n      <td>268.2</td>\n    </tr>\n    <tr>\n      <th>19</th>\n      <td>МЭИ</td>\n      <td>09.03.01</td>\n      <td>50</td>\n      <td>265.0</td>\n      <td>264.0</td>\n      <td>279.0</td>\n      <td>275.9</td>\n      <td>269.0</td>\n    </tr>\n    <tr>\n      <th>20</th>\n      <td>МЭИ</td>\n      <td>09.03.03</td>\n      <td>21</td>\n      <td>266.3</td>\n      <td>265.0</td>\n      <td>276.0</td>\n      <td>275.6</td>\n      <td>271.2</td>\n    </tr>\n    <tr>\n      <th>21</th>\n      <td>МЭИ</td>\n      <td>10.03.01</td>\n      <td>21</td>\n      <td>267.0</td>\n      <td>263.0</td>\n      <td>286.4</td>\n      <td>280.6</td>\n      <td>277.6</td>\n    </tr>\n    <tr>\n      <th>22</th>\n      <td>МЭИ</td>\n      <td>27.03.04</td>\n      <td>11</td>\n      <td>255.1</td>\n      <td>251.0</td>\n      <td>273.0</td>\n      <td>270.0</td>\n      <td>263.2</td>\n    </tr>\n    <tr>\n      <th>23</th>\n      <td>МЭИ</td>\n      <td>38.03.05</td>\n      <td>6</td>\n      <td>265.7</td>\n      <td>266.0</td>\n      <td>283.8</td>\n      <td>280.7</td>\n      <td>274.4</td>\n    </tr>\n    <tr>\n      <th>24</th>\n      <td>МТУСИ</td>\n      <td>02.03.02</td>\n      <td>16</td>\n      <td>271.1</td>\n      <td>270.0</td>\n      <td>287.3</td>\n      <td>285.6</td>\n      <td>277.8</td>\n    </tr>\n    <tr>\n      <th>25</th>\n      <td>МТУСИ</td>\n      <td>09.03.01</td>\n      <td>24</td>\n      <td>268.7</td>\n      <td>267.0</td>\n      <td>283.8</td>\n      <td>283.0</td>\n      <td>273.0</td>\n    </tr>\n    <tr>\n      <th>26</th>\n      <td>МТУСИ</td>\n      <td>09.03.02</td>\n      <td>6</td>\n      <td>271.2</td>\n      <td>271.0</td>\n      <td>284.0</td>\n      <td>282.9</td>\n      <td>280.8</td>\n    </tr>\n    <tr>\n      <th>27</th>\n      <td>МТУСИ</td>\n      <td>09.03.03</td>\n      <td>9</td>\n      <td>273.3</td>\n      <td>271.0</td>\n      <td>295.5</td>\n      <td>290.0</td>\n      <td>279.0</td>\n    </tr>\n    <tr>\n      <th>28</th>\n      <td>МТУСИ</td>\n      <td>10.03.01</td>\n      <td>11</td>\n      <td>269.8</td>\n      <td>267.0</td>\n      <td>282.4</td>\n      <td>281.8</td>\n      <td>279.0</td>\n    </tr>\n    <tr>\n      <th>29</th>\n      <td>МТУСИ</td>\n      <td>10.05.02</td>\n      <td>4</td>\n      <td>265.8</td>\n      <td>265.5</td>\n      <td>271.2</td>\n      <td>270.5</td>\n      <td>269.0</td>\n    </tr>\n    <tr>\n      <th>30</th>\n      <td>МосПолитех</td>\n      <td>01.03.02</td>\n      <td>2</td>\n      <td>259.0</td>\n      <td>259.0</td>\n      <td>264.4</td>\n      <td>263.8</td>\n      <td>262.6</td>\n    </tr>\n    <tr>\n      <th>31</th>\n      <td>МосПолитех</td>\n      <td>09.03.01:01</td>\n      <td>28</td>\n      <td>274.0</td>\n      <td>273.5</td>\n      <td>298.2</td>\n      <td>296.0</td>\n      <td>283.4</td>\n    </tr>\n    <tr>\n      <th>32</th>\n      <td>МосПолитех</td>\n      <td>09.03.01:02</td>\n      <td>14</td>\n      <td>262.6</td>\n      <td>259.5</td>\n      <td>281.2</td>\n      <td>277.5</td>\n      <td>274.0</td>\n    </tr>\n    <tr>\n      <th>33</th>\n      <td>МосПолитех</td>\n      <td>09.03.01:04</td>\n      <td>7</td>\n      <td>267.1</td>\n      <td>265.0</td>\n      <td>306.8</td>\n      <td>297.6</td>\n      <td>279.2</td>\n    </tr>\n    <tr>\n      <th>34</th>\n      <td>МосПолитех</td>\n      <td>09.03.01:05</td>\n      <td>23</td>\n      <td>261.0</td>\n      <td>260.0</td>\n      <td>288.2</td>\n      <td>281.4</td>\n      <td>268.6</td>\n    </tr>\n    <tr>\n      <th>35</th>\n      <td>МосПолитех</td>\n      <td>09.03.02:01</td>\n      <td>183</td>\n      <td>261.2</td>\n      <td>259.0</td>\n      <td>280.0</td>\n      <td>277.0</td>\n      <td>269.0</td>\n    </tr>\n    <tr>\n      <th>36</th>\n      <td>МосПолитех</td>\n      <td>09.03.02:02</td>\n      <td>12</td>\n      <td>248.2</td>\n      <td>245.5</td>\n      <td>288.4</td>\n      <td>272.8</td>\n      <td>252.4</td>\n    </tr>\n    <tr>\n      <th>37</th>\n      <td>МосПолитех</td>\n      <td>09.03.02:03</td>\n      <td>6</td>\n      <td>267.2</td>\n      <td>268.5</td>\n      <td>291.2</td>\n      <td>289.5</td>\n      <td>286.0</td>\n    </tr>\n    <tr>\n      <th>38</th>\n      <td>МосПолитех</td>\n      <td>09.03.03:01</td>\n      <td>16</td>\n      <td>258.1</td>\n      <td>258.0</td>\n      <td>273.4</td>\n      <td>270.9</td>\n      <td>267.2</td>\n    </tr>\n    <tr>\n      <th>39</th>\n      <td>МосПолитех</td>\n      <td>09.03.03:02</td>\n      <td>27</td>\n      <td>262.0</td>\n      <td>261.0</td>\n      <td>286.8</td>\n      <td>281.8</td>\n      <td>269.8</td>\n    </tr>\n    <tr>\n      <th>40</th>\n      <td>МосПолитех</td>\n      <td>09.03.03:03</td>\n      <td>3</td>\n      <td>271.3</td>\n      <td>274.0</td>\n      <td>288.4</td>\n      <td>286.8</td>\n      <td>283.6</td>\n    </tr>\n    <tr>\n      <th>41</th>\n      <td>МосПолитех</td>\n      <td>10.03.01</td>\n      <td>23</td>\n      <td>260.3</td>\n      <td>259.0</td>\n      <td>282.4</td>\n      <td>274.4</td>\n      <td>264.2</td>\n    </tr>\n    <tr>\n      <th>42</th>\n      <td>МосПолитех</td>\n      <td>10.05.03</td>\n      <td>18</td>\n      <td>257.1</td>\n      <td>255.5</td>\n      <td>289.6</td>\n      <td>278.2</td>\n      <td>267.8</td>\n    </tr>\n    <tr>\n      <th>43</th>\n      <td>МИЭТ</td>\n      <td>01.03.04</td>\n      <td>4</td>\n      <td>268.8</td>\n      <td>268.5</td>\n      <td>274.5</td>\n      <td>274.0</td>\n      <td>273.0</td>\n    </tr>\n    <tr>\n      <th>44</th>\n      <td>МИЭТ</td>\n      <td>09.03.01</td>\n      <td>8</td>\n      <td>269.8</td>\n      <td>268.0</td>\n      <td>287.3</td>\n      <td>284.6</td>\n      <td>279.2</td>\n    </tr>\n    <tr>\n      <th>45</th>\n      <td>МИЭТ</td>\n      <td>09.03.02</td>\n      <td>13</td>\n      <td>268.5</td>\n      <td>268.0</td>\n      <td>277.9</td>\n      <td>275.8</td>\n      <td>273.2</td>\n    </tr>\n    <tr>\n      <th>46</th>\n      <td>МИЭТ</td>\n      <td>09.03.04</td>\n      <td>53</td>\n      <td>269.5</td>\n      <td>267.0</td>\n      <td>282.9</td>\n      <td>277.6</td>\n      <td>276.0</td>\n    </tr>\n    <tr>\n      <th>47</th>\n      <td>МИЭТ</td>\n      <td>10.03.01</td>\n      <td>9</td>\n      <td>267.8</td>\n      <td>268.0</td>\n      <td>273.5</td>\n      <td>273.0</td>\n      <td>272.0</td>\n    </tr>\n    <tr>\n      <th>48</th>\n      <td>МИЭТ</td>\n      <td>11.03.02</td>\n      <td>2</td>\n      <td>271.0</td>\n      <td>271.0</td>\n      <td>281.8</td>\n      <td>280.6</td>\n      <td>278.2</td>\n    </tr>\n  </tbody>\n</table>\n</div>"
     },
     "metadata": {},
     "output_type": "display_data"
    }
   ],
   "source": [
    "system.show_agreements_statistics_by_universities_and_profiles()"
   ],
   "metadata": {
    "collapsed": false,
    "pycharm": {
     "name": "#%%\n"
    }
   }
  },
  {
   "cell_type": "code",
   "execution_count": 12,
   "outputs": [
    {
     "name": "stdout",
     "output_type": "stream",
     "text": [
      "\u001B[33mFound less students than places for 11.03.01 in MTUCI\u001B[0m\n",
      "\u001B[33mFound less students than places for 11.03.02:RIT in MTUCI\u001B[0m\n",
      "\u001B[33mFound less students than places for 11.03.02:SISS in MTUCI\u001B[0m\n"
     ]
    },
    {
     "data": {
      "text/plain": "   University       Profile  Current Position  Number of Places  Score  \\\n1       MIREA      01.03.02               523                65    278   \n2       MIREA      01.03.04               163                25    278   \n3       MIREA      02.03.02               184                13    278   \n4       MIREA  09.03.02:IKB               233               168    278   \n5       MIREA      09.03.03               460               139    278   \n6   MPOLITECH      01.03.02                22                27    278   \n7   MPOLITECH   09.03.01:01                65                37    278   \n8   MPOLITECH   09.03.01:02                39                66    278   \n9   MPOLITECH   09.03.02:01                61               179    278   \n10  MPOLITECH   09.03.02:02                30                21    278   \n11  MPOLITECH   09.03.02:03                36                22    278   \n12  MPOLITECH   09.03.03:01                37                44    278   \n13  MPOLITECH   09.03.03:02                54                44    278   \n14  MPOLITECH   09.03.03:03                36                22    278   \n15      MTUCI      01.03.04                51                16    278   \n16      MTUCI      02.03.02                70                46    278   \n17      MTUCI      09.03.01                76               100    278   \n18      MTUCI      09.03.02                69                90    278   \n19      MTUCI      09.03.03                76                50    278   \n20      MTUCI      10.03.01                52                52    278   \n21      MTUCI      15.03.04                24                20    278   \n22      MTUCI      27.03.04                34                24    278   \n\n    Min Score  \n1         294  \n2         291  \n3         293  \n4         280  \n5         287  \n6         275  \n7         283  \n8         273  \n9         270  \n10        283  \n11        283  \n12        276  \n13        281  \n14        283  \n15        283  \n16        280  \n17        276  \n18        276  \n19        280  \n20        278  \n21        279  \n22        280  ",
      "text/html": "<div>\n<style scoped>\n    .dataframe tbody tr th:only-of-type {\n        vertical-align: middle;\n    }\n\n    .dataframe tbody tr th {\n        vertical-align: top;\n    }\n\n    .dataframe thead th {\n        text-align: right;\n    }\n</style>\n<table border=\"1\" class=\"dataframe\">\n  <thead>\n    <tr style=\"text-align: right;\">\n      <th></th>\n      <th>University</th>\n      <th>Profile</th>\n      <th>Current Position</th>\n      <th>Number of Places</th>\n      <th>Score</th>\n      <th>Min Score</th>\n    </tr>\n  </thead>\n  <tbody>\n    <tr>\n      <th>1</th>\n      <td>MIREA</td>\n      <td>01.03.02</td>\n      <td>523</td>\n      <td>65</td>\n      <td>278</td>\n      <td>294</td>\n    </tr>\n    <tr>\n      <th>2</th>\n      <td>MIREA</td>\n      <td>01.03.04</td>\n      <td>163</td>\n      <td>25</td>\n      <td>278</td>\n      <td>291</td>\n    </tr>\n    <tr>\n      <th>3</th>\n      <td>MIREA</td>\n      <td>02.03.02</td>\n      <td>184</td>\n      <td>13</td>\n      <td>278</td>\n      <td>293</td>\n    </tr>\n    <tr>\n      <th>4</th>\n      <td>MIREA</td>\n      <td>09.03.02:IKB</td>\n      <td>233</td>\n      <td>168</td>\n      <td>278</td>\n      <td>280</td>\n    </tr>\n    <tr>\n      <th>5</th>\n      <td>MIREA</td>\n      <td>09.03.03</td>\n      <td>460</td>\n      <td>139</td>\n      <td>278</td>\n      <td>287</td>\n    </tr>\n    <tr>\n      <th>6</th>\n      <td>MPOLITECH</td>\n      <td>01.03.02</td>\n      <td>22</td>\n      <td>27</td>\n      <td>278</td>\n      <td>275</td>\n    </tr>\n    <tr>\n      <th>7</th>\n      <td>MPOLITECH</td>\n      <td>09.03.01:01</td>\n      <td>65</td>\n      <td>37</td>\n      <td>278</td>\n      <td>283</td>\n    </tr>\n    <tr>\n      <th>8</th>\n      <td>MPOLITECH</td>\n      <td>09.03.01:02</td>\n      <td>39</td>\n      <td>66</td>\n      <td>278</td>\n      <td>273</td>\n    </tr>\n    <tr>\n      <th>9</th>\n      <td>MPOLITECH</td>\n      <td>09.03.02:01</td>\n      <td>61</td>\n      <td>179</td>\n      <td>278</td>\n      <td>270</td>\n    </tr>\n    <tr>\n      <th>10</th>\n      <td>MPOLITECH</td>\n      <td>09.03.02:02</td>\n      <td>30</td>\n      <td>21</td>\n      <td>278</td>\n      <td>283</td>\n    </tr>\n    <tr>\n      <th>11</th>\n      <td>MPOLITECH</td>\n      <td>09.03.02:03</td>\n      <td>36</td>\n      <td>22</td>\n      <td>278</td>\n      <td>283</td>\n    </tr>\n    <tr>\n      <th>12</th>\n      <td>MPOLITECH</td>\n      <td>09.03.03:01</td>\n      <td>37</td>\n      <td>44</td>\n      <td>278</td>\n      <td>276</td>\n    </tr>\n    <tr>\n      <th>13</th>\n      <td>MPOLITECH</td>\n      <td>09.03.03:02</td>\n      <td>54</td>\n      <td>44</td>\n      <td>278</td>\n      <td>281</td>\n    </tr>\n    <tr>\n      <th>14</th>\n      <td>MPOLITECH</td>\n      <td>09.03.03:03</td>\n      <td>36</td>\n      <td>22</td>\n      <td>278</td>\n      <td>283</td>\n    </tr>\n    <tr>\n      <th>15</th>\n      <td>MTUCI</td>\n      <td>01.03.04</td>\n      <td>51</td>\n      <td>16</td>\n      <td>278</td>\n      <td>283</td>\n    </tr>\n    <tr>\n      <th>16</th>\n      <td>MTUCI</td>\n      <td>02.03.02</td>\n      <td>70</td>\n      <td>46</td>\n      <td>278</td>\n      <td>280</td>\n    </tr>\n    <tr>\n      <th>17</th>\n      <td>MTUCI</td>\n      <td>09.03.01</td>\n      <td>76</td>\n      <td>100</td>\n      <td>278</td>\n      <td>276</td>\n    </tr>\n    <tr>\n      <th>18</th>\n      <td>MTUCI</td>\n      <td>09.03.02</td>\n      <td>69</td>\n      <td>90</td>\n      <td>278</td>\n      <td>276</td>\n    </tr>\n    <tr>\n      <th>19</th>\n      <td>MTUCI</td>\n      <td>09.03.03</td>\n      <td>76</td>\n      <td>50</td>\n      <td>278</td>\n      <td>280</td>\n    </tr>\n    <tr>\n      <th>20</th>\n      <td>MTUCI</td>\n      <td>10.03.01</td>\n      <td>52</td>\n      <td>52</td>\n      <td>278</td>\n      <td>278</td>\n    </tr>\n    <tr>\n      <th>21</th>\n      <td>MTUCI</td>\n      <td>15.03.04</td>\n      <td>24</td>\n      <td>20</td>\n      <td>278</td>\n      <td>279</td>\n    </tr>\n    <tr>\n      <th>22</th>\n      <td>MTUCI</td>\n      <td>27.03.04</td>\n      <td>34</td>\n      <td>24</td>\n      <td>278</td>\n      <td>280</td>\n    </tr>\n  </tbody>\n</table>\n</div>"
     },
     "metadata": {},
     "output_type": "display_data"
    }
   ],
   "source": [
    "system.show_current_situation_for(StudentId(\"185-597-938 50\"))"
   ],
   "metadata": {
    "collapsed": false,
    "pycharm": {
     "name": "#%%\n"
    }
   }
  },
  {
   "cell_type": "code",
   "execution_count": 13,
   "outputs": [
    {
     "data": {
      "text/plain": "                    Id  Score Chosen University            Chosen Profile\n1    MPOLITECH № 55090    300         MPOLITECH               09.03.01:01\n2       175-788-504 31    298                                            \n3       171-643-457 68    297                                            \n4       160-532-589 49    297                                            \n5    MPOLITECH № 57621    296         MPOLITECH               09.03.01:01\n6    MPOLITECH № 56325    296         MPOLITECH               09.03.01:01\n7       130-365-725 30    296         MPOLITECH               09.03.02:01\n8       186-366-742 16    293         MPOLITECH               09.03.01:04\n9       149-664-675 21    292                                            \n10      177-890-551 31    291             MIREA                  09.03.04\n11      159-529-715 14    291                                            \n12      175-909-495 23    291                                            \n13      164-941-829 99    290         MPOLITECH               09.03.02:01\n14      178-176-955 26    290                                            \n15      165-880-036 91    290             MIREA                  09.03.04\n16      187-107-656 89    289             MIREA              09.03.02:IKB\n17      160-401-522 05    289                                            \n18      186-695-330 29    289                                            \n19      166-787-831 38    289                                            \n20      160-496-735 81    289                                            \n21      195-057-588 06    288                                            \n22      169-152-829 95    288             MIREA                  09.03.04\n23   MPOLITECH № 55112    288         MPOLITECH               09.03.03:02\n24   MPOLITECH № 55570    288         MPOLITECH               09.03.02:01\n25   MPOLITECH № 56480    288         MPOLITECH               09.03.01:01\n26      193-673-574 16    288         MPOLITECH               09.03.02:01\n27      187-239-785 25    287             MIREA                  01.03.02\n28      142-966-350 81    286             MIREA                  09.03.04\n29      160-212-107 92    285             MIREA                  09.03.03\n30      183-760-080 81    285         MPOLITECH               09.03.03:02\n31      170-733-207 46    285             MIREA                  09.03.04\n32      166-275-174 86    285         MPOLITECH               09.03.01:01\n33      199-486-248 52    285         MPOLITECH               09.03.01:05\n34      160-148-658 50    284                                            \n35      146-944-662 03    284                                            \n36      166-438-238 89    284                                            \n37      164-883-923 17    284             MIREA                  09.03.04\n38      154-256-586 74    284                                            \n39      168-616-057 94    284                                            \n40      169-277-452 17    284                                            \n41      143-516-950 57    284             MIREA                  09.03.03\n42      203-695-236 57    284                                            \n43      157-708-720 96    284                                            \n44      180-942-012 58    284             MIREA                  09.03.04\n45      168-846-311 15    284              MPEI                  09.03.01\n46      171-321-697 46    283             MIREA                  09.03.04\n47      190-959-659 31    283                                            \n48      164-145-725 60    283                                            \n49      200-264-921 07    283         MPOLITECH               09.03.01:01\n50      203-275-370 28    283                                            \n51      181-485-005 68    283                                            \n52      185-941-932 19    283         MPOLITECH               09.03.02:01\n53      159-475-674 25    283                                            \n54   MPOLITECH № 58432    283                                            \n55      190-566-993 11    283             MTUCI                  09.03.01\n56      186-961-478 35    282             MTUCI                  09.03.02\n57      166-455-176 90    282                                            \n58   MPOLITECH № 60525    282                                            \n59      182-235-664 67    282                                            \n60      194-909-697 40    282         MPOLITECH               09.03.02:01\n61      173-090-161 46    282             MIREA                  09.03.04\n62      190-307-186 51    281                                            \n63      164-916-294 95    281             MIREA                  09.03.04\n64      166-076-702 80    281             MIREA                  09.03.04\n65      146-986-691 36    281             MIREA                  09.03.04\n66      163-065-303 39    281             MIREA     09.03.02:IPTIP-design\n67      167-217-878 96    281                                            \n68      173-653-150 71    281                                            \n69      143-712-556 47    280                                            \n70      164-366-523 78    280         MPOLITECH               09.03.01:01\n71      184-045-523 62    280                                            \n72      175-159-574 99    280             MIREA                  09.03.04\n73      169-327-968 21    280         MPOLITECH               09.03.02:01\n74      173-538-001 63    280              ITMO           listed by olymp\n75      142-911-665 52    280                                            \n76      164-938-361 06    280                                            \n77      175-492-751 07    280         MPOLITECH               09.03.01:02\n78      153-806-535 67    280         MPOLITECH               09.03.02:01\n79      157-168-612 87    280         MPOLITECH                  10.03.01\n80   MPOLITECH № 56124    280         MPOLITECH               09.03.01:01\n81      144-572-735 73    279             MIREA     09.03.02:IPTIP-design\n82      188-490-210 04    279             MIREA                  09.03.04\n83      200-452-728 07    279             MIREA                  09.03.03\n84      201-738-287 42    279             MIREA                  09.03.03\n85      157-808-143 91    279              MPEI              01.03.02:inf\n86      170-301-900 13    279                                            \n87      165-774-051 95    279         MPOLITECH               09.03.02:01\n88      174-483-424 88    279             MIREA              09.03.02:IKB\n89      174-699-157 28    279             MTUCI                  10.03.01\n90   MPOLITECH № 52122    279                                            \n91      164-856-941 16    279             MIREA     09.03.02:IPTIP-design\n92      197-278-077 28    279                                            \n93      180-318-094 49    278                                            \n94      143-792-458 86    278             BMSTU           listed by oylmp\n95      184-054-503 59    278             BMSTU           listed by olymp\n96      160-031-678 15    278              MIPT           listed by quote\n97      165-395-314 89    278             MIREA                  09.03.04\n98      189-021-583 83    278             MIREA                  09.03.04\n99      184-346-449 91    278             MIREA                  09.03.04\n100     167-202-657 60    278         MPOLITECH               09.03.02:01\n101     185-597-938 50    278                                            \n102     165-684-061 96    278             MIREA                  09.03.04\n103     195-515-012 74    278                                            \n104     168-574-497 29    278                                            \n105     159-541-003 68    277             MTUCI                  09.03.01\n106     151-310-373 04    277             MIREA                  09.03.04\n107     195-739-094 29    277              MPEI                  09.03.03\n108     166-021-530 33    277                                            \n109     174-258-530 82    277         MPOLITECH               09.03.02:01\n110     194-866-059 28    277                                            \n111     182-668-517 07    277             BMSTU           listed by quote\n112     207-180-799 60    277                                            \n113     165-949-228 18    277                                            \n114     170-750-712 56    277         MPOLITECH               09.03.02:01\n115  MPOLITECH № 52559    277         MPOLITECH               09.03.01:01\n116  MPOLITECH № 52233    277         MPOLITECH               09.03.01:01\n117     214-186-344 44    277         MPOLITECH               09.03.01:01\n118     160-755-977 91    277             MIREA                  09.03.04\n119     187-942-732 31    277                                            \n120     154-159-978 92    276             BMSTU           listed by olymp\n121     165-252-083 55    276         MPOLITECH               09.03.01:05\n122  MPOLITECH № 52768    276         MPOLITECH               09.03.01:01\n123     182-163-141 46    276                                            \n124     171-321-708 32    276                                            \n125     153-505-850 53    276                                            \n126     131-792-724 63    276             MIREA                  09.03.03\n127     195-997-542 66    276         MPOLITECH               09.03.02:01\n128     152-700-270 24    276              MPEI                  09.03.01\n129     158-751-082 93    276                                            \n130     170-831-576 66    276                                            \n131     164-308-325 52    276                                            \n132     166-487-155 07    276             MIREA           listed by quote\n133     160-898-264 02    276                                            \n134     139-708-530 90    276                                            \n135     160-077-065 36    276             MIREA                  09.03.03\n136     138-542-722 73    276                                            \n137     149-510-346 61    276                                            \n138  MPOLITECH № 54623    276                                            \n139     163-294-825 83    276                                            \n140     141-190-592 33    276              MPEI              01.03.02:mat\n141     158-407-892 00    275             MIREA                  09.03.04\n142     150-478-090 57    275             MIREA                  09.03.03\n143     172-244-684 64    275                                            \n144     198-178-052 20    275                                            \n145     131-004-865 97    275             MIREA                  09.03.03\n146     159-482-664 16    275                                            \n147     171-513-951 56    275             MIREA                  09.03.04\n148     174-497-490 18    275                                            \n149     158-453-191 87    275                                            \n150     158-979-446 54    275                                            \n151     170-587-115 72    275                                            \n152     189-635-968 52    275         MPOLITECH               09.03.02:01\n153  MPOLITECH № 58849    275         MPOLITECH               09.03.01:02\n154     184-318-687 96    275                                            \n155     170-577-352 78    274                                            \n156     186-872-767 44    274                                            \n157     157-240-815 60    274         MPOLITECH               09.03.02:01\n158     159-925-416 14    274                                            \n159     185-170-904 79    274             MIREA                  09.03.03\n160     173-399-310 95    274             MIREA                  09.03.04\n161  MPOLITECH № 69506    274                                            \n162     194-478-231 11    274             MIREA                  09.03.04\n163     159-070-645 77    274         MPOLITECH               09.03.01:01\n164     188-490-211 05    274             MIREA                  09.03.04\n165     189-064-327 00    274         MPOLITECH               09.03.01:01\n166     168-118-209 70    274                                            \n167     162-644-823 73    274                                            \n168     169-660-983 30    274                                            \n169     133-426-610 31    274             MIREA                  09.03.04\n170     203-972-328 56    274         MPOLITECH               09.03.02:03\n171     136-209-887 69    274             MIREA                  09.03.04\n172     170-211-831 16    274                                            \n173     152-693-095 78    274             MIREA  09.03.02:IPTIP-fullstack\n174     141-828-702 60    274                                            \n175     203-658-378 62    274                                            \n176     161-689-201 82    274             MIREA                  09.03.04\n177     130-729-960 59    274             BMSTU           listed by quote\n178     159-292-578 12    274                                            \n179     188-396-244 32    274                                            \n180     154-217-582 54    274                                            \n181     193-514-613 75    274         MPOLITECH               09.03.03:03\n182     158-291-101 69    273                                            \n183     142-911-893 62    273             MIREA                  09.03.04\n184     206-717-438 60    273              MIET                  09.03.04\n185     205-792-846 85    273                                            \n186     151-763-154 56    273                                            \n187     143-324-908 40    273                                            \n188     158-286-870 17    273             MIREA                  09.03.04\n189     201-631-728 12    273                                            \n190     165-988-224 30    273                                            \n191     154-864-170 87    273              MIPT           listed by quote\n192     195-214-767 88    273                                            \n193     160-531-390 32    273         MPOLITECH               09.03.01:01\n194     176-148-131 74    273             MIREA              09.03.02:IKB\n195     142-376-750 62    273             MIREA              09.03.01:IIT\n196     184-796-100 13    273             MIREA              09.03.02:IKB\n197     135-640-627 52    273         MPOLITECH               09.03.02:01\n198  MPOLITECH № 53258    273         MPOLITECH               09.03.03:01\n199     187-554-274 15    273             MIREA                  01.03.04\n200     175-077-082 80    273         MPOLITECH               09.03.01:01\n201     187-720-543 99    272              MPEI              01.03.02:inf\n202     193-166-337 83    272             MIREA                  09.03.04\n203     158-951-645 17    272             BMSTU           listed by quote\n204     169-492-541 19    272             MIREA                  09.03.03\n205     159-750-200 84    272                                            \n206     192-338-530 80    272             MIREA              09.03.02:IKB\n207     132-184-148 27    272             MIREA                  09.03.03\n208     184-291-605 84    272         MPOLITECH               09.03.01:02\n209     137-863-298 02    272             MIREA              09.03.01:III\n210     204-194-315 28    272             MIREA              09.03.02:IKB\n211     162-746-546 85    272                                            \n212     169-360-360 88    272                                            \n213     160-249-478 58    272                                            \n214     200-245-509 94    272                                            \n215     194-993-394 49    272                                            \n216     152-677-239 82    272                                            \n217     163-882-383 00    272                                            \n218     149-418-997 15    272             MIREA              09.03.02:IKB\n219     180-208-224 30    272                                            \n220     166-481-993 13    272                                            \n221     205-292-398 52    272                                            \n222     163-832-590 81    272                                            \n223     164-347-788 95    272                                            \n224     136-352-758 64    272                                            \n225     131-792-725 64    272             MIREA                  09.03.03\n226     170-431-270 27    272                                            \n227  MPOLITECH № 55630    272         MPOLITECH               09.03.02:01\n228     172-216-123 29    271                                            \n229     159-204-390 66    271                                            \n230     190-983-948 28    271             MIREA                  09.03.04\n231     146-729-006 76    271                                            \n232     205-514-539 33    271             MIREA                  09.03.03\n233     170-464-213 45    271                                            \n234     186-214-638 79    271         MPOLITECH               09.03.01:05\n235     164-587-317 00    271         MPOLITECH               09.03.02:01\n236     170-251-676 43    271                                            \n237     179-304-672 95    271         MPOLITECH               09.03.03:02\n238     181-864-377 02    271             MIREA                  09.03.04\n239     192-774-615 11    271         MPOLITECH               09.03.01:01\n240     177-645-237 07    271                                            \n241     157-303-287 56    271                                            \n242     194-139-774 03    271                                            \n243     176-191-875 03    271                                            \n244     151-956-226 74    271             MIREA              09.03.01:IIT\n245     183-086-893 01    271             MIREA              09.03.02:IKB\n246     186-830-202 85    271                                            \n247     206-996-871 20    271                                            \n248     183-812-997 05    271                                            \n249     169-641-923 12    271                                            \n250     170-978-814 14    271              MPEI                  09.03.01\n251     170-330-035 08    271             MTUCI                  02.03.02\n252     168-088-113 92    271                                            \n253     178-029-635 95    271             BMSTU           listed by quote\n254     159-025-225 56    271                                            \n255     203-311-843 00    271             MTUCI                  09.03.03\n256     200-954-519 38    271                                            \n257     170-469-176 77    271                                            \n258  MPOLITECH № 58537    271                                            \n259  MPOLITECH № 59408    271                                            \n260     204-616-658 46    270                                            \n261     186-584-367 27    270             MIREA              09.03.02:IKB\n262     159-936-650 31    270                                            \n263     170-098-795 85    270                                            \n264     147-385-753 00    270             MIREA  09.03.02:IPTIP-fullstack\n265     133-707-872 63    270                                            \n266     158-041-708 57    270         MPOLITECH               09.03.01:01\n267     187-331-557 90    270                                            \n268     166-214-966 76    270             MIREA  09.03.02:IPTIP-fullstack\n269     180-264-101 34    270                                            \n270     160-688-201 71    270         MPOLITECH               09.03.03:01\n271     168-175-728 05    270                                            \n272     201-068-084 06    270         MPOLITECH               09.03.02:01\n273     208-993-417 04    270                                            \n274     190-537-328 74    270             MIREA                  02.03.02\n275     141-652-723 44    270         MPOLITECH               09.03.02:01\n276     200-325-954 06    270             MIREA  09.03.02:IPTIP-fullstack\n277     149-421-658 77    270                                            \n278  MPOLITECH № 60526    270                                            \n279     175-902-260 79    270                                            \n280     165-070-455 53    270                                            \n281  MPOLITECH № 57708    270                                            \n282  MPOLITECH № 57777    270                                            \n283  MPOLITECH № 58499    270                                            \n284  MPOLITECH № 53029    270         MPOLITECH               09.03.01:04\n285     195-863-883 47    270                                            ",
      "text/html": "<div>\n<style scoped>\n    .dataframe tbody tr th:only-of-type {\n        vertical-align: middle;\n    }\n\n    .dataframe tbody tr th {\n        vertical-align: top;\n    }\n\n    .dataframe thead th {\n        text-align: right;\n    }\n</style>\n<table border=\"1\" class=\"dataframe\">\n  <thead>\n    <tr style=\"text-align: right;\">\n      <th></th>\n      <th>Id</th>\n      <th>Score</th>\n      <th>Chosen University</th>\n      <th>Chosen Profile</th>\n    </tr>\n  </thead>\n  <tbody>\n    <tr>\n      <th>1</th>\n      <td>MPOLITECH № 55090</td>\n      <td>300</td>\n      <td>MPOLITECH</td>\n      <td>09.03.01:01</td>\n    </tr>\n    <tr>\n      <th>2</th>\n      <td>175-788-504 31</td>\n      <td>298</td>\n      <td></td>\n      <td></td>\n    </tr>\n    <tr>\n      <th>3</th>\n      <td>171-643-457 68</td>\n      <td>297</td>\n      <td></td>\n      <td></td>\n    </tr>\n    <tr>\n      <th>4</th>\n      <td>160-532-589 49</td>\n      <td>297</td>\n      <td></td>\n      <td></td>\n    </tr>\n    <tr>\n      <th>5</th>\n      <td>MPOLITECH № 57621</td>\n      <td>296</td>\n      <td>MPOLITECH</td>\n      <td>09.03.01:01</td>\n    </tr>\n    <tr>\n      <th>6</th>\n      <td>MPOLITECH № 56325</td>\n      <td>296</td>\n      <td>MPOLITECH</td>\n      <td>09.03.01:01</td>\n    </tr>\n    <tr>\n      <th>7</th>\n      <td>130-365-725 30</td>\n      <td>296</td>\n      <td>MPOLITECH</td>\n      <td>09.03.02:01</td>\n    </tr>\n    <tr>\n      <th>8</th>\n      <td>186-366-742 16</td>\n      <td>293</td>\n      <td>MPOLITECH</td>\n      <td>09.03.01:04</td>\n    </tr>\n    <tr>\n      <th>9</th>\n      <td>149-664-675 21</td>\n      <td>292</td>\n      <td></td>\n      <td></td>\n    </tr>\n    <tr>\n      <th>10</th>\n      <td>177-890-551 31</td>\n      <td>291</td>\n      <td>MIREA</td>\n      <td>09.03.04</td>\n    </tr>\n    <tr>\n      <th>11</th>\n      <td>159-529-715 14</td>\n      <td>291</td>\n      <td></td>\n      <td></td>\n    </tr>\n    <tr>\n      <th>12</th>\n      <td>175-909-495 23</td>\n      <td>291</td>\n      <td></td>\n      <td></td>\n    </tr>\n    <tr>\n      <th>13</th>\n      <td>164-941-829 99</td>\n      <td>290</td>\n      <td>MPOLITECH</td>\n      <td>09.03.02:01</td>\n    </tr>\n    <tr>\n      <th>14</th>\n      <td>178-176-955 26</td>\n      <td>290</td>\n      <td></td>\n      <td></td>\n    </tr>\n    <tr>\n      <th>15</th>\n      <td>165-880-036 91</td>\n      <td>290</td>\n      <td>MIREA</td>\n      <td>09.03.04</td>\n    </tr>\n    <tr>\n      <th>16</th>\n      <td>187-107-656 89</td>\n      <td>289</td>\n      <td>MIREA</td>\n      <td>09.03.02:IKB</td>\n    </tr>\n    <tr>\n      <th>17</th>\n      <td>160-401-522 05</td>\n      <td>289</td>\n      <td></td>\n      <td></td>\n    </tr>\n    <tr>\n      <th>18</th>\n      <td>186-695-330 29</td>\n      <td>289</td>\n      <td></td>\n      <td></td>\n    </tr>\n    <tr>\n      <th>19</th>\n      <td>166-787-831 38</td>\n      <td>289</td>\n      <td></td>\n      <td></td>\n    </tr>\n    <tr>\n      <th>20</th>\n      <td>160-496-735 81</td>\n      <td>289</td>\n      <td></td>\n      <td></td>\n    </tr>\n    <tr>\n      <th>21</th>\n      <td>195-057-588 06</td>\n      <td>288</td>\n      <td></td>\n      <td></td>\n    </tr>\n    <tr>\n      <th>22</th>\n      <td>169-152-829 95</td>\n      <td>288</td>\n      <td>MIREA</td>\n      <td>09.03.04</td>\n    </tr>\n    <tr>\n      <th>23</th>\n      <td>MPOLITECH № 55112</td>\n      <td>288</td>\n      <td>MPOLITECH</td>\n      <td>09.03.03:02</td>\n    </tr>\n    <tr>\n      <th>24</th>\n      <td>MPOLITECH № 55570</td>\n      <td>288</td>\n      <td>MPOLITECH</td>\n      <td>09.03.02:01</td>\n    </tr>\n    <tr>\n      <th>25</th>\n      <td>MPOLITECH № 56480</td>\n      <td>288</td>\n      <td>MPOLITECH</td>\n      <td>09.03.01:01</td>\n    </tr>\n    <tr>\n      <th>26</th>\n      <td>193-673-574 16</td>\n      <td>288</td>\n      <td>MPOLITECH</td>\n      <td>09.03.02:01</td>\n    </tr>\n    <tr>\n      <th>27</th>\n      <td>187-239-785 25</td>\n      <td>287</td>\n      <td>MIREA</td>\n      <td>01.03.02</td>\n    </tr>\n    <tr>\n      <th>28</th>\n      <td>142-966-350 81</td>\n      <td>286</td>\n      <td>MIREA</td>\n      <td>09.03.04</td>\n    </tr>\n    <tr>\n      <th>29</th>\n      <td>160-212-107 92</td>\n      <td>285</td>\n      <td>MIREA</td>\n      <td>09.03.03</td>\n    </tr>\n    <tr>\n      <th>30</th>\n      <td>183-760-080 81</td>\n      <td>285</td>\n      <td>MPOLITECH</td>\n      <td>09.03.03:02</td>\n    </tr>\n    <tr>\n      <th>31</th>\n      <td>170-733-207 46</td>\n      <td>285</td>\n      <td>MIREA</td>\n      <td>09.03.04</td>\n    </tr>\n    <tr>\n      <th>32</th>\n      <td>166-275-174 86</td>\n      <td>285</td>\n      <td>MPOLITECH</td>\n      <td>09.03.01:01</td>\n    </tr>\n    <tr>\n      <th>33</th>\n      <td>199-486-248 52</td>\n      <td>285</td>\n      <td>MPOLITECH</td>\n      <td>09.03.01:05</td>\n    </tr>\n    <tr>\n      <th>34</th>\n      <td>160-148-658 50</td>\n      <td>284</td>\n      <td></td>\n      <td></td>\n    </tr>\n    <tr>\n      <th>35</th>\n      <td>146-944-662 03</td>\n      <td>284</td>\n      <td></td>\n      <td></td>\n    </tr>\n    <tr>\n      <th>36</th>\n      <td>166-438-238 89</td>\n      <td>284</td>\n      <td></td>\n      <td></td>\n    </tr>\n    <tr>\n      <th>37</th>\n      <td>164-883-923 17</td>\n      <td>284</td>\n      <td>MIREA</td>\n      <td>09.03.04</td>\n    </tr>\n    <tr>\n      <th>38</th>\n      <td>154-256-586 74</td>\n      <td>284</td>\n      <td></td>\n      <td></td>\n    </tr>\n    <tr>\n      <th>39</th>\n      <td>168-616-057 94</td>\n      <td>284</td>\n      <td></td>\n      <td></td>\n    </tr>\n    <tr>\n      <th>40</th>\n      <td>169-277-452 17</td>\n      <td>284</td>\n      <td></td>\n      <td></td>\n    </tr>\n    <tr>\n      <th>41</th>\n      <td>143-516-950 57</td>\n      <td>284</td>\n      <td>MIREA</td>\n      <td>09.03.03</td>\n    </tr>\n    <tr>\n      <th>42</th>\n      <td>203-695-236 57</td>\n      <td>284</td>\n      <td></td>\n      <td></td>\n    </tr>\n    <tr>\n      <th>43</th>\n      <td>157-708-720 96</td>\n      <td>284</td>\n      <td></td>\n      <td></td>\n    </tr>\n    <tr>\n      <th>44</th>\n      <td>180-942-012 58</td>\n      <td>284</td>\n      <td>MIREA</td>\n      <td>09.03.04</td>\n    </tr>\n    <tr>\n      <th>45</th>\n      <td>168-846-311 15</td>\n      <td>284</td>\n      <td>MPEI</td>\n      <td>09.03.01</td>\n    </tr>\n    <tr>\n      <th>46</th>\n      <td>171-321-697 46</td>\n      <td>283</td>\n      <td>MIREA</td>\n      <td>09.03.04</td>\n    </tr>\n    <tr>\n      <th>47</th>\n      <td>190-959-659 31</td>\n      <td>283</td>\n      <td></td>\n      <td></td>\n    </tr>\n    <tr>\n      <th>48</th>\n      <td>164-145-725 60</td>\n      <td>283</td>\n      <td></td>\n      <td></td>\n    </tr>\n    <tr>\n      <th>49</th>\n      <td>200-264-921 07</td>\n      <td>283</td>\n      <td>MPOLITECH</td>\n      <td>09.03.01:01</td>\n    </tr>\n    <tr>\n      <th>50</th>\n      <td>203-275-370 28</td>\n      <td>283</td>\n      <td></td>\n      <td></td>\n    </tr>\n    <tr>\n      <th>51</th>\n      <td>181-485-005 68</td>\n      <td>283</td>\n      <td></td>\n      <td></td>\n    </tr>\n    <tr>\n      <th>52</th>\n      <td>185-941-932 19</td>\n      <td>283</td>\n      <td>MPOLITECH</td>\n      <td>09.03.02:01</td>\n    </tr>\n    <tr>\n      <th>53</th>\n      <td>159-475-674 25</td>\n      <td>283</td>\n      <td></td>\n      <td></td>\n    </tr>\n    <tr>\n      <th>54</th>\n      <td>MPOLITECH № 58432</td>\n      <td>283</td>\n      <td></td>\n      <td></td>\n    </tr>\n    <tr>\n      <th>55</th>\n      <td>190-566-993 11</td>\n      <td>283</td>\n      <td>MTUCI</td>\n      <td>09.03.01</td>\n    </tr>\n    <tr>\n      <th>56</th>\n      <td>186-961-478 35</td>\n      <td>282</td>\n      <td>MTUCI</td>\n      <td>09.03.02</td>\n    </tr>\n    <tr>\n      <th>57</th>\n      <td>166-455-176 90</td>\n      <td>282</td>\n      <td></td>\n      <td></td>\n    </tr>\n    <tr>\n      <th>58</th>\n      <td>MPOLITECH № 60525</td>\n      <td>282</td>\n      <td></td>\n      <td></td>\n    </tr>\n    <tr>\n      <th>59</th>\n      <td>182-235-664 67</td>\n      <td>282</td>\n      <td></td>\n      <td></td>\n    </tr>\n    <tr>\n      <th>60</th>\n      <td>194-909-697 40</td>\n      <td>282</td>\n      <td>MPOLITECH</td>\n      <td>09.03.02:01</td>\n    </tr>\n    <tr>\n      <th>61</th>\n      <td>173-090-161 46</td>\n      <td>282</td>\n      <td>MIREA</td>\n      <td>09.03.04</td>\n    </tr>\n    <tr>\n      <th>62</th>\n      <td>190-307-186 51</td>\n      <td>281</td>\n      <td></td>\n      <td></td>\n    </tr>\n    <tr>\n      <th>63</th>\n      <td>164-916-294 95</td>\n      <td>281</td>\n      <td>MIREA</td>\n      <td>09.03.04</td>\n    </tr>\n    <tr>\n      <th>64</th>\n      <td>166-076-702 80</td>\n      <td>281</td>\n      <td>MIREA</td>\n      <td>09.03.04</td>\n    </tr>\n    <tr>\n      <th>65</th>\n      <td>146-986-691 36</td>\n      <td>281</td>\n      <td>MIREA</td>\n      <td>09.03.04</td>\n    </tr>\n    <tr>\n      <th>66</th>\n      <td>163-065-303 39</td>\n      <td>281</td>\n      <td>MIREA</td>\n      <td>09.03.02:IPTIP-design</td>\n    </tr>\n    <tr>\n      <th>67</th>\n      <td>167-217-878 96</td>\n      <td>281</td>\n      <td></td>\n      <td></td>\n    </tr>\n    <tr>\n      <th>68</th>\n      <td>173-653-150 71</td>\n      <td>281</td>\n      <td></td>\n      <td></td>\n    </tr>\n    <tr>\n      <th>69</th>\n      <td>143-712-556 47</td>\n      <td>280</td>\n      <td></td>\n      <td></td>\n    </tr>\n    <tr>\n      <th>70</th>\n      <td>164-366-523 78</td>\n      <td>280</td>\n      <td>MPOLITECH</td>\n      <td>09.03.01:01</td>\n    </tr>\n    <tr>\n      <th>71</th>\n      <td>184-045-523 62</td>\n      <td>280</td>\n      <td></td>\n      <td></td>\n    </tr>\n    <tr>\n      <th>72</th>\n      <td>175-159-574 99</td>\n      <td>280</td>\n      <td>MIREA</td>\n      <td>09.03.04</td>\n    </tr>\n    <tr>\n      <th>73</th>\n      <td>169-327-968 21</td>\n      <td>280</td>\n      <td>MPOLITECH</td>\n      <td>09.03.02:01</td>\n    </tr>\n    <tr>\n      <th>74</th>\n      <td>173-538-001 63</td>\n      <td>280</td>\n      <td>ITMO</td>\n      <td>listed by olymp</td>\n    </tr>\n    <tr>\n      <th>75</th>\n      <td>142-911-665 52</td>\n      <td>280</td>\n      <td></td>\n      <td></td>\n    </tr>\n    <tr>\n      <th>76</th>\n      <td>164-938-361 06</td>\n      <td>280</td>\n      <td></td>\n      <td></td>\n    </tr>\n    <tr>\n      <th>77</th>\n      <td>175-492-751 07</td>\n      <td>280</td>\n      <td>MPOLITECH</td>\n      <td>09.03.01:02</td>\n    </tr>\n    <tr>\n      <th>78</th>\n      <td>153-806-535 67</td>\n      <td>280</td>\n      <td>MPOLITECH</td>\n      <td>09.03.02:01</td>\n    </tr>\n    <tr>\n      <th>79</th>\n      <td>157-168-612 87</td>\n      <td>280</td>\n      <td>MPOLITECH</td>\n      <td>10.03.01</td>\n    </tr>\n    <tr>\n      <th>80</th>\n      <td>MPOLITECH № 56124</td>\n      <td>280</td>\n      <td>MPOLITECH</td>\n      <td>09.03.01:01</td>\n    </tr>\n    <tr>\n      <th>81</th>\n      <td>144-572-735 73</td>\n      <td>279</td>\n      <td>MIREA</td>\n      <td>09.03.02:IPTIP-design</td>\n    </tr>\n    <tr>\n      <th>82</th>\n      <td>188-490-210 04</td>\n      <td>279</td>\n      <td>MIREA</td>\n      <td>09.03.04</td>\n    </tr>\n    <tr>\n      <th>83</th>\n      <td>200-452-728 07</td>\n      <td>279</td>\n      <td>MIREA</td>\n      <td>09.03.03</td>\n    </tr>\n    <tr>\n      <th>84</th>\n      <td>201-738-287 42</td>\n      <td>279</td>\n      <td>MIREA</td>\n      <td>09.03.03</td>\n    </tr>\n    <tr>\n      <th>85</th>\n      <td>157-808-143 91</td>\n      <td>279</td>\n      <td>MPEI</td>\n      <td>01.03.02:inf</td>\n    </tr>\n    <tr>\n      <th>86</th>\n      <td>170-301-900 13</td>\n      <td>279</td>\n      <td></td>\n      <td></td>\n    </tr>\n    <tr>\n      <th>87</th>\n      <td>165-774-051 95</td>\n      <td>279</td>\n      <td>MPOLITECH</td>\n      <td>09.03.02:01</td>\n    </tr>\n    <tr>\n      <th>88</th>\n      <td>174-483-424 88</td>\n      <td>279</td>\n      <td>MIREA</td>\n      <td>09.03.02:IKB</td>\n    </tr>\n    <tr>\n      <th>89</th>\n      <td>174-699-157 28</td>\n      <td>279</td>\n      <td>MTUCI</td>\n      <td>10.03.01</td>\n    </tr>\n    <tr>\n      <th>90</th>\n      <td>MPOLITECH № 52122</td>\n      <td>279</td>\n      <td></td>\n      <td></td>\n    </tr>\n    <tr>\n      <th>91</th>\n      <td>164-856-941 16</td>\n      <td>279</td>\n      <td>MIREA</td>\n      <td>09.03.02:IPTIP-design</td>\n    </tr>\n    <tr>\n      <th>92</th>\n      <td>197-278-077 28</td>\n      <td>279</td>\n      <td></td>\n      <td></td>\n    </tr>\n    <tr>\n      <th>93</th>\n      <td>180-318-094 49</td>\n      <td>278</td>\n      <td></td>\n      <td></td>\n    </tr>\n    <tr>\n      <th>94</th>\n      <td>143-792-458 86</td>\n      <td>278</td>\n      <td>BMSTU</td>\n      <td>listed by oylmp</td>\n    </tr>\n    <tr>\n      <th>95</th>\n      <td>184-054-503 59</td>\n      <td>278</td>\n      <td>BMSTU</td>\n      <td>listed by olymp</td>\n    </tr>\n    <tr>\n      <th>96</th>\n      <td>160-031-678 15</td>\n      <td>278</td>\n      <td>MIPT</td>\n      <td>listed by quote</td>\n    </tr>\n    <tr>\n      <th>97</th>\n      <td>165-395-314 89</td>\n      <td>278</td>\n      <td>MIREA</td>\n      <td>09.03.04</td>\n    </tr>\n    <tr>\n      <th>98</th>\n      <td>189-021-583 83</td>\n      <td>278</td>\n      <td>MIREA</td>\n      <td>09.03.04</td>\n    </tr>\n    <tr>\n      <th>99</th>\n      <td>184-346-449 91</td>\n      <td>278</td>\n      <td>MIREA</td>\n      <td>09.03.04</td>\n    </tr>\n    <tr>\n      <th>100</th>\n      <td>167-202-657 60</td>\n      <td>278</td>\n      <td>MPOLITECH</td>\n      <td>09.03.02:01</td>\n    </tr>\n    <tr>\n      <th>101</th>\n      <td>185-597-938 50</td>\n      <td>278</td>\n      <td></td>\n      <td></td>\n    </tr>\n    <tr>\n      <th>102</th>\n      <td>165-684-061 96</td>\n      <td>278</td>\n      <td>MIREA</td>\n      <td>09.03.04</td>\n    </tr>\n    <tr>\n      <th>103</th>\n      <td>195-515-012 74</td>\n      <td>278</td>\n      <td></td>\n      <td></td>\n    </tr>\n    <tr>\n      <th>104</th>\n      <td>168-574-497 29</td>\n      <td>278</td>\n      <td></td>\n      <td></td>\n    </tr>\n    <tr>\n      <th>105</th>\n      <td>159-541-003 68</td>\n      <td>277</td>\n      <td>MTUCI</td>\n      <td>09.03.01</td>\n    </tr>\n    <tr>\n      <th>106</th>\n      <td>151-310-373 04</td>\n      <td>277</td>\n      <td>MIREA</td>\n      <td>09.03.04</td>\n    </tr>\n    <tr>\n      <th>107</th>\n      <td>195-739-094 29</td>\n      <td>277</td>\n      <td>MPEI</td>\n      <td>09.03.03</td>\n    </tr>\n    <tr>\n      <th>108</th>\n      <td>166-021-530 33</td>\n      <td>277</td>\n      <td></td>\n      <td></td>\n    </tr>\n    <tr>\n      <th>109</th>\n      <td>174-258-530 82</td>\n      <td>277</td>\n      <td>MPOLITECH</td>\n      <td>09.03.02:01</td>\n    </tr>\n    <tr>\n      <th>110</th>\n      <td>194-866-059 28</td>\n      <td>277</td>\n      <td></td>\n      <td></td>\n    </tr>\n    <tr>\n      <th>111</th>\n      <td>182-668-517 07</td>\n      <td>277</td>\n      <td>BMSTU</td>\n      <td>listed by quote</td>\n    </tr>\n    <tr>\n      <th>112</th>\n      <td>207-180-799 60</td>\n      <td>277</td>\n      <td></td>\n      <td></td>\n    </tr>\n    <tr>\n      <th>113</th>\n      <td>165-949-228 18</td>\n      <td>277</td>\n      <td></td>\n      <td></td>\n    </tr>\n    <tr>\n      <th>114</th>\n      <td>170-750-712 56</td>\n      <td>277</td>\n      <td>MPOLITECH</td>\n      <td>09.03.02:01</td>\n    </tr>\n    <tr>\n      <th>115</th>\n      <td>MPOLITECH № 52559</td>\n      <td>277</td>\n      <td>MPOLITECH</td>\n      <td>09.03.01:01</td>\n    </tr>\n    <tr>\n      <th>116</th>\n      <td>MPOLITECH № 52233</td>\n      <td>277</td>\n      <td>MPOLITECH</td>\n      <td>09.03.01:01</td>\n    </tr>\n    <tr>\n      <th>117</th>\n      <td>214-186-344 44</td>\n      <td>277</td>\n      <td>MPOLITECH</td>\n      <td>09.03.01:01</td>\n    </tr>\n    <tr>\n      <th>118</th>\n      <td>160-755-977 91</td>\n      <td>277</td>\n      <td>MIREA</td>\n      <td>09.03.04</td>\n    </tr>\n    <tr>\n      <th>119</th>\n      <td>187-942-732 31</td>\n      <td>277</td>\n      <td></td>\n      <td></td>\n    </tr>\n    <tr>\n      <th>120</th>\n      <td>154-159-978 92</td>\n      <td>276</td>\n      <td>BMSTU</td>\n      <td>listed by olymp</td>\n    </tr>\n    <tr>\n      <th>121</th>\n      <td>165-252-083 55</td>\n      <td>276</td>\n      <td>MPOLITECH</td>\n      <td>09.03.01:05</td>\n    </tr>\n    <tr>\n      <th>122</th>\n      <td>MPOLITECH № 52768</td>\n      <td>276</td>\n      <td>MPOLITECH</td>\n      <td>09.03.01:01</td>\n    </tr>\n    <tr>\n      <th>123</th>\n      <td>182-163-141 46</td>\n      <td>276</td>\n      <td></td>\n      <td></td>\n    </tr>\n    <tr>\n      <th>124</th>\n      <td>171-321-708 32</td>\n      <td>276</td>\n      <td></td>\n      <td></td>\n    </tr>\n    <tr>\n      <th>125</th>\n      <td>153-505-850 53</td>\n      <td>276</td>\n      <td></td>\n      <td></td>\n    </tr>\n    <tr>\n      <th>126</th>\n      <td>131-792-724 63</td>\n      <td>276</td>\n      <td>MIREA</td>\n      <td>09.03.03</td>\n    </tr>\n    <tr>\n      <th>127</th>\n      <td>195-997-542 66</td>\n      <td>276</td>\n      <td>MPOLITECH</td>\n      <td>09.03.02:01</td>\n    </tr>\n    <tr>\n      <th>128</th>\n      <td>152-700-270 24</td>\n      <td>276</td>\n      <td>MPEI</td>\n      <td>09.03.01</td>\n    </tr>\n    <tr>\n      <th>129</th>\n      <td>158-751-082 93</td>\n      <td>276</td>\n      <td></td>\n      <td></td>\n    </tr>\n    <tr>\n      <th>130</th>\n      <td>170-831-576 66</td>\n      <td>276</td>\n      <td></td>\n      <td></td>\n    </tr>\n    <tr>\n      <th>131</th>\n      <td>164-308-325 52</td>\n      <td>276</td>\n      <td></td>\n      <td></td>\n    </tr>\n    <tr>\n      <th>132</th>\n      <td>166-487-155 07</td>\n      <td>276</td>\n      <td>MIREA</td>\n      <td>listed by quote</td>\n    </tr>\n    <tr>\n      <th>133</th>\n      <td>160-898-264 02</td>\n      <td>276</td>\n      <td></td>\n      <td></td>\n    </tr>\n    <tr>\n      <th>134</th>\n      <td>139-708-530 90</td>\n      <td>276</td>\n      <td></td>\n      <td></td>\n    </tr>\n    <tr>\n      <th>135</th>\n      <td>160-077-065 36</td>\n      <td>276</td>\n      <td>MIREA</td>\n      <td>09.03.03</td>\n    </tr>\n    <tr>\n      <th>136</th>\n      <td>138-542-722 73</td>\n      <td>276</td>\n      <td></td>\n      <td></td>\n    </tr>\n    <tr>\n      <th>137</th>\n      <td>149-510-346 61</td>\n      <td>276</td>\n      <td></td>\n      <td></td>\n    </tr>\n    <tr>\n      <th>138</th>\n      <td>MPOLITECH № 54623</td>\n      <td>276</td>\n      <td></td>\n      <td></td>\n    </tr>\n    <tr>\n      <th>139</th>\n      <td>163-294-825 83</td>\n      <td>276</td>\n      <td></td>\n      <td></td>\n    </tr>\n    <tr>\n      <th>140</th>\n      <td>141-190-592 33</td>\n      <td>276</td>\n      <td>MPEI</td>\n      <td>01.03.02:mat</td>\n    </tr>\n    <tr>\n      <th>141</th>\n      <td>158-407-892 00</td>\n      <td>275</td>\n      <td>MIREA</td>\n      <td>09.03.04</td>\n    </tr>\n    <tr>\n      <th>142</th>\n      <td>150-478-090 57</td>\n      <td>275</td>\n      <td>MIREA</td>\n      <td>09.03.03</td>\n    </tr>\n    <tr>\n      <th>143</th>\n      <td>172-244-684 64</td>\n      <td>275</td>\n      <td></td>\n      <td></td>\n    </tr>\n    <tr>\n      <th>144</th>\n      <td>198-178-052 20</td>\n      <td>275</td>\n      <td></td>\n      <td></td>\n    </tr>\n    <tr>\n      <th>145</th>\n      <td>131-004-865 97</td>\n      <td>275</td>\n      <td>MIREA</td>\n      <td>09.03.03</td>\n    </tr>\n    <tr>\n      <th>146</th>\n      <td>159-482-664 16</td>\n      <td>275</td>\n      <td></td>\n      <td></td>\n    </tr>\n    <tr>\n      <th>147</th>\n      <td>171-513-951 56</td>\n      <td>275</td>\n      <td>MIREA</td>\n      <td>09.03.04</td>\n    </tr>\n    <tr>\n      <th>148</th>\n      <td>174-497-490 18</td>\n      <td>275</td>\n      <td></td>\n      <td></td>\n    </tr>\n    <tr>\n      <th>149</th>\n      <td>158-453-191 87</td>\n      <td>275</td>\n      <td></td>\n      <td></td>\n    </tr>\n    <tr>\n      <th>150</th>\n      <td>158-979-446 54</td>\n      <td>275</td>\n      <td></td>\n      <td></td>\n    </tr>\n    <tr>\n      <th>151</th>\n      <td>170-587-115 72</td>\n      <td>275</td>\n      <td></td>\n      <td></td>\n    </tr>\n    <tr>\n      <th>152</th>\n      <td>189-635-968 52</td>\n      <td>275</td>\n      <td>MPOLITECH</td>\n      <td>09.03.02:01</td>\n    </tr>\n    <tr>\n      <th>153</th>\n      <td>MPOLITECH № 58849</td>\n      <td>275</td>\n      <td>MPOLITECH</td>\n      <td>09.03.01:02</td>\n    </tr>\n    <tr>\n      <th>154</th>\n      <td>184-318-687 96</td>\n      <td>275</td>\n      <td></td>\n      <td></td>\n    </tr>\n    <tr>\n      <th>155</th>\n      <td>170-577-352 78</td>\n      <td>274</td>\n      <td></td>\n      <td></td>\n    </tr>\n    <tr>\n      <th>156</th>\n      <td>186-872-767 44</td>\n      <td>274</td>\n      <td></td>\n      <td></td>\n    </tr>\n    <tr>\n      <th>157</th>\n      <td>157-240-815 60</td>\n      <td>274</td>\n      <td>MPOLITECH</td>\n      <td>09.03.02:01</td>\n    </tr>\n    <tr>\n      <th>158</th>\n      <td>159-925-416 14</td>\n      <td>274</td>\n      <td></td>\n      <td></td>\n    </tr>\n    <tr>\n      <th>159</th>\n      <td>185-170-904 79</td>\n      <td>274</td>\n      <td>MIREA</td>\n      <td>09.03.03</td>\n    </tr>\n    <tr>\n      <th>160</th>\n      <td>173-399-310 95</td>\n      <td>274</td>\n      <td>MIREA</td>\n      <td>09.03.04</td>\n    </tr>\n    <tr>\n      <th>161</th>\n      <td>MPOLITECH № 69506</td>\n      <td>274</td>\n      <td></td>\n      <td></td>\n    </tr>\n    <tr>\n      <th>162</th>\n      <td>194-478-231 11</td>\n      <td>274</td>\n      <td>MIREA</td>\n      <td>09.03.04</td>\n    </tr>\n    <tr>\n      <th>163</th>\n      <td>159-070-645 77</td>\n      <td>274</td>\n      <td>MPOLITECH</td>\n      <td>09.03.01:01</td>\n    </tr>\n    <tr>\n      <th>164</th>\n      <td>188-490-211 05</td>\n      <td>274</td>\n      <td>MIREA</td>\n      <td>09.03.04</td>\n    </tr>\n    <tr>\n      <th>165</th>\n      <td>189-064-327 00</td>\n      <td>274</td>\n      <td>MPOLITECH</td>\n      <td>09.03.01:01</td>\n    </tr>\n    <tr>\n      <th>166</th>\n      <td>168-118-209 70</td>\n      <td>274</td>\n      <td></td>\n      <td></td>\n    </tr>\n    <tr>\n      <th>167</th>\n      <td>162-644-823 73</td>\n      <td>274</td>\n      <td></td>\n      <td></td>\n    </tr>\n    <tr>\n      <th>168</th>\n      <td>169-660-983 30</td>\n      <td>274</td>\n      <td></td>\n      <td></td>\n    </tr>\n    <tr>\n      <th>169</th>\n      <td>133-426-610 31</td>\n      <td>274</td>\n      <td>MIREA</td>\n      <td>09.03.04</td>\n    </tr>\n    <tr>\n      <th>170</th>\n      <td>203-972-328 56</td>\n      <td>274</td>\n      <td>MPOLITECH</td>\n      <td>09.03.02:03</td>\n    </tr>\n    <tr>\n      <th>171</th>\n      <td>136-209-887 69</td>\n      <td>274</td>\n      <td>MIREA</td>\n      <td>09.03.04</td>\n    </tr>\n    <tr>\n      <th>172</th>\n      <td>170-211-831 16</td>\n      <td>274</td>\n      <td></td>\n      <td></td>\n    </tr>\n    <tr>\n      <th>173</th>\n      <td>152-693-095 78</td>\n      <td>274</td>\n      <td>MIREA</td>\n      <td>09.03.02:IPTIP-fullstack</td>\n    </tr>\n    <tr>\n      <th>174</th>\n      <td>141-828-702 60</td>\n      <td>274</td>\n      <td></td>\n      <td></td>\n    </tr>\n    <tr>\n      <th>175</th>\n      <td>203-658-378 62</td>\n      <td>274</td>\n      <td></td>\n      <td></td>\n    </tr>\n    <tr>\n      <th>176</th>\n      <td>161-689-201 82</td>\n      <td>274</td>\n      <td>MIREA</td>\n      <td>09.03.04</td>\n    </tr>\n    <tr>\n      <th>177</th>\n      <td>130-729-960 59</td>\n      <td>274</td>\n      <td>BMSTU</td>\n      <td>listed by quote</td>\n    </tr>\n    <tr>\n      <th>178</th>\n      <td>159-292-578 12</td>\n      <td>274</td>\n      <td></td>\n      <td></td>\n    </tr>\n    <tr>\n      <th>179</th>\n      <td>188-396-244 32</td>\n      <td>274</td>\n      <td></td>\n      <td></td>\n    </tr>\n    <tr>\n      <th>180</th>\n      <td>154-217-582 54</td>\n      <td>274</td>\n      <td></td>\n      <td></td>\n    </tr>\n    <tr>\n      <th>181</th>\n      <td>193-514-613 75</td>\n      <td>274</td>\n      <td>MPOLITECH</td>\n      <td>09.03.03:03</td>\n    </tr>\n    <tr>\n      <th>182</th>\n      <td>158-291-101 69</td>\n      <td>273</td>\n      <td></td>\n      <td></td>\n    </tr>\n    <tr>\n      <th>183</th>\n      <td>142-911-893 62</td>\n      <td>273</td>\n      <td>MIREA</td>\n      <td>09.03.04</td>\n    </tr>\n    <tr>\n      <th>184</th>\n      <td>206-717-438 60</td>\n      <td>273</td>\n      <td>MIET</td>\n      <td>09.03.04</td>\n    </tr>\n    <tr>\n      <th>185</th>\n      <td>205-792-846 85</td>\n      <td>273</td>\n      <td></td>\n      <td></td>\n    </tr>\n    <tr>\n      <th>186</th>\n      <td>151-763-154 56</td>\n      <td>273</td>\n      <td></td>\n      <td></td>\n    </tr>\n    <tr>\n      <th>187</th>\n      <td>143-324-908 40</td>\n      <td>273</td>\n      <td></td>\n      <td></td>\n    </tr>\n    <tr>\n      <th>188</th>\n      <td>158-286-870 17</td>\n      <td>273</td>\n      <td>MIREA</td>\n      <td>09.03.04</td>\n    </tr>\n    <tr>\n      <th>189</th>\n      <td>201-631-728 12</td>\n      <td>273</td>\n      <td></td>\n      <td></td>\n    </tr>\n    <tr>\n      <th>190</th>\n      <td>165-988-224 30</td>\n      <td>273</td>\n      <td></td>\n      <td></td>\n    </tr>\n    <tr>\n      <th>191</th>\n      <td>154-864-170 87</td>\n      <td>273</td>\n      <td>MIPT</td>\n      <td>listed by quote</td>\n    </tr>\n    <tr>\n      <th>192</th>\n      <td>195-214-767 88</td>\n      <td>273</td>\n      <td></td>\n      <td></td>\n    </tr>\n    <tr>\n      <th>193</th>\n      <td>160-531-390 32</td>\n      <td>273</td>\n      <td>MPOLITECH</td>\n      <td>09.03.01:01</td>\n    </tr>\n    <tr>\n      <th>194</th>\n      <td>176-148-131 74</td>\n      <td>273</td>\n      <td>MIREA</td>\n      <td>09.03.02:IKB</td>\n    </tr>\n    <tr>\n      <th>195</th>\n      <td>142-376-750 62</td>\n      <td>273</td>\n      <td>MIREA</td>\n      <td>09.03.01:IIT</td>\n    </tr>\n    <tr>\n      <th>196</th>\n      <td>184-796-100 13</td>\n      <td>273</td>\n      <td>MIREA</td>\n      <td>09.03.02:IKB</td>\n    </tr>\n    <tr>\n      <th>197</th>\n      <td>135-640-627 52</td>\n      <td>273</td>\n      <td>MPOLITECH</td>\n      <td>09.03.02:01</td>\n    </tr>\n    <tr>\n      <th>198</th>\n      <td>MPOLITECH № 53258</td>\n      <td>273</td>\n      <td>MPOLITECH</td>\n      <td>09.03.03:01</td>\n    </tr>\n    <tr>\n      <th>199</th>\n      <td>187-554-274 15</td>\n      <td>273</td>\n      <td>MIREA</td>\n      <td>01.03.04</td>\n    </tr>\n    <tr>\n      <th>200</th>\n      <td>175-077-082 80</td>\n      <td>273</td>\n      <td>MPOLITECH</td>\n      <td>09.03.01:01</td>\n    </tr>\n    <tr>\n      <th>201</th>\n      <td>187-720-543 99</td>\n      <td>272</td>\n      <td>MPEI</td>\n      <td>01.03.02:inf</td>\n    </tr>\n    <tr>\n      <th>202</th>\n      <td>193-166-337 83</td>\n      <td>272</td>\n      <td>MIREA</td>\n      <td>09.03.04</td>\n    </tr>\n    <tr>\n      <th>203</th>\n      <td>158-951-645 17</td>\n      <td>272</td>\n      <td>BMSTU</td>\n      <td>listed by quote</td>\n    </tr>\n    <tr>\n      <th>204</th>\n      <td>169-492-541 19</td>\n      <td>272</td>\n      <td>MIREA</td>\n      <td>09.03.03</td>\n    </tr>\n    <tr>\n      <th>205</th>\n      <td>159-750-200 84</td>\n      <td>272</td>\n      <td></td>\n      <td></td>\n    </tr>\n    <tr>\n      <th>206</th>\n      <td>192-338-530 80</td>\n      <td>272</td>\n      <td>MIREA</td>\n      <td>09.03.02:IKB</td>\n    </tr>\n    <tr>\n      <th>207</th>\n      <td>132-184-148 27</td>\n      <td>272</td>\n      <td>MIREA</td>\n      <td>09.03.03</td>\n    </tr>\n    <tr>\n      <th>208</th>\n      <td>184-291-605 84</td>\n      <td>272</td>\n      <td>MPOLITECH</td>\n      <td>09.03.01:02</td>\n    </tr>\n    <tr>\n      <th>209</th>\n      <td>137-863-298 02</td>\n      <td>272</td>\n      <td>MIREA</td>\n      <td>09.03.01:III</td>\n    </tr>\n    <tr>\n      <th>210</th>\n      <td>204-194-315 28</td>\n      <td>272</td>\n      <td>MIREA</td>\n      <td>09.03.02:IKB</td>\n    </tr>\n    <tr>\n      <th>211</th>\n      <td>162-746-546 85</td>\n      <td>272</td>\n      <td></td>\n      <td></td>\n    </tr>\n    <tr>\n      <th>212</th>\n      <td>169-360-360 88</td>\n      <td>272</td>\n      <td></td>\n      <td></td>\n    </tr>\n    <tr>\n      <th>213</th>\n      <td>160-249-478 58</td>\n      <td>272</td>\n      <td></td>\n      <td></td>\n    </tr>\n    <tr>\n      <th>214</th>\n      <td>200-245-509 94</td>\n      <td>272</td>\n      <td></td>\n      <td></td>\n    </tr>\n    <tr>\n      <th>215</th>\n      <td>194-993-394 49</td>\n      <td>272</td>\n      <td></td>\n      <td></td>\n    </tr>\n    <tr>\n      <th>216</th>\n      <td>152-677-239 82</td>\n      <td>272</td>\n      <td></td>\n      <td></td>\n    </tr>\n    <tr>\n      <th>217</th>\n      <td>163-882-383 00</td>\n      <td>272</td>\n      <td></td>\n      <td></td>\n    </tr>\n    <tr>\n      <th>218</th>\n      <td>149-418-997 15</td>\n      <td>272</td>\n      <td>MIREA</td>\n      <td>09.03.02:IKB</td>\n    </tr>\n    <tr>\n      <th>219</th>\n      <td>180-208-224 30</td>\n      <td>272</td>\n      <td></td>\n      <td></td>\n    </tr>\n    <tr>\n      <th>220</th>\n      <td>166-481-993 13</td>\n      <td>272</td>\n      <td></td>\n      <td></td>\n    </tr>\n    <tr>\n      <th>221</th>\n      <td>205-292-398 52</td>\n      <td>272</td>\n      <td></td>\n      <td></td>\n    </tr>\n    <tr>\n      <th>222</th>\n      <td>163-832-590 81</td>\n      <td>272</td>\n      <td></td>\n      <td></td>\n    </tr>\n    <tr>\n      <th>223</th>\n      <td>164-347-788 95</td>\n      <td>272</td>\n      <td></td>\n      <td></td>\n    </tr>\n    <tr>\n      <th>224</th>\n      <td>136-352-758 64</td>\n      <td>272</td>\n      <td></td>\n      <td></td>\n    </tr>\n    <tr>\n      <th>225</th>\n      <td>131-792-725 64</td>\n      <td>272</td>\n      <td>MIREA</td>\n      <td>09.03.03</td>\n    </tr>\n    <tr>\n      <th>226</th>\n      <td>170-431-270 27</td>\n      <td>272</td>\n      <td></td>\n      <td></td>\n    </tr>\n    <tr>\n      <th>227</th>\n      <td>MPOLITECH № 55630</td>\n      <td>272</td>\n      <td>MPOLITECH</td>\n      <td>09.03.02:01</td>\n    </tr>\n    <tr>\n      <th>228</th>\n      <td>172-216-123 29</td>\n      <td>271</td>\n      <td></td>\n      <td></td>\n    </tr>\n    <tr>\n      <th>229</th>\n      <td>159-204-390 66</td>\n      <td>271</td>\n      <td></td>\n      <td></td>\n    </tr>\n    <tr>\n      <th>230</th>\n      <td>190-983-948 28</td>\n      <td>271</td>\n      <td>MIREA</td>\n      <td>09.03.04</td>\n    </tr>\n    <tr>\n      <th>231</th>\n      <td>146-729-006 76</td>\n      <td>271</td>\n      <td></td>\n      <td></td>\n    </tr>\n    <tr>\n      <th>232</th>\n      <td>205-514-539 33</td>\n      <td>271</td>\n      <td>MIREA</td>\n      <td>09.03.03</td>\n    </tr>\n    <tr>\n      <th>233</th>\n      <td>170-464-213 45</td>\n      <td>271</td>\n      <td></td>\n      <td></td>\n    </tr>\n    <tr>\n      <th>234</th>\n      <td>186-214-638 79</td>\n      <td>271</td>\n      <td>MPOLITECH</td>\n      <td>09.03.01:05</td>\n    </tr>\n    <tr>\n      <th>235</th>\n      <td>164-587-317 00</td>\n      <td>271</td>\n      <td>MPOLITECH</td>\n      <td>09.03.02:01</td>\n    </tr>\n    <tr>\n      <th>236</th>\n      <td>170-251-676 43</td>\n      <td>271</td>\n      <td></td>\n      <td></td>\n    </tr>\n    <tr>\n      <th>237</th>\n      <td>179-304-672 95</td>\n      <td>271</td>\n      <td>MPOLITECH</td>\n      <td>09.03.03:02</td>\n    </tr>\n    <tr>\n      <th>238</th>\n      <td>181-864-377 02</td>\n      <td>271</td>\n      <td>MIREA</td>\n      <td>09.03.04</td>\n    </tr>\n    <tr>\n      <th>239</th>\n      <td>192-774-615 11</td>\n      <td>271</td>\n      <td>MPOLITECH</td>\n      <td>09.03.01:01</td>\n    </tr>\n    <tr>\n      <th>240</th>\n      <td>177-645-237 07</td>\n      <td>271</td>\n      <td></td>\n      <td></td>\n    </tr>\n    <tr>\n      <th>241</th>\n      <td>157-303-287 56</td>\n      <td>271</td>\n      <td></td>\n      <td></td>\n    </tr>\n    <tr>\n      <th>242</th>\n      <td>194-139-774 03</td>\n      <td>271</td>\n      <td></td>\n      <td></td>\n    </tr>\n    <tr>\n      <th>243</th>\n      <td>176-191-875 03</td>\n      <td>271</td>\n      <td></td>\n      <td></td>\n    </tr>\n    <tr>\n      <th>244</th>\n      <td>151-956-226 74</td>\n      <td>271</td>\n      <td>MIREA</td>\n      <td>09.03.01:IIT</td>\n    </tr>\n    <tr>\n      <th>245</th>\n      <td>183-086-893 01</td>\n      <td>271</td>\n      <td>MIREA</td>\n      <td>09.03.02:IKB</td>\n    </tr>\n    <tr>\n      <th>246</th>\n      <td>186-830-202 85</td>\n      <td>271</td>\n      <td></td>\n      <td></td>\n    </tr>\n    <tr>\n      <th>247</th>\n      <td>206-996-871 20</td>\n      <td>271</td>\n      <td></td>\n      <td></td>\n    </tr>\n    <tr>\n      <th>248</th>\n      <td>183-812-997 05</td>\n      <td>271</td>\n      <td></td>\n      <td></td>\n    </tr>\n    <tr>\n      <th>249</th>\n      <td>169-641-923 12</td>\n      <td>271</td>\n      <td></td>\n      <td></td>\n    </tr>\n    <tr>\n      <th>250</th>\n      <td>170-978-814 14</td>\n      <td>271</td>\n      <td>MPEI</td>\n      <td>09.03.01</td>\n    </tr>\n    <tr>\n      <th>251</th>\n      <td>170-330-035 08</td>\n      <td>271</td>\n      <td>MTUCI</td>\n      <td>02.03.02</td>\n    </tr>\n    <tr>\n      <th>252</th>\n      <td>168-088-113 92</td>\n      <td>271</td>\n      <td></td>\n      <td></td>\n    </tr>\n    <tr>\n      <th>253</th>\n      <td>178-029-635 95</td>\n      <td>271</td>\n      <td>BMSTU</td>\n      <td>listed by quote</td>\n    </tr>\n    <tr>\n      <th>254</th>\n      <td>159-025-225 56</td>\n      <td>271</td>\n      <td></td>\n      <td></td>\n    </tr>\n    <tr>\n      <th>255</th>\n      <td>203-311-843 00</td>\n      <td>271</td>\n      <td>MTUCI</td>\n      <td>09.03.03</td>\n    </tr>\n    <tr>\n      <th>256</th>\n      <td>200-954-519 38</td>\n      <td>271</td>\n      <td></td>\n      <td></td>\n    </tr>\n    <tr>\n      <th>257</th>\n      <td>170-469-176 77</td>\n      <td>271</td>\n      <td></td>\n      <td></td>\n    </tr>\n    <tr>\n      <th>258</th>\n      <td>MPOLITECH № 58537</td>\n      <td>271</td>\n      <td></td>\n      <td></td>\n    </tr>\n    <tr>\n      <th>259</th>\n      <td>MPOLITECH № 59408</td>\n      <td>271</td>\n      <td></td>\n      <td></td>\n    </tr>\n    <tr>\n      <th>260</th>\n      <td>204-616-658 46</td>\n      <td>270</td>\n      <td></td>\n      <td></td>\n    </tr>\n    <tr>\n      <th>261</th>\n      <td>186-584-367 27</td>\n      <td>270</td>\n      <td>MIREA</td>\n      <td>09.03.02:IKB</td>\n    </tr>\n    <tr>\n      <th>262</th>\n      <td>159-936-650 31</td>\n      <td>270</td>\n      <td></td>\n      <td></td>\n    </tr>\n    <tr>\n      <th>263</th>\n      <td>170-098-795 85</td>\n      <td>270</td>\n      <td></td>\n      <td></td>\n    </tr>\n    <tr>\n      <th>264</th>\n      <td>147-385-753 00</td>\n      <td>270</td>\n      <td>MIREA</td>\n      <td>09.03.02:IPTIP-fullstack</td>\n    </tr>\n    <tr>\n      <th>265</th>\n      <td>133-707-872 63</td>\n      <td>270</td>\n      <td></td>\n      <td></td>\n    </tr>\n    <tr>\n      <th>266</th>\n      <td>158-041-708 57</td>\n      <td>270</td>\n      <td>MPOLITECH</td>\n      <td>09.03.01:01</td>\n    </tr>\n    <tr>\n      <th>267</th>\n      <td>187-331-557 90</td>\n      <td>270</td>\n      <td></td>\n      <td></td>\n    </tr>\n    <tr>\n      <th>268</th>\n      <td>166-214-966 76</td>\n      <td>270</td>\n      <td>MIREA</td>\n      <td>09.03.02:IPTIP-fullstack</td>\n    </tr>\n    <tr>\n      <th>269</th>\n      <td>180-264-101 34</td>\n      <td>270</td>\n      <td></td>\n      <td></td>\n    </tr>\n    <tr>\n      <th>270</th>\n      <td>160-688-201 71</td>\n      <td>270</td>\n      <td>MPOLITECH</td>\n      <td>09.03.03:01</td>\n    </tr>\n    <tr>\n      <th>271</th>\n      <td>168-175-728 05</td>\n      <td>270</td>\n      <td></td>\n      <td></td>\n    </tr>\n    <tr>\n      <th>272</th>\n      <td>201-068-084 06</td>\n      <td>270</td>\n      <td>MPOLITECH</td>\n      <td>09.03.02:01</td>\n    </tr>\n    <tr>\n      <th>273</th>\n      <td>208-993-417 04</td>\n      <td>270</td>\n      <td></td>\n      <td></td>\n    </tr>\n    <tr>\n      <th>274</th>\n      <td>190-537-328 74</td>\n      <td>270</td>\n      <td>MIREA</td>\n      <td>02.03.02</td>\n    </tr>\n    <tr>\n      <th>275</th>\n      <td>141-652-723 44</td>\n      <td>270</td>\n      <td>MPOLITECH</td>\n      <td>09.03.02:01</td>\n    </tr>\n    <tr>\n      <th>276</th>\n      <td>200-325-954 06</td>\n      <td>270</td>\n      <td>MIREA</td>\n      <td>09.03.02:IPTIP-fullstack</td>\n    </tr>\n    <tr>\n      <th>277</th>\n      <td>149-421-658 77</td>\n      <td>270</td>\n      <td></td>\n      <td></td>\n    </tr>\n    <tr>\n      <th>278</th>\n      <td>MPOLITECH № 60526</td>\n      <td>270</td>\n      <td></td>\n      <td></td>\n    </tr>\n    <tr>\n      <th>279</th>\n      <td>175-902-260 79</td>\n      <td>270</td>\n      <td></td>\n      <td></td>\n    </tr>\n    <tr>\n      <th>280</th>\n      <td>165-070-455 53</td>\n      <td>270</td>\n      <td></td>\n      <td></td>\n    </tr>\n    <tr>\n      <th>281</th>\n      <td>MPOLITECH № 57708</td>\n      <td>270</td>\n      <td></td>\n      <td></td>\n    </tr>\n    <tr>\n      <th>282</th>\n      <td>MPOLITECH № 57777</td>\n      <td>270</td>\n      <td></td>\n      <td></td>\n    </tr>\n    <tr>\n      <th>283</th>\n      <td>MPOLITECH № 58499</td>\n      <td>270</td>\n      <td></td>\n      <td></td>\n    </tr>\n    <tr>\n      <th>284</th>\n      <td>MPOLITECH № 53029</td>\n      <td>270</td>\n      <td>MPOLITECH</td>\n      <td>09.03.01:04</td>\n    </tr>\n    <tr>\n      <th>285</th>\n      <td>195-863-883 47</td>\n      <td>270</td>\n      <td></td>\n      <td></td>\n    </tr>\n  </tbody>\n</table>\n</div>"
     },
     "metadata": {},
     "output_type": "display_data"
    }
   ],
   "source": [
    "system.show_all_students_with_score_ge_and_their_agreement(University.MPOLITECH, Profile('09.03.01', '01'), 270)"
   ],
   "metadata": {
    "collapsed": false,
    "pycharm": {
     "name": "#%%\n"
    }
   }
  },
  {
   "cell_type": "code",
   "execution_count": 13,
   "outputs": [],
   "source": [],
   "metadata": {
    "collapsed": false,
    "pycharm": {
     "name": "#%%\n"
    }
   }
  }
 ],
 "metadata": {
  "kernelspec": {
   "display_name": "Python 3 (ipykernel)",
   "language": "python",
   "name": "python3"
  },
  "language_info": {
   "codemirror_mode": {
    "name": "ipython",
    "version": 3
   },
   "file_extension": ".py",
   "mimetype": "text/x-python",
   "name": "python",
   "nbconvert_exporter": "python",
   "pygments_lexer": "ipython3",
   "version": "3.9.12"
  }
 },
 "nbformat": 4,
 "nbformat_minor": 5
}