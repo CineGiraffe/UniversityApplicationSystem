{
 "cells": [
  {
   "cell_type": "code",
   "execution_count": 1,
   "id": "4b7e05c4",
   "metadata": {
    "pycharm": {
     "name": "#%%\n"
    }
   },
   "outputs": [],
   "source": [
    "from src.core import Profile, StudentId, University\n",
    "from src.application import ApplicationSystem, DataLoader"
   ]
  },
  {
   "cell_type": "code",
   "execution_count": 2,
   "id": "f1986aa3",
   "metadata": {
    "pycharm": {
     "name": "#%%\n"
    }
   },
   "outputs": [],
   "source": [
    "system = ApplicationSystem()"
   ]
  },
  {
   "cell_type": "code",
   "execution_count": 3,
   "outputs": [
    {
     "name": "stdout",
     "output_type": "stream",
     "text": [
      "Parser for MIREA registered.\n",
      "Parser for MPEI registered.\n",
      "Parser for MTUCI registered.\n"
     ]
    }
   ],
   "source": [
    "loader = DataLoader()"
   ],
   "metadata": {
    "collapsed": false,
    "pycharm": {
     "name": "#%%\n"
    }
   }
  },
  {
   "cell_type": "code",
   "execution_count": 4,
   "outputs": [
    {
     "name": "stdout",
     "output_type": "stream",
     "text": [
      "\u001B[32mMIREA file D:\\Personal\\IT\\Programming\\Projects\\UniversityApplicationSystem\\data\\MIREA_01.03.02.csv read started\u001B[0m\n",
      "An exception occurred in line 620: ('found incompatible id', '')\n",
      "Row: ['', '', '', '', '', '', '', '', '', 'Преим. право']\n",
      "An exception occurred in line 768: ('found incompatible id', '')\n",
      "Row: ['', '', '', '', '', '', '', '', '', '']\n",
      "An exception occurred in line 769: ('found incompatible id', '')\n",
      "Row: ['', '', '', '', '', '', '', '', '', 'Преим. право']\n",
      "An exception occurred in line 889: ('found incompatible id', '')\n",
      "Row: ['', '', '', '', '', '', '', '', '', 'Преим. право']\n",
      "An exception occurred in line 1001: ('found incompatible id', '')\n",
      "Row: ['', '', '', '', '', '', '', '', '', 'Преим. право']\n",
      "An exception occurred in line 1104: ('found incompatible id', '')\n",
      "Row: ['', '', '', '', '', '', '', '', '', 'Преим. право']\n",
      "An exception occurred in line 1704: ('found incompatible id', '')\n",
      "Row: ['', '', '', '', '', '', '', '', '', 'Преим. право']\n",
      "An exception occurred in line 1747: ('found incompatible id', '')\n",
      "Row: ['', '', '', '', '', '', '', '', '', 'Преим. право']\n",
      "An exception occurred in line 1782: ('found incompatible id', '')\n",
      "Row: ['', '', '', '', '', '', '', '', '', 'Преим. право']\n",
      "An exception occurred in line 1796: ('found incompatible id', '')\n",
      "Row: ['', '', '', '', '', '', '', '', '', 'Преим. право']\n",
      "\u001B[32mMIREA file D:\\Personal\\IT\\Programming\\Projects\\UniversityApplicationSystem\\data\\MIREA_01.03.02.csv read finished\u001B[0m\n",
      "\n",
      "\u001B[32mMIREA file D:\\Personal\\IT\\Programming\\Projects\\UniversityApplicationSystem\\data\\MIREA_01.03.04.csv read started\u001B[0m\n",
      "An exception occurred in line 740: ('found incompatible id', '')\n",
      "Row: ['', '', '', '', '', '', '', '', '', 'Преим. право']\n",
      "An exception occurred in line 777: ('found incompatible id', '')\n",
      "Row: ['', '', '', '', '', '', '', '', '', 'Преим. право']\n",
      "\u001B[32mMIREA file D:\\Personal\\IT\\Programming\\Projects\\UniversityApplicationSystem\\data\\MIREA_01.03.04.csv read finished\u001B[0m\n",
      "\n",
      "\u001B[32mMIREA file D:\\Personal\\IT\\Programming\\Projects\\UniversityApplicationSystem\\data\\MIREA_02.03.02.csv read started\u001B[0m\n",
      "An exception occurred in line 237: ('found incompatible id', '')\n",
      "Row: ['', '', '', '', '', '', '', '', '', 'Преим. право']\n",
      "An exception occurred in line 246: ('found incompatible id', '')\n",
      "Row: ['', '', '', '', '', '', '', '', '', 'Преим. право']\n",
      "An exception occurred in line 360: ('found incompatible id', '')\n",
      "Row: ['', '', '', '', '', '', '', '', '', 'Преим. право']\n",
      "An exception occurred in line 691: ('found incompatible id', '')\n",
      "Row: ['', '', '', '', '', '', '', '', '', 'Преим. право']\n",
      "An exception occurred in line 743: ('found incompatible id', '')\n",
      "Row: ['', '', '', '', '', '', '', '', '', 'Преим. право']\n",
      "An exception occurred in line 748: ('found incompatible id', '')\n",
      "Row: ['', '', '', '', '', '', '', '', '', 'Преим. право']\n",
      "An exception occurred in line 814: ('found incompatible id', '')\n",
      "Row: ['', '', '', '', '', '', '', '', '', 'Преим. право']\n",
      "An exception occurred in line 1108: ('found incompatible id', '')\n",
      "Row: ['', '', '', '', '', '', '', '', '', 'Преим. право']\n",
      "\u001B[32mMIREA file D:\\Personal\\IT\\Programming\\Projects\\UniversityApplicationSystem\\data\\MIREA_02.03.02.csv read finished\u001B[0m\n",
      "\n",
      "\u001B[32mMIREA file D:\\Personal\\IT\\Programming\\Projects\\UniversityApplicationSystem\\data\\MIREA_09.03.01_III.csv read started\u001B[0m\n",
      "An exception occurred in line 106: ('found incompatible id', '')\n",
      "Row: ['', '', '', '', '', '', '', '', '', 'Преим. право']\n",
      "An exception occurred in line 484: ('found incompatible id', '')\n",
      "Row: ['', '', '', '', '', '', '', '', '', 'Преим. право']\n",
      "An exception occurred in line 597: ('found incompatible id', '')\n",
      "Row: ['', '', '', '', '', '', '', '', '', 'Преим. право']\n",
      "An exception occurred in line 609: ('found incompatible id', '')\n",
      "Row: ['', '', '', '', '', '', '', '', '', 'Преим. право']\n",
      "An exception occurred in line 678: ('found incompatible id', '')\n",
      "Row: ['', '', '', '', '', '', '', '', '', 'Преим. право']\n",
      "An exception occurred in line 842: ('found incompatible id', '')\n",
      "Row: ['', '', '', '', '', '', '', '', '', 'Преим. право']\n",
      "An exception occurred in line 889: ('found incompatible id', '')\n",
      "Row: ['', '', '', '', '', '', '', '', '', 'Преим. право']\n",
      "An exception occurred in line 1101: ('found incompatible id', '')\n",
      "Row: ['', '', '', '', '', '', '', '', '', 'Преим. право']\n",
      "An exception occurred in line 1445: ('found incompatible id', '')\n",
      "Row: ['', '', '', '', '', '', '', '', '', 'Преим. право']\n",
      "An exception occurred in line 1798: ('found incompatible id', '')\n",
      "Row: ['', '', '', '', '', '', '', '', '', 'Преим. право']\n",
      "An exception occurred in line 1804: ('found incompatible id', '')\n",
      "Row: ['', '', '', '', '', '', '', '', '', 'Преим. право']\n",
      "An exception occurred in line 2034: ('found incompatible id', '')\n",
      "Row: ['', '', '', '', '', '', '', '', '', 'Преим. право']\n",
      "An exception occurred in line 2047: ('found incompatible id', '')\n",
      "Row: ['', '', '', '', '', '', '', '', '', 'Преим. право']\n",
      "An exception occurred in line 2106: ('found incompatible id', '')\n",
      "Row: ['', '', '', '', '', '', '', '', '', 'Преим. право']\n",
      "An exception occurred in line 2176: ('found incompatible id', '')\n",
      "Row: ['', '', '', '', '', '', '', '', '', 'Преим. право']\n",
      "\u001B[32mMIREA file D:\\Personal\\IT\\Programming\\Projects\\UniversityApplicationSystem\\data\\MIREA_09.03.01_III.csv read finished\u001B[0m\n",
      "\n",
      "\u001B[32mMIREA file D:\\Personal\\IT\\Programming\\Projects\\UniversityApplicationSystem\\data\\MIREA_09.03.01_IIT.csv read started\u001B[0m\n",
      "An exception occurred in line 110: ('found incompatible id', '')\n",
      "Row: ['', '', '', '', '', '', '', '', '', 'Преим. право']\n",
      "An exception occurred in line 472: ('found incompatible id', '')\n",
      "Row: ['', '', '', '', '', '', '', '', '', 'Преим. право']\n",
      "An exception occurred in line 487: ('found incompatible id', '')\n",
      "Row: ['', '', '', '', '', '', '', '', '', 'Преим. право']\n",
      "An exception occurred in line 586: ('found incompatible id', '')\n",
      "Row: ['', '', '', '', '', '', '', '', '', 'Преим. право']\n",
      "An exception occurred in line 600: ('found incompatible id', '')\n",
      "Row: ['', '', '', '', '', '', '', '', '', 'Преим. право']\n",
      "An exception occurred in line 660: ('found incompatible id', '')\n",
      "Row: ['', '', '', '', '', '', '', '', '', 'Преим. право']\n",
      "An exception occurred in line 707: ('found incompatible id', '')\n",
      "Row: ['', '', '', '', '', '', '', '', '', 'Преим. право']\n",
      "An exception occurred in line 813: ('found incompatible id', '')\n",
      "Row: ['', '', '', '', '', '', '', '', '', 'Преим. право']\n",
      "An exception occurred in line 1006: ('found incompatible id', '')\n",
      "Row: ['', '', '', '', '', '', '', '', '', 'Преим. право']\n",
      "An exception occurred in line 1053: ('found incompatible id', '')\n",
      "Row: ['', '', '', '', '', '', '', '', '', 'Преим. право']\n",
      "An exception occurred in line 1366: ('found incompatible id', '')\n",
      "Row: ['', '', '', '', '', '', '', '', '', 'Преим. право']\n",
      "An exception occurred in line 1664: ('found incompatible id', '')\n",
      "Row: ['', '', '', '', '', '', '', '', '', 'Преим. право']\n",
      "An exception occurred in line 1832: ('found incompatible id', '')\n",
      "Row: ['', '', '', '', '', '', '', '', '', 'Преим. право']\n",
      "An exception occurred in line 1928: ('found incompatible id', '')\n",
      "Row: ['', '', '', '', '', '', '', '', '', 'Преим. право']\n",
      "An exception occurred in line 1946: ('found incompatible id', '')\n",
      "Row: ['', '', '', '', '', '', '', '', '', 'Преим. право']\n",
      "An exception occurred in line 1966: ('found incompatible id', '')\n",
      "Row: ['', '', '', '', '', '', '', '', '', 'Преим. право']\n",
      "An exception occurred in line 1993: ('found incompatible id', '')\n",
      "Row: ['', '', '', '', '', '', '', '', '', 'Преим. право']\n",
      "\u001B[32mMIREA file D:\\Personal\\IT\\Programming\\Projects\\UniversityApplicationSystem\\data\\MIREA_09.03.01_IIT.csv read finished\u001B[0m\n",
      "\n",
      "\u001B[32mMIREA file D:\\Personal\\IT\\Programming\\Projects\\UniversityApplicationSystem\\data\\MIREA_09.03.02_IKB.csv read started\u001B[0m\n",
      "An exception occurred in line 54: ('found incompatible id', '')\n",
      "Row: ['', '', '', '', '', '', '', '', '', 'Преим. право']\n",
      "An exception occurred in line 308: ('found incompatible id', '')\n",
      "Row: ['', '', '', '', '', '', '', '', '', 'Преим. право']\n",
      "An exception occurred in line 402: ('found incompatible id', '')\n",
      "Row: ['', '', '', '', '', '', '', '', '', 'Преим. право']\n",
      "An exception occurred in line 417: ('found incompatible id', '')\n",
      "Row: ['', '', '', '', '', '', '', '', '', 'Преим. право']\n",
      "An exception occurred in line 509: ('found incompatible id', '')\n",
      "Row: ['', '', '', '', '', '', '', '', '', 'Преим. право']\n",
      "An exception occurred in line 826: ('found incompatible id', '')\n",
      "Row: ['', '', '', '', '', '', '', '', '', '']\n",
      "An exception occurred in line 827: ('found incompatible id', '')\n",
      "Row: ['', '', '', '', '', '', '', '', '', 'Преим. право']\n",
      "An exception occurred in line 1397: ('found incompatible id', '')\n",
      "Row: ['', '', '', '', '', '', '', '', '', 'Преим. право']\n",
      "An exception occurred in line 1400: ('found incompatible id', '')\n",
      "Row: ['', '', '', '', '', '', '', '', '', 'Преим. право']\n",
      "\u001B[32mMIREA file D:\\Personal\\IT\\Programming\\Projects\\UniversityApplicationSystem\\data\\MIREA_09.03.02_IKB.csv read finished\u001B[0m\n",
      "\n",
      "\u001B[32mMIREA file D:\\Personal\\IT\\Programming\\Projects\\UniversityApplicationSystem\\data\\MIREA_09.03.02_IPTIP-design.csv read started\u001B[0m\n",
      "An exception occurred in line 25: ('found incompatible id', '')\n",
      "Row: ['', '', '', '', '', '', '', '', '', 'Преим. право']\n",
      "An exception occurred in line 136: ('found incompatible id', '')\n",
      "Row: ['', '', '', '', '', '', '', '', '', 'Преим. право']\n",
      "An exception occurred in line 174: ('found incompatible id', '')\n",
      "Row: ['', '', '', '', '', '', '', '', '', 'Преим. право']\n",
      "An exception occurred in line 223: ('found incompatible id', '')\n",
      "Row: ['', '', '', '', '', '', '', '', '', 'Преим. право']\n",
      "An exception occurred in line 354: ('found incompatible id', '')\n",
      "Row: ['', '', '', '', '', '', '', '', '', 'Преим. право']\n",
      "An exception occurred in line 380: ('found incompatible id', '')\n",
      "Row: ['', '', '', '', '', '', '', '', '', 'Преим. право']\n",
      "An exception occurred in line 655: ('found incompatible id', '')\n",
      "Row: ['', '', '', '', '', '', '', '', '', 'Преим. право']\n",
      "An exception occurred in line 772: ('found incompatible id', '')\n",
      "Row: ['', '', '', '', '', '', '', '', '', 'Преим. право']\n",
      "\u001B[32mMIREA file D:\\Personal\\IT\\Programming\\Projects\\UniversityApplicationSystem\\data\\MIREA_09.03.02_IPTIP-design.csv read finished\u001B[0m\n",
      "\n",
      "\u001B[32mMIREA file D:\\Personal\\IT\\Programming\\Projects\\UniversityApplicationSystem\\data\\MIREA_09.03.02_IPTIP-fullstack.csv read started\u001B[0m\n",
      "An exception occurred in line 62: ('found incompatible id', '')\n",
      "Row: ['', '', '', '', '', '', '', '', '', 'Преим. право']\n",
      "An exception occurred in line 281: ('found incompatible id', '')\n",
      "Row: ['', '', '', '', '', '', '', '', '', 'Преим. право']\n",
      "An exception occurred in line 291: ('found incompatible id', '')\n",
      "Row: ['', '', '', '', '', '', '', '', '', 'Преим. право']\n",
      "An exception occurred in line 350: ('found incompatible id', '')\n",
      "Row: ['', '', '', '', '', '', '', '', '', 'Преим. право']\n",
      "An exception occurred in line 431: ('found incompatible id', '')\n",
      "Row: ['', '', '', '', '', '', '', '', '', 'Преим. право']\n",
      "An exception occurred in line 646: ('found incompatible id', '')\n",
      "Row: ['', '', '', '', '', '', '', '', '', 'Преим. право']\n",
      "An exception occurred in line 685: ('found incompatible id', '')\n",
      "Row: ['', '', '', '', '', '', '', '', '', 'Преим. право']\n",
      "An exception occurred in line 1100: ('found incompatible id', '')\n",
      "Row: ['', '', '', '', '', '', '', '', '', 'Преим. право']\n",
      "An exception occurred in line 1103: ('found incompatible id', '')\n",
      "Row: ['', '', '', '', '', '', '', '', '', 'Преим. право']\n",
      "\u001B[32mMIREA file D:\\Personal\\IT\\Programming\\Projects\\UniversityApplicationSystem\\data\\MIREA_09.03.02_IPTIP-fullstack.csv read finished\u001B[0m\n",
      "\u001B[31mERROR: student id=166-457-441 96 is already registered for profile 09.03.02:IPTIP-fullstack in university MIREA\u001B[0m\n",
      "\n",
      "\u001B[32mMIREA file D:\\Personal\\IT\\Programming\\Projects\\UniversityApplicationSystem\\data\\MIREA_09.03.02_IRI.csv read started\u001B[0m\n",
      "An exception occurred in line 31: ('found incompatible id', '')\n",
      "Row: ['', '', '', '', '', '', '', '', '', 'Преим. право']\n",
      "An exception occurred in line 190: ('found incompatible id', '')\n",
      "Row: ['', '', '', '', '', '', '', '', '', 'Преим. право']\n",
      "An exception occurred in line 384: ('found incompatible id', '')\n",
      "Row: ['', '', '', '', '', '', '', '', '', 'Преим. право']\n",
      "An exception occurred in line 987: ('found incompatible id', '')\n",
      "Row: ['', '', '', '', '', '', '', '', '', 'Преим. право']\n",
      "An exception occurred in line 1015: ('found incompatible id', '')\n",
      "Row: ['', '', '', '', '', '', '', '', '', 'Преим. право']\n",
      "\u001B[32mMIREA file D:\\Personal\\IT\\Programming\\Projects\\UniversityApplicationSystem\\data\\MIREA_09.03.02_IRI.csv read finished\u001B[0m\n",
      "\n",
      "\u001B[32mMIREA file D:\\Personal\\IT\\Programming\\Projects\\UniversityApplicationSystem\\data\\MIREA_09.03.03.csv read started\u001B[0m\n",
      "An exception occurred in line 133: ('found incompatible id', '')\n",
      "Row: ['', '', '', '', '', '', '', '', '', 'Преим. право']\n",
      "An exception occurred in line 534: ('found incompatible id', '')\n",
      "Row: ['', '', '', '', '', '', '', '', '', 'Преим. право']\n",
      "An exception occurred in line 594: ('found incompatible id', '')\n",
      "Row: ['', '', '', '', '', '', '', '', '', '']\n",
      "An exception occurred in line 595: ('found incompatible id', '')\n",
      "Row: ['', '', '', '', '', '', '', '', '', 'Преим. право']\n",
      "An exception occurred in line 604: ('found incompatible id', '')\n",
      "Row: ['', '', '', '', '', '', '', '', '', 'Преим. право']\n",
      "An exception occurred in line 732: ('found incompatible id', '')\n",
      "Row: ['', '', '', '', '', '', '', '', '', 'Преим. право']\n",
      "An exception occurred in line 756: ('found incompatible id', '')\n",
      "Row: ['', '', '', '', '', '', '', '', '', 'Преим. право']\n",
      "An exception occurred in line 840: ('found incompatible id', '')\n",
      "Row: ['', '', '', '', '', '', '', '', '', '']\n",
      "An exception occurred in line 841: ('found incompatible id', '')\n",
      "Row: ['', '', '', '', '', '', '', '', '', 'Преим. право']\n",
      "An exception occurred in line 882: ('found incompatible id', '')\n",
      "Row: ['', '', '', '', '', '', '', '', '', '']\n",
      "An exception occurred in line 883: ('found incompatible id', '')\n",
      "Row: ['', '', '', '', '', '', '', '', '', 'Преим. право']\n",
      "An exception occurred in line 898: ('found incompatible id', '')\n",
      "Row: ['', '', '', '', '', '', '', '', '', 'Преим. право']\n",
      "An exception occurred in line 1025: ('found incompatible id', '')\n",
      "Row: ['', '', '', '', '', '', '', '', '', '']\n",
      "An exception occurred in line 1026: ('found incompatible id', '')\n",
      "Row: ['', '', '', '', '', '', '', '', '', 'Преим. право']\n",
      "An exception occurred in line 1078: ('found incompatible id', '')\n",
      "Row: ['', '', '', '', '', '', '', '', '', 'Преим. право']\n",
      "An exception occurred in line 1254: ('found incompatible id', '')\n",
      "Row: ['', '', '', '', '', '', '', '', '', 'Преим. право']\n",
      "An exception occurred in line 1299: ('found incompatible id', '')\n",
      "Row: ['', '', '', '', '', '', '', '', '', 'Преим. право']\n",
      "An exception occurred in line 1604: ('found incompatible id', '')\n",
      "Row: ['', '', '', '', '', '', '', '', '', 'Преим. право']\n",
      "An exception occurred in line 1846: ('found incompatible id', '')\n",
      "Row: ['', '', '', '', '', '', '', '', '', 'Преим. право']\n",
      "An exception occurred in line 1849: ('found incompatible id', '')\n",
      "Row: ['', '', '', '', '', '', '', '', '', 'Преим. право']\n",
      "An exception occurred in line 2080: ('found incompatible id', '')\n",
      "Row: ['', '', '', '', '', '', '', '', '', 'Преим. право']\n",
      "\u001B[32mMIREA file D:\\Personal\\IT\\Programming\\Projects\\UniversityApplicationSystem\\data\\MIREA_09.03.03.csv read finished\u001B[0m\n",
      "\n",
      "\u001B[32mMIREA file D:\\Personal\\IT\\Programming\\Projects\\UniversityApplicationSystem\\data\\MIREA_09.03.04.csv read started\u001B[0m\n",
      "An exception occurred in line 201: ('found incompatible id', '')\n",
      "Row: ['', '', '', '', '', '', '', '', '', '']\n",
      "An exception occurred in line 202: ('found incompatible id', '')\n",
      "Row: ['', '', '', '', '', '', '', '', '', 'Преим. право']\n",
      "An exception occurred in line 808: ('found incompatible id', '')\n",
      "Row: ['', '', '', '', '', '', '', '', '', 'Преим. право']\n",
      "An exception occurred in line 981: ('found incompatible id', '')\n",
      "Row: ['', '', '', '', '', '', '', '', '', '']\n",
      "An exception occurred in line 982: ('found incompatible id', '')\n",
      "Row: ['', '', '', '', '', '', '', '', '', 'Преим. право']\n",
      "An exception occurred in line 1089: ('found incompatible id', '')\n",
      "Row: ['', '', '', '', '', '', '', '', '', 'Преим. право']\n",
      "An exception occurred in line 1135: ('found incompatible id', '')\n",
      "Row: ['', '', '', '', '', '', '', '', '', 'Преим. право']\n",
      "An exception occurred in line 1273: ('found incompatible id', '')\n",
      "Row: ['', '', '', '', '', '', '', '', '', 'Преим. право']\n",
      "An exception occurred in line 1326: ('found incompatible id', '')\n",
      "Row: ['', '', '', '', '', '', '', '', '', '']\n",
      "An exception occurred in line 1327: ('found incompatible id', '')\n",
      "Row: ['', '', '', '', '', '', '', '', '', 'Преим. право']\n",
      "An exception occurred in line 1545: ('found incompatible id', '')\n",
      "Row: ['', '', '', '', '', '', '', '', '', 'Преим. право']\n",
      "An exception occurred in line 2214: ('found incompatible id', '')\n",
      "Row: ['', '', '', '', '', '', '', '', '', 'Преим. право']\n",
      "An exception occurred in line 2433: ('found incompatible id', '')\n",
      "Row: ['', '', '', '', '', '', '', '', '', 'Преим. право']\n",
      "\u001B[32mMIREA file D:\\Personal\\IT\\Programming\\Projects\\UniversityApplicationSystem\\data\\MIREA_09.03.04.csv read finished\u001B[0m\n",
      "\n",
      "\u001B[32mMIREA file D:\\Personal\\IT\\Programming\\Projects\\UniversityApplicationSystem\\data\\MIREA_10.03.01.csv read started\u001B[0m\n",
      "An exception occurred in line 51: ('found incompatible id', '')\n",
      "Row: ['', '', '', '', '', '', '', '', '', 'Преим. право']\n",
      "An exception occurred in line 523: ('found incompatible id', '')\n",
      "Row: ['', '', '', '', '', '', '', '', '', 'Преим. право']\n",
      "An exception occurred in line 637: ('found incompatible id', '')\n",
      "Row: ['', '', '', '', '', '', '', '', '', 'Преим. право']\n",
      "An exception occurred in line 896: ('found incompatible id', '')\n",
      "Row: ['', '', '', '', '', '', '', '', '', 'Преим. право']\n",
      "An exception occurred in line 969: ('found incompatible id', '')\n",
      "Row: ['', '', '', '', '', '', '', '', '', 'Преим. право']\n",
      "An exception occurred in line 1025: ('found incompatible id', '')\n",
      "Row: ['', '', '', '', '', '', '', '', '', 'Преим. право']\n",
      "\u001B[32mMIREA file D:\\Personal\\IT\\Programming\\Projects\\UniversityApplicationSystem\\data\\MIREA_10.03.01.csv read finished\u001B[0m\n",
      "\n",
      "\u001B[32mMIREA file D:\\Personal\\IT\\Programming\\Projects\\UniversityApplicationSystem\\data\\MIREA_10.05.01.csv read started\u001B[0m\n",
      "An exception occurred in line 186: ('found incompatible id', '')\n",
      "Row: ['', '', '', '', '', '', '', '', '', 'Преим. право']\n",
      "An exception occurred in line 654: ('found incompatible id', '')\n",
      "Row: ['', '', '', '', '', '', '', '', '', '']\n",
      "An exception occurred in line 655: ('found incompatible id', '')\n",
      "Row: ['', '', '', '', '', '', '', '', '', 'Преим. право']\n",
      "An exception occurred in line 755: ('found incompatible id', '')\n",
      "Row: ['', '', '', '', '', '', '', '', '', 'Преим. право']\n",
      "\u001B[32mMIREA file D:\\Personal\\IT\\Programming\\Projects\\UniversityApplicationSystem\\data\\MIREA_10.05.01.csv read finished\u001B[0m\n",
      "\n",
      "\u001B[32mMPEI file D:\\Personal\\IT\\Programming\\Projects\\UniversityApplicationSystem\\data\\MPEI_01.03.02_inf.csv read started\u001B[0m\n",
      "An exception occurred in line 566: ('found incompatible id', '')\n",
      "Row: ['', '', '', '', '', '', '', '', '', '', '', 'Преимущественное право']\n",
      "\u001B[32mMPEI file D:\\Personal\\IT\\Programming\\Projects\\UniversityApplicationSystem\\data\\MPEI_01.03.02_inf.csv read finished\u001B[0m\n",
      "\n",
      "\u001B[32mMPEI file D:\\Personal\\IT\\Programming\\Projects\\UniversityApplicationSystem\\data\\MPEI_01.03.02_mat.csv read started\u001B[0m\n",
      "An exception occurred in line 562: ('found incompatible id', '')\n",
      "Row: ['', '', '', '', '', '', '', '', '', '', '', 'Преимущественное право']\n",
      "\u001B[32mMPEI file D:\\Personal\\IT\\Programming\\Projects\\UniversityApplicationSystem\\data\\MPEI_01.03.02_mat.csv read finished\u001B[0m\n",
      "\u001B[31mERROR: student id=183-287-095 96 is already registered for profile 01.03.02:mat in university MPEI\u001B[0m\n",
      "\u001B[31mERROR: student id=160-820-443 37 is already registered for profile 01.03.02:mat in university MPEI\u001B[0m\n",
      "\n",
      "\u001B[32mMPEI file D:\\Personal\\IT\\Programming\\Projects\\UniversityApplicationSystem\\data\\MPEI_09.03.01.csv read started\u001B[0m\n",
      "An exception occurred in line 769: ('found incompatible id', '')\n",
      "Row: ['', '', '', '', '', '', '', '', '', '', '', '', 'Преимущественное право']\n",
      "\u001B[32mMPEI file D:\\Personal\\IT\\Programming\\Projects\\UniversityApplicationSystem\\data\\MPEI_09.03.01.csv read finished\u001B[0m\n",
      "\n",
      "\u001B[32mMPEI file D:\\Personal\\IT\\Programming\\Projects\\UniversityApplicationSystem\\data\\MPEI_09.03.03.csv read started\u001B[0m\n",
      "An exception occurred in line 685: ('found incompatible id', '')\n",
      "Row: ['', '', '', '', '', '', '', '', '', '', '', '', 'Преимущественное право']\n",
      "An exception occurred in line 990: ('found incompatible id', '')\n",
      "Row: ['', '', '', '', '', '', '', '', '', '', '', '', 'Преимущественное право']\n",
      "\u001B[32mMPEI file D:\\Personal\\IT\\Programming\\Projects\\UniversityApplicationSystem\\data\\MPEI_09.03.03.csv read finished\u001B[0m\n",
      "\n",
      "\u001B[32mMPEI file D:\\Personal\\IT\\Programming\\Projects\\UniversityApplicationSystem\\data\\MPEI_10.03.01.csv read started\u001B[0m\n",
      "An exception occurred in line 630: ('found incompatible id', '')\n",
      "Row: ['', '', '', '', '', '', '', '', '', '', '', '', 'Преимущественное право']\n",
      "An exception occurred in line 946: ('found incompatible id', '')\n",
      "Row: ['', '', '', '', '', '', '', '', '', '', '', '', 'Преимущественное право']\n",
      "\u001B[32mMPEI file D:\\Personal\\IT\\Programming\\Projects\\UniversityApplicationSystem\\data\\MPEI_10.03.01.csv read finished\u001B[0m\n",
      "\n",
      "\u001B[32mMPEI file D:\\Personal\\IT\\Programming\\Projects\\UniversityApplicationSystem\\data\\MPEI_27.03.04.csv read started\u001B[0m\n",
      "An exception occurred in line 225: ('found incompatible id', '')\n",
      "Row: ['', '', '', '', '', '', '', '', '', '', '', '', 'Преимущественное право']\n",
      "\u001B[32mMPEI file D:\\Personal\\IT\\Programming\\Projects\\UniversityApplicationSystem\\data\\MPEI_27.03.04.csv read finished\u001B[0m\n",
      "\u001B[31mERROR: student id=183-287-095 96 is already registered for profile 27.03.04 in university MPEI\u001B[0m\n",
      "\n",
      "\u001B[32mMPEI file D:\\Personal\\IT\\Programming\\Projects\\UniversityApplicationSystem\\data\\MPEI_38.03.05.csv read started\u001B[0m\n",
      "An exception occurred in line 257: ('found incompatible id', '')\n",
      "Row: ['', '', '', '', '', '', '', '', '', '', '', '', 'Преимущественное право']\n",
      "An exception occurred in line 603: ('found incompatible id', '')\n",
      "Row: ['', '', '', '', '', '', '', '', '', '', '', '', 'Преимущественное право']\n",
      "An exception occurred in line 656: ('found incompatible id', '')\n",
      "Row: ['', '', '', '', '', '', '', '', '', '', '', '', 'Преимущественное право']\n",
      "\u001B[32mMPEI file D:\\Personal\\IT\\Programming\\Projects\\UniversityApplicationSystem\\data\\MPEI_38.03.05.csv read finished\u001B[0m\n",
      "\n",
      "\u001B[32mMTUCI file D:\\Personal\\IT\\Programming\\Projects\\UniversityApplicationSystem\\data\\MTUCI_01.03.04.csv read started\u001B[0m\n",
      "\u001B[32mMTUCI file D:\\Personal\\IT\\Programming\\Projects\\UniversityApplicationSystem\\data\\MTUCI_01.03.04.csv read finished\u001B[0m\n",
      "\n",
      "\u001B[32mMTUCI file D:\\Personal\\IT\\Programming\\Projects\\UniversityApplicationSystem\\data\\MTUCI_02.03.02.csv read started\u001B[0m\n",
      "\u001B[32mMTUCI file D:\\Personal\\IT\\Programming\\Projects\\UniversityApplicationSystem\\data\\MTUCI_02.03.02.csv read finished\u001B[0m\n",
      "\n",
      "\u001B[32mMTUCI file D:\\Personal\\IT\\Programming\\Projects\\UniversityApplicationSystem\\data\\MTUCI_09.03.01.csv read started\u001B[0m\n",
      "\u001B[32mMTUCI file D:\\Personal\\IT\\Programming\\Projects\\UniversityApplicationSystem\\data\\MTUCI_09.03.01.csv read finished\u001B[0m\n",
      "\n",
      "\u001B[32mMTUCI file D:\\Personal\\IT\\Programming\\Projects\\UniversityApplicationSystem\\data\\MTUCI_09.03.02.csv read started\u001B[0m\n",
      "\u001B[32mMTUCI file D:\\Personal\\IT\\Programming\\Projects\\UniversityApplicationSystem\\data\\MTUCI_09.03.02.csv read finished\u001B[0m\n",
      "\n",
      "\u001B[32mMTUCI file D:\\Personal\\IT\\Programming\\Projects\\UniversityApplicationSystem\\data\\MTUCI_09.03.03.csv read started\u001B[0m\n",
      "\u001B[32mMTUCI file D:\\Personal\\IT\\Programming\\Projects\\UniversityApplicationSystem\\data\\MTUCI_09.03.03.csv read finished\u001B[0m\n",
      "\n",
      "\u001B[32mMTUCI file D:\\Personal\\IT\\Programming\\Projects\\UniversityApplicationSystem\\data\\MTUCI_10.03.01.csv read started\u001B[0m\n",
      "\u001B[32mMTUCI file D:\\Personal\\IT\\Programming\\Projects\\UniversityApplicationSystem\\data\\MTUCI_10.03.01.csv read finished\u001B[0m\n",
      "\n",
      "\u001B[32mMTUCI file D:\\Personal\\IT\\Programming\\Projects\\UniversityApplicationSystem\\data\\MTUCI_10.05.02.csv read started\u001B[0m\n",
      "\u001B[32mMTUCI file D:\\Personal\\IT\\Programming\\Projects\\UniversityApplicationSystem\\data\\MTUCI_10.05.02.csv read finished\u001B[0m\n",
      "\n",
      "\u001B[32mMTUCI file D:\\Personal\\IT\\Programming\\Projects\\UniversityApplicationSystem\\data\\MTUCI_11.03.01.csv read started\u001B[0m\n",
      "\u001B[32mMTUCI file D:\\Personal\\IT\\Programming\\Projects\\UniversityApplicationSystem\\data\\MTUCI_11.03.01.csv read finished\u001B[0m\n",
      "\n",
      "\u001B[32mMTUCI file D:\\Personal\\IT\\Programming\\Projects\\UniversityApplicationSystem\\data\\MTUCI_11.03.02_RIT.csv read started\u001B[0m\n",
      "\u001B[32mMTUCI file D:\\Personal\\IT\\Programming\\Projects\\UniversityApplicationSystem\\data\\MTUCI_11.03.02_RIT.csv read finished\u001B[0m\n",
      "\n",
      "\u001B[32mMTUCI file D:\\Personal\\IT\\Programming\\Projects\\UniversityApplicationSystem\\data\\MTUCI_11.03.02_SISS.csv read started\u001B[0m\n",
      "\u001B[32mMTUCI file D:\\Personal\\IT\\Programming\\Projects\\UniversityApplicationSystem\\data\\MTUCI_11.03.02_SISS.csv read finished\u001B[0m\n",
      "\n",
      "\u001B[32mMTUCI file D:\\Personal\\IT\\Programming\\Projects\\UniversityApplicationSystem\\data\\MTUCI_15.03.04.csv read started\u001B[0m\n",
      "\u001B[32mMTUCI file D:\\Personal\\IT\\Programming\\Projects\\UniversityApplicationSystem\\data\\MTUCI_15.03.04.csv read finished\u001B[0m\n",
      "\n",
      "\u001B[32mMTUCI file D:\\Personal\\IT\\Programming\\Projects\\UniversityApplicationSystem\\data\\MTUCI_27.03.04.csv read started\u001B[0m\n",
      "\u001B[32mMTUCI file D:\\Personal\\IT\\Programming\\Projects\\UniversityApplicationSystem\\data\\MTUCI_27.03.04.csv read finished\u001B[0m\n",
      "\n"
     ]
    }
   ],
   "source": [
    "loader.load_data(system, \"../../data/\")"
   ],
   "metadata": {
    "collapsed": false,
    "pycharm": {
     "name": "#%%\n"
    }
   }
  },
  {
   "cell_type": "code",
   "execution_count": 5,
   "outputs": [],
   "source": [
    "places_details = {\n",
    "    University.MPEI: {\n",
    "        Profile('01.03.02', 'inf'): 46,\n",
    "        Profile('01.03.02', 'mat'): 36,\n",
    "        Profile('09.03.01'): 157,\n",
    "        Profile('09.03.03'): 27,\n",
    "        Profile('10.03.01'): 35,\n",
    "        Profile('27.03.04'): 66,\n",
    "        Profile('38.03.05'): 7,\n",
    "    },\n",
    "    University.MIREA: {\n",
    "        Profile('01.03.02'): 65,\n",
    "        Profile('01.03.04'): 25,\n",
    "        Profile('02.03.02'): 13,\n",
    "        Profile('09.03.01', 'IIT'): 78,\n",
    "        Profile('09.03.01', 'III'): 115,\n",
    "        Profile('09.03.02', 'IKB'): 168,\n",
    "        Profile('09.03.02', 'IRI'): 39,\n",
    "        Profile('09.03.02', 'IPTIP-design'): 39,\n",
    "        Profile('09.03.02', 'IPTIP-fullstack'): 16,\n",
    "        Profile('09.03.03'): 139,\n",
    "        Profile('09.03.04'): 147,\n",
    "        Profile('10.03.01'): 21,\n",
    "        Profile('10.05.01'): 32,\n",
    "    },\n",
    "    University.MAI: {\n",
    "        Profile('01.03.00'): 201,\n",
    "        Profile('01.03.02'): 19,\n",
    "        Profile('02.03.02'): 49,\n",
    "        Profile('09.03.01'): 147,\n",
    "        Profile('09.03.02'): 47,\n",
    "        Profile('09.03.03'): 50,\n",
    "        Profile('09.03.04'): 46,\n",
    "        Profile('10.03.01'): 38,\n",
    "    },\n",
    "    University.MPOLITECH: {\n",
    "        Profile('01.03.02'): 27,\n",
    "        Profile('09.03.01', '01'): 37,\n",
    "        Profile('09.03.01', '02'): 66,\n",
    "        Profile('09.03.01', '04'): 45,\n",
    "        Profile('09.03.01', '05'): 24,\n",
    "        Profile('09.03.02', '01'): 179,\n",
    "        Profile('09.03.02', '02'): 21,\n",
    "        Profile('09.03.02', '03'): 22,\n",
    "        Profile('09.03.03', '01'): 44,\n",
    "        Profile('09.03.03', '02'): 44,\n",
    "        Profile('09.03.03', '03'): 22,\n",
    "        Profile('10.03.01'): 31,\n",
    "    },\n",
    "    University.MTUCI: {\n",
    "        Profile('01.03.04'): 16,\n",
    "        Profile('02.03.02'): 46,\n",
    "        Profile('09.03.01'): 100,\n",
    "        Profile('09.03.02'): 90,\n",
    "        Profile('09.03.03'): 50,\n",
    "        Profile('10.03.01'): 52,\n",
    "        Profile('10.05.02'): 60,\n",
    "        Profile('11.03.01'): 75,\n",
    "        Profile('11.03.02', 'RIT'): 232,\n",
    "        Profile('11.03.02', 'SISS'): 306,\n",
    "        Profile('15.03.04'): 20,\n",
    "        Profile('27.03.04'): 24,\n",
    "    },\n",
    "}\n",
    "system.add_places_details(places_details)"
   ],
   "metadata": {
    "collapsed": false,
    "pycharm": {
     "name": "#%%\n"
    }
   }
  },
  {
   "cell_type": "code",
   "execution_count": 6,
   "outputs": [
    {
     "name": "stdout",
     "output_type": "stream",
     "text": [
      "\u001B[33mFound less students than places for 11.03.01 in MTUCI\u001B[0m\n",
      "\u001B[33mFound less students than places for 11.03.02:RIT in MTUCI\u001B[0m\n",
      "\u001B[33mFound less students than places for 11.03.02:SISS in MTUCI\u001B[0m\n"
     ]
    },
    {
     "data": {
      "text/plain": "{MIPT: {},\n VSE: {},\n MSU: {},\n MEPHI: {},\n BMSTU: {},\n MIREA: {01.03.02: 295,\n  01.03.04: 293,\n  02.03.02: 295,\n  09.03.01:III: 288,\n  09.03.01:IIT: 290,\n  09.03.02:IKB: 281,\n  09.03.02:IPTIP-design: 285,\n  09.03.02:IPTIP-fullstack: 298,\n  09.03.02:IRI: 285,\n  09.03.03: 288,\n  09.03.04: 290,\n  10.03.01: 294,\n  10.05.01: 289},\n MAI: {},\n MPEI: {01.03.02:inf: 280,\n  01.03.02:mat: 278,\n  09.03.01: 275,\n  09.03.03: 286,\n  10.03.01: 284,\n  27.03.04: 272,\n  38.03.05: 288},\n MTUCI: {01.03.04: 285,\n  02.03.02: 281,\n  09.03.01: 277,\n  09.03.02: 277,\n  09.03.03: 281,\n  10.03.01: 278,\n  10.05.02: 271,\n  11.03.01: 262,\n  11.03.02:RIT: 262,\n  11.03.02:SISS: 262,\n  15.03.04: 279,\n  27.03.04: 280},\n MPOLITECH: {},\n MIET: {},\n ITMO: {},\n SPBSU: {}}"
     },
     "execution_count": 6,
     "metadata": {},
     "output_type": "execute_result"
    }
   ],
   "source": [
    "system.get_current_min_scores()"
   ],
   "metadata": {
    "collapsed": false,
    "pycharm": {
     "name": "#%%\n"
    }
   }
  },
  {
   "cell_type": "code",
   "execution_count": 17,
   "outputs": [
    {
     "data": {
      "text/plain": "{MIREA: {09.03.01:III: (140, 287),\n  09.03.01:IIT: (141, 287),\n  09.03.04: (258, 287),\n  10.03.01: (52, 287),\n  10.05.01: (38, 287)},\n MPEI: {01.03.02:inf: (158, 273), 09.03.01: (222, 273), 10.03.01: (187, 273)}}"
     },
     "execution_count": 17,
     "metadata": {},
     "output_type": "execute_result"
    }
   ],
   "source": [
    "system.get_current_positions(StudentId(\"142-312-839 24\"))"
   ],
   "metadata": {
    "collapsed": false,
    "pycharm": {
     "name": "#%%\n"
    }
   }
  },
  {
   "cell_type": "code",
   "execution_count": 8,
   "outputs": [
    {
     "data": {
      "text/plain": "<pandas.io.formats.style.Styler at 0x1a2a8d9cee0>",
      "text/html": "<style type=\"text/css\">\n</style>\n<table id=\"T_956b4\">\n  <caption>All agreements (with listed)</caption>\n  <thead>\n    <tr>\n      <th class=\"blank level0\" >&nbsp;</th>\n      <th id=\"T_956b4_level0_col0\" class=\"col_heading level0 col0\" >University</th>\n      <th id=\"T_956b4_level0_col1\" class=\"col_heading level0 col1\" >Agreements</th>\n    </tr>\n  </thead>\n  <tbody>\n    <tr>\n      <th id=\"T_956b4_level0_row0\" class=\"row_heading level0 row0\" >0</th>\n      <td id=\"T_956b4_row0_col0\" class=\"data row0 col0\" >МФТИ</td>\n      <td id=\"T_956b4_row0_col1\" class=\"data row0 col1\" >0</td>\n    </tr>\n    <tr>\n      <th id=\"T_956b4_level0_row1\" class=\"row_heading level0 row1\" >1</th>\n      <td id=\"T_956b4_row1_col0\" class=\"data row1 col0\" >ВШЭ</td>\n      <td id=\"T_956b4_row1_col1\" class=\"data row1 col1\" >0</td>\n    </tr>\n    <tr>\n      <th id=\"T_956b4_level0_row2\" class=\"row_heading level0 row2\" >2</th>\n      <td id=\"T_956b4_row2_col0\" class=\"data row2 col0\" >МГУ</td>\n      <td id=\"T_956b4_row2_col1\" class=\"data row2 col1\" >0</td>\n    </tr>\n    <tr>\n      <th id=\"T_956b4_level0_row3\" class=\"row_heading level0 row3\" >3</th>\n      <td id=\"T_956b4_row3_col0\" class=\"data row3 col0\" >МИФИ</td>\n      <td id=\"T_956b4_row3_col1\" class=\"data row3 col1\" >0</td>\n    </tr>\n    <tr>\n      <th id=\"T_956b4_level0_row4\" class=\"row_heading level0 row4\" >4</th>\n      <td id=\"T_956b4_row4_col0\" class=\"data row4 col0\" >Бауманка</td>\n      <td id=\"T_956b4_row4_col1\" class=\"data row4 col1\" >0</td>\n    </tr>\n    <tr>\n      <th id=\"T_956b4_level0_row5\" class=\"row_heading level0 row5\" >5</th>\n      <td id=\"T_956b4_row5_col0\" class=\"data row5 col0\" >МИРЭА</td>\n      <td id=\"T_956b4_row5_col1\" class=\"data row5 col1\" >843</td>\n    </tr>\n    <tr>\n      <th id=\"T_956b4_level0_row6\" class=\"row_heading level0 row6\" >6</th>\n      <td id=\"T_956b4_row6_col0\" class=\"data row6 col0\" >МАИ</td>\n      <td id=\"T_956b4_row6_col1\" class=\"data row6 col1\" >0</td>\n    </tr>\n    <tr>\n      <th id=\"T_956b4_level0_row7\" class=\"row_heading level0 row7\" >7</th>\n      <td id=\"T_956b4_row7_col0\" class=\"data row7 col0\" >МЭИ</td>\n      <td id=\"T_956b4_row7_col1\" class=\"data row7 col1\" >172</td>\n    </tr>\n    <tr>\n      <th id=\"T_956b4_level0_row8\" class=\"row_heading level0 row8\" >8</th>\n      <td id=\"T_956b4_row8_col0\" class=\"data row8 col0\" >МТУСИ</td>\n      <td id=\"T_956b4_row8_col1\" class=\"data row8 col1\" >72</td>\n    </tr>\n    <tr>\n      <th id=\"T_956b4_level0_row9\" class=\"row_heading level0 row9\" >9</th>\n      <td id=\"T_956b4_row9_col0\" class=\"data row9 col0\" >МосПолитех</td>\n      <td id=\"T_956b4_row9_col1\" class=\"data row9 col1\" >0</td>\n    </tr>\n    <tr>\n      <th id=\"T_956b4_level0_row10\" class=\"row_heading level0 row10\" >10</th>\n      <td id=\"T_956b4_row10_col0\" class=\"data row10 col0\" >МИЭТ</td>\n      <td id=\"T_956b4_row10_col1\" class=\"data row10 col1\" >0</td>\n    </tr>\n    <tr>\n      <th id=\"T_956b4_level0_row11\" class=\"row_heading level0 row11\" >11</th>\n      <td id=\"T_956b4_row11_col0\" class=\"data row11 col0\" >ИТМО</td>\n      <td id=\"T_956b4_row11_col1\" class=\"data row11 col1\" >0</td>\n    </tr>\n    <tr>\n      <th id=\"T_956b4_level0_row12\" class=\"row_heading level0 row12\" >12</th>\n      <td id=\"T_956b4_row12_col0\" class=\"data row12 col0\" >СПБГУ</td>\n      <td id=\"T_956b4_row12_col1\" class=\"data row12 col1\" >0</td>\n    </tr>\n  </tbody>\n</table>\n"
     },
     "metadata": {},
     "output_type": "display_data"
    }
   ],
   "source": [
    "system.show_number_of_agreements_by_university()"
   ],
   "metadata": {
    "collapsed": false,
    "pycharm": {
     "name": "#%%\n"
    }
   }
  },
  {
   "cell_type": "code",
   "execution_count": 9,
   "outputs": [
    {
     "data": {
      "text/plain": "<pandas.io.formats.style.Styler at 0x1a2a8da4130>",
      "text/html": "<style type=\"text/css\">\n</style>\n<table id=\"T_70c1a\">\n  <caption>All pending agreements</caption>\n  <thead>\n    <tr>\n      <th class=\"blank level0\" >&nbsp;</th>\n      <th id=\"T_70c1a_level0_col0\" class=\"col_heading level0 col0\" >University</th>\n      <th id=\"T_70c1a_level0_col1\" class=\"col_heading level0 col1\" >Agreements</th>\n    </tr>\n  </thead>\n  <tbody>\n    <tr>\n      <th id=\"T_70c1a_level0_row0\" class=\"row_heading level0 row0\" >0</th>\n      <td id=\"T_70c1a_row0_col0\" class=\"data row0 col0\" >МФТИ</td>\n      <td id=\"T_70c1a_row0_col1\" class=\"data row0 col1\" >0</td>\n    </tr>\n    <tr>\n      <th id=\"T_70c1a_level0_row1\" class=\"row_heading level0 row1\" >1</th>\n      <td id=\"T_70c1a_row1_col0\" class=\"data row1 col0\" >ВШЭ</td>\n      <td id=\"T_70c1a_row1_col1\" class=\"data row1 col1\" >0</td>\n    </tr>\n    <tr>\n      <th id=\"T_70c1a_level0_row2\" class=\"row_heading level0 row2\" >2</th>\n      <td id=\"T_70c1a_row2_col0\" class=\"data row2 col0\" >МГУ</td>\n      <td id=\"T_70c1a_row2_col1\" class=\"data row2 col1\" >0</td>\n    </tr>\n    <tr>\n      <th id=\"T_70c1a_level0_row3\" class=\"row_heading level0 row3\" >3</th>\n      <td id=\"T_70c1a_row3_col0\" class=\"data row3 col0\" >МИФИ</td>\n      <td id=\"T_70c1a_row3_col1\" class=\"data row3 col1\" >0</td>\n    </tr>\n    <tr>\n      <th id=\"T_70c1a_level0_row4\" class=\"row_heading level0 row4\" >4</th>\n      <td id=\"T_70c1a_row4_col0\" class=\"data row4 col0\" >Бауманка</td>\n      <td id=\"T_70c1a_row4_col1\" class=\"data row4 col1\" >0</td>\n    </tr>\n    <tr>\n      <th id=\"T_70c1a_level0_row5\" class=\"row_heading level0 row5\" >5</th>\n      <td id=\"T_70c1a_row5_col0\" class=\"data row5 col0\" >МИРЭА</td>\n      <td id=\"T_70c1a_row5_col1\" class=\"data row5 col1\" >843</td>\n    </tr>\n    <tr>\n      <th id=\"T_70c1a_level0_row6\" class=\"row_heading level0 row6\" >6</th>\n      <td id=\"T_70c1a_row6_col0\" class=\"data row6 col0\" >МАИ</td>\n      <td id=\"T_70c1a_row6_col1\" class=\"data row6 col1\" >0</td>\n    </tr>\n    <tr>\n      <th id=\"T_70c1a_level0_row7\" class=\"row_heading level0 row7\" >7</th>\n      <td id=\"T_70c1a_row7_col0\" class=\"data row7 col0\" >МЭИ</td>\n      <td id=\"T_70c1a_row7_col1\" class=\"data row7 col1\" >172</td>\n    </tr>\n    <tr>\n      <th id=\"T_70c1a_level0_row8\" class=\"row_heading level0 row8\" >8</th>\n      <td id=\"T_70c1a_row8_col0\" class=\"data row8 col0\" >МТУСИ</td>\n      <td id=\"T_70c1a_row8_col1\" class=\"data row8 col1\" >72</td>\n    </tr>\n    <tr>\n      <th id=\"T_70c1a_level0_row9\" class=\"row_heading level0 row9\" >9</th>\n      <td id=\"T_70c1a_row9_col0\" class=\"data row9 col0\" >МосПолитех</td>\n      <td id=\"T_70c1a_row9_col1\" class=\"data row9 col1\" >0</td>\n    </tr>\n    <tr>\n      <th id=\"T_70c1a_level0_row10\" class=\"row_heading level0 row10\" >10</th>\n      <td id=\"T_70c1a_row10_col0\" class=\"data row10 col0\" >МИЭТ</td>\n      <td id=\"T_70c1a_row10_col1\" class=\"data row10 col1\" >0</td>\n    </tr>\n    <tr>\n      <th id=\"T_70c1a_level0_row11\" class=\"row_heading level0 row11\" >11</th>\n      <td id=\"T_70c1a_row11_col0\" class=\"data row11 col0\" >ИТМО</td>\n      <td id=\"T_70c1a_row11_col1\" class=\"data row11 col1\" >0</td>\n    </tr>\n    <tr>\n      <th id=\"T_70c1a_level0_row12\" class=\"row_heading level0 row12\" >12</th>\n      <td id=\"T_70c1a_row12_col0\" class=\"data row12 col0\" >СПБГУ</td>\n      <td id=\"T_70c1a_row12_col1\" class=\"data row12 col1\" >0</td>\n    </tr>\n  </tbody>\n</table>\n"
     },
     "metadata": {},
     "output_type": "display_data"
    }
   ],
   "source": [
    "system.show_number_of_pending_agreements_by_university()"
   ],
   "metadata": {
    "collapsed": false,
    "pycharm": {
     "name": "#%%\n"
    }
   }
  },
  {
   "cell_type": "code",
   "execution_count": 10,
   "outputs": [
    {
     "data": {
      "text/plain": "  University  N of Agreements  Average score  Median score  Top 5% score  \\\n1      МИРЭА              843          269.5         270.0         287.0   \n2        МЭИ              172          264.3         263.5         278.0   \n3      МТУСИ               72          270.1         268.0         284.4   \n\n   Top 10% score  Top 20% score  \n1          284.0          279.0  \n2          276.0          270.4  \n3          282.0          278.4  ",
      "text/html": "<div>\n<style scoped>\n    .dataframe tbody tr th:only-of-type {\n        vertical-align: middle;\n    }\n\n    .dataframe tbody tr th {\n        vertical-align: top;\n    }\n\n    .dataframe thead th {\n        text-align: right;\n    }\n</style>\n<table border=\"1\" class=\"dataframe\">\n  <thead>\n    <tr style=\"text-align: right;\">\n      <th></th>\n      <th>University</th>\n      <th>N of Agreements</th>\n      <th>Average score</th>\n      <th>Median score</th>\n      <th>Top 5% score</th>\n      <th>Top 10% score</th>\n      <th>Top 20% score</th>\n    </tr>\n  </thead>\n  <tbody>\n    <tr>\n      <th>1</th>\n      <td>МИРЭА</td>\n      <td>843</td>\n      <td>269.5</td>\n      <td>270.0</td>\n      <td>287.0</td>\n      <td>284.0</td>\n      <td>279.0</td>\n    </tr>\n    <tr>\n      <th>2</th>\n      <td>МЭИ</td>\n      <td>172</td>\n      <td>264.3</td>\n      <td>263.5</td>\n      <td>278.0</td>\n      <td>276.0</td>\n      <td>270.4</td>\n    </tr>\n    <tr>\n      <th>3</th>\n      <td>МТУСИ</td>\n      <td>72</td>\n      <td>270.1</td>\n      <td>268.0</td>\n      <td>284.4</td>\n      <td>282.0</td>\n      <td>278.4</td>\n    </tr>\n  </tbody>\n</table>\n</div>"
     },
     "metadata": {},
     "output_type": "display_data"
    }
   ],
   "source": [
    "system.show_agreements_statistics_by_universities()"
   ],
   "metadata": {
    "collapsed": false,
    "pycharm": {
     "name": "#%%\n"
    }
   }
  },
  {
   "cell_type": "code",
   "execution_count": 11,
   "outputs": [
    {
     "data": {
      "text/plain": "   University                   Profile  N of Agreements  Average score  \\\n1       МИРЭА                  01.03.02               50          269.9   \n2       МИРЭА                  01.03.04               37          263.2   \n3       МИРЭА                  02.03.02               21          256.2   \n4       МИРЭА              09.03.01:III               63          264.5   \n5       МИРЭА              09.03.01:IIT               53          268.1   \n6       МИРЭА              09.03.02:IKB              126          267.0   \n7       МИРЭА     09.03.02:IPTIP-design               38          266.3   \n8       МИРЭА  09.03.02:IPTIP-fullstack               28          268.5   \n9       МИРЭА              09.03.02:IRI                8          258.0   \n10      МИРЭА                  09.03.03              130          269.9   \n11      МИРЭА                  09.03.04              232          277.5   \n12      МИРЭА                  10.03.01               22          262.6   \n13      МИРЭА                  10.05.01               35          261.0   \n14        МЭИ              01.03.02:inf               41          263.0   \n15        МЭИ              01.03.02:mat               21          262.3   \n16        МЭИ                  09.03.01               50          265.0   \n17        МЭИ                  09.03.03               21          266.3   \n18        МЭИ                  10.03.01               22          266.7   \n19        МЭИ                  27.03.04               11          255.1   \n20        МЭИ                  38.03.05                6          265.7   \n21      МТУСИ                  02.03.02               16          271.1   \n22      МТУСИ                  09.03.01               24          268.7   \n23      МТУСИ                  09.03.02                6          271.2   \n24      МТУСИ                  09.03.03                9          273.3   \n25      МТУСИ                  10.03.01               11          269.8   \n26      МТУСИ                  10.05.02                4          265.8   \n\n    Median score  Top 5% score  Top 10% score  Top 20% score  \n1          271.5         288.4          285.7          279.0  \n2          265.0         278.0          276.2          271.4  \n3          257.0         280.0          279.8          273.2  \n4          262.0         281.0          276.6          271.0  \n5          268.0         282.9          280.6          275.0  \n6          266.0         281.3          278.0          272.0  \n7          261.0         287.0          284.2          279.0  \n8          267.5         280.6          277.3          274.4  \n9          255.5         283.6          278.2          267.4  \n10         271.0         281.0          278.9          276.0  \n11         279.0         293.0          290.0          286.0  \n12         263.5         286.2          279.3          269.8  \n13         259.0         282.0          277.2          266.8  \n14         262.0         274.9          273.8          269.0  \n15         262.0         271.9          271.0          268.2  \n16         264.0         279.0          275.9          269.0  \n17         265.0         276.0          275.6          271.2  \n18         263.0         286.1          280.4          277.4  \n19         251.0         273.0          270.0          263.2  \n20         266.0         283.8          280.7          274.4  \n21         270.0         287.3          285.6          277.8  \n22         267.0         283.8          283.0          273.0  \n23         271.0         284.0          282.9          280.8  \n24         271.0         295.5          290.0          279.0  \n25         267.0         282.4          281.8          279.0  \n26         265.5         271.2          270.5          269.0  ",
      "text/html": "<div>\n<style scoped>\n    .dataframe tbody tr th:only-of-type {\n        vertical-align: middle;\n    }\n\n    .dataframe tbody tr th {\n        vertical-align: top;\n    }\n\n    .dataframe thead th {\n        text-align: right;\n    }\n</style>\n<table border=\"1\" class=\"dataframe\">\n  <thead>\n    <tr style=\"text-align: right;\">\n      <th></th>\n      <th>University</th>\n      <th>Profile</th>\n      <th>N of Agreements</th>\n      <th>Average score</th>\n      <th>Median score</th>\n      <th>Top 5% score</th>\n      <th>Top 10% score</th>\n      <th>Top 20% score</th>\n    </tr>\n  </thead>\n  <tbody>\n    <tr>\n      <th>1</th>\n      <td>МИРЭА</td>\n      <td>01.03.02</td>\n      <td>50</td>\n      <td>269.9</td>\n      <td>271.5</td>\n      <td>288.4</td>\n      <td>285.7</td>\n      <td>279.0</td>\n    </tr>\n    <tr>\n      <th>2</th>\n      <td>МИРЭА</td>\n      <td>01.03.04</td>\n      <td>37</td>\n      <td>263.2</td>\n      <td>265.0</td>\n      <td>278.0</td>\n      <td>276.2</td>\n      <td>271.4</td>\n    </tr>\n    <tr>\n      <th>3</th>\n      <td>МИРЭА</td>\n      <td>02.03.02</td>\n      <td>21</td>\n      <td>256.2</td>\n      <td>257.0</td>\n      <td>280.0</td>\n      <td>279.8</td>\n      <td>273.2</td>\n    </tr>\n    <tr>\n      <th>4</th>\n      <td>МИРЭА</td>\n      <td>09.03.01:III</td>\n      <td>63</td>\n      <td>264.5</td>\n      <td>262.0</td>\n      <td>281.0</td>\n      <td>276.6</td>\n      <td>271.0</td>\n    </tr>\n    <tr>\n      <th>5</th>\n      <td>МИРЭА</td>\n      <td>09.03.01:IIT</td>\n      <td>53</td>\n      <td>268.1</td>\n      <td>268.0</td>\n      <td>282.9</td>\n      <td>280.6</td>\n      <td>275.0</td>\n    </tr>\n    <tr>\n      <th>6</th>\n      <td>МИРЭА</td>\n      <td>09.03.02:IKB</td>\n      <td>126</td>\n      <td>267.0</td>\n      <td>266.0</td>\n      <td>281.3</td>\n      <td>278.0</td>\n      <td>272.0</td>\n    </tr>\n    <tr>\n      <th>7</th>\n      <td>МИРЭА</td>\n      <td>09.03.02:IPTIP-design</td>\n      <td>38</td>\n      <td>266.3</td>\n      <td>261.0</td>\n      <td>287.0</td>\n      <td>284.2</td>\n      <td>279.0</td>\n    </tr>\n    <tr>\n      <th>8</th>\n      <td>МИРЭА</td>\n      <td>09.03.02:IPTIP-fullstack</td>\n      <td>28</td>\n      <td>268.5</td>\n      <td>267.5</td>\n      <td>280.6</td>\n      <td>277.3</td>\n      <td>274.4</td>\n    </tr>\n    <tr>\n      <th>9</th>\n      <td>МИРЭА</td>\n      <td>09.03.02:IRI</td>\n      <td>8</td>\n      <td>258.0</td>\n      <td>255.5</td>\n      <td>283.6</td>\n      <td>278.2</td>\n      <td>267.4</td>\n    </tr>\n    <tr>\n      <th>10</th>\n      <td>МИРЭА</td>\n      <td>09.03.03</td>\n      <td>130</td>\n      <td>269.9</td>\n      <td>271.0</td>\n      <td>281.0</td>\n      <td>278.9</td>\n      <td>276.0</td>\n    </tr>\n    <tr>\n      <th>11</th>\n      <td>МИРЭА</td>\n      <td>09.03.04</td>\n      <td>232</td>\n      <td>277.5</td>\n      <td>279.0</td>\n      <td>293.0</td>\n      <td>290.0</td>\n      <td>286.0</td>\n    </tr>\n    <tr>\n      <th>12</th>\n      <td>МИРЭА</td>\n      <td>10.03.01</td>\n      <td>22</td>\n      <td>262.6</td>\n      <td>263.5</td>\n      <td>286.2</td>\n      <td>279.3</td>\n      <td>269.8</td>\n    </tr>\n    <tr>\n      <th>13</th>\n      <td>МИРЭА</td>\n      <td>10.05.01</td>\n      <td>35</td>\n      <td>261.0</td>\n      <td>259.0</td>\n      <td>282.0</td>\n      <td>277.2</td>\n      <td>266.8</td>\n    </tr>\n    <tr>\n      <th>14</th>\n      <td>МЭИ</td>\n      <td>01.03.02:inf</td>\n      <td>41</td>\n      <td>263.0</td>\n      <td>262.0</td>\n      <td>274.9</td>\n      <td>273.8</td>\n      <td>269.0</td>\n    </tr>\n    <tr>\n      <th>15</th>\n      <td>МЭИ</td>\n      <td>01.03.02:mat</td>\n      <td>21</td>\n      <td>262.3</td>\n      <td>262.0</td>\n      <td>271.9</td>\n      <td>271.0</td>\n      <td>268.2</td>\n    </tr>\n    <tr>\n      <th>16</th>\n      <td>МЭИ</td>\n      <td>09.03.01</td>\n      <td>50</td>\n      <td>265.0</td>\n      <td>264.0</td>\n      <td>279.0</td>\n      <td>275.9</td>\n      <td>269.0</td>\n    </tr>\n    <tr>\n      <th>17</th>\n      <td>МЭИ</td>\n      <td>09.03.03</td>\n      <td>21</td>\n      <td>266.3</td>\n      <td>265.0</td>\n      <td>276.0</td>\n      <td>275.6</td>\n      <td>271.2</td>\n    </tr>\n    <tr>\n      <th>18</th>\n      <td>МЭИ</td>\n      <td>10.03.01</td>\n      <td>22</td>\n      <td>266.7</td>\n      <td>263.0</td>\n      <td>286.1</td>\n      <td>280.4</td>\n      <td>277.4</td>\n    </tr>\n    <tr>\n      <th>19</th>\n      <td>МЭИ</td>\n      <td>27.03.04</td>\n      <td>11</td>\n      <td>255.1</td>\n      <td>251.0</td>\n      <td>273.0</td>\n      <td>270.0</td>\n      <td>263.2</td>\n    </tr>\n    <tr>\n      <th>20</th>\n      <td>МЭИ</td>\n      <td>38.03.05</td>\n      <td>6</td>\n      <td>265.7</td>\n      <td>266.0</td>\n      <td>283.8</td>\n      <td>280.7</td>\n      <td>274.4</td>\n    </tr>\n    <tr>\n      <th>21</th>\n      <td>МТУСИ</td>\n      <td>02.03.02</td>\n      <td>16</td>\n      <td>271.1</td>\n      <td>270.0</td>\n      <td>287.3</td>\n      <td>285.6</td>\n      <td>277.8</td>\n    </tr>\n    <tr>\n      <th>22</th>\n      <td>МТУСИ</td>\n      <td>09.03.01</td>\n      <td>24</td>\n      <td>268.7</td>\n      <td>267.0</td>\n      <td>283.8</td>\n      <td>283.0</td>\n      <td>273.0</td>\n    </tr>\n    <tr>\n      <th>23</th>\n      <td>МТУСИ</td>\n      <td>09.03.02</td>\n      <td>6</td>\n      <td>271.2</td>\n      <td>271.0</td>\n      <td>284.0</td>\n      <td>282.9</td>\n      <td>280.8</td>\n    </tr>\n    <tr>\n      <th>24</th>\n      <td>МТУСИ</td>\n      <td>09.03.03</td>\n      <td>9</td>\n      <td>273.3</td>\n      <td>271.0</td>\n      <td>295.5</td>\n      <td>290.0</td>\n      <td>279.0</td>\n    </tr>\n    <tr>\n      <th>25</th>\n      <td>МТУСИ</td>\n      <td>10.03.01</td>\n      <td>11</td>\n      <td>269.8</td>\n      <td>267.0</td>\n      <td>282.4</td>\n      <td>281.8</td>\n      <td>279.0</td>\n    </tr>\n    <tr>\n      <th>26</th>\n      <td>МТУСИ</td>\n      <td>10.05.02</td>\n      <td>4</td>\n      <td>265.8</td>\n      <td>265.5</td>\n      <td>271.2</td>\n      <td>270.5</td>\n      <td>269.0</td>\n    </tr>\n  </tbody>\n</table>\n</div>"
     },
     "metadata": {},
     "output_type": "display_data"
    }
   ],
   "source": [
    "system.show_agreements_statistics_by_universities_and_profiles()"
   ],
   "metadata": {
    "collapsed": false,
    "pycharm": {
     "name": "#%%\n"
    }
   }
  },
  {
   "cell_type": "code",
   "execution_count": 16,
   "outputs": [
    {
     "name": "stdout",
     "output_type": "stream",
     "text": [
      "\u001B[33mFound less students than places for 11.03.01 in MTUCI\u001B[0m\n",
      "\u001B[33mFound less students than places for 11.03.02:RIT in MTUCI\u001B[0m\n",
      "\u001B[33mFound less students than places for 11.03.02:SISS in MTUCI\u001B[0m\n"
     ]
    },
    {
     "data": {
      "text/plain": "  University       Profile  Current Position  Number of Places  Score  \\\n1      MIREA  09.03.01:III               140               115    287   \n2      MIREA  09.03.01:IIT               141                78    287   \n3      MIREA      09.03.04               258               147    287   \n4      MIREA      10.03.01                52                21    287   \n5      MIREA      10.05.01                38                32    287   \n6       MPEI  01.03.02:inf               158                46    273   \n7       MPEI      09.03.01               222               157    273   \n8       MPEI      10.03.01               187                35    273   \n\n   Min Score  \n1        288  \n2        290  \n3        290  \n4        294  \n5        289  \n6        280  \n7        275  \n8        284  ",
      "text/html": "<div>\n<style scoped>\n    .dataframe tbody tr th:only-of-type {\n        vertical-align: middle;\n    }\n\n    .dataframe tbody tr th {\n        vertical-align: top;\n    }\n\n    .dataframe thead th {\n        text-align: right;\n    }\n</style>\n<table border=\"1\" class=\"dataframe\">\n  <thead>\n    <tr style=\"text-align: right;\">\n      <th></th>\n      <th>University</th>\n      <th>Profile</th>\n      <th>Current Position</th>\n      <th>Number of Places</th>\n      <th>Score</th>\n      <th>Min Score</th>\n    </tr>\n  </thead>\n  <tbody>\n    <tr>\n      <th>1</th>\n      <td>MIREA</td>\n      <td>09.03.01:III</td>\n      <td>140</td>\n      <td>115</td>\n      <td>287</td>\n      <td>288</td>\n    </tr>\n    <tr>\n      <th>2</th>\n      <td>MIREA</td>\n      <td>09.03.01:IIT</td>\n      <td>141</td>\n      <td>78</td>\n      <td>287</td>\n      <td>290</td>\n    </tr>\n    <tr>\n      <th>3</th>\n      <td>MIREA</td>\n      <td>09.03.04</td>\n      <td>258</td>\n      <td>147</td>\n      <td>287</td>\n      <td>290</td>\n    </tr>\n    <tr>\n      <th>4</th>\n      <td>MIREA</td>\n      <td>10.03.01</td>\n      <td>52</td>\n      <td>21</td>\n      <td>287</td>\n      <td>294</td>\n    </tr>\n    <tr>\n      <th>5</th>\n      <td>MIREA</td>\n      <td>10.05.01</td>\n      <td>38</td>\n      <td>32</td>\n      <td>287</td>\n      <td>289</td>\n    </tr>\n    <tr>\n      <th>6</th>\n      <td>MPEI</td>\n      <td>01.03.02:inf</td>\n      <td>158</td>\n      <td>46</td>\n      <td>273</td>\n      <td>280</td>\n    </tr>\n    <tr>\n      <th>7</th>\n      <td>MPEI</td>\n      <td>09.03.01</td>\n      <td>222</td>\n      <td>157</td>\n      <td>273</td>\n      <td>275</td>\n    </tr>\n    <tr>\n      <th>8</th>\n      <td>MPEI</td>\n      <td>10.03.01</td>\n      <td>187</td>\n      <td>35</td>\n      <td>273</td>\n      <td>284</td>\n    </tr>\n  </tbody>\n</table>\n</div>"
     },
     "metadata": {},
     "output_type": "display_data"
    }
   ],
   "source": [
    "system.show_current_situation_for(StudentId(\"142-312-839 24\"))"
   ],
   "metadata": {
    "collapsed": false,
    "pycharm": {
     "name": "#%%\n"
    }
   }
  },
  {
   "cell_type": "code",
   "execution_count": 14,
   "outputs": [
    {
     "data": {
      "text/plain": "                 Id  Score Chosen University            Chosen Profile\n1    185-122-876 75    298                                            \n2    200-241-432 74    297                                            \n3    183-945-127 00    296                                            \n4    190-852-814 91    295                                            \n5    166-227-795 92    294                                            \n6    184-486-478 21    294                                            \n7    164-044-041 29    293                                            \n8    183-661-955 04    293                                            \n9    176-025-692 74    292                                            \n10   203-210-171 74    292                                            \n11   194-172-414 75    291                                            \n12   146-765-059 93    290                                            \n13   166-227-789 94    290                                            \n14   165-847-831 17    290             MIREA                  09.03.04\n15   193-214-490 64    290                                            \n16   186-280-627 95    289              MPEI                  09.03.01\n17   200-871-568 39    289                                            \n18   193-651-731 94    289                                            \n19   159-021-992 72    289                                            \n20   184-983-194 30    288                                            \n21   165-649-113 91    288             MIREA                  09.03.04\n22   205-587-558 83    288                                            \n23   162-653-939 85    288                                            \n24   179-642-967 36    288                                            \n25   190-852-590 94    288                                            \n26   186-056-915 97    288                                            \n27   186-598-328 41    288                                            \n28   182-332-897 76    287                                            \n29   167-535-403 85    287                                            \n30   187-107-656 89    287             MIREA              09.03.02:IKB\n31   183-404-966 78    287                                            \n32   144-807-883 87    286                                            \n33   165-027-192 52    286                                            \n34   188-797-755 78    286                                            \n35   163-690-716 87    286                                            \n36   175-346-151 75    286                                            \n37   175-673-789 27    285                                            \n38   177-407-931 99    285                                            \n39   188-613-949 24    285                                            \n40   180-953-671 96    285             MIREA                  09.03.04\n41   184-286-795 19    285             MIREA                  09.03.04\n42   127-890-970 06    285                                            \n43   164-821-775 86    284                                            \n44   180-264-075 49    284                                            \n45   164-518-187 77    284                                            \n46   179-667-138 37    284                                            \n47   156-546-791 03    284                                            \n48   202-301-452 78    284                                            \n49   135-407-167 41    284             MIREA                  09.03.04\n50   152-932-496 75    284                                            \n51   171-987-299 25    284                                            \n52   166-024-840 56    283                                            \n53   192-551-659 90    283                                            \n54   183-636-426 90    283             MIREA                  09.03.04\n55   169-049-276 00    283                                            \n56   188-731-106 98    283                                            \n57   169-277-124 04    283                                            \n58   177-354-909 07    283                                            \n59   166-860-298 07    283                                            \n60   142-249-407 41    282                                            \n61   190-573-195 83    282                                            \n62   179-235-177 98    282                                            \n63   187-987-034 52    282                                            \n64   169-771-387 31    282                                            \n65   150-343-751 30    282                                            \n66   164-598-975 36    282                                            \n67   139-524-074 69    282                                            \n68   189-169-887 53    282                                            \n69   MPEI № 1104589    281              MPEI                  10.03.01\n70   195-605-859 13    281                                            \n71   184-661-803 97    281             MIREA                  09.03.04\n72   206-721-091 34    281                                            \n73   195-617-309 01    281             MIREA                  01.03.02\n74   168-469-732 30    281             MIREA                  09.03.04\n75   156-990-224 02    281                                            \n76   190-566-993 11    281             MTUCI                  09.03.01\n77   167-234-292 74    281                                            \n78   180-661-642 70    281                                            \n79   155-967-242 10    280                                            \n80   163-503-421 36    280                                            \n81   161-770-256 62    280             MIREA              09.03.01:IIT\n82   205-121-922 05    280                                            \n83   170-214-294 25    280                                            \n84   140-262-630 14    280                                            \n85   157-099-091 97    280                                            \n86   159-237-107 76    280                                            \n87   167-392-380 00    279                                            \n88   169-544-728 17    279                                            \n89   169-665-149 24    279                                            \n90   190-785-547 11    279              MPEI                  09.03.01\n91   158-138-766 96    279                                            \n92   178-599-554 59    279                                            \n93   168-846-311 15    279              MPEI                  09.03.01\n94   165-896-348 32    279                                            \n95   194-909-697 40    279                                            \n96   176-071-155 63    279                                            \n97   185-547-650 12    279                                            \n98   158-563-102 81    279                                            \n99   163-068-221 50    279              MPEI                  10.03.01\n100  164-137-821 62    278                                            \n101  190-996-799 50    278                                            \n102  190-808-440 80    278                                            \n103  MPEI № 1103338    278                                            \n104  164-793-345 04    278                                            \n105  157-071-665 71    278                                            \n106  185-638-446 15    278                                            \n107  161-016-331 08    278                                            \n108  165-182-817 78    278                                            \n109  166-049-899 04    278                                            \n110  187-041-786 88    278             MIREA                  01.03.02\n111  165-606-029 64    278                                            \n112  195-739-396 40    278                                            \n113  192-525-395 86    278                                            \n114  203-901-835 31    278                                            \n115  204-663-997 75    278              MPEI                  09.03.01\n116  185-266-940 07    278             MIREA                  09.03.03\n117  166-076-702 80    278             MIREA                  09.03.04\n118  165-637-617 97    278                                            \n119  154-650-260 55    278                                            \n120  185-654-301 94    278                                            \n121  143-792-458 86    278                                            \n122  183-972-262 09    278              MPEI              01.03.02:mat\n123  184-346-449 91    278             MIREA                  09.03.04\n124  146-986-691 36    277             MIREA                  09.03.04\n125  163-644-581 81    277                                            \n126  173-827-231 84    277             MIREA              09.03.01:IIT\n127  187-761-880 36    277                                            \n128  169-965-280 44    277             MIREA                  09.03.04\n129  160-543-170 35    277             MIREA  09.03.02:IPTIP-fullstack\n130  166-266-522 85    277                                            \n131  151-310-373 04    277             MIREA                  09.03.04\n132  143-580-814 61    277                                            \n133  191-192-840 78    277                                            \n134  184-350-142 56    277             MIREA              09.03.01:III\n135  175-872-816 21    277                                            \n136  168-349-260 03    277             MIREA                  09.03.04\n137  185-841-508 01    277                                            \n138  167-524-036 73    277                                            \n139  156-572-293 90    277             MIREA                  01.03.02\n140  180-317-248 45    277                                            \n141  154-301-995 48    277                                            \n142  164-641-813 73    277                                            \n143  179-322-512 82    277                                            \n144  166-760-851 04    277             MIREA                  09.03.04\n145  184-267-126 83    277             MIREA                  09.03.04\n146  188-631-053 96    277                                            \n147  192-536-367 91    277                                            \n148  164-883-350 02    276                                            \n149  158-633-671 00    276                                            \n150  159-489-582 43    276                                            \n151  173-903-256 73    276              MPEI                  10.03.01\n152  158-751-082 93    276                                            \n153  151-950-593 70    276                                            \n154  170-209-619 41    276                                            \n155  188-701-323 90    276                                            \n156  165-228-072 61    276                                            \n157  183-601-673 68    276                                            \n158  184-457-499 15    276                                            \n159  139-708-530 90    276                                            \n160  145-336-048 48    276              MPEI                  09.03.01\n161  158-382-549 01    276             MIREA                  09.03.04\n162  171-920-269 62    276                                            \n163  163-065-303 39    276             MIREA     09.03.02:IPTIP-design\n164  166-334-948 90    276                                            \n165  178-301-396 75    276             MIREA                  09.03.03\n166  173-769-286 20    276                                            \n167  170-561-027 39    276             MIREA              09.03.02:IKB\n168  202-383-517 25    276                                            \n169  133-261-526 24    276              MPEI                  09.03.03\n170  182-033-845 50    276                                            \n171  183-351-883 83    276                                            \n172  205-973-792 94    276              MPEI                  09.03.03\n173  157-240-926 66    275                                            \n174  150-352-448 27    275                                            \n175  200-199-157 24    275                                            \n176  159-850-505 03    275             MIREA                  09.03.03\n177  202-620-486 11    275                                            \n178  203-672-179 43    275                                            \n179  197-088-211 09    275              MPEI              01.03.02:inf\n180  194-646-123 98    275                                            \n181  183-972-688 31    275             MIREA                  09.03.04\n182  144-175-855 68    275                                            \n183  202-595-537 54    275                                            \n184  169-168-670 18    275                                            \n185  195-689-027 37    275             MIREA                  09.03.04\n186  184-485-709 13    275             MIREA                  09.03.04\n187  158-909-362 16    275                                            \n188  191-354-301 56    275             MIREA                  09.03.04\n189  185-923-229 01    275                                            \n190  164-656-030 75    275                                            \n191  173-746-592 05    275                                            \n192  185-704-512 84    275                                            \n193  152-700-270 24    275              MPEI                  09.03.01\n194  170-476-180 66    274                                            \n195  166-203-220 32    274                                            \n196  170-744-311 54    274                                            \n197  165-403-798 74    274                                            \n198  184-345-486 92    274             MIREA              09.03.02:IKB\n199  202-895-520 63    274                                            \n200  200-771-672 32    274             MIREA                  09.03.04\n201  199-139-567 33    274                                            \n202  172-811-600 53    274                                            \n203  164-153-001 28    274             MIREA                  02.03.02\n204  203-658-378 62    274                                            \n205  172-528-913 82    274                                            \n206  163-692-661 97    274                                            \n207  184-310-274 47    274              MPEI              01.03.02:inf\n208  183-662-011 70    274              MPEI                  09.03.01\n209  193-112-835 55    274                                            \n210  167-045-347 69    274                                            \n211  180-522-547 50    274                                            \n212  200-850-700 11    274             MIREA                  09.03.04\n213  196-082-546 99    274              MPEI              01.03.02:inf\n214  199-508-707 32    274                                            \n215  143-879-411 95    274                                            \n216  164-557-781 04    274                                            \n217  157-808-143 91    274              MPEI              01.03.02:inf\n218  202-696-240 50    274                                            \n219  165-575-582 08    274                                            \n220  194-872-296 28    274                                            \n221  161-340-357 27    274             MIREA              09.03.02:IKB\n222  164-515-906 72    274                                            \n223  168-198-990 39    274                                            \n224  195-739-094 29    274              MPEI                  09.03.03\n225  168-898-278 64    274             MIREA  09.03.02:IPTIP-fullstack\n226  166-836-149 04    274                                            \n227  191-574-487 02    274                                            \n228  171-749-451 92    274                                            \n229  163-451-557 62    274                                            \n230  176-078-040 81    274                                            \n231  174-164-751 76    274             MIREA              09.03.02:IKB\n232  166-563-576 04    274                                            \n233  185-526-880 10    273                                            \n234  161-683-973 95    273                                            \n235  186-015-372 64    273              MPEI              01.03.02:mat\n236  160-391-427 46    273                                            \n237  180-805-315 56    273                                            \n238  157-379-698 29    273                                            \n239  179-692-145 31    273                                            \n240  146-507-284 66    273                                            \n241  205-230-579 17    273                                            \n242  185-453-285 95    273                                            \n243  165-460-218 61    273                                            \n244  203-876-875 88    273                                            \n245  166-180-815 75    273                                            \n246  175-239-247 83    273                                            \n247  162-569-403 81    273                                            \n248  163-775-760 06    273                                            \n249  190-861-201 69    273             MIREA                  09.03.03\n250  160-191-606 35    273                                            \n251  165-849-084 14    273              MPEI              01.03.02:inf\n252  199-792-523 59    273                                            \n253  195-515-012 74    273                                            \n254  164-769-893 36    273                                            \n255  186-297-358 25    273                                            \n256  203-435-212 07    273                                            \n257  171-576-987 09    273                                            \n258  159-012-761 58    273                                            \n259  134-423-454 32    273                                            \n260  159-532-756 00    273                                            \n261  158-341-353 68    273                                            \n262  166-253-197 75    273                                            \n263  164-186-565 86    273                                            \n264  166-334-766 86    273                                            \n265  142-312-839 24    273                                            \n266  167-801-450 79    273                                            \n267  180-574-805 82    272             MIREA     09.03.02:IPTIP-design\n268  188-227-004 82    272                                            \n269  164-232-441 40    272                                            \n270  169-587-336 37    272             MIREA              09.03.02:IKB\n271  159-874-845 46    272                                            \n272  179-873-930 54    272                                            \n273  154-121-342 15    272                                            \n274  186-001-635 47    272                                            \n275  189-160-606 95    272                                            \n276  144-218-253 36    272             MIREA              09.03.02:IKB\n277  186-317-289 96    272                                            \n278  170-431-270 27    272                                            \n279  204-616-658 46    272                                            \n280  187-471-733 13    272             MIREA                  09.03.03\n281  165-594-385 11    272                                            \n282  209-035-718 46    272                                            \n283  157-369-154 98    272                                            \n284  153-693-432 82    272                                            \n285  153-238-693 67    272                                            \n286  190-503-420 38    272                                            \n287  196-524-037 91    272                                            \n288  161-365-657 66    272                                            \n289  169-229-986 25    272                                            \n290  179-453-843 22    272                                            \n291  185-260-494 83    272              MPEI                  09.03.03\n292  166-010-972 46    272             MIREA              09.03.02:IRI\n293  166-263-164 71    272                                            \n294  153-746-258 79    272                                            \n295  144-750-398 70    272                                            \n296  198-178-052 20    272                                            \n297  164-365-385 82    272                                            \n298  184-378-334 03    272                                            \n299  157-576-919 23    272             MIREA                  09.03.04\n300  186-629-955 37    272                                            \n301  203-391-103 11    272                                            \n302  168-627-845 22    271                                            \n303  154-723-362 63    271              MPEI              01.03.02:inf\n304  175-428-997 16    271                                            \n305  186-615-650 02    271                                            \n306  182-668-339 07    271             MIREA                  01.03.04\n307  180-130-986 42    271             MIREA              09.03.01:III\n308  159-824-574 17    271                                            \n309  155-494-042 78    271              MPEI              01.03.02:mat\n310  164-745-579 03    271              MPEI                  09.03.01\n311  184-084-538 85    271                                            \n312  169-197-159 19    271                                            \n313  163-292-598 83    271                                            \n314  169-175-586 16    271                                            \n315  142-050-818 13    271              MPEI                  27.03.04\n316  188-529-544 30    271                                            \n317  194-356-956 17    271                                            \n318  191-962-636 08    271                                            \n319  166-398-521 12    271                                            \n320  185-294-632 05    271             MTUCI                  10.03.01\n321  208-941-650 79    271                                            \n322  195-342-508 84    271                                            \n323  166-500-261 47    271                                            \n324  141-190-592 33    271              MPEI              01.03.02:mat\n325  175-526-412 79    271             MIREA                  10.05.01\n326  165-602-965 79    271             MIREA                  09.03.03\n327  179-229-632 10    271                                            \n328  168-065-492 94    271                                            \n329  195-165-521 91    271                                            \n330  161-142-507 19    271                                            \n331  175-017-374 59    271                                            \n332  173-011-639 27    271                                            \n333  193-860-513 99    271                                            \n334  182-163-141 46    271                                            \n335  158-550-217 74    271                                            \n336  187-109-734 94    271                                            \n337  168-493-693 31    271                                            \n338  158-300-454 48    271                                            \n339  200-166-984 24    271                                            \n340  158-215-219 58    271                                            \n341  195-300-104 40    271                                            \n342  167-715-746 06    271                                            \n343  174-873-244 04    271                                            \n344  147-282-565 81    271                                            \n345  MPEI № 1100732    270              MPEI                  09.03.01\n346  130-725-832 36    270              MPEI                  10.03.01\n347  207-679-431 92    270                                            \n348  133-803-665 48    270                                            \n349  143-861-947 85    270              MPEI                  09.03.03\n350  161-770-754 75    270             MIREA              09.03.01:III\n351  186-584-367 27    270             MIREA              09.03.02:IKB\n352  167-536-349 00    270                                            \n353  166-531-644 77    270                                            \n354  141-182-045 14    270             MIREA                  09.03.03\n355  202-274-734 25    270                                            \n356  166-032-112 28    270             MIREA              09.03.02:IKB\n357  164-889-387 39    270             MIREA                  09.03.04\n358  146-131-597 47    270                                            \n359  201-724-946 33    270                                            \n360  158-578-036 12    270                                            \n361  174-497-490 18    270                                            \n362  148-134-785 75    270                                            \n363  194-313-600 61    270                                            \n364  179-142-180 80    270              MPEI                  09.03.03\n365  160-913-482 57    270              MPEI                  09.03.03\n366  169-728-487 37    270                                            \n367  158-979-446 54    270                                            \n368  157-626-216 81    270             MIREA                  09.03.04\n369  167-683-988 43    270                                            \n370  187-292-183 07    270                                            \n371  184-828-344 10    270                                            \n372  162-363-942 67    270                                            \n373  141-446-589 55    270             MIREA                  09.03.04\n374  150-343-750 29    270                                            \n375  165-250-030 34    270             MIREA                  09.03.04\n376  161-075-982 63    270             MIREA  09.03.02:IPTIP-fullstack\n377  160-378-440 61    270                                            \n378  164-585-185 98    270                                            \n379  142-365-731 50    270             MIREA                  09.03.03\n380  164-278-929 02    270                                            \n381  130-864-924 61    270                                            \n382  159-850-322 99    270                                            \n383  186-406-404 78    270             MIREA                  09.03.03\n384  199-658-716 64    270                                            ",
      "text/html": "<div>\n<style scoped>\n    .dataframe tbody tr th:only-of-type {\n        vertical-align: middle;\n    }\n\n    .dataframe tbody tr th {\n        vertical-align: top;\n    }\n\n    .dataframe thead th {\n        text-align: right;\n    }\n</style>\n<table border=\"1\" class=\"dataframe\">\n  <thead>\n    <tr style=\"text-align: right;\">\n      <th></th>\n      <th>Id</th>\n      <th>Score</th>\n      <th>Chosen University</th>\n      <th>Chosen Profile</th>\n    </tr>\n  </thead>\n  <tbody>\n    <tr>\n      <th>1</th>\n      <td>185-122-876 75</td>\n      <td>298</td>\n      <td></td>\n      <td></td>\n    </tr>\n    <tr>\n      <th>2</th>\n      <td>200-241-432 74</td>\n      <td>297</td>\n      <td></td>\n      <td></td>\n    </tr>\n    <tr>\n      <th>3</th>\n      <td>183-945-127 00</td>\n      <td>296</td>\n      <td></td>\n      <td></td>\n    </tr>\n    <tr>\n      <th>4</th>\n      <td>190-852-814 91</td>\n      <td>295</td>\n      <td></td>\n      <td></td>\n    </tr>\n    <tr>\n      <th>5</th>\n      <td>166-227-795 92</td>\n      <td>294</td>\n      <td></td>\n      <td></td>\n    </tr>\n    <tr>\n      <th>6</th>\n      <td>184-486-478 21</td>\n      <td>294</td>\n      <td></td>\n      <td></td>\n    </tr>\n    <tr>\n      <th>7</th>\n      <td>164-044-041 29</td>\n      <td>293</td>\n      <td></td>\n      <td></td>\n    </tr>\n    <tr>\n      <th>8</th>\n      <td>183-661-955 04</td>\n      <td>293</td>\n      <td></td>\n      <td></td>\n    </tr>\n    <tr>\n      <th>9</th>\n      <td>176-025-692 74</td>\n      <td>292</td>\n      <td></td>\n      <td></td>\n    </tr>\n    <tr>\n      <th>10</th>\n      <td>203-210-171 74</td>\n      <td>292</td>\n      <td></td>\n      <td></td>\n    </tr>\n    <tr>\n      <th>11</th>\n      <td>194-172-414 75</td>\n      <td>291</td>\n      <td></td>\n      <td></td>\n    </tr>\n    <tr>\n      <th>12</th>\n      <td>146-765-059 93</td>\n      <td>290</td>\n      <td></td>\n      <td></td>\n    </tr>\n    <tr>\n      <th>13</th>\n      <td>166-227-789 94</td>\n      <td>290</td>\n      <td></td>\n      <td></td>\n    </tr>\n    <tr>\n      <th>14</th>\n      <td>165-847-831 17</td>\n      <td>290</td>\n      <td>MIREA</td>\n      <td>09.03.04</td>\n    </tr>\n    <tr>\n      <th>15</th>\n      <td>193-214-490 64</td>\n      <td>290</td>\n      <td></td>\n      <td></td>\n    </tr>\n    <tr>\n      <th>16</th>\n      <td>186-280-627 95</td>\n      <td>289</td>\n      <td>MPEI</td>\n      <td>09.03.01</td>\n    </tr>\n    <tr>\n      <th>17</th>\n      <td>200-871-568 39</td>\n      <td>289</td>\n      <td></td>\n      <td></td>\n    </tr>\n    <tr>\n      <th>18</th>\n      <td>193-651-731 94</td>\n      <td>289</td>\n      <td></td>\n      <td></td>\n    </tr>\n    <tr>\n      <th>19</th>\n      <td>159-021-992 72</td>\n      <td>289</td>\n      <td></td>\n      <td></td>\n    </tr>\n    <tr>\n      <th>20</th>\n      <td>184-983-194 30</td>\n      <td>288</td>\n      <td></td>\n      <td></td>\n    </tr>\n    <tr>\n      <th>21</th>\n      <td>165-649-113 91</td>\n      <td>288</td>\n      <td>MIREA</td>\n      <td>09.03.04</td>\n    </tr>\n    <tr>\n      <th>22</th>\n      <td>205-587-558 83</td>\n      <td>288</td>\n      <td></td>\n      <td></td>\n    </tr>\n    <tr>\n      <th>23</th>\n      <td>162-653-939 85</td>\n      <td>288</td>\n      <td></td>\n      <td></td>\n    </tr>\n    <tr>\n      <th>24</th>\n      <td>179-642-967 36</td>\n      <td>288</td>\n      <td></td>\n      <td></td>\n    </tr>\n    <tr>\n      <th>25</th>\n      <td>190-852-590 94</td>\n      <td>288</td>\n      <td></td>\n      <td></td>\n    </tr>\n    <tr>\n      <th>26</th>\n      <td>186-056-915 97</td>\n      <td>288</td>\n      <td></td>\n      <td></td>\n    </tr>\n    <tr>\n      <th>27</th>\n      <td>186-598-328 41</td>\n      <td>288</td>\n      <td></td>\n      <td></td>\n    </tr>\n    <tr>\n      <th>28</th>\n      <td>182-332-897 76</td>\n      <td>287</td>\n      <td></td>\n      <td></td>\n    </tr>\n    <tr>\n      <th>29</th>\n      <td>167-535-403 85</td>\n      <td>287</td>\n      <td></td>\n      <td></td>\n    </tr>\n    <tr>\n      <th>30</th>\n      <td>187-107-656 89</td>\n      <td>287</td>\n      <td>MIREA</td>\n      <td>09.03.02:IKB</td>\n    </tr>\n    <tr>\n      <th>31</th>\n      <td>183-404-966 78</td>\n      <td>287</td>\n      <td></td>\n      <td></td>\n    </tr>\n    <tr>\n      <th>32</th>\n      <td>144-807-883 87</td>\n      <td>286</td>\n      <td></td>\n      <td></td>\n    </tr>\n    <tr>\n      <th>33</th>\n      <td>165-027-192 52</td>\n      <td>286</td>\n      <td></td>\n      <td></td>\n    </tr>\n    <tr>\n      <th>34</th>\n      <td>188-797-755 78</td>\n      <td>286</td>\n      <td></td>\n      <td></td>\n    </tr>\n    <tr>\n      <th>35</th>\n      <td>163-690-716 87</td>\n      <td>286</td>\n      <td></td>\n      <td></td>\n    </tr>\n    <tr>\n      <th>36</th>\n      <td>175-346-151 75</td>\n      <td>286</td>\n      <td></td>\n      <td></td>\n    </tr>\n    <tr>\n      <th>37</th>\n      <td>175-673-789 27</td>\n      <td>285</td>\n      <td></td>\n      <td></td>\n    </tr>\n    <tr>\n      <th>38</th>\n      <td>177-407-931 99</td>\n      <td>285</td>\n      <td></td>\n      <td></td>\n    </tr>\n    <tr>\n      <th>39</th>\n      <td>188-613-949 24</td>\n      <td>285</td>\n      <td></td>\n      <td></td>\n    </tr>\n    <tr>\n      <th>40</th>\n      <td>180-953-671 96</td>\n      <td>285</td>\n      <td>MIREA</td>\n      <td>09.03.04</td>\n    </tr>\n    <tr>\n      <th>41</th>\n      <td>184-286-795 19</td>\n      <td>285</td>\n      <td>MIREA</td>\n      <td>09.03.04</td>\n    </tr>\n    <tr>\n      <th>42</th>\n      <td>127-890-970 06</td>\n      <td>285</td>\n      <td></td>\n      <td></td>\n    </tr>\n    <tr>\n      <th>43</th>\n      <td>164-821-775 86</td>\n      <td>284</td>\n      <td></td>\n      <td></td>\n    </tr>\n    <tr>\n      <th>44</th>\n      <td>180-264-075 49</td>\n      <td>284</td>\n      <td></td>\n      <td></td>\n    </tr>\n    <tr>\n      <th>45</th>\n      <td>164-518-187 77</td>\n      <td>284</td>\n      <td></td>\n      <td></td>\n    </tr>\n    <tr>\n      <th>46</th>\n      <td>179-667-138 37</td>\n      <td>284</td>\n      <td></td>\n      <td></td>\n    </tr>\n    <tr>\n      <th>47</th>\n      <td>156-546-791 03</td>\n      <td>284</td>\n      <td></td>\n      <td></td>\n    </tr>\n    <tr>\n      <th>48</th>\n      <td>202-301-452 78</td>\n      <td>284</td>\n      <td></td>\n      <td></td>\n    </tr>\n    <tr>\n      <th>49</th>\n      <td>135-407-167 41</td>\n      <td>284</td>\n      <td>MIREA</td>\n      <td>09.03.04</td>\n    </tr>\n    <tr>\n      <th>50</th>\n      <td>152-932-496 75</td>\n      <td>284</td>\n      <td></td>\n      <td></td>\n    </tr>\n    <tr>\n      <th>51</th>\n      <td>171-987-299 25</td>\n      <td>284</td>\n      <td></td>\n      <td></td>\n    </tr>\n    <tr>\n      <th>52</th>\n      <td>166-024-840 56</td>\n      <td>283</td>\n      <td></td>\n      <td></td>\n    </tr>\n    <tr>\n      <th>53</th>\n      <td>192-551-659 90</td>\n      <td>283</td>\n      <td></td>\n      <td></td>\n    </tr>\n    <tr>\n      <th>54</th>\n      <td>183-636-426 90</td>\n      <td>283</td>\n      <td>MIREA</td>\n      <td>09.03.04</td>\n    </tr>\n    <tr>\n      <th>55</th>\n      <td>169-049-276 00</td>\n      <td>283</td>\n      <td></td>\n      <td></td>\n    </tr>\n    <tr>\n      <th>56</th>\n      <td>188-731-106 98</td>\n      <td>283</td>\n      <td></td>\n      <td></td>\n    </tr>\n    <tr>\n      <th>57</th>\n      <td>169-277-124 04</td>\n      <td>283</td>\n      <td></td>\n      <td></td>\n    </tr>\n    <tr>\n      <th>58</th>\n      <td>177-354-909 07</td>\n      <td>283</td>\n      <td></td>\n      <td></td>\n    </tr>\n    <tr>\n      <th>59</th>\n      <td>166-860-298 07</td>\n      <td>283</td>\n      <td></td>\n      <td></td>\n    </tr>\n    <tr>\n      <th>60</th>\n      <td>142-249-407 41</td>\n      <td>282</td>\n      <td></td>\n      <td></td>\n    </tr>\n    <tr>\n      <th>61</th>\n      <td>190-573-195 83</td>\n      <td>282</td>\n      <td></td>\n      <td></td>\n    </tr>\n    <tr>\n      <th>62</th>\n      <td>179-235-177 98</td>\n      <td>282</td>\n      <td></td>\n      <td></td>\n    </tr>\n    <tr>\n      <th>63</th>\n      <td>187-987-034 52</td>\n      <td>282</td>\n      <td></td>\n      <td></td>\n    </tr>\n    <tr>\n      <th>64</th>\n      <td>169-771-387 31</td>\n      <td>282</td>\n      <td></td>\n      <td></td>\n    </tr>\n    <tr>\n      <th>65</th>\n      <td>150-343-751 30</td>\n      <td>282</td>\n      <td></td>\n      <td></td>\n    </tr>\n    <tr>\n      <th>66</th>\n      <td>164-598-975 36</td>\n      <td>282</td>\n      <td></td>\n      <td></td>\n    </tr>\n    <tr>\n      <th>67</th>\n      <td>139-524-074 69</td>\n      <td>282</td>\n      <td></td>\n      <td></td>\n    </tr>\n    <tr>\n      <th>68</th>\n      <td>189-169-887 53</td>\n      <td>282</td>\n      <td></td>\n      <td></td>\n    </tr>\n    <tr>\n      <th>69</th>\n      <td>MPEI № 1104589</td>\n      <td>281</td>\n      <td>MPEI</td>\n      <td>10.03.01</td>\n    </tr>\n    <tr>\n      <th>70</th>\n      <td>195-605-859 13</td>\n      <td>281</td>\n      <td></td>\n      <td></td>\n    </tr>\n    <tr>\n      <th>71</th>\n      <td>184-661-803 97</td>\n      <td>281</td>\n      <td>MIREA</td>\n      <td>09.03.04</td>\n    </tr>\n    <tr>\n      <th>72</th>\n      <td>206-721-091 34</td>\n      <td>281</td>\n      <td></td>\n      <td></td>\n    </tr>\n    <tr>\n      <th>73</th>\n      <td>195-617-309 01</td>\n      <td>281</td>\n      <td>MIREA</td>\n      <td>01.03.02</td>\n    </tr>\n    <tr>\n      <th>74</th>\n      <td>168-469-732 30</td>\n      <td>281</td>\n      <td>MIREA</td>\n      <td>09.03.04</td>\n    </tr>\n    <tr>\n      <th>75</th>\n      <td>156-990-224 02</td>\n      <td>281</td>\n      <td></td>\n      <td></td>\n    </tr>\n    <tr>\n      <th>76</th>\n      <td>190-566-993 11</td>\n      <td>281</td>\n      <td>MTUCI</td>\n      <td>09.03.01</td>\n    </tr>\n    <tr>\n      <th>77</th>\n      <td>167-234-292 74</td>\n      <td>281</td>\n      <td></td>\n      <td></td>\n    </tr>\n    <tr>\n      <th>78</th>\n      <td>180-661-642 70</td>\n      <td>281</td>\n      <td></td>\n      <td></td>\n    </tr>\n    <tr>\n      <th>79</th>\n      <td>155-967-242 10</td>\n      <td>280</td>\n      <td></td>\n      <td></td>\n    </tr>\n    <tr>\n      <th>80</th>\n      <td>163-503-421 36</td>\n      <td>280</td>\n      <td></td>\n      <td></td>\n    </tr>\n    <tr>\n      <th>81</th>\n      <td>161-770-256 62</td>\n      <td>280</td>\n      <td>MIREA</td>\n      <td>09.03.01:IIT</td>\n    </tr>\n    <tr>\n      <th>82</th>\n      <td>205-121-922 05</td>\n      <td>280</td>\n      <td></td>\n      <td></td>\n    </tr>\n    <tr>\n      <th>83</th>\n      <td>170-214-294 25</td>\n      <td>280</td>\n      <td></td>\n      <td></td>\n    </tr>\n    <tr>\n      <th>84</th>\n      <td>140-262-630 14</td>\n      <td>280</td>\n      <td></td>\n      <td></td>\n    </tr>\n    <tr>\n      <th>85</th>\n      <td>157-099-091 97</td>\n      <td>280</td>\n      <td></td>\n      <td></td>\n    </tr>\n    <tr>\n      <th>86</th>\n      <td>159-237-107 76</td>\n      <td>280</td>\n      <td></td>\n      <td></td>\n    </tr>\n    <tr>\n      <th>87</th>\n      <td>167-392-380 00</td>\n      <td>279</td>\n      <td></td>\n      <td></td>\n    </tr>\n    <tr>\n      <th>88</th>\n      <td>169-544-728 17</td>\n      <td>279</td>\n      <td></td>\n      <td></td>\n    </tr>\n    <tr>\n      <th>89</th>\n      <td>169-665-149 24</td>\n      <td>279</td>\n      <td></td>\n      <td></td>\n    </tr>\n    <tr>\n      <th>90</th>\n      <td>190-785-547 11</td>\n      <td>279</td>\n      <td>MPEI</td>\n      <td>09.03.01</td>\n    </tr>\n    <tr>\n      <th>91</th>\n      <td>158-138-766 96</td>\n      <td>279</td>\n      <td></td>\n      <td></td>\n    </tr>\n    <tr>\n      <th>92</th>\n      <td>178-599-554 59</td>\n      <td>279</td>\n      <td></td>\n      <td></td>\n    </tr>\n    <tr>\n      <th>93</th>\n      <td>168-846-311 15</td>\n      <td>279</td>\n      <td>MPEI</td>\n      <td>09.03.01</td>\n    </tr>\n    <tr>\n      <th>94</th>\n      <td>165-896-348 32</td>\n      <td>279</td>\n      <td></td>\n      <td></td>\n    </tr>\n    <tr>\n      <th>95</th>\n      <td>194-909-697 40</td>\n      <td>279</td>\n      <td></td>\n      <td></td>\n    </tr>\n    <tr>\n      <th>96</th>\n      <td>176-071-155 63</td>\n      <td>279</td>\n      <td></td>\n      <td></td>\n    </tr>\n    <tr>\n      <th>97</th>\n      <td>185-547-650 12</td>\n      <td>279</td>\n      <td></td>\n      <td></td>\n    </tr>\n    <tr>\n      <th>98</th>\n      <td>158-563-102 81</td>\n      <td>279</td>\n      <td></td>\n      <td></td>\n    </tr>\n    <tr>\n      <th>99</th>\n      <td>163-068-221 50</td>\n      <td>279</td>\n      <td>MPEI</td>\n      <td>10.03.01</td>\n    </tr>\n    <tr>\n      <th>100</th>\n      <td>164-137-821 62</td>\n      <td>278</td>\n      <td></td>\n      <td></td>\n    </tr>\n    <tr>\n      <th>101</th>\n      <td>190-996-799 50</td>\n      <td>278</td>\n      <td></td>\n      <td></td>\n    </tr>\n    <tr>\n      <th>102</th>\n      <td>190-808-440 80</td>\n      <td>278</td>\n      <td></td>\n      <td></td>\n    </tr>\n    <tr>\n      <th>103</th>\n      <td>MPEI № 1103338</td>\n      <td>278</td>\n      <td></td>\n      <td></td>\n    </tr>\n    <tr>\n      <th>104</th>\n      <td>164-793-345 04</td>\n      <td>278</td>\n      <td></td>\n      <td></td>\n    </tr>\n    <tr>\n      <th>105</th>\n      <td>157-071-665 71</td>\n      <td>278</td>\n      <td></td>\n      <td></td>\n    </tr>\n    <tr>\n      <th>106</th>\n      <td>185-638-446 15</td>\n      <td>278</td>\n      <td></td>\n      <td></td>\n    </tr>\n    <tr>\n      <th>107</th>\n      <td>161-016-331 08</td>\n      <td>278</td>\n      <td></td>\n      <td></td>\n    </tr>\n    <tr>\n      <th>108</th>\n      <td>165-182-817 78</td>\n      <td>278</td>\n      <td></td>\n      <td></td>\n    </tr>\n    <tr>\n      <th>109</th>\n      <td>166-049-899 04</td>\n      <td>278</td>\n      <td></td>\n      <td></td>\n    </tr>\n    <tr>\n      <th>110</th>\n      <td>187-041-786 88</td>\n      <td>278</td>\n      <td>MIREA</td>\n      <td>01.03.02</td>\n    </tr>\n    <tr>\n      <th>111</th>\n      <td>165-606-029 64</td>\n      <td>278</td>\n      <td></td>\n      <td></td>\n    </tr>\n    <tr>\n      <th>112</th>\n      <td>195-739-396 40</td>\n      <td>278</td>\n      <td></td>\n      <td></td>\n    </tr>\n    <tr>\n      <th>113</th>\n      <td>192-525-395 86</td>\n      <td>278</td>\n      <td></td>\n      <td></td>\n    </tr>\n    <tr>\n      <th>114</th>\n      <td>203-901-835 31</td>\n      <td>278</td>\n      <td></td>\n      <td></td>\n    </tr>\n    <tr>\n      <th>115</th>\n      <td>204-663-997 75</td>\n      <td>278</td>\n      <td>MPEI</td>\n      <td>09.03.01</td>\n    </tr>\n    <tr>\n      <th>116</th>\n      <td>185-266-940 07</td>\n      <td>278</td>\n      <td>MIREA</td>\n      <td>09.03.03</td>\n    </tr>\n    <tr>\n      <th>117</th>\n      <td>166-076-702 80</td>\n      <td>278</td>\n      <td>MIREA</td>\n      <td>09.03.04</td>\n    </tr>\n    <tr>\n      <th>118</th>\n      <td>165-637-617 97</td>\n      <td>278</td>\n      <td></td>\n      <td></td>\n    </tr>\n    <tr>\n      <th>119</th>\n      <td>154-650-260 55</td>\n      <td>278</td>\n      <td></td>\n      <td></td>\n    </tr>\n    <tr>\n      <th>120</th>\n      <td>185-654-301 94</td>\n      <td>278</td>\n      <td></td>\n      <td></td>\n    </tr>\n    <tr>\n      <th>121</th>\n      <td>143-792-458 86</td>\n      <td>278</td>\n      <td></td>\n      <td></td>\n    </tr>\n    <tr>\n      <th>122</th>\n      <td>183-972-262 09</td>\n      <td>278</td>\n      <td>MPEI</td>\n      <td>01.03.02:mat</td>\n    </tr>\n    <tr>\n      <th>123</th>\n      <td>184-346-449 91</td>\n      <td>278</td>\n      <td>MIREA</td>\n      <td>09.03.04</td>\n    </tr>\n    <tr>\n      <th>124</th>\n      <td>146-986-691 36</td>\n      <td>277</td>\n      <td>MIREA</td>\n      <td>09.03.04</td>\n    </tr>\n    <tr>\n      <th>125</th>\n      <td>163-644-581 81</td>\n      <td>277</td>\n      <td></td>\n      <td></td>\n    </tr>\n    <tr>\n      <th>126</th>\n      <td>173-827-231 84</td>\n      <td>277</td>\n      <td>MIREA</td>\n      <td>09.03.01:IIT</td>\n    </tr>\n    <tr>\n      <th>127</th>\n      <td>187-761-880 36</td>\n      <td>277</td>\n      <td></td>\n      <td></td>\n    </tr>\n    <tr>\n      <th>128</th>\n      <td>169-965-280 44</td>\n      <td>277</td>\n      <td>MIREA</td>\n      <td>09.03.04</td>\n    </tr>\n    <tr>\n      <th>129</th>\n      <td>160-543-170 35</td>\n      <td>277</td>\n      <td>MIREA</td>\n      <td>09.03.02:IPTIP-fullstack</td>\n    </tr>\n    <tr>\n      <th>130</th>\n      <td>166-266-522 85</td>\n      <td>277</td>\n      <td></td>\n      <td></td>\n    </tr>\n    <tr>\n      <th>131</th>\n      <td>151-310-373 04</td>\n      <td>277</td>\n      <td>MIREA</td>\n      <td>09.03.04</td>\n    </tr>\n    <tr>\n      <th>132</th>\n      <td>143-580-814 61</td>\n      <td>277</td>\n      <td></td>\n      <td></td>\n    </tr>\n    <tr>\n      <th>133</th>\n      <td>191-192-840 78</td>\n      <td>277</td>\n      <td></td>\n      <td></td>\n    </tr>\n    <tr>\n      <th>134</th>\n      <td>184-350-142 56</td>\n      <td>277</td>\n      <td>MIREA</td>\n      <td>09.03.01:III</td>\n    </tr>\n    <tr>\n      <th>135</th>\n      <td>175-872-816 21</td>\n      <td>277</td>\n      <td></td>\n      <td></td>\n    </tr>\n    <tr>\n      <th>136</th>\n      <td>168-349-260 03</td>\n      <td>277</td>\n      <td>MIREA</td>\n      <td>09.03.04</td>\n    </tr>\n    <tr>\n      <th>137</th>\n      <td>185-841-508 01</td>\n      <td>277</td>\n      <td></td>\n      <td></td>\n    </tr>\n    <tr>\n      <th>138</th>\n      <td>167-524-036 73</td>\n      <td>277</td>\n      <td></td>\n      <td></td>\n    </tr>\n    <tr>\n      <th>139</th>\n      <td>156-572-293 90</td>\n      <td>277</td>\n      <td>MIREA</td>\n      <td>01.03.02</td>\n    </tr>\n    <tr>\n      <th>140</th>\n      <td>180-317-248 45</td>\n      <td>277</td>\n      <td></td>\n      <td></td>\n    </tr>\n    <tr>\n      <th>141</th>\n      <td>154-301-995 48</td>\n      <td>277</td>\n      <td></td>\n      <td></td>\n    </tr>\n    <tr>\n      <th>142</th>\n      <td>164-641-813 73</td>\n      <td>277</td>\n      <td></td>\n      <td></td>\n    </tr>\n    <tr>\n      <th>143</th>\n      <td>179-322-512 82</td>\n      <td>277</td>\n      <td></td>\n      <td></td>\n    </tr>\n    <tr>\n      <th>144</th>\n      <td>166-760-851 04</td>\n      <td>277</td>\n      <td>MIREA</td>\n      <td>09.03.04</td>\n    </tr>\n    <tr>\n      <th>145</th>\n      <td>184-267-126 83</td>\n      <td>277</td>\n      <td>MIREA</td>\n      <td>09.03.04</td>\n    </tr>\n    <tr>\n      <th>146</th>\n      <td>188-631-053 96</td>\n      <td>277</td>\n      <td></td>\n      <td></td>\n    </tr>\n    <tr>\n      <th>147</th>\n      <td>192-536-367 91</td>\n      <td>277</td>\n      <td></td>\n      <td></td>\n    </tr>\n    <tr>\n      <th>148</th>\n      <td>164-883-350 02</td>\n      <td>276</td>\n      <td></td>\n      <td></td>\n    </tr>\n    <tr>\n      <th>149</th>\n      <td>158-633-671 00</td>\n      <td>276</td>\n      <td></td>\n      <td></td>\n    </tr>\n    <tr>\n      <th>150</th>\n      <td>159-489-582 43</td>\n      <td>276</td>\n      <td></td>\n      <td></td>\n    </tr>\n    <tr>\n      <th>151</th>\n      <td>173-903-256 73</td>\n      <td>276</td>\n      <td>MPEI</td>\n      <td>10.03.01</td>\n    </tr>\n    <tr>\n      <th>152</th>\n      <td>158-751-082 93</td>\n      <td>276</td>\n      <td></td>\n      <td></td>\n    </tr>\n    <tr>\n      <th>153</th>\n      <td>151-950-593 70</td>\n      <td>276</td>\n      <td></td>\n      <td></td>\n    </tr>\n    <tr>\n      <th>154</th>\n      <td>170-209-619 41</td>\n      <td>276</td>\n      <td></td>\n      <td></td>\n    </tr>\n    <tr>\n      <th>155</th>\n      <td>188-701-323 90</td>\n      <td>276</td>\n      <td></td>\n      <td></td>\n    </tr>\n    <tr>\n      <th>156</th>\n      <td>165-228-072 61</td>\n      <td>276</td>\n      <td></td>\n      <td></td>\n    </tr>\n    <tr>\n      <th>157</th>\n      <td>183-601-673 68</td>\n      <td>276</td>\n      <td></td>\n      <td></td>\n    </tr>\n    <tr>\n      <th>158</th>\n      <td>184-457-499 15</td>\n      <td>276</td>\n      <td></td>\n      <td></td>\n    </tr>\n    <tr>\n      <th>159</th>\n      <td>139-708-530 90</td>\n      <td>276</td>\n      <td></td>\n      <td></td>\n    </tr>\n    <tr>\n      <th>160</th>\n      <td>145-336-048 48</td>\n      <td>276</td>\n      <td>MPEI</td>\n      <td>09.03.01</td>\n    </tr>\n    <tr>\n      <th>161</th>\n      <td>158-382-549 01</td>\n      <td>276</td>\n      <td>MIREA</td>\n      <td>09.03.04</td>\n    </tr>\n    <tr>\n      <th>162</th>\n      <td>171-920-269 62</td>\n      <td>276</td>\n      <td></td>\n      <td></td>\n    </tr>\n    <tr>\n      <th>163</th>\n      <td>163-065-303 39</td>\n      <td>276</td>\n      <td>MIREA</td>\n      <td>09.03.02:IPTIP-design</td>\n    </tr>\n    <tr>\n      <th>164</th>\n      <td>166-334-948 90</td>\n      <td>276</td>\n      <td></td>\n      <td></td>\n    </tr>\n    <tr>\n      <th>165</th>\n      <td>178-301-396 75</td>\n      <td>276</td>\n      <td>MIREA</td>\n      <td>09.03.03</td>\n    </tr>\n    <tr>\n      <th>166</th>\n      <td>173-769-286 20</td>\n      <td>276</td>\n      <td></td>\n      <td></td>\n    </tr>\n    <tr>\n      <th>167</th>\n      <td>170-561-027 39</td>\n      <td>276</td>\n      <td>MIREA</td>\n      <td>09.03.02:IKB</td>\n    </tr>\n    <tr>\n      <th>168</th>\n      <td>202-383-517 25</td>\n      <td>276</td>\n      <td></td>\n      <td></td>\n    </tr>\n    <tr>\n      <th>169</th>\n      <td>133-261-526 24</td>\n      <td>276</td>\n      <td>MPEI</td>\n      <td>09.03.03</td>\n    </tr>\n    <tr>\n      <th>170</th>\n      <td>182-033-845 50</td>\n      <td>276</td>\n      <td></td>\n      <td></td>\n    </tr>\n    <tr>\n      <th>171</th>\n      <td>183-351-883 83</td>\n      <td>276</td>\n      <td></td>\n      <td></td>\n    </tr>\n    <tr>\n      <th>172</th>\n      <td>205-973-792 94</td>\n      <td>276</td>\n      <td>MPEI</td>\n      <td>09.03.03</td>\n    </tr>\n    <tr>\n      <th>173</th>\n      <td>157-240-926 66</td>\n      <td>275</td>\n      <td></td>\n      <td></td>\n    </tr>\n    <tr>\n      <th>174</th>\n      <td>150-352-448 27</td>\n      <td>275</td>\n      <td></td>\n      <td></td>\n    </tr>\n    <tr>\n      <th>175</th>\n      <td>200-199-157 24</td>\n      <td>275</td>\n      <td></td>\n      <td></td>\n    </tr>\n    <tr>\n      <th>176</th>\n      <td>159-850-505 03</td>\n      <td>275</td>\n      <td>MIREA</td>\n      <td>09.03.03</td>\n    </tr>\n    <tr>\n      <th>177</th>\n      <td>202-620-486 11</td>\n      <td>275</td>\n      <td></td>\n      <td></td>\n    </tr>\n    <tr>\n      <th>178</th>\n      <td>203-672-179 43</td>\n      <td>275</td>\n      <td></td>\n      <td></td>\n    </tr>\n    <tr>\n      <th>179</th>\n      <td>197-088-211 09</td>\n      <td>275</td>\n      <td>MPEI</td>\n      <td>01.03.02:inf</td>\n    </tr>\n    <tr>\n      <th>180</th>\n      <td>194-646-123 98</td>\n      <td>275</td>\n      <td></td>\n      <td></td>\n    </tr>\n    <tr>\n      <th>181</th>\n      <td>183-972-688 31</td>\n      <td>275</td>\n      <td>MIREA</td>\n      <td>09.03.04</td>\n    </tr>\n    <tr>\n      <th>182</th>\n      <td>144-175-855 68</td>\n      <td>275</td>\n      <td></td>\n      <td></td>\n    </tr>\n    <tr>\n      <th>183</th>\n      <td>202-595-537 54</td>\n      <td>275</td>\n      <td></td>\n      <td></td>\n    </tr>\n    <tr>\n      <th>184</th>\n      <td>169-168-670 18</td>\n      <td>275</td>\n      <td></td>\n      <td></td>\n    </tr>\n    <tr>\n      <th>185</th>\n      <td>195-689-027 37</td>\n      <td>275</td>\n      <td>MIREA</td>\n      <td>09.03.04</td>\n    </tr>\n    <tr>\n      <th>186</th>\n      <td>184-485-709 13</td>\n      <td>275</td>\n      <td>MIREA</td>\n      <td>09.03.04</td>\n    </tr>\n    <tr>\n      <th>187</th>\n      <td>158-909-362 16</td>\n      <td>275</td>\n      <td></td>\n      <td></td>\n    </tr>\n    <tr>\n      <th>188</th>\n      <td>191-354-301 56</td>\n      <td>275</td>\n      <td>MIREA</td>\n      <td>09.03.04</td>\n    </tr>\n    <tr>\n      <th>189</th>\n      <td>185-923-229 01</td>\n      <td>275</td>\n      <td></td>\n      <td></td>\n    </tr>\n    <tr>\n      <th>190</th>\n      <td>164-656-030 75</td>\n      <td>275</td>\n      <td></td>\n      <td></td>\n    </tr>\n    <tr>\n      <th>191</th>\n      <td>173-746-592 05</td>\n      <td>275</td>\n      <td></td>\n      <td></td>\n    </tr>\n    <tr>\n      <th>192</th>\n      <td>185-704-512 84</td>\n      <td>275</td>\n      <td></td>\n      <td></td>\n    </tr>\n    <tr>\n      <th>193</th>\n      <td>152-700-270 24</td>\n      <td>275</td>\n      <td>MPEI</td>\n      <td>09.03.01</td>\n    </tr>\n    <tr>\n      <th>194</th>\n      <td>170-476-180 66</td>\n      <td>274</td>\n      <td></td>\n      <td></td>\n    </tr>\n    <tr>\n      <th>195</th>\n      <td>166-203-220 32</td>\n      <td>274</td>\n      <td></td>\n      <td></td>\n    </tr>\n    <tr>\n      <th>196</th>\n      <td>170-744-311 54</td>\n      <td>274</td>\n      <td></td>\n      <td></td>\n    </tr>\n    <tr>\n      <th>197</th>\n      <td>165-403-798 74</td>\n      <td>274</td>\n      <td></td>\n      <td></td>\n    </tr>\n    <tr>\n      <th>198</th>\n      <td>184-345-486 92</td>\n      <td>274</td>\n      <td>MIREA</td>\n      <td>09.03.02:IKB</td>\n    </tr>\n    <tr>\n      <th>199</th>\n      <td>202-895-520 63</td>\n      <td>274</td>\n      <td></td>\n      <td></td>\n    </tr>\n    <tr>\n      <th>200</th>\n      <td>200-771-672 32</td>\n      <td>274</td>\n      <td>MIREA</td>\n      <td>09.03.04</td>\n    </tr>\n    <tr>\n      <th>201</th>\n      <td>199-139-567 33</td>\n      <td>274</td>\n      <td></td>\n      <td></td>\n    </tr>\n    <tr>\n      <th>202</th>\n      <td>172-811-600 53</td>\n      <td>274</td>\n      <td></td>\n      <td></td>\n    </tr>\n    <tr>\n      <th>203</th>\n      <td>164-153-001 28</td>\n      <td>274</td>\n      <td>MIREA</td>\n      <td>02.03.02</td>\n    </tr>\n    <tr>\n      <th>204</th>\n      <td>203-658-378 62</td>\n      <td>274</td>\n      <td></td>\n      <td></td>\n    </tr>\n    <tr>\n      <th>205</th>\n      <td>172-528-913 82</td>\n      <td>274</td>\n      <td></td>\n      <td></td>\n    </tr>\n    <tr>\n      <th>206</th>\n      <td>163-692-661 97</td>\n      <td>274</td>\n      <td></td>\n      <td></td>\n    </tr>\n    <tr>\n      <th>207</th>\n      <td>184-310-274 47</td>\n      <td>274</td>\n      <td>MPEI</td>\n      <td>01.03.02:inf</td>\n    </tr>\n    <tr>\n      <th>208</th>\n      <td>183-662-011 70</td>\n      <td>274</td>\n      <td>MPEI</td>\n      <td>09.03.01</td>\n    </tr>\n    <tr>\n      <th>209</th>\n      <td>193-112-835 55</td>\n      <td>274</td>\n      <td></td>\n      <td></td>\n    </tr>\n    <tr>\n      <th>210</th>\n      <td>167-045-347 69</td>\n      <td>274</td>\n      <td></td>\n      <td></td>\n    </tr>\n    <tr>\n      <th>211</th>\n      <td>180-522-547 50</td>\n      <td>274</td>\n      <td></td>\n      <td></td>\n    </tr>\n    <tr>\n      <th>212</th>\n      <td>200-850-700 11</td>\n      <td>274</td>\n      <td>MIREA</td>\n      <td>09.03.04</td>\n    </tr>\n    <tr>\n      <th>213</th>\n      <td>196-082-546 99</td>\n      <td>274</td>\n      <td>MPEI</td>\n      <td>01.03.02:inf</td>\n    </tr>\n    <tr>\n      <th>214</th>\n      <td>199-508-707 32</td>\n      <td>274</td>\n      <td></td>\n      <td></td>\n    </tr>\n    <tr>\n      <th>215</th>\n      <td>143-879-411 95</td>\n      <td>274</td>\n      <td></td>\n      <td></td>\n    </tr>\n    <tr>\n      <th>216</th>\n      <td>164-557-781 04</td>\n      <td>274</td>\n      <td></td>\n      <td></td>\n    </tr>\n    <tr>\n      <th>217</th>\n      <td>157-808-143 91</td>\n      <td>274</td>\n      <td>MPEI</td>\n      <td>01.03.02:inf</td>\n    </tr>\n    <tr>\n      <th>218</th>\n      <td>202-696-240 50</td>\n      <td>274</td>\n      <td></td>\n      <td></td>\n    </tr>\n    <tr>\n      <th>219</th>\n      <td>165-575-582 08</td>\n      <td>274</td>\n      <td></td>\n      <td></td>\n    </tr>\n    <tr>\n      <th>220</th>\n      <td>194-872-296 28</td>\n      <td>274</td>\n      <td></td>\n      <td></td>\n    </tr>\n    <tr>\n      <th>221</th>\n      <td>161-340-357 27</td>\n      <td>274</td>\n      <td>MIREA</td>\n      <td>09.03.02:IKB</td>\n    </tr>\n    <tr>\n      <th>222</th>\n      <td>164-515-906 72</td>\n      <td>274</td>\n      <td></td>\n      <td></td>\n    </tr>\n    <tr>\n      <th>223</th>\n      <td>168-198-990 39</td>\n      <td>274</td>\n      <td></td>\n      <td></td>\n    </tr>\n    <tr>\n      <th>224</th>\n      <td>195-739-094 29</td>\n      <td>274</td>\n      <td>MPEI</td>\n      <td>09.03.03</td>\n    </tr>\n    <tr>\n      <th>225</th>\n      <td>168-898-278 64</td>\n      <td>274</td>\n      <td>MIREA</td>\n      <td>09.03.02:IPTIP-fullstack</td>\n    </tr>\n    <tr>\n      <th>226</th>\n      <td>166-836-149 04</td>\n      <td>274</td>\n      <td></td>\n      <td></td>\n    </tr>\n    <tr>\n      <th>227</th>\n      <td>191-574-487 02</td>\n      <td>274</td>\n      <td></td>\n      <td></td>\n    </tr>\n    <tr>\n      <th>228</th>\n      <td>171-749-451 92</td>\n      <td>274</td>\n      <td></td>\n      <td></td>\n    </tr>\n    <tr>\n      <th>229</th>\n      <td>163-451-557 62</td>\n      <td>274</td>\n      <td></td>\n      <td></td>\n    </tr>\n    <tr>\n      <th>230</th>\n      <td>176-078-040 81</td>\n      <td>274</td>\n      <td></td>\n      <td></td>\n    </tr>\n    <tr>\n      <th>231</th>\n      <td>174-164-751 76</td>\n      <td>274</td>\n      <td>MIREA</td>\n      <td>09.03.02:IKB</td>\n    </tr>\n    <tr>\n      <th>232</th>\n      <td>166-563-576 04</td>\n      <td>274</td>\n      <td></td>\n      <td></td>\n    </tr>\n    <tr>\n      <th>233</th>\n      <td>185-526-880 10</td>\n      <td>273</td>\n      <td></td>\n      <td></td>\n    </tr>\n    <tr>\n      <th>234</th>\n      <td>161-683-973 95</td>\n      <td>273</td>\n      <td></td>\n      <td></td>\n    </tr>\n    <tr>\n      <th>235</th>\n      <td>186-015-372 64</td>\n      <td>273</td>\n      <td>MPEI</td>\n      <td>01.03.02:mat</td>\n    </tr>\n    <tr>\n      <th>236</th>\n      <td>160-391-427 46</td>\n      <td>273</td>\n      <td></td>\n      <td></td>\n    </tr>\n    <tr>\n      <th>237</th>\n      <td>180-805-315 56</td>\n      <td>273</td>\n      <td></td>\n      <td></td>\n    </tr>\n    <tr>\n      <th>238</th>\n      <td>157-379-698 29</td>\n      <td>273</td>\n      <td></td>\n      <td></td>\n    </tr>\n    <tr>\n      <th>239</th>\n      <td>179-692-145 31</td>\n      <td>273</td>\n      <td></td>\n      <td></td>\n    </tr>\n    <tr>\n      <th>240</th>\n      <td>146-507-284 66</td>\n      <td>273</td>\n      <td></td>\n      <td></td>\n    </tr>\n    <tr>\n      <th>241</th>\n      <td>205-230-579 17</td>\n      <td>273</td>\n      <td></td>\n      <td></td>\n    </tr>\n    <tr>\n      <th>242</th>\n      <td>185-453-285 95</td>\n      <td>273</td>\n      <td></td>\n      <td></td>\n    </tr>\n    <tr>\n      <th>243</th>\n      <td>165-460-218 61</td>\n      <td>273</td>\n      <td></td>\n      <td></td>\n    </tr>\n    <tr>\n      <th>244</th>\n      <td>203-876-875 88</td>\n      <td>273</td>\n      <td></td>\n      <td></td>\n    </tr>\n    <tr>\n      <th>245</th>\n      <td>166-180-815 75</td>\n      <td>273</td>\n      <td></td>\n      <td></td>\n    </tr>\n    <tr>\n      <th>246</th>\n      <td>175-239-247 83</td>\n      <td>273</td>\n      <td></td>\n      <td></td>\n    </tr>\n    <tr>\n      <th>247</th>\n      <td>162-569-403 81</td>\n      <td>273</td>\n      <td></td>\n      <td></td>\n    </tr>\n    <tr>\n      <th>248</th>\n      <td>163-775-760 06</td>\n      <td>273</td>\n      <td></td>\n      <td></td>\n    </tr>\n    <tr>\n      <th>249</th>\n      <td>190-861-201 69</td>\n      <td>273</td>\n      <td>MIREA</td>\n      <td>09.03.03</td>\n    </tr>\n    <tr>\n      <th>250</th>\n      <td>160-191-606 35</td>\n      <td>273</td>\n      <td></td>\n      <td></td>\n    </tr>\n    <tr>\n      <th>251</th>\n      <td>165-849-084 14</td>\n      <td>273</td>\n      <td>MPEI</td>\n      <td>01.03.02:inf</td>\n    </tr>\n    <tr>\n      <th>252</th>\n      <td>199-792-523 59</td>\n      <td>273</td>\n      <td></td>\n      <td></td>\n    </tr>\n    <tr>\n      <th>253</th>\n      <td>195-515-012 74</td>\n      <td>273</td>\n      <td></td>\n      <td></td>\n    </tr>\n    <tr>\n      <th>254</th>\n      <td>164-769-893 36</td>\n      <td>273</td>\n      <td></td>\n      <td></td>\n    </tr>\n    <tr>\n      <th>255</th>\n      <td>186-297-358 25</td>\n      <td>273</td>\n      <td></td>\n      <td></td>\n    </tr>\n    <tr>\n      <th>256</th>\n      <td>203-435-212 07</td>\n      <td>273</td>\n      <td></td>\n      <td></td>\n    </tr>\n    <tr>\n      <th>257</th>\n      <td>171-576-987 09</td>\n      <td>273</td>\n      <td></td>\n      <td></td>\n    </tr>\n    <tr>\n      <th>258</th>\n      <td>159-012-761 58</td>\n      <td>273</td>\n      <td></td>\n      <td></td>\n    </tr>\n    <tr>\n      <th>259</th>\n      <td>134-423-454 32</td>\n      <td>273</td>\n      <td></td>\n      <td></td>\n    </tr>\n    <tr>\n      <th>260</th>\n      <td>159-532-756 00</td>\n      <td>273</td>\n      <td></td>\n      <td></td>\n    </tr>\n    <tr>\n      <th>261</th>\n      <td>158-341-353 68</td>\n      <td>273</td>\n      <td></td>\n      <td></td>\n    </tr>\n    <tr>\n      <th>262</th>\n      <td>166-253-197 75</td>\n      <td>273</td>\n      <td></td>\n      <td></td>\n    </tr>\n    <tr>\n      <th>263</th>\n      <td>164-186-565 86</td>\n      <td>273</td>\n      <td></td>\n      <td></td>\n    </tr>\n    <tr>\n      <th>264</th>\n      <td>166-334-766 86</td>\n      <td>273</td>\n      <td></td>\n      <td></td>\n    </tr>\n    <tr>\n      <th>265</th>\n      <td>142-312-839 24</td>\n      <td>273</td>\n      <td></td>\n      <td></td>\n    </tr>\n    <tr>\n      <th>266</th>\n      <td>167-801-450 79</td>\n      <td>273</td>\n      <td></td>\n      <td></td>\n    </tr>\n    <tr>\n      <th>267</th>\n      <td>180-574-805 82</td>\n      <td>272</td>\n      <td>MIREA</td>\n      <td>09.03.02:IPTIP-design</td>\n    </tr>\n    <tr>\n      <th>268</th>\n      <td>188-227-004 82</td>\n      <td>272</td>\n      <td></td>\n      <td></td>\n    </tr>\n    <tr>\n      <th>269</th>\n      <td>164-232-441 40</td>\n      <td>272</td>\n      <td></td>\n      <td></td>\n    </tr>\n    <tr>\n      <th>270</th>\n      <td>169-587-336 37</td>\n      <td>272</td>\n      <td>MIREA</td>\n      <td>09.03.02:IKB</td>\n    </tr>\n    <tr>\n      <th>271</th>\n      <td>159-874-845 46</td>\n      <td>272</td>\n      <td></td>\n      <td></td>\n    </tr>\n    <tr>\n      <th>272</th>\n      <td>179-873-930 54</td>\n      <td>272</td>\n      <td></td>\n      <td></td>\n    </tr>\n    <tr>\n      <th>273</th>\n      <td>154-121-342 15</td>\n      <td>272</td>\n      <td></td>\n      <td></td>\n    </tr>\n    <tr>\n      <th>274</th>\n      <td>186-001-635 47</td>\n      <td>272</td>\n      <td></td>\n      <td></td>\n    </tr>\n    <tr>\n      <th>275</th>\n      <td>189-160-606 95</td>\n      <td>272</td>\n      <td></td>\n      <td></td>\n    </tr>\n    <tr>\n      <th>276</th>\n      <td>144-218-253 36</td>\n      <td>272</td>\n      <td>MIREA</td>\n      <td>09.03.02:IKB</td>\n    </tr>\n    <tr>\n      <th>277</th>\n      <td>186-317-289 96</td>\n      <td>272</td>\n      <td></td>\n      <td></td>\n    </tr>\n    <tr>\n      <th>278</th>\n      <td>170-431-270 27</td>\n      <td>272</td>\n      <td></td>\n      <td></td>\n    </tr>\n    <tr>\n      <th>279</th>\n      <td>204-616-658 46</td>\n      <td>272</td>\n      <td></td>\n      <td></td>\n    </tr>\n    <tr>\n      <th>280</th>\n      <td>187-471-733 13</td>\n      <td>272</td>\n      <td>MIREA</td>\n      <td>09.03.03</td>\n    </tr>\n    <tr>\n      <th>281</th>\n      <td>165-594-385 11</td>\n      <td>272</td>\n      <td></td>\n      <td></td>\n    </tr>\n    <tr>\n      <th>282</th>\n      <td>209-035-718 46</td>\n      <td>272</td>\n      <td></td>\n      <td></td>\n    </tr>\n    <tr>\n      <th>283</th>\n      <td>157-369-154 98</td>\n      <td>272</td>\n      <td></td>\n      <td></td>\n    </tr>\n    <tr>\n      <th>284</th>\n      <td>153-693-432 82</td>\n      <td>272</td>\n      <td></td>\n      <td></td>\n    </tr>\n    <tr>\n      <th>285</th>\n      <td>153-238-693 67</td>\n      <td>272</td>\n      <td></td>\n      <td></td>\n    </tr>\n    <tr>\n      <th>286</th>\n      <td>190-503-420 38</td>\n      <td>272</td>\n      <td></td>\n      <td></td>\n    </tr>\n    <tr>\n      <th>287</th>\n      <td>196-524-037 91</td>\n      <td>272</td>\n      <td></td>\n      <td></td>\n    </tr>\n    <tr>\n      <th>288</th>\n      <td>161-365-657 66</td>\n      <td>272</td>\n      <td></td>\n      <td></td>\n    </tr>\n    <tr>\n      <th>289</th>\n      <td>169-229-986 25</td>\n      <td>272</td>\n      <td></td>\n      <td></td>\n    </tr>\n    <tr>\n      <th>290</th>\n      <td>179-453-843 22</td>\n      <td>272</td>\n      <td></td>\n      <td></td>\n    </tr>\n    <tr>\n      <th>291</th>\n      <td>185-260-494 83</td>\n      <td>272</td>\n      <td>MPEI</td>\n      <td>09.03.03</td>\n    </tr>\n    <tr>\n      <th>292</th>\n      <td>166-010-972 46</td>\n      <td>272</td>\n      <td>MIREA</td>\n      <td>09.03.02:IRI</td>\n    </tr>\n    <tr>\n      <th>293</th>\n      <td>166-263-164 71</td>\n      <td>272</td>\n      <td></td>\n      <td></td>\n    </tr>\n    <tr>\n      <th>294</th>\n      <td>153-746-258 79</td>\n      <td>272</td>\n      <td></td>\n      <td></td>\n    </tr>\n    <tr>\n      <th>295</th>\n      <td>144-750-398 70</td>\n      <td>272</td>\n      <td></td>\n      <td></td>\n    </tr>\n    <tr>\n      <th>296</th>\n      <td>198-178-052 20</td>\n      <td>272</td>\n      <td></td>\n      <td></td>\n    </tr>\n    <tr>\n      <th>297</th>\n      <td>164-365-385 82</td>\n      <td>272</td>\n      <td></td>\n      <td></td>\n    </tr>\n    <tr>\n      <th>298</th>\n      <td>184-378-334 03</td>\n      <td>272</td>\n      <td></td>\n      <td></td>\n    </tr>\n    <tr>\n      <th>299</th>\n      <td>157-576-919 23</td>\n      <td>272</td>\n      <td>MIREA</td>\n      <td>09.03.04</td>\n    </tr>\n    <tr>\n      <th>300</th>\n      <td>186-629-955 37</td>\n      <td>272</td>\n      <td></td>\n      <td></td>\n    </tr>\n    <tr>\n      <th>301</th>\n      <td>203-391-103 11</td>\n      <td>272</td>\n      <td></td>\n      <td></td>\n    </tr>\n    <tr>\n      <th>302</th>\n      <td>168-627-845 22</td>\n      <td>271</td>\n      <td></td>\n      <td></td>\n    </tr>\n    <tr>\n      <th>303</th>\n      <td>154-723-362 63</td>\n      <td>271</td>\n      <td>MPEI</td>\n      <td>01.03.02:inf</td>\n    </tr>\n    <tr>\n      <th>304</th>\n      <td>175-428-997 16</td>\n      <td>271</td>\n      <td></td>\n      <td></td>\n    </tr>\n    <tr>\n      <th>305</th>\n      <td>186-615-650 02</td>\n      <td>271</td>\n      <td></td>\n      <td></td>\n    </tr>\n    <tr>\n      <th>306</th>\n      <td>182-668-339 07</td>\n      <td>271</td>\n      <td>MIREA</td>\n      <td>01.03.04</td>\n    </tr>\n    <tr>\n      <th>307</th>\n      <td>180-130-986 42</td>\n      <td>271</td>\n      <td>MIREA</td>\n      <td>09.03.01:III</td>\n    </tr>\n    <tr>\n      <th>308</th>\n      <td>159-824-574 17</td>\n      <td>271</td>\n      <td></td>\n      <td></td>\n    </tr>\n    <tr>\n      <th>309</th>\n      <td>155-494-042 78</td>\n      <td>271</td>\n      <td>MPEI</td>\n      <td>01.03.02:mat</td>\n    </tr>\n    <tr>\n      <th>310</th>\n      <td>164-745-579 03</td>\n      <td>271</td>\n      <td>MPEI</td>\n      <td>09.03.01</td>\n    </tr>\n    <tr>\n      <th>311</th>\n      <td>184-084-538 85</td>\n      <td>271</td>\n      <td></td>\n      <td></td>\n    </tr>\n    <tr>\n      <th>312</th>\n      <td>169-197-159 19</td>\n      <td>271</td>\n      <td></td>\n      <td></td>\n    </tr>\n    <tr>\n      <th>313</th>\n      <td>163-292-598 83</td>\n      <td>271</td>\n      <td></td>\n      <td></td>\n    </tr>\n    <tr>\n      <th>314</th>\n      <td>169-175-586 16</td>\n      <td>271</td>\n      <td></td>\n      <td></td>\n    </tr>\n    <tr>\n      <th>315</th>\n      <td>142-050-818 13</td>\n      <td>271</td>\n      <td>MPEI</td>\n      <td>27.03.04</td>\n    </tr>\n    <tr>\n      <th>316</th>\n      <td>188-529-544 30</td>\n      <td>271</td>\n      <td></td>\n      <td></td>\n    </tr>\n    <tr>\n      <th>317</th>\n      <td>194-356-956 17</td>\n      <td>271</td>\n      <td></td>\n      <td></td>\n    </tr>\n    <tr>\n      <th>318</th>\n      <td>191-962-636 08</td>\n      <td>271</td>\n      <td></td>\n      <td></td>\n    </tr>\n    <tr>\n      <th>319</th>\n      <td>166-398-521 12</td>\n      <td>271</td>\n      <td></td>\n      <td></td>\n    </tr>\n    <tr>\n      <th>320</th>\n      <td>185-294-632 05</td>\n      <td>271</td>\n      <td>MTUCI</td>\n      <td>10.03.01</td>\n    </tr>\n    <tr>\n      <th>321</th>\n      <td>208-941-650 79</td>\n      <td>271</td>\n      <td></td>\n      <td></td>\n    </tr>\n    <tr>\n      <th>322</th>\n      <td>195-342-508 84</td>\n      <td>271</td>\n      <td></td>\n      <td></td>\n    </tr>\n    <tr>\n      <th>323</th>\n      <td>166-500-261 47</td>\n      <td>271</td>\n      <td></td>\n      <td></td>\n    </tr>\n    <tr>\n      <th>324</th>\n      <td>141-190-592 33</td>\n      <td>271</td>\n      <td>MPEI</td>\n      <td>01.03.02:mat</td>\n    </tr>\n    <tr>\n      <th>325</th>\n      <td>175-526-412 79</td>\n      <td>271</td>\n      <td>MIREA</td>\n      <td>10.05.01</td>\n    </tr>\n    <tr>\n      <th>326</th>\n      <td>165-602-965 79</td>\n      <td>271</td>\n      <td>MIREA</td>\n      <td>09.03.03</td>\n    </tr>\n    <tr>\n      <th>327</th>\n      <td>179-229-632 10</td>\n      <td>271</td>\n      <td></td>\n      <td></td>\n    </tr>\n    <tr>\n      <th>328</th>\n      <td>168-065-492 94</td>\n      <td>271</td>\n      <td></td>\n      <td></td>\n    </tr>\n    <tr>\n      <th>329</th>\n      <td>195-165-521 91</td>\n      <td>271</td>\n      <td></td>\n      <td></td>\n    </tr>\n    <tr>\n      <th>330</th>\n      <td>161-142-507 19</td>\n      <td>271</td>\n      <td></td>\n      <td></td>\n    </tr>\n    <tr>\n      <th>331</th>\n      <td>175-017-374 59</td>\n      <td>271</td>\n      <td></td>\n      <td></td>\n    </tr>\n    <tr>\n      <th>332</th>\n      <td>173-011-639 27</td>\n      <td>271</td>\n      <td></td>\n      <td></td>\n    </tr>\n    <tr>\n      <th>333</th>\n      <td>193-860-513 99</td>\n      <td>271</td>\n      <td></td>\n      <td></td>\n    </tr>\n    <tr>\n      <th>334</th>\n      <td>182-163-141 46</td>\n      <td>271</td>\n      <td></td>\n      <td></td>\n    </tr>\n    <tr>\n      <th>335</th>\n      <td>158-550-217 74</td>\n      <td>271</td>\n      <td></td>\n      <td></td>\n    </tr>\n    <tr>\n      <th>336</th>\n      <td>187-109-734 94</td>\n      <td>271</td>\n      <td></td>\n      <td></td>\n    </tr>\n    <tr>\n      <th>337</th>\n      <td>168-493-693 31</td>\n      <td>271</td>\n      <td></td>\n      <td></td>\n    </tr>\n    <tr>\n      <th>338</th>\n      <td>158-300-454 48</td>\n      <td>271</td>\n      <td></td>\n      <td></td>\n    </tr>\n    <tr>\n      <th>339</th>\n      <td>200-166-984 24</td>\n      <td>271</td>\n      <td></td>\n      <td></td>\n    </tr>\n    <tr>\n      <th>340</th>\n      <td>158-215-219 58</td>\n      <td>271</td>\n      <td></td>\n      <td></td>\n    </tr>\n    <tr>\n      <th>341</th>\n      <td>195-300-104 40</td>\n      <td>271</td>\n      <td></td>\n      <td></td>\n    </tr>\n    <tr>\n      <th>342</th>\n      <td>167-715-746 06</td>\n      <td>271</td>\n      <td></td>\n      <td></td>\n    </tr>\n    <tr>\n      <th>343</th>\n      <td>174-873-244 04</td>\n      <td>271</td>\n      <td></td>\n      <td></td>\n    </tr>\n    <tr>\n      <th>344</th>\n      <td>147-282-565 81</td>\n      <td>271</td>\n      <td></td>\n      <td></td>\n    </tr>\n    <tr>\n      <th>345</th>\n      <td>MPEI № 1100732</td>\n      <td>270</td>\n      <td>MPEI</td>\n      <td>09.03.01</td>\n    </tr>\n    <tr>\n      <th>346</th>\n      <td>130-725-832 36</td>\n      <td>270</td>\n      <td>MPEI</td>\n      <td>10.03.01</td>\n    </tr>\n    <tr>\n      <th>347</th>\n      <td>207-679-431 92</td>\n      <td>270</td>\n      <td></td>\n      <td></td>\n    </tr>\n    <tr>\n      <th>348</th>\n      <td>133-803-665 48</td>\n      <td>270</td>\n      <td></td>\n      <td></td>\n    </tr>\n    <tr>\n      <th>349</th>\n      <td>143-861-947 85</td>\n      <td>270</td>\n      <td>MPEI</td>\n      <td>09.03.03</td>\n    </tr>\n    <tr>\n      <th>350</th>\n      <td>161-770-754 75</td>\n      <td>270</td>\n      <td>MIREA</td>\n      <td>09.03.01:III</td>\n    </tr>\n    <tr>\n      <th>351</th>\n      <td>186-584-367 27</td>\n      <td>270</td>\n      <td>MIREA</td>\n      <td>09.03.02:IKB</td>\n    </tr>\n    <tr>\n      <th>352</th>\n      <td>167-536-349 00</td>\n      <td>270</td>\n      <td></td>\n      <td></td>\n    </tr>\n    <tr>\n      <th>353</th>\n      <td>166-531-644 77</td>\n      <td>270</td>\n      <td></td>\n      <td></td>\n    </tr>\n    <tr>\n      <th>354</th>\n      <td>141-182-045 14</td>\n      <td>270</td>\n      <td>MIREA</td>\n      <td>09.03.03</td>\n    </tr>\n    <tr>\n      <th>355</th>\n      <td>202-274-734 25</td>\n      <td>270</td>\n      <td></td>\n      <td></td>\n    </tr>\n    <tr>\n      <th>356</th>\n      <td>166-032-112 28</td>\n      <td>270</td>\n      <td>MIREA</td>\n      <td>09.03.02:IKB</td>\n    </tr>\n    <tr>\n      <th>357</th>\n      <td>164-889-387 39</td>\n      <td>270</td>\n      <td>MIREA</td>\n      <td>09.03.04</td>\n    </tr>\n    <tr>\n      <th>358</th>\n      <td>146-131-597 47</td>\n      <td>270</td>\n      <td></td>\n      <td></td>\n    </tr>\n    <tr>\n      <th>359</th>\n      <td>201-724-946 33</td>\n      <td>270</td>\n      <td></td>\n      <td></td>\n    </tr>\n    <tr>\n      <th>360</th>\n      <td>158-578-036 12</td>\n      <td>270</td>\n      <td></td>\n      <td></td>\n    </tr>\n    <tr>\n      <th>361</th>\n      <td>174-497-490 18</td>\n      <td>270</td>\n      <td></td>\n      <td></td>\n    </tr>\n    <tr>\n      <th>362</th>\n      <td>148-134-785 75</td>\n      <td>270</td>\n      <td></td>\n      <td></td>\n    </tr>\n    <tr>\n      <th>363</th>\n      <td>194-313-600 61</td>\n      <td>270</td>\n      <td></td>\n      <td></td>\n    </tr>\n    <tr>\n      <th>364</th>\n      <td>179-142-180 80</td>\n      <td>270</td>\n      <td>MPEI</td>\n      <td>09.03.03</td>\n    </tr>\n    <tr>\n      <th>365</th>\n      <td>160-913-482 57</td>\n      <td>270</td>\n      <td>MPEI</td>\n      <td>09.03.03</td>\n    </tr>\n    <tr>\n      <th>366</th>\n      <td>169-728-487 37</td>\n      <td>270</td>\n      <td></td>\n      <td></td>\n    </tr>\n    <tr>\n      <th>367</th>\n      <td>158-979-446 54</td>\n      <td>270</td>\n      <td></td>\n      <td></td>\n    </tr>\n    <tr>\n      <th>368</th>\n      <td>157-626-216 81</td>\n      <td>270</td>\n      <td>MIREA</td>\n      <td>09.03.04</td>\n    </tr>\n    <tr>\n      <th>369</th>\n      <td>167-683-988 43</td>\n      <td>270</td>\n      <td></td>\n      <td></td>\n    </tr>\n    <tr>\n      <th>370</th>\n      <td>187-292-183 07</td>\n      <td>270</td>\n      <td></td>\n      <td></td>\n    </tr>\n    <tr>\n      <th>371</th>\n      <td>184-828-344 10</td>\n      <td>270</td>\n      <td></td>\n      <td></td>\n    </tr>\n    <tr>\n      <th>372</th>\n      <td>162-363-942 67</td>\n      <td>270</td>\n      <td></td>\n      <td></td>\n    </tr>\n    <tr>\n      <th>373</th>\n      <td>141-446-589 55</td>\n      <td>270</td>\n      <td>MIREA</td>\n      <td>09.03.04</td>\n    </tr>\n    <tr>\n      <th>374</th>\n      <td>150-343-750 29</td>\n      <td>270</td>\n      <td></td>\n      <td></td>\n    </tr>\n    <tr>\n      <th>375</th>\n      <td>165-250-030 34</td>\n      <td>270</td>\n      <td>MIREA</td>\n      <td>09.03.04</td>\n    </tr>\n    <tr>\n      <th>376</th>\n      <td>161-075-982 63</td>\n      <td>270</td>\n      <td>MIREA</td>\n      <td>09.03.02:IPTIP-fullstack</td>\n    </tr>\n    <tr>\n      <th>377</th>\n      <td>160-378-440 61</td>\n      <td>270</td>\n      <td></td>\n      <td></td>\n    </tr>\n    <tr>\n      <th>378</th>\n      <td>164-585-185 98</td>\n      <td>270</td>\n      <td></td>\n      <td></td>\n    </tr>\n    <tr>\n      <th>379</th>\n      <td>142-365-731 50</td>\n      <td>270</td>\n      <td>MIREA</td>\n      <td>09.03.03</td>\n    </tr>\n    <tr>\n      <th>380</th>\n      <td>164-278-929 02</td>\n      <td>270</td>\n      <td></td>\n      <td></td>\n    </tr>\n    <tr>\n      <th>381</th>\n      <td>130-864-924 61</td>\n      <td>270</td>\n      <td></td>\n      <td></td>\n    </tr>\n    <tr>\n      <th>382</th>\n      <td>159-850-322 99</td>\n      <td>270</td>\n      <td></td>\n      <td></td>\n    </tr>\n    <tr>\n      <th>383</th>\n      <td>186-406-404 78</td>\n      <td>270</td>\n      <td>MIREA</td>\n      <td>09.03.03</td>\n    </tr>\n    <tr>\n      <th>384</th>\n      <td>199-658-716 64</td>\n      <td>270</td>\n      <td></td>\n      <td></td>\n    </tr>\n  </tbody>\n</table>\n</div>"
     },
     "metadata": {},
     "output_type": "display_data"
    }
   ],
   "source": [
    "system.show_all_students_with_score_ge_and_their_agreement(University.MPEI, Profile('09.03.01'), 270)"
   ],
   "metadata": {
    "collapsed": false,
    "pycharm": {
     "name": "#%%\n"
    }
   }
  },
  {
   "cell_type": "code",
   "execution_count": 13,
   "outputs": [],
   "source": [],
   "metadata": {
    "collapsed": false,
    "pycharm": {
     "name": "#%%\n"
    }
   }
  }
 ],
 "metadata": {
  "kernelspec": {
   "display_name": "Python 3 (ipykernel)",
   "language": "python",
   "name": "python3"
  },
  "language_info": {
   "codemirror_mode": {
    "name": "ipython",
    "version": 3
   },
   "file_extension": ".py",
   "mimetype": "text/x-python",
   "name": "python",
   "nbconvert_exporter": "python",
   "pygments_lexer": "ipython3",
   "version": "3.9.12"
  }
 },
 "nbformat": 4,
 "nbformat_minor": 5
}