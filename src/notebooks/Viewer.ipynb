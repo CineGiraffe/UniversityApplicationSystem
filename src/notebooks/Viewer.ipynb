{
 "cells": [
  {
   "cell_type": "code",
   "execution_count": 1,
   "id": "4b7e05c4",
   "metadata": {
    "pycharm": {
     "name": "#%%\n"
    }
   },
   "outputs": [],
   "source": [
    "from src.core import Profile, StudentId, University\n",
    "from src.application import ApplicationSystem, DataLoader"
   ]
  },
  {
   "cell_type": "code",
   "execution_count": 2,
   "id": "f1986aa3",
   "metadata": {
    "pycharm": {
     "name": "#%%\n"
    }
   },
   "outputs": [],
   "source": [
    "system = ApplicationSystem()"
   ]
  },
  {
   "cell_type": "code",
   "execution_count": 3,
   "outputs": [
    {
     "name": "stdout",
     "output_type": "stream",
     "text": [
      "Parser for MPOLITECH registered.\n"
     ]
    }
   ],
   "source": [
    "loader = DataLoader()"
   ],
   "metadata": {
    "collapsed": false,
    "pycharm": {
     "name": "#%%\n"
    }
   }
  },
  {
   "cell_type": "code",
   "execution_count": 4,
   "outputs": [
    {
     "name": "stdout",
     "output_type": "stream",
     "text": [
      "2478 already listed students uploaded\n",
      "\u001B[32mMPOLITECH file D:\\Personal\\IT\\Programming\\Projects\\UniversityApplicationSystem\\data\\MPOLITECH_09.03.01_05.html read started\u001B[0m\n",
      "An exception occurred in line 1: invalid literal for int() with base 10: '\\xa0Льгота\\xa0'\n",
      "Row: <tr align=\"center\" bgcolor=\"#4B6EB9\">\n",
      "<td style=\"font-size: 12px; font-family: gilroy; padding: 10px;\"><b><font color=\"white\">№</font></b></td>\n",
      "<td style=\"font-size: 12px; font-family: gilroy\"><font color=\"white\"> Реальный <br/>рейтинг</font></td>\n",
      "<td style=\"font-size: 12px; font-family: gilroy; padding: 15px;\"><font color=\"white\">СНИЛС/<br/>Уникальный<br/>номер</font></td>\n",
      "<td style=\"font-size: 12px; font-family: gilroy\"><font color=\"white\">Уникальный<br/>номер</font></td>\n",
      "<!--<td style=\"font-size: 12px; font-family: gilroy\"><b><font color=\"black\">Предмет<br>приоритет 1</font></b></td>-->\n",
      "<td style=\"font-size: 12px; font-family: gilroy\"><font color=\"white\">Балл<br/>приоритет 1</font></td>\n",
      "<!--<td style=\"font-size: 12px; font-family: gilroy\"><b><font color=\"black\">Предмет<br>приоритет 2</font></b></td>-->\n",
      "<td style=\"font-size: 12px; font-family: gilroy\"><font color=\"white\">Балл<br/>приоритет 2</font></td>\n",
      "<!--<td style=\"font-size: 12px; font-family: gilroy\"><b><font color=\"black\">Предмет<br>приоритет 3</font></b></td>-->\n",
      "<td style=\"font-size: 12px; font-family: gilroy\"><font color=\"white\">Балл<br/>приоритет 3</font></td>\n",
      "<!--<td style=\"font-size: 12px; font-family: gilroy\"><b><font color=\"black\">Предмет<br>приоритет 4</font></b></td>-->\n",
      "<td style=\"font-size: 12px; font-family: gilroy\"><font color=\"white\">Балл<br/>приоритет 4</font></td>\n",
      "<td style=\"font-size: 12px; font-family: gilroy\"><font color=\"white\">Сумма баллов<br/>по предметам</font></td>\n",
      "<td style=\"font-size: 12px; font-family: gilroy\"><font color=\"white\">Сумма<br/>ИД</font></td>\n",
      "<td style=\"font-size: 12px; font-family: gilroy\"><font color=\"white\"> Итоговый <br/>балл</font></td>\n",
      "<td style=\"font-size: 12px; font-family: gilroy\"><font color=\"white\"> Общежитие </font></td>\n",
      "<td style=\"font-size: 12px; font-family: gilroy\"><font color=\"white\"> Оригинал </font></td>\n",
      "<td style=\"font-size: 12px; font-family: gilroy\"><font color=\"white\"> Согласие <br/>о зачислении</font></td>\n",
      "<td style=\"font-size: 12px; font-family: gilroy\"><b><font color=\"#55B432\"> Льгота </font></b></td>\n",
      "<td style=\"font-size: 12px; font-family: gilroy\"><font color=\"white\">Преимущественное<br/>право</font></td>\n",
      "<td style=\"font-size: 12px; font-family: gilroy\"><font color=\"white\"> Примечание </font></td>\n",
      "</tr>\n",
      "\u001B[32mMPOLITECH file D:\\Personal\\IT\\Programming\\Projects\\UniversityApplicationSystem\\data\\MPOLITECH_09.03.01_05.html read finished\u001B[0m\n",
      "\n",
      "\u001B[32mMPOLITECH file D:\\Personal\\IT\\Programming\\Projects\\UniversityApplicationSystem\\data\\MPOLITECH_01.03.02.csv read started\u001B[0m\n",
      "\u001B[32mMPOLITECH file D:\\Personal\\IT\\Programming\\Projects\\UniversityApplicationSystem\\data\\MPOLITECH_01.03.02.csv read finished\u001B[0m\n",
      "\n",
      "\u001B[32mMPOLITECH file D:\\Personal\\IT\\Programming\\Projects\\UniversityApplicationSystem\\data\\MPOLITECH_09.03.01_01.csv read started\u001B[0m\n",
      "\u001B[33m  да (№2)   agreement found\u001B[0m\n",
      "\u001B[32mMPOLITECH file D:\\Personal\\IT\\Programming\\Projects\\UniversityApplicationSystem\\data\\MPOLITECH_09.03.01_01.csv read finished\u001B[0m\n",
      "\n",
      "\u001B[32mMPOLITECH file D:\\Personal\\IT\\Programming\\Projects\\UniversityApplicationSystem\\data\\MPOLITECH_09.03.01_02.csv read started\u001B[0m\n",
      "\u001B[32mMPOLITECH file D:\\Personal\\IT\\Programming\\Projects\\UniversityApplicationSystem\\data\\MPOLITECH_09.03.01_02.csv read finished\u001B[0m\n",
      "\n",
      "\u001B[32mMPOLITECH file D:\\Personal\\IT\\Programming\\Projects\\UniversityApplicationSystem\\data\\MPOLITECH_09.03.01_04.csv read started\u001B[0m\n",
      "\u001B[33m  да (№2)   agreement found\u001B[0m\n",
      "\u001B[33m  да (№2)   agreement found\u001B[0m\n",
      "\u001B[32mMPOLITECH file D:\\Personal\\IT\\Programming\\Projects\\UniversityApplicationSystem\\data\\MPOLITECH_09.03.01_04.csv read finished\u001B[0m\n",
      "\n",
      "\u001B[33mStudents for 09.03.01:05 in MPOLITECH already uploaded: skipping file MPOLITECH_09.03.01_05.csv\u001B[0m\n",
      "\n",
      "\u001B[32mMPOLITECH file D:\\Personal\\IT\\Programming\\Projects\\UniversityApplicationSystem\\data\\MPOLITECH_09.03.02_01.csv read started\u001B[0m\n",
      "\u001B[33m  да (№2)   agreement found\u001B[0m\n",
      "\u001B[33m  да (№2)   agreement found\u001B[0m\n",
      "\u001B[33m  да (№3)   agreement found\u001B[0m\n",
      "\u001B[32mMPOLITECH file D:\\Personal\\IT\\Programming\\Projects\\UniversityApplicationSystem\\data\\MPOLITECH_09.03.02_01.csv read finished\u001B[0m\n",
      "\n",
      "\u001B[32mMPOLITECH file D:\\Personal\\IT\\Programming\\Projects\\UniversityApplicationSystem\\data\\MPOLITECH_09.03.02_02.csv read started\u001B[0m\n",
      "\u001B[33m  да (№2)   agreement found\u001B[0m\n",
      "\u001B[32mMPOLITECH file D:\\Personal\\IT\\Programming\\Projects\\UniversityApplicationSystem\\data\\MPOLITECH_09.03.02_02.csv read finished\u001B[0m\n",
      "\n",
      "\u001B[32mMPOLITECH file D:\\Personal\\IT\\Programming\\Projects\\UniversityApplicationSystem\\data\\MPOLITECH_09.03.02_03.csv read started\u001B[0m\n",
      "\u001B[33m  да (№2)   agreement found\u001B[0m\n",
      "\u001B[32mMPOLITECH file D:\\Personal\\IT\\Programming\\Projects\\UniversityApplicationSystem\\data\\MPOLITECH_09.03.02_03.csv read finished\u001B[0m\n",
      "\n",
      "\u001B[32mMPOLITECH file D:\\Personal\\IT\\Programming\\Projects\\UniversityApplicationSystem\\data\\MPOLITECH_09.03.03_01.csv read started\u001B[0m\n",
      "\u001B[32mMPOLITECH file D:\\Personal\\IT\\Programming\\Projects\\UniversityApplicationSystem\\data\\MPOLITECH_09.03.03_01.csv read finished\u001B[0m\n",
      "\n",
      "\u001B[32mMPOLITECH file D:\\Personal\\IT\\Programming\\Projects\\UniversityApplicationSystem\\data\\MPOLITECH_09.03.03_02.csv read started\u001B[0m\n",
      "\u001B[33m  да (№2)   agreement found\u001B[0m\n",
      "\u001B[32mMPOLITECH file D:\\Personal\\IT\\Programming\\Projects\\UniversityApplicationSystem\\data\\MPOLITECH_09.03.03_02.csv read finished\u001B[0m\n",
      "\u001B[31mERROR: student id=207-624-240 42 is already registered for profile 09.03.03:02 in university MPOLITECH\u001B[0m\n",
      "\n",
      "\u001B[32mMPOLITECH file D:\\Personal\\IT\\Programming\\Projects\\UniversityApplicationSystem\\data\\MPOLITECH_09.03.03_03.csv read started\u001B[0m\n",
      "\u001B[32mMPOLITECH file D:\\Personal\\IT\\Programming\\Projects\\UniversityApplicationSystem\\data\\MPOLITECH_09.03.03_03.csv read finished\u001B[0m\n",
      "\n",
      "\u001B[32mMPOLITECH file D:\\Personal\\IT\\Programming\\Projects\\UniversityApplicationSystem\\data\\MPOLITECH_10.03.01.csv read started\u001B[0m\n",
      "\u001B[32mMPOLITECH file D:\\Personal\\IT\\Programming\\Projects\\UniversityApplicationSystem\\data\\MPOLITECH_10.03.01.csv read finished\u001B[0m\n",
      "\n",
      "\u001B[32mMPOLITECH file D:\\Personal\\IT\\Programming\\Projects\\UniversityApplicationSystem\\data\\MPOLITECH_10.05.03.csv read started\u001B[0m\n",
      "\u001B[33m  да (№2)   agreement found\u001B[0m\n",
      "\u001B[32mMPOLITECH file D:\\Personal\\IT\\Programming\\Projects\\UniversityApplicationSystem\\data\\MPOLITECH_10.05.03.csv read finished\u001B[0m\n",
      "\n"
     ]
    }
   ],
   "source": [
    "loader.load_data(system, \"../../data/\")"
   ],
   "metadata": {
    "collapsed": false,
    "pycharm": {
     "name": "#%%\n"
    }
   }
  },
  {
   "cell_type": "code",
   "execution_count": 5,
   "outputs": [],
   "source": [
    "places_details = {\n",
    "    University.MPEI: {\n",
    "        Profile('01.03.02', 'inf'): 46,\n",
    "        Profile('01.03.02', 'mat'): 36,\n",
    "        Profile('09.03.01'): 157,\n",
    "        Profile('09.03.03'): 27,\n",
    "        Profile('10.03.01'): 35,\n",
    "        Profile('27.03.04'): 66,\n",
    "        Profile('38.03.05'): 7,\n",
    "    },\n",
    "    University.MIREA: {\n",
    "        Profile('01.03.02'): 65,\n",
    "        Profile('01.03.04'): 25,\n",
    "        Profile('02.03.02'): 13,\n",
    "        Profile('09.03.01', 'IIT'): 78,\n",
    "        Profile('09.03.01', 'III'): 115,\n",
    "        Profile('09.03.02', 'IKB'): 168,\n",
    "        Profile('09.03.02', 'IRI'): 39,\n",
    "        Profile('09.03.02', 'IPTIP-design'): 39,\n",
    "        Profile('09.03.02', 'IPTIP-fullstack'): 16,\n",
    "        Profile('09.03.03'): 139,\n",
    "        Profile('09.03.04'): 147,\n",
    "        Profile('10.03.01'): 21,\n",
    "        Profile('10.05.01'): 32,\n",
    "    },\n",
    "    University.MAI: {\n",
    "        Profile('01.03.00'): 201,\n",
    "        Profile('01.03.02'): 19,\n",
    "        Profile('02.03.02'): 49,\n",
    "        Profile('09.03.01'): 147,\n",
    "        Profile('09.03.02'): 47,\n",
    "        Profile('09.03.03'): 50,\n",
    "        Profile('09.03.04'): 46,\n",
    "        Profile('10.03.01'): 38,\n",
    "    },\n",
    "    University.MPOLITECH: {\n",
    "        Profile('01.03.02'): 27,\n",
    "        Profile('09.03.01', '01'): 37,\n",
    "        Profile('09.03.01', '02'): 66,\n",
    "        Profile('09.03.01', '04'): 45,\n",
    "        Profile('09.03.01', '05'): 24,\n",
    "        Profile('09.03.02', '01'): 179,\n",
    "        Profile('09.03.02', '02'): 21,\n",
    "        Profile('09.03.02', '03'): 22,\n",
    "        Profile('09.03.03', '01'): 44,\n",
    "        Profile('09.03.03', '02'): 44,\n",
    "        Profile('09.03.03', '03'): 22,\n",
    "        Profile('10.03.01'): 31,\n",
    "        Profile('10.05.03'): 27,\n",
    "    },\n",
    "    University.MTUCI: {\n",
    "        Profile('01.03.04'): 16,\n",
    "        Profile('02.03.02'): 46,\n",
    "        Profile('09.03.01'): 100,\n",
    "        Profile('09.03.02'): 90,\n",
    "        Profile('09.03.03'): 50,\n",
    "        Profile('10.03.01'): 52,\n",
    "        Profile('10.05.02'): 60,\n",
    "        Profile('11.03.01'): 75,\n",
    "        Profile('11.03.02', 'RIT'): 232,\n",
    "        Profile('11.03.02', 'SISS'): 306,\n",
    "        Profile('15.03.04'): 20,\n",
    "        Profile('27.03.04'): 24,\n",
    "    },\n",
    "}\n",
    "system.add_places_details(places_details)"
   ],
   "metadata": {
    "collapsed": false,
    "pycharm": {
     "name": "#%%\n"
    }
   }
  },
  {
   "cell_type": "code",
   "execution_count": 6,
   "outputs": [
    {
     "data": {
      "text/plain": "{MIPT: {},\n VSE: {},\n MSU: {},\n MEPHI: {},\n BMSTU: {},\n MIREA: {},\n MAI: {},\n MPEI: {},\n MTUCI: {},\n MPOLITECH: {09.03.01:05: 285,\n  01.03.02: 278,\n  09.03.01:01: 284,\n  09.03.01:02: 276,\n  09.03.01:04: 279,\n  09.03.02:01: 273,\n  09.03.02:02: 283,\n  09.03.02:03: 283,\n  09.03.03:01: 279,\n  09.03.03:02: 283,\n  09.03.03:03: 284,\n  10.03.01: 283,\n  10.05.03: 277},\n MIET: {},\n ITMO: {},\n SPBSU: {}}"
     },
     "execution_count": 6,
     "metadata": {},
     "output_type": "execute_result"
    }
   ],
   "source": [
    "system.get_current_min_scores()"
   ],
   "metadata": {
    "collapsed": false,
    "pycharm": {
     "name": "#%%\n"
    }
   }
  },
  {
   "cell_type": "code",
   "execution_count": 7,
   "outputs": [
    {
     "data": {
      "text/plain": "{MPOLITECH: {01.03.02: (28, 278),\n  09.03.01:01: (97, 278),\n  09.03.01:02: (53, 278),\n  09.03.02:01: (90, 278),\n  09.03.02:02: (42, 278),\n  09.03.02:03: (48, 278),\n  09.03.03:01: (53, 278),\n  09.03.03:02: (78, 278),\n  09.03.03:03: (55, 278)}}"
     },
     "execution_count": 7,
     "metadata": {},
     "output_type": "execute_result"
    }
   ],
   "source": [
    "system.get_current_positions(StudentId(\"185-597-938 50\"))"
   ],
   "metadata": {
    "collapsed": false,
    "pycharm": {
     "name": "#%%\n"
    }
   }
  },
  {
   "cell_type": "code",
   "execution_count": 8,
   "outputs": [
    {
     "data": {
      "text/plain": "    University  Agreements\n1         МФТИ         543\n2          ВШЭ           0\n3          МГУ           0\n4         МИФИ         202\n5     Бауманка         296\n6        МИРЭА         253\n7          МАИ          84\n8          МЭИ          96\n9        МТУСИ          52\n10  МосПолитех         461\n11        МИЭТ          51\n12        ИТМО         643\n13       СПБГУ         138",
      "text/html": "<div>\n<style scoped>\n    .dataframe tbody tr th:only-of-type {\n        vertical-align: middle;\n    }\n\n    .dataframe tbody tr th {\n        vertical-align: top;\n    }\n\n    .dataframe thead th {\n        text-align: right;\n    }\n</style>\n<table border=\"1\" class=\"dataframe\">\n  <thead>\n    <tr style=\"text-align: right;\">\n      <th></th>\n      <th>University</th>\n      <th>Agreements</th>\n    </tr>\n  </thead>\n  <tbody>\n    <tr>\n      <th>1</th>\n      <td>МФТИ</td>\n      <td>543</td>\n    </tr>\n    <tr>\n      <th>2</th>\n      <td>ВШЭ</td>\n      <td>0</td>\n    </tr>\n    <tr>\n      <th>3</th>\n      <td>МГУ</td>\n      <td>0</td>\n    </tr>\n    <tr>\n      <th>4</th>\n      <td>МИФИ</td>\n      <td>202</td>\n    </tr>\n    <tr>\n      <th>5</th>\n      <td>Бауманка</td>\n      <td>296</td>\n    </tr>\n    <tr>\n      <th>6</th>\n      <td>МИРЭА</td>\n      <td>253</td>\n    </tr>\n    <tr>\n      <th>7</th>\n      <td>МАИ</td>\n      <td>84</td>\n    </tr>\n    <tr>\n      <th>8</th>\n      <td>МЭИ</td>\n      <td>96</td>\n    </tr>\n    <tr>\n      <th>9</th>\n      <td>МТУСИ</td>\n      <td>52</td>\n    </tr>\n    <tr>\n      <th>10</th>\n      <td>МосПолитех</td>\n      <td>461</td>\n    </tr>\n    <tr>\n      <th>11</th>\n      <td>МИЭТ</td>\n      <td>51</td>\n    </tr>\n    <tr>\n      <th>12</th>\n      <td>ИТМО</td>\n      <td>643</td>\n    </tr>\n    <tr>\n      <th>13</th>\n      <td>СПБГУ</td>\n      <td>138</td>\n    </tr>\n  </tbody>\n</table>\n</div>"
     },
     "metadata": {},
     "output_type": "display_data"
    }
   ],
   "source": [
    "system.show_number_of_agreements_by_university()"
   ],
   "metadata": {
    "collapsed": false,
    "pycharm": {
     "name": "#%%\n"
    }
   }
  },
  {
   "cell_type": "code",
   "execution_count": 9,
   "outputs": [
    {
     "data": {
      "text/plain": "    University  Agreements\n1         МФТИ           0\n2          ВШЭ           0\n3          МГУ           0\n4         МИФИ           0\n5     Бауманка           0\n6        МИРЭА           0\n7          МАИ           0\n8          МЭИ           0\n9        МТУСИ           0\n10  МосПолитех         341\n11        МИЭТ           0\n12        ИТМО           0\n13       СПБГУ           0",
      "text/html": "<div>\n<style scoped>\n    .dataframe tbody tr th:only-of-type {\n        vertical-align: middle;\n    }\n\n    .dataframe tbody tr th {\n        vertical-align: top;\n    }\n\n    .dataframe thead th {\n        text-align: right;\n    }\n</style>\n<table border=\"1\" class=\"dataframe\">\n  <thead>\n    <tr style=\"text-align: right;\">\n      <th></th>\n      <th>University</th>\n      <th>Agreements</th>\n    </tr>\n  </thead>\n  <tbody>\n    <tr>\n      <th>1</th>\n      <td>МФТИ</td>\n      <td>0</td>\n    </tr>\n    <tr>\n      <th>2</th>\n      <td>ВШЭ</td>\n      <td>0</td>\n    </tr>\n    <tr>\n      <th>3</th>\n      <td>МГУ</td>\n      <td>0</td>\n    </tr>\n    <tr>\n      <th>4</th>\n      <td>МИФИ</td>\n      <td>0</td>\n    </tr>\n    <tr>\n      <th>5</th>\n      <td>Бауманка</td>\n      <td>0</td>\n    </tr>\n    <tr>\n      <th>6</th>\n      <td>МИРЭА</td>\n      <td>0</td>\n    </tr>\n    <tr>\n      <th>7</th>\n      <td>МАИ</td>\n      <td>0</td>\n    </tr>\n    <tr>\n      <th>8</th>\n      <td>МЭИ</td>\n      <td>0</td>\n    </tr>\n    <tr>\n      <th>9</th>\n      <td>МТУСИ</td>\n      <td>0</td>\n    </tr>\n    <tr>\n      <th>10</th>\n      <td>МосПолитех</td>\n      <td>341</td>\n    </tr>\n    <tr>\n      <th>11</th>\n      <td>МИЭТ</td>\n      <td>0</td>\n    </tr>\n    <tr>\n      <th>12</th>\n      <td>ИТМО</td>\n      <td>0</td>\n    </tr>\n    <tr>\n      <th>13</th>\n      <td>СПБГУ</td>\n      <td>0</td>\n    </tr>\n  </tbody>\n</table>\n</div>"
     },
     "metadata": {},
     "output_type": "display_data"
    }
   ],
   "source": [
    "system.show_number_of_pending_agreements_by_university()"
   ],
   "metadata": {
    "collapsed": false,
    "pycharm": {
     "name": "#%%\n"
    }
   }
  },
  {
   "cell_type": "code",
   "execution_count": 10,
   "outputs": [
    {
     "data": {
      "text/plain": "   University  N of Agreements  Average score  Median score  Top 5% score  \\\n1  МосПолитех              341          261.9           260         284.8   \n\n   Top 10% score  Top 20% score  \n1          278.8          272.0  ",
      "text/html": "<div>\n<style scoped>\n    .dataframe tbody tr th:only-of-type {\n        vertical-align: middle;\n    }\n\n    .dataframe tbody tr th {\n        vertical-align: top;\n    }\n\n    .dataframe thead th {\n        text-align: right;\n    }\n</style>\n<table border=\"1\" class=\"dataframe\">\n  <thead>\n    <tr style=\"text-align: right;\">\n      <th></th>\n      <th>University</th>\n      <th>N of Agreements</th>\n      <th>Average score</th>\n      <th>Median score</th>\n      <th>Top 5% score</th>\n      <th>Top 10% score</th>\n      <th>Top 20% score</th>\n    </tr>\n  </thead>\n  <tbody>\n    <tr>\n      <th>1</th>\n      <td>МосПолитех</td>\n      <td>341</td>\n      <td>261.9</td>\n      <td>260</td>\n      <td>284.8</td>\n      <td>278.8</td>\n      <td>272.0</td>\n    </tr>\n  </tbody>\n</table>\n</div>"
     },
     "metadata": {},
     "output_type": "display_data"
    }
   ],
   "source": [
    "system.show_agreements_statistics_by_universities()"
   ],
   "metadata": {
    "collapsed": false,
    "pycharm": {
     "name": "#%%\n"
    }
   }
  },
  {
   "cell_type": "code",
   "execution_count": 11,
   "outputs": [
    {
     "data": {
      "text/plain": "    University      Profile  N of Agreements  Average score  Median score  \\\n1   МосПолитех  09.03.01:05                2          287.0         287.0   \n2   МосПолитех     01.03.02                2          259.0         259.0   \n3   МосПолитех  09.03.01:01               28          274.0         273.5   \n4   МосПолитех  09.03.01:02               14          262.6         259.5   \n5   МосПолитех  09.03.01:04                7          267.1         265.0   \n6   МосПолитех  09.03.02:01              183          261.2         259.0   \n7   МосПолитех  09.03.02:02               12          248.2         245.5   \n8   МосПолитех  09.03.02:03                6          267.2         268.5   \n9   МосПолитех  09.03.03:01               16          258.1         258.0   \n10  МосПолитех  09.03.03:02               27          262.0         261.0   \n11  МосПолитех  09.03.03:03                3          271.3         274.0   \n12  МосПолитех     10.03.01               23          260.3         259.0   \n13  МосПолитех     10.05.03               18          257.1         255.5   \n\n    Top 5% score  Top 10% score  Top 20% score  \n1          292.4          291.8          290.6  \n2          264.4          263.8          262.6  \n3          298.2          296.0          283.4  \n4          281.2          277.5          274.0  \n5          306.8          297.6          279.2  \n6          280.0          277.0          269.0  \n7          288.4          272.8          252.4  \n8          291.2          289.5          286.0  \n9          273.4          270.9          267.2  \n10         286.8          281.8          269.8  \n11         288.4          286.8          283.6  \n12         282.4          274.4          264.2  \n13         289.6          278.2          267.8  ",
      "text/html": "<div>\n<style scoped>\n    .dataframe tbody tr th:only-of-type {\n        vertical-align: middle;\n    }\n\n    .dataframe tbody tr th {\n        vertical-align: top;\n    }\n\n    .dataframe thead th {\n        text-align: right;\n    }\n</style>\n<table border=\"1\" class=\"dataframe\">\n  <thead>\n    <tr style=\"text-align: right;\">\n      <th></th>\n      <th>University</th>\n      <th>Profile</th>\n      <th>N of Agreements</th>\n      <th>Average score</th>\n      <th>Median score</th>\n      <th>Top 5% score</th>\n      <th>Top 10% score</th>\n      <th>Top 20% score</th>\n    </tr>\n  </thead>\n  <tbody>\n    <tr>\n      <th>1</th>\n      <td>МосПолитех</td>\n      <td>09.03.01:05</td>\n      <td>2</td>\n      <td>287.0</td>\n      <td>287.0</td>\n      <td>292.4</td>\n      <td>291.8</td>\n      <td>290.6</td>\n    </tr>\n    <tr>\n      <th>2</th>\n      <td>МосПолитех</td>\n      <td>01.03.02</td>\n      <td>2</td>\n      <td>259.0</td>\n      <td>259.0</td>\n      <td>264.4</td>\n      <td>263.8</td>\n      <td>262.6</td>\n    </tr>\n    <tr>\n      <th>3</th>\n      <td>МосПолитех</td>\n      <td>09.03.01:01</td>\n      <td>28</td>\n      <td>274.0</td>\n      <td>273.5</td>\n      <td>298.2</td>\n      <td>296.0</td>\n      <td>283.4</td>\n    </tr>\n    <tr>\n      <th>4</th>\n      <td>МосПолитех</td>\n      <td>09.03.01:02</td>\n      <td>14</td>\n      <td>262.6</td>\n      <td>259.5</td>\n      <td>281.2</td>\n      <td>277.5</td>\n      <td>274.0</td>\n    </tr>\n    <tr>\n      <th>5</th>\n      <td>МосПолитех</td>\n      <td>09.03.01:04</td>\n      <td>7</td>\n      <td>267.1</td>\n      <td>265.0</td>\n      <td>306.8</td>\n      <td>297.6</td>\n      <td>279.2</td>\n    </tr>\n    <tr>\n      <th>6</th>\n      <td>МосПолитех</td>\n      <td>09.03.02:01</td>\n      <td>183</td>\n      <td>261.2</td>\n      <td>259.0</td>\n      <td>280.0</td>\n      <td>277.0</td>\n      <td>269.0</td>\n    </tr>\n    <tr>\n      <th>7</th>\n      <td>МосПолитех</td>\n      <td>09.03.02:02</td>\n      <td>12</td>\n      <td>248.2</td>\n      <td>245.5</td>\n      <td>288.4</td>\n      <td>272.8</td>\n      <td>252.4</td>\n    </tr>\n    <tr>\n      <th>8</th>\n      <td>МосПолитех</td>\n      <td>09.03.02:03</td>\n      <td>6</td>\n      <td>267.2</td>\n      <td>268.5</td>\n      <td>291.2</td>\n      <td>289.5</td>\n      <td>286.0</td>\n    </tr>\n    <tr>\n      <th>9</th>\n      <td>МосПолитех</td>\n      <td>09.03.03:01</td>\n      <td>16</td>\n      <td>258.1</td>\n      <td>258.0</td>\n      <td>273.4</td>\n      <td>270.9</td>\n      <td>267.2</td>\n    </tr>\n    <tr>\n      <th>10</th>\n      <td>МосПолитех</td>\n      <td>09.03.03:02</td>\n      <td>27</td>\n      <td>262.0</td>\n      <td>261.0</td>\n      <td>286.8</td>\n      <td>281.8</td>\n      <td>269.8</td>\n    </tr>\n    <tr>\n      <th>11</th>\n      <td>МосПолитех</td>\n      <td>09.03.03:03</td>\n      <td>3</td>\n      <td>271.3</td>\n      <td>274.0</td>\n      <td>288.4</td>\n      <td>286.8</td>\n      <td>283.6</td>\n    </tr>\n    <tr>\n      <th>12</th>\n      <td>МосПолитех</td>\n      <td>10.03.01</td>\n      <td>23</td>\n      <td>260.3</td>\n      <td>259.0</td>\n      <td>282.4</td>\n      <td>274.4</td>\n      <td>264.2</td>\n    </tr>\n    <tr>\n      <th>13</th>\n      <td>МосПолитех</td>\n      <td>10.05.03</td>\n      <td>18</td>\n      <td>257.1</td>\n      <td>255.5</td>\n      <td>289.6</td>\n      <td>278.2</td>\n      <td>267.8</td>\n    </tr>\n  </tbody>\n</table>\n</div>"
     },
     "metadata": {},
     "output_type": "display_data"
    }
   ],
   "source": [
    "system.show_agreements_statistics_by_universities_and_profiles()"
   ],
   "metadata": {
    "collapsed": false,
    "pycharm": {
     "name": "#%%\n"
    }
   }
  },
  {
   "cell_type": "code",
   "execution_count": 12,
   "outputs": [
    {
     "data": {
      "text/plain": "  University      Profile  Current Position  Number of Places  Score  \\\n1  MPOLITECH     01.03.02                28                27    278   \n2  MPOLITECH  09.03.01:01                97                37    278   \n3  MPOLITECH  09.03.01:02                53                66    278   \n4  MPOLITECH  09.03.02:01                90               179    278   \n5  MPOLITECH  09.03.02:02                42                21    278   \n6  MPOLITECH  09.03.02:03                48                22    278   \n7  MPOLITECH  09.03.03:01                53                44    278   \n8  MPOLITECH  09.03.03:02                78                44    278   \n9  MPOLITECH  09.03.03:03                55                22    278   \n\n   Min Score  \n1        278  \n2        284  \n3        276  \n4        273  \n5        283  \n6        283  \n7        279  \n8        283  \n9        284  ",
      "text/html": "<div>\n<style scoped>\n    .dataframe tbody tr th:only-of-type {\n        vertical-align: middle;\n    }\n\n    .dataframe tbody tr th {\n        vertical-align: top;\n    }\n\n    .dataframe thead th {\n        text-align: right;\n    }\n</style>\n<table border=\"1\" class=\"dataframe\">\n  <thead>\n    <tr style=\"text-align: right;\">\n      <th></th>\n      <th>University</th>\n      <th>Profile</th>\n      <th>Current Position</th>\n      <th>Number of Places</th>\n      <th>Score</th>\n      <th>Min Score</th>\n    </tr>\n  </thead>\n  <tbody>\n    <tr>\n      <th>1</th>\n      <td>MPOLITECH</td>\n      <td>01.03.02</td>\n      <td>28</td>\n      <td>27</td>\n      <td>278</td>\n      <td>278</td>\n    </tr>\n    <tr>\n      <th>2</th>\n      <td>MPOLITECH</td>\n      <td>09.03.01:01</td>\n      <td>97</td>\n      <td>37</td>\n      <td>278</td>\n      <td>284</td>\n    </tr>\n    <tr>\n      <th>3</th>\n      <td>MPOLITECH</td>\n      <td>09.03.01:02</td>\n      <td>53</td>\n      <td>66</td>\n      <td>278</td>\n      <td>276</td>\n    </tr>\n    <tr>\n      <th>4</th>\n      <td>MPOLITECH</td>\n      <td>09.03.02:01</td>\n      <td>90</td>\n      <td>179</td>\n      <td>278</td>\n      <td>273</td>\n    </tr>\n    <tr>\n      <th>5</th>\n      <td>MPOLITECH</td>\n      <td>09.03.02:02</td>\n      <td>42</td>\n      <td>21</td>\n      <td>278</td>\n      <td>283</td>\n    </tr>\n    <tr>\n      <th>6</th>\n      <td>MPOLITECH</td>\n      <td>09.03.02:03</td>\n      <td>48</td>\n      <td>22</td>\n      <td>278</td>\n      <td>283</td>\n    </tr>\n    <tr>\n      <th>7</th>\n      <td>MPOLITECH</td>\n      <td>09.03.03:01</td>\n      <td>53</td>\n      <td>44</td>\n      <td>278</td>\n      <td>279</td>\n    </tr>\n    <tr>\n      <th>8</th>\n      <td>MPOLITECH</td>\n      <td>09.03.03:02</td>\n      <td>78</td>\n      <td>44</td>\n      <td>278</td>\n      <td>283</td>\n    </tr>\n    <tr>\n      <th>9</th>\n      <td>MPOLITECH</td>\n      <td>09.03.03:03</td>\n      <td>55</td>\n      <td>22</td>\n      <td>278</td>\n      <td>284</td>\n    </tr>\n  </tbody>\n</table>\n</div>"
     },
     "metadata": {},
     "output_type": "display_data"
    }
   ],
   "source": [
    "system.show_current_situation_for(StudentId(\"185-597-938 50\"))"
   ],
   "metadata": {
    "collapsed": false,
    "pycharm": {
     "name": "#%%\n"
    }
   }
  },
  {
   "cell_type": "code",
   "execution_count": 13,
   "outputs": [
    {
     "data": {
      "text/plain": "                Id  Score Chosen University Chosen Profile\n1   171-643-457 68    297                                 \n2   192-019-459 66    297                                 \n3   160-532-589 49    297                                 \n4   186-366-742 16    293         MPOLITECH    09.03.01:04\n5   149-664-675 21    292                                 \n6   177-890-551 31    291                                 \n7   159-529-715 14    291                                 \n8   175-909-495 23    291                                 \n9   164-941-829 99    290         MPOLITECH    09.03.02:01\n10  165-880-036 91    290                                 \n11  187-107-656 89    289                                 \n12  160-401-522 05    289                                 \n13  186-695-330 29    289                                 \n14  166-787-831 38    289                                 \n15  188-744-368 34    289         MPOLITECH    09.03.01:05\n16  160-496-735 81    289                                 \n17  195-057-588 06    288                                 \n18  172-969-049 14    288                                 \n19  169-152-829 95    288                                 \n20  183-742-370 86    287                                 \n21  142-966-350 81    286                                 \n22  160-212-107 92    285                                 \n23  183-760-080 81    285         MPOLITECH    09.03.03:02\n24  166-275-174 86    285         MPOLITECH    09.03.01:01\n25  199-486-248 52    285         MPOLITECH    09.03.01:05\n26  189-531-085 04    285                                 \n27  160-148-658 50    284                                 ",
      "text/html": "<div>\n<style scoped>\n    .dataframe tbody tr th:only-of-type {\n        vertical-align: middle;\n    }\n\n    .dataframe tbody tr th {\n        vertical-align: top;\n    }\n\n    .dataframe thead th {\n        text-align: right;\n    }\n</style>\n<table border=\"1\" class=\"dataframe\">\n  <thead>\n    <tr style=\"text-align: right;\">\n      <th></th>\n      <th>Id</th>\n      <th>Score</th>\n      <th>Chosen University</th>\n      <th>Chosen Profile</th>\n    </tr>\n  </thead>\n  <tbody>\n    <tr>\n      <th>1</th>\n      <td>171-643-457 68</td>\n      <td>297</td>\n      <td></td>\n      <td></td>\n    </tr>\n    <tr>\n      <th>2</th>\n      <td>192-019-459 66</td>\n      <td>297</td>\n      <td></td>\n      <td></td>\n    </tr>\n    <tr>\n      <th>3</th>\n      <td>160-532-589 49</td>\n      <td>297</td>\n      <td></td>\n      <td></td>\n    </tr>\n    <tr>\n      <th>4</th>\n      <td>186-366-742 16</td>\n      <td>293</td>\n      <td>MPOLITECH</td>\n      <td>09.03.01:04</td>\n    </tr>\n    <tr>\n      <th>5</th>\n      <td>149-664-675 21</td>\n      <td>292</td>\n      <td></td>\n      <td></td>\n    </tr>\n    <tr>\n      <th>6</th>\n      <td>177-890-551 31</td>\n      <td>291</td>\n      <td></td>\n      <td></td>\n    </tr>\n    <tr>\n      <th>7</th>\n      <td>159-529-715 14</td>\n      <td>291</td>\n      <td></td>\n      <td></td>\n    </tr>\n    <tr>\n      <th>8</th>\n      <td>175-909-495 23</td>\n      <td>291</td>\n      <td></td>\n      <td></td>\n    </tr>\n    <tr>\n      <th>9</th>\n      <td>164-941-829 99</td>\n      <td>290</td>\n      <td>MPOLITECH</td>\n      <td>09.03.02:01</td>\n    </tr>\n    <tr>\n      <th>10</th>\n      <td>165-880-036 91</td>\n      <td>290</td>\n      <td></td>\n      <td></td>\n    </tr>\n    <tr>\n      <th>11</th>\n      <td>187-107-656 89</td>\n      <td>289</td>\n      <td></td>\n      <td></td>\n    </tr>\n    <tr>\n      <th>12</th>\n      <td>160-401-522 05</td>\n      <td>289</td>\n      <td></td>\n      <td></td>\n    </tr>\n    <tr>\n      <th>13</th>\n      <td>186-695-330 29</td>\n      <td>289</td>\n      <td></td>\n      <td></td>\n    </tr>\n    <tr>\n      <th>14</th>\n      <td>166-787-831 38</td>\n      <td>289</td>\n      <td></td>\n      <td></td>\n    </tr>\n    <tr>\n      <th>15</th>\n      <td>188-744-368 34</td>\n      <td>289</td>\n      <td>MPOLITECH</td>\n      <td>09.03.01:05</td>\n    </tr>\n    <tr>\n      <th>16</th>\n      <td>160-496-735 81</td>\n      <td>289</td>\n      <td></td>\n      <td></td>\n    </tr>\n    <tr>\n      <th>17</th>\n      <td>195-057-588 06</td>\n      <td>288</td>\n      <td></td>\n      <td></td>\n    </tr>\n    <tr>\n      <th>18</th>\n      <td>172-969-049 14</td>\n      <td>288</td>\n      <td></td>\n      <td></td>\n    </tr>\n    <tr>\n      <th>19</th>\n      <td>169-152-829 95</td>\n      <td>288</td>\n      <td></td>\n      <td></td>\n    </tr>\n    <tr>\n      <th>20</th>\n      <td>183-742-370 86</td>\n      <td>287</td>\n      <td></td>\n      <td></td>\n    </tr>\n    <tr>\n      <th>21</th>\n      <td>142-966-350 81</td>\n      <td>286</td>\n      <td></td>\n      <td></td>\n    </tr>\n    <tr>\n      <th>22</th>\n      <td>160-212-107 92</td>\n      <td>285</td>\n      <td></td>\n      <td></td>\n    </tr>\n    <tr>\n      <th>23</th>\n      <td>183-760-080 81</td>\n      <td>285</td>\n      <td>MPOLITECH</td>\n      <td>09.03.03:02</td>\n    </tr>\n    <tr>\n      <th>24</th>\n      <td>166-275-174 86</td>\n      <td>285</td>\n      <td>MPOLITECH</td>\n      <td>09.03.01:01</td>\n    </tr>\n    <tr>\n      <th>25</th>\n      <td>199-486-248 52</td>\n      <td>285</td>\n      <td>MPOLITECH</td>\n      <td>09.03.01:05</td>\n    </tr>\n    <tr>\n      <th>26</th>\n      <td>189-531-085 04</td>\n      <td>285</td>\n      <td></td>\n      <td></td>\n    </tr>\n    <tr>\n      <th>27</th>\n      <td>160-148-658 50</td>\n      <td>284</td>\n      <td></td>\n      <td></td>\n    </tr>\n  </tbody>\n</table>\n</div>"
     },
     "metadata": {},
     "output_type": "display_data"
    }
   ],
   "source": [
    "system.show_all_students_with_score_ge_and_their_agreement(University.MIREA, Profile('01.03.02'), 270)"
   ],
   "metadata": {
    "collapsed": false,
    "pycharm": {
     "name": "#%%\n"
    }
   }
  },
  {
   "cell_type": "code",
   "execution_count": 13,
   "outputs": [],
   "source": [],
   "metadata": {
    "collapsed": false,
    "pycharm": {
     "name": "#%%\n"
    }
   }
  }
 ],
 "metadata": {
  "kernelspec": {
   "display_name": "Python 3 (ipykernel)",
   "language": "python",
   "name": "python3"
  },
  "language_info": {
   "codemirror_mode": {
    "name": "ipython",
    "version": 3
   },
   "file_extension": ".py",
   "mimetype": "text/x-python",
   "name": "python",
   "nbconvert_exporter": "python",
   "pygments_lexer": "ipython3",
   "version": "3.9.12"
  }
 },
 "nbformat": 4,
 "nbformat_minor": 5
}