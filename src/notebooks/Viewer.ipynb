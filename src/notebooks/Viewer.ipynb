{
 "cells": [
  {
   "cell_type": "code",
   "execution_count": 1,
   "id": "4b7e05c4",
   "metadata": {
    "pycharm": {
     "name": "#%%\n"
    }
   },
   "outputs": [],
   "source": [
    "from src.core import Profile, StudentId, Student, University\n",
    "from src.application import ApplicationSystem, DataLoader"
   ]
  },
  {
   "cell_type": "code",
   "execution_count": 2,
   "id": "f1986aa3",
   "metadata": {
    "pycharm": {
     "name": "#%%\n"
    }
   },
   "outputs": [],
   "source": [
    "system = ApplicationSystem()"
   ]
  },
  {
   "cell_type": "code",
   "execution_count": 3,
   "outputs": [
    {
     "name": "stdout",
     "output_type": "stream",
     "text": [
      "Parser for MIREA registered.\n"
     ]
    }
   ],
   "source": [
    "loader = DataLoader()"
   ],
   "metadata": {
    "collapsed": false,
    "pycharm": {
     "name": "#%%\n"
    }
   }
  },
  {
   "cell_type": "code",
   "execution_count": 4,
   "outputs": [
    {
     "name": "stdout",
     "output_type": "stream",
     "text": [
      "FUCK['MIREA', '01.03.02.csv'] 2\n",
      "\u001B[32mMIREA file D:\\Personal\\IT\\Programming\\Projects\\UniversityApplicationSystem\\data\\MIREA_01.03.02.csv read started\u001B[0m\n",
      "An exception occurred in line 620: ('found incompatible id', '')\n",
      "Row: ['', '', '', '', '', '', '', '', '', 'Преим. право']\n",
      "An exception occurred in line 768: ('found incompatible id', '')\n",
      "Row: ['', '', '', '', '', '', '', '', '', '']\n",
      "An exception occurred in line 769: ('found incompatible id', '')\n",
      "Row: ['', '', '', '', '', '', '', '', '', 'Преим. право']\n",
      "An exception occurred in line 889: ('found incompatible id', '')\n",
      "Row: ['', '', '', '', '', '', '', '', '', 'Преим. право']\n",
      "An exception occurred in line 1001: ('found incompatible id', '')\n",
      "Row: ['', '', '', '', '', '', '', '', '', 'Преим. право']\n",
      "An exception occurred in line 1104: ('found incompatible id', '')\n",
      "Row: ['', '', '', '', '', '', '', '', '', 'Преим. право']\n",
      "An exception occurred in line 1704: ('found incompatible id', '')\n",
      "Row: ['', '', '', '', '', '', '', '', '', 'Преим. право']\n",
      "An exception occurred in line 1747: ('found incompatible id', '')\n",
      "Row: ['', '', '', '', '', '', '', '', '', 'Преим. право']\n",
      "An exception occurred in line 1782: ('found incompatible id', '')\n",
      "Row: ['', '', '', '', '', '', '', '', '', 'Преим. право']\n",
      "An exception occurred in line 1796: ('found incompatible id', '')\n",
      "Row: ['', '', '', '', '', '', '', '', '', 'Преим. право']\n",
      "\u001B[32mMIREA file D:\\Personal\\IT\\Programming\\Projects\\UniversityApplicationSystem\\data\\MIREA_01.03.02.csv read finished\u001B[0m\n",
      "\n",
      "FUCK['MIREA', '01.03.04.csv'] 2\n",
      "\u001B[32mMIREA file D:\\Personal\\IT\\Programming\\Projects\\UniversityApplicationSystem\\data\\MIREA_01.03.04.csv read started\u001B[0m\n",
      "An exception occurred in line 740: ('found incompatible id', '')\n",
      "Row: ['', '', '', '', '', '', '', '', '', 'Преим. право']\n",
      "An exception occurred in line 777: ('found incompatible id', '')\n",
      "Row: ['', '', '', '', '', '', '', '', '', 'Преим. право']\n",
      "\u001B[32mMIREA file D:\\Personal\\IT\\Programming\\Projects\\UniversityApplicationSystem\\data\\MIREA_01.03.04.csv read finished\u001B[0m\n",
      "\n",
      "FUCK['MIREA', '02.03.02.csv'] 2\n",
      "\u001B[32mMIREA file D:\\Personal\\IT\\Programming\\Projects\\UniversityApplicationSystem\\data\\MIREA_02.03.02.csv read started\u001B[0m\n",
      "An exception occurred in line 237: ('found incompatible id', '')\n",
      "Row: ['', '', '', '', '', '', '', '', '', 'Преим. право']\n",
      "An exception occurred in line 246: ('found incompatible id', '')\n",
      "Row: ['', '', '', '', '', '', '', '', '', 'Преим. право']\n",
      "An exception occurred in line 360: ('found incompatible id', '')\n",
      "Row: ['', '', '', '', '', '', '', '', '', 'Преим. право']\n",
      "An exception occurred in line 691: ('found incompatible id', '')\n",
      "Row: ['', '', '', '', '', '', '', '', '', 'Преим. право']\n",
      "An exception occurred in line 743: ('found incompatible id', '')\n",
      "Row: ['', '', '', '', '', '', '', '', '', 'Преим. право']\n",
      "An exception occurred in line 748: ('found incompatible id', '')\n",
      "Row: ['', '', '', '', '', '', '', '', '', 'Преим. право']\n",
      "An exception occurred in line 814: ('found incompatible id', '')\n",
      "Row: ['', '', '', '', '', '', '', '', '', 'Преим. право']\n",
      "An exception occurred in line 1108: ('found incompatible id', '')\n",
      "Row: ['', '', '', '', '', '', '', '', '', 'Преим. право']\n",
      "\u001B[32mMIREA file D:\\Personal\\IT\\Programming\\Projects\\UniversityApplicationSystem\\data\\MIREA_02.03.02.csv read finished\u001B[0m\n",
      "\n",
      "FUCK['MIREA', '09.03.01', 'III.csv'] 3\n",
      "\u001B[32mMIREA file D:\\Personal\\IT\\Programming\\Projects\\UniversityApplicationSystem\\data\\MIREA_09.03.01_III.csv read started\u001B[0m\n",
      "An exception occurred in line 106: ('found incompatible id', '')\n",
      "Row: ['', '', '', '', '', '', '', '', '', 'Преим. право']\n",
      "An exception occurred in line 484: ('found incompatible id', '')\n",
      "Row: ['', '', '', '', '', '', '', '', '', 'Преим. право']\n",
      "An exception occurred in line 597: ('found incompatible id', '')\n",
      "Row: ['', '', '', '', '', '', '', '', '', 'Преим. право']\n",
      "An exception occurred in line 609: ('found incompatible id', '')\n",
      "Row: ['', '', '', '', '', '', '', '', '', 'Преим. право']\n",
      "An exception occurred in line 678: ('found incompatible id', '')\n",
      "Row: ['', '', '', '', '', '', '', '', '', 'Преим. право']\n",
      "An exception occurred in line 842: ('found incompatible id', '')\n",
      "Row: ['', '', '', '', '', '', '', '', '', 'Преим. право']\n",
      "An exception occurred in line 889: ('found incompatible id', '')\n",
      "Row: ['', '', '', '', '', '', '', '', '', 'Преим. право']\n",
      "An exception occurred in line 1101: ('found incompatible id', '')\n",
      "Row: ['', '', '', '', '', '', '', '', '', 'Преим. право']\n",
      "An exception occurred in line 1445: ('found incompatible id', '')\n",
      "Row: ['', '', '', '', '', '', '', '', '', 'Преим. право']\n",
      "An exception occurred in line 1798: ('found incompatible id', '')\n",
      "Row: ['', '', '', '', '', '', '', '', '', 'Преим. право']\n",
      "An exception occurred in line 1804: ('found incompatible id', '')\n",
      "Row: ['', '', '', '', '', '', '', '', '', 'Преим. право']\n",
      "An exception occurred in line 2034: ('found incompatible id', '')\n",
      "Row: ['', '', '', '', '', '', '', '', '', 'Преим. право']\n",
      "An exception occurred in line 2047: ('found incompatible id', '')\n",
      "Row: ['', '', '', '', '', '', '', '', '', 'Преим. право']\n",
      "An exception occurred in line 2106: ('found incompatible id', '')\n",
      "Row: ['', '', '', '', '', '', '', '', '', 'Преим. право']\n",
      "An exception occurred in line 2176: ('found incompatible id', '')\n",
      "Row: ['', '', '', '', '', '', '', '', '', 'Преим. право']\n",
      "\u001B[32mMIREA file D:\\Personal\\IT\\Programming\\Projects\\UniversityApplicationSystem\\data\\MIREA_09.03.01_III.csv read finished\u001B[0m\n",
      "\n",
      "FUCK['MIREA', '09.03.01', 'IIT.csv'] 3\n",
      "\u001B[32mMIREA file D:\\Personal\\IT\\Programming\\Projects\\UniversityApplicationSystem\\data\\MIREA_09.03.01_IIT.csv read started\u001B[0m\n",
      "An exception occurred in line 110: ('found incompatible id', '')\n",
      "Row: ['', '', '', '', '', '', '', '', '', 'Преим. право']\n",
      "An exception occurred in line 472: ('found incompatible id', '')\n",
      "Row: ['', '', '', '', '', '', '', '', '', 'Преим. право']\n",
      "An exception occurred in line 487: ('found incompatible id', '')\n",
      "Row: ['', '', '', '', '', '', '', '', '', 'Преим. право']\n",
      "An exception occurred in line 586: ('found incompatible id', '')\n",
      "Row: ['', '', '', '', '', '', '', '', '', 'Преим. право']\n",
      "An exception occurred in line 600: ('found incompatible id', '')\n",
      "Row: ['', '', '', '', '', '', '', '', '', 'Преим. право']\n",
      "An exception occurred in line 660: ('found incompatible id', '')\n",
      "Row: ['', '', '', '', '', '', '', '', '', 'Преим. право']\n",
      "An exception occurred in line 707: ('found incompatible id', '')\n",
      "Row: ['', '', '', '', '', '', '', '', '', 'Преим. право']\n",
      "An exception occurred in line 813: ('found incompatible id', '')\n",
      "Row: ['', '', '', '', '', '', '', '', '', 'Преим. право']\n",
      "An exception occurred in line 1006: ('found incompatible id', '')\n",
      "Row: ['', '', '', '', '', '', '', '', '', 'Преим. право']\n",
      "An exception occurred in line 1053: ('found incompatible id', '')\n",
      "Row: ['', '', '', '', '', '', '', '', '', 'Преим. право']\n",
      "An exception occurred in line 1366: ('found incompatible id', '')\n",
      "Row: ['', '', '', '', '', '', '', '', '', 'Преим. право']\n",
      "An exception occurred in line 1664: ('found incompatible id', '')\n",
      "Row: ['', '', '', '', '', '', '', '', '', 'Преим. право']\n",
      "An exception occurred in line 1832: ('found incompatible id', '')\n",
      "Row: ['', '', '', '', '', '', '', '', '', 'Преим. право']\n",
      "An exception occurred in line 1928: ('found incompatible id', '')\n",
      "Row: ['', '', '', '', '', '', '', '', '', 'Преим. право']\n",
      "An exception occurred in line 1946: ('found incompatible id', '')\n",
      "Row: ['', '', '', '', '', '', '', '', '', 'Преим. право']\n",
      "An exception occurred in line 1966: ('found incompatible id', '')\n",
      "Row: ['', '', '', '', '', '', '', '', '', 'Преим. право']\n",
      "An exception occurred in line 1993: ('found incompatible id', '')\n",
      "Row: ['', '', '', '', '', '', '', '', '', 'Преим. право']\n",
      "\u001B[32mMIREA file D:\\Personal\\IT\\Programming\\Projects\\UniversityApplicationSystem\\data\\MIREA_09.03.01_IIT.csv read finished\u001B[0m\n",
      "\n",
      "FUCK['MIREA', '09.03.02', 'IKB.csv'] 3\n",
      "\u001B[32mMIREA file D:\\Personal\\IT\\Programming\\Projects\\UniversityApplicationSystem\\data\\MIREA_09.03.02_IKB.csv read started\u001B[0m\n",
      "An exception occurred in line 54: ('found incompatible id', '')\n",
      "Row: ['', '', '', '', '', '', '', '', '', 'Преим. право']\n",
      "An exception occurred in line 308: ('found incompatible id', '')\n",
      "Row: ['', '', '', '', '', '', '', '', '', 'Преим. право']\n",
      "An exception occurred in line 402: ('found incompatible id', '')\n",
      "Row: ['', '', '', '', '', '', '', '', '', 'Преим. право']\n",
      "An exception occurred in line 417: ('found incompatible id', '')\n",
      "Row: ['', '', '', '', '', '', '', '', '', 'Преим. право']\n",
      "An exception occurred in line 509: ('found incompatible id', '')\n",
      "Row: ['', '', '', '', '', '', '', '', '', 'Преим. право']\n",
      "An exception occurred in line 826: ('found incompatible id', '')\n",
      "Row: ['', '', '', '', '', '', '', '', '', '']\n",
      "An exception occurred in line 827: ('found incompatible id', '')\n",
      "Row: ['', '', '', '', '', '', '', '', '', 'Преим. право']\n",
      "An exception occurred in line 1397: ('found incompatible id', '')\n",
      "Row: ['', '', '', '', '', '', '', '', '', 'Преим. право']\n",
      "An exception occurred in line 1400: ('found incompatible id', '')\n",
      "Row: ['', '', '', '', '', '', '', '', '', 'Преим. право']\n",
      "\u001B[32mMIREA file D:\\Personal\\IT\\Programming\\Projects\\UniversityApplicationSystem\\data\\MIREA_09.03.02_IKB.csv read finished\u001B[0m\n",
      "\n",
      "FUCK['MIREA', '09.03.02', 'IPTIP-design.csv'] 3\n",
      "\u001B[32mMIREA file D:\\Personal\\IT\\Programming\\Projects\\UniversityApplicationSystem\\data\\MIREA_09.03.02_IPTIP-design.csv read started\u001B[0m\n",
      "An exception occurred in line 25: ('found incompatible id', '')\n",
      "Row: ['', '', '', '', '', '', '', '', '', 'Преим. право']\n",
      "An exception occurred in line 136: ('found incompatible id', '')\n",
      "Row: ['', '', '', '', '', '', '', '', '', 'Преим. право']\n",
      "An exception occurred in line 174: ('found incompatible id', '')\n",
      "Row: ['', '', '', '', '', '', '', '', '', 'Преим. право']\n",
      "An exception occurred in line 223: ('found incompatible id', '')\n",
      "Row: ['', '', '', '', '', '', '', '', '', 'Преим. право']\n",
      "An exception occurred in line 354: ('found incompatible id', '')\n",
      "Row: ['', '', '', '', '', '', '', '', '', 'Преим. право']\n",
      "An exception occurred in line 380: ('found incompatible id', '')\n",
      "Row: ['', '', '', '', '', '', '', '', '', 'Преим. право']\n",
      "An exception occurred in line 655: ('found incompatible id', '')\n",
      "Row: ['', '', '', '', '', '', '', '', '', 'Преим. право']\n",
      "An exception occurred in line 772: ('found incompatible id', '')\n",
      "Row: ['', '', '', '', '', '', '', '', '', 'Преим. право']\n",
      "\u001B[32mMIREA file D:\\Personal\\IT\\Programming\\Projects\\UniversityApplicationSystem\\data\\MIREA_09.03.02_IPTIP-design.csv read finished\u001B[0m\n",
      "\n",
      "FUCK['MIREA', '09.03.02', 'IPTIP-fullstack.csv'] 3\n",
      "\u001B[32mMIREA file D:\\Personal\\IT\\Programming\\Projects\\UniversityApplicationSystem\\data\\MIREA_09.03.02_IPTIP-fullstack.csv read started\u001B[0m\n",
      "An exception occurred in line 62: ('found incompatible id', '')\n",
      "Row: ['', '', '', '', '', '', '', '', '', 'Преим. право']\n",
      "An exception occurred in line 281: ('found incompatible id', '')\n",
      "Row: ['', '', '', '', '', '', '', '', '', 'Преим. право']\n",
      "An exception occurred in line 291: ('found incompatible id', '')\n",
      "Row: ['', '', '', '', '', '', '', '', '', 'Преим. право']\n",
      "An exception occurred in line 350: ('found incompatible id', '')\n",
      "Row: ['', '', '', '', '', '', '', '', '', 'Преим. право']\n",
      "An exception occurred in line 431: ('found incompatible id', '')\n",
      "Row: ['', '', '', '', '', '', '', '', '', 'Преим. право']\n",
      "An exception occurred in line 646: ('found incompatible id', '')\n",
      "Row: ['', '', '', '', '', '', '', '', '', 'Преим. право']\n",
      "An exception occurred in line 685: ('found incompatible id', '')\n",
      "Row: ['', '', '', '', '', '', '', '', '', 'Преим. право']\n",
      "An exception occurred in line 1100: ('found incompatible id', '')\n",
      "Row: ['', '', '', '', '', '', '', '', '', 'Преим. право']\n",
      "An exception occurred in line 1103: ('found incompatible id', '')\n",
      "Row: ['', '', '', '', '', '', '', '', '', 'Преим. право']\n",
      "\u001B[32mMIREA file D:\\Personal\\IT\\Programming\\Projects\\UniversityApplicationSystem\\data\\MIREA_09.03.02_IPTIP-fullstack.csv read finished\u001B[0m\n",
      "\u001B[31mERROR: student id=166-457-441 96 is already registered for profile 09.03.02:IPTIP-fullstack in university MIREA\u001B[0m\n",
      "\n",
      "FUCK['MIREA', '09.03.02', 'IRI.csv'] 3\n",
      "\u001B[32mMIREA file D:\\Personal\\IT\\Programming\\Projects\\UniversityApplicationSystem\\data\\MIREA_09.03.02_IRI.csv read started\u001B[0m\n",
      "An exception occurred in line 31: ('found incompatible id', '')\n",
      "Row: ['', '', '', '', '', '', '', '', '', 'Преим. право']\n",
      "An exception occurred in line 190: ('found incompatible id', '')\n",
      "Row: ['', '', '', '', '', '', '', '', '', 'Преим. право']\n",
      "An exception occurred in line 384: ('found incompatible id', '')\n",
      "Row: ['', '', '', '', '', '', '', '', '', 'Преим. право']\n",
      "An exception occurred in line 987: ('found incompatible id', '')\n",
      "Row: ['', '', '', '', '', '', '', '', '', 'Преим. право']\n",
      "An exception occurred in line 1015: ('found incompatible id', '')\n",
      "Row: ['', '', '', '', '', '', '', '', '', 'Преим. право']\n",
      "\u001B[32mMIREA file D:\\Personal\\IT\\Programming\\Projects\\UniversityApplicationSystem\\data\\MIREA_09.03.02_IRI.csv read finished\u001B[0m\n",
      "\n",
      "FUCK['MIREA', '09.03.03.csv'] 2\n",
      "\u001B[32mMIREA file D:\\Personal\\IT\\Programming\\Projects\\UniversityApplicationSystem\\data\\MIREA_09.03.03.csv read started\u001B[0m\n",
      "An exception occurred in line 133: ('found incompatible id', '')\n",
      "Row: ['', '', '', '', '', '', '', '', '', 'Преим. право']\n",
      "An exception occurred in line 534: ('found incompatible id', '')\n",
      "Row: ['', '', '', '', '', '', '', '', '', 'Преим. право']\n",
      "An exception occurred in line 594: ('found incompatible id', '')\n",
      "Row: ['', '', '', '', '', '', '', '', '', '']\n",
      "An exception occurred in line 595: ('found incompatible id', '')\n",
      "Row: ['', '', '', '', '', '', '', '', '', 'Преим. право']\n",
      "An exception occurred in line 604: ('found incompatible id', '')\n",
      "Row: ['', '', '', '', '', '', '', '', '', 'Преим. право']\n",
      "An exception occurred in line 732: ('found incompatible id', '')\n",
      "Row: ['', '', '', '', '', '', '', '', '', 'Преим. право']\n",
      "An exception occurred in line 756: ('found incompatible id', '')\n",
      "Row: ['', '', '', '', '', '', '', '', '', 'Преим. право']\n",
      "An exception occurred in line 840: ('found incompatible id', '')\n",
      "Row: ['', '', '', '', '', '', '', '', '', '']\n",
      "An exception occurred in line 841: ('found incompatible id', '')\n",
      "Row: ['', '', '', '', '', '', '', '', '', 'Преим. право']\n",
      "An exception occurred in line 882: ('found incompatible id', '')\n",
      "Row: ['', '', '', '', '', '', '', '', '', '']\n",
      "An exception occurred in line 883: ('found incompatible id', '')\n",
      "Row: ['', '', '', '', '', '', '', '', '', 'Преим. право']\n",
      "An exception occurred in line 898: ('found incompatible id', '')\n",
      "Row: ['', '', '', '', '', '', '', '', '', 'Преим. право']\n",
      "An exception occurred in line 1025: ('found incompatible id', '')\n",
      "Row: ['', '', '', '', '', '', '', '', '', '']\n",
      "An exception occurred in line 1026: ('found incompatible id', '')\n",
      "Row: ['', '', '', '', '', '', '', '', '', 'Преим. право']\n",
      "An exception occurred in line 1078: ('found incompatible id', '')\n",
      "Row: ['', '', '', '', '', '', '', '', '', 'Преим. право']\n",
      "An exception occurred in line 1254: ('found incompatible id', '')\n",
      "Row: ['', '', '', '', '', '', '', '', '', 'Преим. право']\n",
      "An exception occurred in line 1299: ('found incompatible id', '')\n",
      "Row: ['', '', '', '', '', '', '', '', '', 'Преим. право']\n",
      "An exception occurred in line 1604: ('found incompatible id', '')\n",
      "Row: ['', '', '', '', '', '', '', '', '', 'Преим. право']\n",
      "An exception occurred in line 1846: ('found incompatible id', '')\n",
      "Row: ['', '', '', '', '', '', '', '', '', 'Преим. право']\n",
      "An exception occurred in line 1849: ('found incompatible id', '')\n",
      "Row: ['', '', '', '', '', '', '', '', '', 'Преим. право']\n",
      "An exception occurred in line 2080: ('found incompatible id', '')\n",
      "Row: ['', '', '', '', '', '', '', '', '', 'Преим. право']\n",
      "\u001B[32mMIREA file D:\\Personal\\IT\\Programming\\Projects\\UniversityApplicationSystem\\data\\MIREA_09.03.03.csv read finished\u001B[0m\n",
      "\n",
      "FUCK['MIREA', '09.03.04.csv'] 2\n",
      "\u001B[32mMIREA file D:\\Personal\\IT\\Programming\\Projects\\UniversityApplicationSystem\\data\\MIREA_09.03.04.csv read started\u001B[0m\n",
      "An exception occurred in line 201: ('found incompatible id', '')\n",
      "Row: ['', '', '', '', '', '', '', '', '', '']\n",
      "An exception occurred in line 202: ('found incompatible id', '')\n",
      "Row: ['', '', '', '', '', '', '', '', '', 'Преим. право']\n",
      "An exception occurred in line 808: ('found incompatible id', '')\n",
      "Row: ['', '', '', '', '', '', '', '', '', 'Преим. право']\n",
      "An exception occurred in line 981: ('found incompatible id', '')\n",
      "Row: ['', '', '', '', '', '', '', '', '', '']\n",
      "An exception occurred in line 982: ('found incompatible id', '')\n",
      "Row: ['', '', '', '', '', '', '', '', '', 'Преим. право']\n",
      "An exception occurred in line 1089: ('found incompatible id', '')\n",
      "Row: ['', '', '', '', '', '', '', '', '', 'Преим. право']\n",
      "An exception occurred in line 1135: ('found incompatible id', '')\n",
      "Row: ['', '', '', '', '', '', '', '', '', 'Преим. право']\n",
      "An exception occurred in line 1273: ('found incompatible id', '')\n",
      "Row: ['', '', '', '', '', '', '', '', '', 'Преим. право']\n",
      "An exception occurred in line 1326: ('found incompatible id', '')\n",
      "Row: ['', '', '', '', '', '', '', '', '', '']\n",
      "An exception occurred in line 1327: ('found incompatible id', '')\n",
      "Row: ['', '', '', '', '', '', '', '', '', 'Преим. право']\n",
      "An exception occurred in line 1545: ('found incompatible id', '')\n",
      "Row: ['', '', '', '', '', '', '', '', '', 'Преим. право']\n",
      "An exception occurred in line 2214: ('found incompatible id', '')\n",
      "Row: ['', '', '', '', '', '', '', '', '', 'Преим. право']\n",
      "An exception occurred in line 2433: ('found incompatible id', '')\n",
      "Row: ['', '', '', '', '', '', '', '', '', 'Преим. право']\n",
      "\u001B[32mMIREA file D:\\Personal\\IT\\Programming\\Projects\\UniversityApplicationSystem\\data\\MIREA_09.03.04.csv read finished\u001B[0m\n",
      "\n",
      "FUCK['MIREA', '10.03.01.csv'] 2\n",
      "\u001B[32mMIREA file D:\\Personal\\IT\\Programming\\Projects\\UniversityApplicationSystem\\data\\MIREA_10.03.01.csv read started\u001B[0m\n",
      "An exception occurred in line 51: ('found incompatible id', '')\n",
      "Row: ['', '', '', '', '', '', '', '', '', 'Преим. право']\n",
      "An exception occurred in line 523: ('found incompatible id', '')\n",
      "Row: ['', '', '', '', '', '', '', '', '', 'Преим. право']\n",
      "An exception occurred in line 637: ('found incompatible id', '')\n",
      "Row: ['', '', '', '', '', '', '', '', '', 'Преим. право']\n",
      "An exception occurred in line 896: ('found incompatible id', '')\n",
      "Row: ['', '', '', '', '', '', '', '', '', 'Преим. право']\n",
      "An exception occurred in line 969: ('found incompatible id', '')\n",
      "Row: ['', '', '', '', '', '', '', '', '', 'Преим. право']\n",
      "An exception occurred in line 1025: ('found incompatible id', '')\n",
      "Row: ['', '', '', '', '', '', '', '', '', 'Преим. право']\n",
      "\u001B[32mMIREA file D:\\Personal\\IT\\Programming\\Projects\\UniversityApplicationSystem\\data\\MIREA_10.03.01.csv read finished\u001B[0m\n",
      "\n",
      "FUCK['MIREA', '10.05.01.csv'] 2\n",
      "\u001B[32mMIREA file D:\\Personal\\IT\\Programming\\Projects\\UniversityApplicationSystem\\data\\MIREA_10.05.01.csv read started\u001B[0m\n",
      "An exception occurred in line 186: ('found incompatible id', '')\n",
      "Row: ['', '', '', '', '', '', '', '', '', 'Преим. право']\n",
      "An exception occurred in line 654: ('found incompatible id', '')\n",
      "Row: ['', '', '', '', '', '', '', '', '', '']\n",
      "An exception occurred in line 655: ('found incompatible id', '')\n",
      "Row: ['', '', '', '', '', '', '', '', '', 'Преим. право']\n",
      "An exception occurred in line 755: ('found incompatible id', '')\n",
      "Row: ['', '', '', '', '', '', '', '', '', 'Преим. право']\n",
      "\u001B[32mMIREA file D:\\Personal\\IT\\Programming\\Projects\\UniversityApplicationSystem\\data\\MIREA_10.05.01.csv read finished\u001B[0m\n",
      "\n"
     ]
    }
   ],
   "source": [
    "loader.load_data(system, \"../../data/\")"
   ],
   "metadata": {
    "collapsed": false,
    "pycharm": {
     "name": "#%%\n"
    }
   }
  },
  {
   "cell_type": "code",
   "execution_count": 5,
   "outputs": [],
   "source": [
    "places_details = {\n",
    "    University.MPEI: {\n",
    "        Profile('01.03.02', 'inf'): 46,\n",
    "        Profile('01.03.02', 'mat'): 36,\n",
    "        Profile('09.03.01'): 157,\n",
    "        Profile('09.03.03'): 27,\n",
    "        Profile('10.03.01'): 35,\n",
    "        Profile('27.03.04'): 66,\n",
    "        Profile('38.03.05'): 7,\n",
    "    },\n",
    "    University.MIREA: {\n",
    "        Profile('01.03.02'): 65,\n",
    "        Profile('01.03.04'): 25,\n",
    "        Profile('02.03.02'): 13,\n",
    "        Profile('09.03.01', 'IIT'): 78,\n",
    "        Profile('09.03.01', 'III'): 115,\n",
    "        Profile('09.03.02', 'IKB'): 168,\n",
    "        Profile('09.03.02', 'IRI'): 39,\n",
    "        Profile('09.03.02', 'IPTIP-design'): 39,\n",
    "        Profile('09.03.02', 'IPTIP-fullstack'): 16,\n",
    "        Profile('09.03.03'): 139,\n",
    "        Profile('09.03.04'): 147,\n",
    "        Profile('10.03.01'): 21,\n",
    "        Profile('10.05.01'): 32,\n",
    "    },\n",
    "    University.MAI: {\n",
    "        Profile('01.03.00'): 201,\n",
    "        Profile('01.03.02'): 19,\n",
    "        Profile('02.03.02'): 49,\n",
    "        Profile('09.03.01'): 147,\n",
    "        Profile('09.03.02'): 47,\n",
    "        Profile('09.03.03'): 50,\n",
    "        Profile('09.03.04'): 46,\n",
    "        Profile('10.03.01'): 38,\n",
    "    },\n",
    "    University.MPOLITECH: {\n",
    "        Profile('01.03.02'): 27,\n",
    "        Profile('09.03.01', '01'): 37,\n",
    "        Profile('09.03.01', '02'): 66,\n",
    "        Profile('09.03.01', '04'): 45,\n",
    "        Profile('09.03.01', '05'): 24,\n",
    "        Profile('09.03.02', '01'): 179,\n",
    "        Profile('09.03.02', '02'): 21,\n",
    "        Profile('09.03.02', '03'): 22,\n",
    "        Profile('09.03.03', '01'): 44,\n",
    "        Profile('09.03.03', '02'): 44,\n",
    "        Profile('09.03.03', '03'): 22,\n",
    "        Profile('10.03.01'): 31,\n",
    "    },\n",
    "    University.MTUCI: {\n",
    "        Profile('01.03.04'): 16,\n",
    "        Profile('02.03.02'): 46,\n",
    "        Profile('09.03.01'): 100,\n",
    "        Profile('09.03.02'): 90,\n",
    "        Profile('09.03.03'): 50,\n",
    "        Profile('10.03.01'): 52,\n",
    "        Profile('11.03.02'): 232+306,\n",
    "        Profile('27.03.04'): 24,\n",
    "    },\n",
    "}\n",
    "system.add_places_details(places_details)"
   ],
   "metadata": {
    "collapsed": false,
    "pycharm": {
     "name": "#%%\n"
    }
   }
  },
  {
   "cell_type": "code",
   "execution_count": 6,
   "outputs": [
    {
     "data": {
      "text/plain": "{MIPT: {},\n VSE: {},\n MSU: {},\n MEPHI: {},\n BMSTU: {},\n MIREA: {01.03.02: 295,\n  01.03.04: 293,\n  02.03.02: 295,\n  09.03.01:III: 288,\n  09.03.01:IIT: 290,\n  09.03.02:IKB: 281,\n  09.03.02:IPTIP-design: 285,\n  09.03.02:IPTIP-fullstack: 298,\n  09.03.02:IRI: 285,\n  09.03.03: 288,\n  09.03.04: 290,\n  10.03.01: 294,\n  10.05.01: 289},\n MAI: {},\n MPEI: {},\n MTUCI: {},\n MPOLITECH: {},\n MIET: {},\n ITMO: {},\n SPBSU: {}}"
     },
     "execution_count": 6,
     "metadata": {},
     "output_type": "execute_result"
    }
   ],
   "source": [
    "system.get_current_min_scores()"
   ],
   "metadata": {
    "collapsed": false,
    "pycharm": {
     "name": "#%%\n"
    }
   }
  },
  {
   "cell_type": "code",
   "execution_count": 7,
   "outputs": [
    {
     "name": "stdout",
     "output_type": "stream",
     "text": [
      "\u001B[33mWARNING: student id=111-111-111 07 not found\u001B[0m\n"
     ]
    },
    {
     "data": {
      "text/plain": "{}"
     },
     "execution_count": 7,
     "metadata": {},
     "output_type": "execute_result"
    }
   ],
   "source": [
    "system.get_current_positions(StudentId(\"111-111-111 07\"))"
   ],
   "metadata": {
    "collapsed": false,
    "pycharm": {
     "name": "#%%\n"
    }
   }
  },
  {
   "cell_type": "code",
   "execution_count": 8,
   "outputs": [
    {
     "data": {
      "text/plain": "<pandas.io.formats.style.Styler at 0x234b4ee1790>",
      "text/html": "<style type=\"text/css\">\n</style>\n<table id=\"T_2dd92\">\n  <caption>All agreements (with listed)</caption>\n  <thead>\n    <tr>\n      <th class=\"blank level0\" >&nbsp;</th>\n      <th id=\"T_2dd92_level0_col0\" class=\"col_heading level0 col0\" >University</th>\n      <th id=\"T_2dd92_level0_col1\" class=\"col_heading level0 col1\" >Agreements</th>\n    </tr>\n  </thead>\n  <tbody>\n    <tr>\n      <th id=\"T_2dd92_level0_row0\" class=\"row_heading level0 row0\" >0</th>\n      <td id=\"T_2dd92_row0_col0\" class=\"data row0 col0\" >МФТИ</td>\n      <td id=\"T_2dd92_row0_col1\" class=\"data row0 col1\" >0</td>\n    </tr>\n    <tr>\n      <th id=\"T_2dd92_level0_row1\" class=\"row_heading level0 row1\" >1</th>\n      <td id=\"T_2dd92_row1_col0\" class=\"data row1 col0\" >ВШЭ</td>\n      <td id=\"T_2dd92_row1_col1\" class=\"data row1 col1\" >0</td>\n    </tr>\n    <tr>\n      <th id=\"T_2dd92_level0_row2\" class=\"row_heading level0 row2\" >2</th>\n      <td id=\"T_2dd92_row2_col0\" class=\"data row2 col0\" >МГУ</td>\n      <td id=\"T_2dd92_row2_col1\" class=\"data row2 col1\" >0</td>\n    </tr>\n    <tr>\n      <th id=\"T_2dd92_level0_row3\" class=\"row_heading level0 row3\" >3</th>\n      <td id=\"T_2dd92_row3_col0\" class=\"data row3 col0\" >МИФИ</td>\n      <td id=\"T_2dd92_row3_col1\" class=\"data row3 col1\" >0</td>\n    </tr>\n    <tr>\n      <th id=\"T_2dd92_level0_row4\" class=\"row_heading level0 row4\" >4</th>\n      <td id=\"T_2dd92_row4_col0\" class=\"data row4 col0\" >Бауманка</td>\n      <td id=\"T_2dd92_row4_col1\" class=\"data row4 col1\" >0</td>\n    </tr>\n    <tr>\n      <th id=\"T_2dd92_level0_row5\" class=\"row_heading level0 row5\" >5</th>\n      <td id=\"T_2dd92_row5_col0\" class=\"data row5 col0\" >МИРЭА</td>\n      <td id=\"T_2dd92_row5_col1\" class=\"data row5 col1\" >845</td>\n    </tr>\n    <tr>\n      <th id=\"T_2dd92_level0_row6\" class=\"row_heading level0 row6\" >6</th>\n      <td id=\"T_2dd92_row6_col0\" class=\"data row6 col0\" >МАИ</td>\n      <td id=\"T_2dd92_row6_col1\" class=\"data row6 col1\" >0</td>\n    </tr>\n    <tr>\n      <th id=\"T_2dd92_level0_row7\" class=\"row_heading level0 row7\" >7</th>\n      <td id=\"T_2dd92_row7_col0\" class=\"data row7 col0\" >МЭИ</td>\n      <td id=\"T_2dd92_row7_col1\" class=\"data row7 col1\" >0</td>\n    </tr>\n    <tr>\n      <th id=\"T_2dd92_level0_row8\" class=\"row_heading level0 row8\" >8</th>\n      <td id=\"T_2dd92_row8_col0\" class=\"data row8 col0\" >МТУСИ</td>\n      <td id=\"T_2dd92_row8_col1\" class=\"data row8 col1\" >0</td>\n    </tr>\n    <tr>\n      <th id=\"T_2dd92_level0_row9\" class=\"row_heading level0 row9\" >9</th>\n      <td id=\"T_2dd92_row9_col0\" class=\"data row9 col0\" >МосПолитех</td>\n      <td id=\"T_2dd92_row9_col1\" class=\"data row9 col1\" >0</td>\n    </tr>\n    <tr>\n      <th id=\"T_2dd92_level0_row10\" class=\"row_heading level0 row10\" >10</th>\n      <td id=\"T_2dd92_row10_col0\" class=\"data row10 col0\" >МИЭТ</td>\n      <td id=\"T_2dd92_row10_col1\" class=\"data row10 col1\" >0</td>\n    </tr>\n    <tr>\n      <th id=\"T_2dd92_level0_row11\" class=\"row_heading level0 row11\" >11</th>\n      <td id=\"T_2dd92_row11_col0\" class=\"data row11 col0\" >ИТМО</td>\n      <td id=\"T_2dd92_row11_col1\" class=\"data row11 col1\" >0</td>\n    </tr>\n    <tr>\n      <th id=\"T_2dd92_level0_row12\" class=\"row_heading level0 row12\" >12</th>\n      <td id=\"T_2dd92_row12_col0\" class=\"data row12 col0\" >СПБГУ</td>\n      <td id=\"T_2dd92_row12_col1\" class=\"data row12 col1\" >0</td>\n    </tr>\n  </tbody>\n</table>\n"
     },
     "metadata": {},
     "output_type": "display_data"
    }
   ],
   "source": [
    "system.show_number_of_agreements_by_university()"
   ],
   "metadata": {
    "collapsed": false,
    "pycharm": {
     "name": "#%%\n"
    }
   }
  },
  {
   "cell_type": "code",
   "execution_count": 9,
   "outputs": [
    {
     "data": {
      "text/plain": "<pandas.io.formats.style.Styler at 0x234b4ee5c70>",
      "text/html": "<style type=\"text/css\">\n</style>\n<table id=\"T_10b09\">\n  <caption>All pending agreements</caption>\n  <thead>\n    <tr>\n      <th class=\"blank level0\" >&nbsp;</th>\n      <th id=\"T_10b09_level0_col0\" class=\"col_heading level0 col0\" >University</th>\n      <th id=\"T_10b09_level0_col1\" class=\"col_heading level0 col1\" >Agreements</th>\n    </tr>\n  </thead>\n  <tbody>\n    <tr>\n      <th id=\"T_10b09_level0_row0\" class=\"row_heading level0 row0\" >0</th>\n      <td id=\"T_10b09_row0_col0\" class=\"data row0 col0\" >МФТИ</td>\n      <td id=\"T_10b09_row0_col1\" class=\"data row0 col1\" >0</td>\n    </tr>\n    <tr>\n      <th id=\"T_10b09_level0_row1\" class=\"row_heading level0 row1\" >1</th>\n      <td id=\"T_10b09_row1_col0\" class=\"data row1 col0\" >ВШЭ</td>\n      <td id=\"T_10b09_row1_col1\" class=\"data row1 col1\" >0</td>\n    </tr>\n    <tr>\n      <th id=\"T_10b09_level0_row2\" class=\"row_heading level0 row2\" >2</th>\n      <td id=\"T_10b09_row2_col0\" class=\"data row2 col0\" >МГУ</td>\n      <td id=\"T_10b09_row2_col1\" class=\"data row2 col1\" >0</td>\n    </tr>\n    <tr>\n      <th id=\"T_10b09_level0_row3\" class=\"row_heading level0 row3\" >3</th>\n      <td id=\"T_10b09_row3_col0\" class=\"data row3 col0\" >МИФИ</td>\n      <td id=\"T_10b09_row3_col1\" class=\"data row3 col1\" >0</td>\n    </tr>\n    <tr>\n      <th id=\"T_10b09_level0_row4\" class=\"row_heading level0 row4\" >4</th>\n      <td id=\"T_10b09_row4_col0\" class=\"data row4 col0\" >Бауманка</td>\n      <td id=\"T_10b09_row4_col1\" class=\"data row4 col1\" >0</td>\n    </tr>\n    <tr>\n      <th id=\"T_10b09_level0_row5\" class=\"row_heading level0 row5\" >5</th>\n      <td id=\"T_10b09_row5_col0\" class=\"data row5 col0\" >МИРЭА</td>\n      <td id=\"T_10b09_row5_col1\" class=\"data row5 col1\" >845</td>\n    </tr>\n    <tr>\n      <th id=\"T_10b09_level0_row6\" class=\"row_heading level0 row6\" >6</th>\n      <td id=\"T_10b09_row6_col0\" class=\"data row6 col0\" >МАИ</td>\n      <td id=\"T_10b09_row6_col1\" class=\"data row6 col1\" >0</td>\n    </tr>\n    <tr>\n      <th id=\"T_10b09_level0_row7\" class=\"row_heading level0 row7\" >7</th>\n      <td id=\"T_10b09_row7_col0\" class=\"data row7 col0\" >МЭИ</td>\n      <td id=\"T_10b09_row7_col1\" class=\"data row7 col1\" >0</td>\n    </tr>\n    <tr>\n      <th id=\"T_10b09_level0_row8\" class=\"row_heading level0 row8\" >8</th>\n      <td id=\"T_10b09_row8_col0\" class=\"data row8 col0\" >МТУСИ</td>\n      <td id=\"T_10b09_row8_col1\" class=\"data row8 col1\" >0</td>\n    </tr>\n    <tr>\n      <th id=\"T_10b09_level0_row9\" class=\"row_heading level0 row9\" >9</th>\n      <td id=\"T_10b09_row9_col0\" class=\"data row9 col0\" >МосПолитех</td>\n      <td id=\"T_10b09_row9_col1\" class=\"data row9 col1\" >0</td>\n    </tr>\n    <tr>\n      <th id=\"T_10b09_level0_row10\" class=\"row_heading level0 row10\" >10</th>\n      <td id=\"T_10b09_row10_col0\" class=\"data row10 col0\" >МИЭТ</td>\n      <td id=\"T_10b09_row10_col1\" class=\"data row10 col1\" >0</td>\n    </tr>\n    <tr>\n      <th id=\"T_10b09_level0_row11\" class=\"row_heading level0 row11\" >11</th>\n      <td id=\"T_10b09_row11_col0\" class=\"data row11 col0\" >ИТМО</td>\n      <td id=\"T_10b09_row11_col1\" class=\"data row11 col1\" >0</td>\n    </tr>\n    <tr>\n      <th id=\"T_10b09_level0_row12\" class=\"row_heading level0 row12\" >12</th>\n      <td id=\"T_10b09_row12_col0\" class=\"data row12 col0\" >СПБГУ</td>\n      <td id=\"T_10b09_row12_col1\" class=\"data row12 col1\" >0</td>\n    </tr>\n  </tbody>\n</table>\n"
     },
     "metadata": {},
     "output_type": "display_data"
    }
   ],
   "source": [
    "system.show_number_of_pending_agreements_by_university()"
   ],
   "metadata": {
    "collapsed": false,
    "pycharm": {
     "name": "#%%\n"
    }
   }
  },
  {
   "cell_type": "code",
   "execution_count": 10,
   "outputs": [
    {
     "data": {
      "text/plain": "  University  N of Agreements  Average score  Median score  Top 5% score  \\\n1      МИРЭА              845          269.5           270         287.0   \n\n   Top 10% score  Top 20% score  \n1          284.0          279.0  ",
      "text/html": "<div>\n<style scoped>\n    .dataframe tbody tr th:only-of-type {\n        vertical-align: middle;\n    }\n\n    .dataframe tbody tr th {\n        vertical-align: top;\n    }\n\n    .dataframe thead th {\n        text-align: right;\n    }\n</style>\n<table border=\"1\" class=\"dataframe\">\n  <thead>\n    <tr style=\"text-align: right;\">\n      <th></th>\n      <th>University</th>\n      <th>N of Agreements</th>\n      <th>Average score</th>\n      <th>Median score</th>\n      <th>Top 5% score</th>\n      <th>Top 10% score</th>\n      <th>Top 20% score</th>\n    </tr>\n  </thead>\n  <tbody>\n    <tr>\n      <th>1</th>\n      <td>МИРЭА</td>\n      <td>845</td>\n      <td>269.5</td>\n      <td>270</td>\n      <td>287.0</td>\n      <td>284.0</td>\n      <td>279.0</td>\n    </tr>\n  </tbody>\n</table>\n</div>"
     },
     "metadata": {},
     "output_type": "display_data"
    }
   ],
   "source": [
    "system.show_agreements_statistics_by_universities()"
   ],
   "metadata": {
    "collapsed": false,
    "pycharm": {
     "name": "#%%\n"
    }
   }
  },
  {
   "cell_type": "code",
   "execution_count": 11,
   "outputs": [
    {
     "data": {
      "text/plain": "   University                   Profile  N of Agreements  Average score  \\\n1       МИРЭА                  01.03.02               50          269.9   \n2       МИРЭА                  01.03.04               37          263.2   \n3       МИРЭА                  02.03.02               21          256.2   \n4       МИРЭА              09.03.01:III               63          264.5   \n5       МИРЭА              09.03.01:IIT               53          268.1   \n6       МИРЭА              09.03.02:IKB              126          267.0   \n7       МИРЭА     09.03.02:IPTIP-design               38          266.3   \n8       МИРЭА  09.03.02:IPTIP-fullstack               28          268.5   \n9       МИРЭА              09.03.02:IRI                8          258.0   \n10      МИРЭА                  09.03.03              130          269.9   \n11      МИРЭА                  09.03.04              234          277.4   \n12      МИРЭА                  10.03.01               22          262.6   \n13      МИРЭА                  10.05.01               35          261.0   \n\n    Median score  Top 5% score  Top 10% score  Top 20% score  \n1          271.5         288.4          285.7          279.0  \n2          265.0         278.0          276.2          271.4  \n3          257.0         280.0          279.8          273.2  \n4          262.0         281.0          276.6          271.0  \n5          268.0         282.9          280.6          275.0  \n6          266.0         281.3          278.0          272.0  \n7          261.0         287.0          284.2          279.0  \n8          267.5         280.6          277.3          274.4  \n9          255.5         283.6          278.2          267.4  \n10         271.0         281.0          278.9          276.0  \n11         279.0         293.0          290.0          286.0  \n12         263.5         286.2          279.3          269.8  \n13         259.0         282.0          277.2          266.8  ",
      "text/html": "<div>\n<style scoped>\n    .dataframe tbody tr th:only-of-type {\n        vertical-align: middle;\n    }\n\n    .dataframe tbody tr th {\n        vertical-align: top;\n    }\n\n    .dataframe thead th {\n        text-align: right;\n    }\n</style>\n<table border=\"1\" class=\"dataframe\">\n  <thead>\n    <tr style=\"text-align: right;\">\n      <th></th>\n      <th>University</th>\n      <th>Profile</th>\n      <th>N of Agreements</th>\n      <th>Average score</th>\n      <th>Median score</th>\n      <th>Top 5% score</th>\n      <th>Top 10% score</th>\n      <th>Top 20% score</th>\n    </tr>\n  </thead>\n  <tbody>\n    <tr>\n      <th>1</th>\n      <td>МИРЭА</td>\n      <td>01.03.02</td>\n      <td>50</td>\n      <td>269.9</td>\n      <td>271.5</td>\n      <td>288.4</td>\n      <td>285.7</td>\n      <td>279.0</td>\n    </tr>\n    <tr>\n      <th>2</th>\n      <td>МИРЭА</td>\n      <td>01.03.04</td>\n      <td>37</td>\n      <td>263.2</td>\n      <td>265.0</td>\n      <td>278.0</td>\n      <td>276.2</td>\n      <td>271.4</td>\n    </tr>\n    <tr>\n      <th>3</th>\n      <td>МИРЭА</td>\n      <td>02.03.02</td>\n      <td>21</td>\n      <td>256.2</td>\n      <td>257.0</td>\n      <td>280.0</td>\n      <td>279.8</td>\n      <td>273.2</td>\n    </tr>\n    <tr>\n      <th>4</th>\n      <td>МИРЭА</td>\n      <td>09.03.01:III</td>\n      <td>63</td>\n      <td>264.5</td>\n      <td>262.0</td>\n      <td>281.0</td>\n      <td>276.6</td>\n      <td>271.0</td>\n    </tr>\n    <tr>\n      <th>5</th>\n      <td>МИРЭА</td>\n      <td>09.03.01:IIT</td>\n      <td>53</td>\n      <td>268.1</td>\n      <td>268.0</td>\n      <td>282.9</td>\n      <td>280.6</td>\n      <td>275.0</td>\n    </tr>\n    <tr>\n      <th>6</th>\n      <td>МИРЭА</td>\n      <td>09.03.02:IKB</td>\n      <td>126</td>\n      <td>267.0</td>\n      <td>266.0</td>\n      <td>281.3</td>\n      <td>278.0</td>\n      <td>272.0</td>\n    </tr>\n    <tr>\n      <th>7</th>\n      <td>МИРЭА</td>\n      <td>09.03.02:IPTIP-design</td>\n      <td>38</td>\n      <td>266.3</td>\n      <td>261.0</td>\n      <td>287.0</td>\n      <td>284.2</td>\n      <td>279.0</td>\n    </tr>\n    <tr>\n      <th>8</th>\n      <td>МИРЭА</td>\n      <td>09.03.02:IPTIP-fullstack</td>\n      <td>28</td>\n      <td>268.5</td>\n      <td>267.5</td>\n      <td>280.6</td>\n      <td>277.3</td>\n      <td>274.4</td>\n    </tr>\n    <tr>\n      <th>9</th>\n      <td>МИРЭА</td>\n      <td>09.03.02:IRI</td>\n      <td>8</td>\n      <td>258.0</td>\n      <td>255.5</td>\n      <td>283.6</td>\n      <td>278.2</td>\n      <td>267.4</td>\n    </tr>\n    <tr>\n      <th>10</th>\n      <td>МИРЭА</td>\n      <td>09.03.03</td>\n      <td>130</td>\n      <td>269.9</td>\n      <td>271.0</td>\n      <td>281.0</td>\n      <td>278.9</td>\n      <td>276.0</td>\n    </tr>\n    <tr>\n      <th>11</th>\n      <td>МИРЭА</td>\n      <td>09.03.04</td>\n      <td>234</td>\n      <td>277.4</td>\n      <td>279.0</td>\n      <td>293.0</td>\n      <td>290.0</td>\n      <td>286.0</td>\n    </tr>\n    <tr>\n      <th>12</th>\n      <td>МИРЭА</td>\n      <td>10.03.01</td>\n      <td>22</td>\n      <td>262.6</td>\n      <td>263.5</td>\n      <td>286.2</td>\n      <td>279.3</td>\n      <td>269.8</td>\n    </tr>\n    <tr>\n      <th>13</th>\n      <td>МИРЭА</td>\n      <td>10.05.01</td>\n      <td>35</td>\n      <td>261.0</td>\n      <td>259.0</td>\n      <td>282.0</td>\n      <td>277.2</td>\n      <td>266.8</td>\n    </tr>\n  </tbody>\n</table>\n</div>"
     },
     "metadata": {},
     "output_type": "display_data"
    }
   ],
   "source": [
    "system.show_agreements_statistics_by_universities_and_profiles()"
   ],
   "metadata": {
    "collapsed": false,
    "pycharm": {
     "name": "#%%\n"
    }
   }
  },
  {
   "cell_type": "code",
   "execution_count": 12,
   "outputs": [
    {
     "name": "stdout",
     "output_type": "stream",
     "text": [
      "\u001B[33mWARNING: student id=111-111-111 07 not found\u001B[0m\n"
     ]
    },
    {
     "ename": "KeyError",
     "evalue": "111-111-111 07",
     "output_type": "error",
     "traceback": [
      "\u001B[1;31m---------------------------------------------------------------------------\u001B[0m",
      "\u001B[1;31mKeyError\u001B[0m                                  Traceback (most recent call last)",
      "Input \u001B[1;32mIn [12]\u001B[0m, in \u001B[0;36m<cell line: 1>\u001B[1;34m()\u001B[0m\n\u001B[1;32m----> 1\u001B[0m \u001B[43msystem\u001B[49m\u001B[38;5;241;43m.\u001B[39;49m\u001B[43mshow_current_situation_for\u001B[49m\u001B[43m(\u001B[49m\u001B[43mStudentId\u001B[49m\u001B[43m(\u001B[49m\u001B[38;5;124;43m\"\u001B[39;49m\u001B[38;5;124;43m111-111-111 07\u001B[39;49m\u001B[38;5;124;43m\"\u001B[39;49m\u001B[43m)\u001B[49m\u001B[43m)\u001B[49m\n",
      "File \u001B[1;32mD:\\Personal\\IT\\Programming\\Projects\\UniversityApplicationSystem\\src\\application\\application_system.py:232\u001B[0m, in \u001B[0;36mApplicationSystem.show_current_situation_for\u001B[1;34m(self, student_id)\u001B[0m\n\u001B[0;32m    229\u001B[0m min_scores: Dict[University, Dict[Profile, \u001B[38;5;28mint\u001B[39m]] \u001B[38;5;241m=\u001B[39m \u001B[38;5;28mself\u001B[39m\u001B[38;5;241m.\u001B[39mget_current_min_scores()\n\u001B[0;32m    231\u001B[0m universities_and_profiles: List[Tuple[University, Profile]] \u001B[38;5;241m=\u001B[39m []\n\u001B[1;32m--> 232\u001B[0m \u001B[38;5;28;01mfor\u001B[39;00m university \u001B[38;5;129;01min\u001B[39;00m \u001B[38;5;28;43mself\u001B[39;49m\u001B[38;5;241;43m.\u001B[39;49m\u001B[43m__student_applications\u001B[49m\u001B[43m[\u001B[49m\u001B[43mstudent_id\u001B[49m\u001B[43m]\u001B[49m\u001B[38;5;241m.\u001B[39mkeys():\n\u001B[0;32m    233\u001B[0m     \u001B[38;5;28;01mfor\u001B[39;00m profile \u001B[38;5;129;01min\u001B[39;00m \u001B[38;5;28mself\u001B[39m\u001B[38;5;241m.\u001B[39m__student_applications[student_id][university]\u001B[38;5;241m.\u001B[39mkeys():\n\u001B[0;32m    234\u001B[0m         universities_and_profiles\u001B[38;5;241m.\u001B[39mappend((university, profile))\n",
      "\u001B[1;31mKeyError\u001B[0m: 111-111-111 07"
     ]
    }
   ],
   "source": [
    "system.show_current_situation_for(StudentId(\"111-111-111 07\"))"
   ],
   "metadata": {
    "collapsed": false,
    "pycharm": {
     "name": "#%%\n"
    }
   }
  }
 ],
 "metadata": {
  "kernelspec": {
   "display_name": "Python 3 (ipykernel)",
   "language": "python",
   "name": "python3"
  },
  "language_info": {
   "codemirror_mode": {
    "name": "ipython",
    "version": 3
   },
   "file_extension": ".py",
   "mimetype": "text/x-python",
   "name": "python",
   "nbconvert_exporter": "python",
   "pygments_lexer": "ipython3",
   "version": "3.9.12"
  }
 },
 "nbformat": 4,
 "nbformat_minor": 5
}