{
 "cells": [
  {
   "cell_type": "code",
   "execution_count": 1,
   "id": "4b7e05c4",
   "metadata": {
    "pycharm": {
     "name": "#%%\n"
    }
   },
   "outputs": [],
   "source": [
    "from src.core import Student, University\n",
    "from src.application import ApplicationSystem, DataLoader"
   ]
  },
  {
   "cell_type": "code",
   "execution_count": 2,
   "id": "f1986aa3",
   "metadata": {
    "pycharm": {
     "name": "#%%\n"
    }
   },
   "outputs": [],
   "source": [
    "system = ApplicationSystem()"
   ]
  },
  {
   "cell_type": "code",
   "execution_count": 3,
   "outputs": [],
   "source": [
    "loader = DataLoader()"
   ],
   "metadata": {
    "collapsed": false,
    "pycharm": {
     "name": "#%%\n"
    }
   }
  },
  {
   "cell_type": "code",
   "execution_count": 4,
   "outputs": [],
   "source": [
    "loader.load_data(system, \"../../data/\")"
   ],
   "metadata": {
    "collapsed": false,
    "pycharm": {
     "name": "#%%\n"
    }
   }
  },
  {
   "cell_type": "code",
   "execution_count": 5,
   "outputs": [
    {
     "data": {
      "text/plain": "{<University.MIPT: 'МФТИ'>: {},\n <University.VSE: 'ВШЭ'>: {},\n <University.MSU: 'МГУ'>: {},\n <University.MEPHI: 'МИФИ'>: {},\n <University.BMSTU: 'Бауманка'>: {},\n <University.MIREA: 'МИРЭА'>: {},\n <University.MAI: 'МАИ'>: {},\n <University.MPEI: 'МЭИ'>: {},\n <University.MTUCI: 'МТУСИ'>: {},\n <University.MPOLITECH: 'МосПолитех'>: {},\n <University.MIET: 'МИЭТ'>: {},\n <University.ITMO: 'ИТМО'>: {},\n <University.SPBSU: 'СПБГУ'>: {}}"
     },
     "execution_count": 5,
     "metadata": {},
     "output_type": "execute_result"
    }
   ],
   "source": [
    "system.get_current_min_scores()"
   ],
   "metadata": {
    "collapsed": false,
    "pycharm": {
     "name": "#%%\n"
    }
   }
  },
  {
   "cell_type": "code",
   "execution_count": 6,
   "outputs": [
    {
     "name": "stdout",
     "output_type": "stream",
     "text": [
      "\u001B[33mWARNING: student id=111-111-111 07 not found\u001B[0m\n"
     ]
    },
    {
     "data": {
      "text/plain": "{}"
     },
     "execution_count": 6,
     "metadata": {},
     "output_type": "execute_result"
    }
   ],
   "source": [
    "system.get_current_positions(\"111-111-111 07\")"
   ],
   "metadata": {
    "collapsed": false,
    "pycharm": {
     "name": "#%%\n"
    }
   }
  },
  {
   "cell_type": "code",
   "execution_count": 7,
   "outputs": [
    {
     "data": {
      "text/plain": "<pandas.io.formats.style.Styler at 0x14508585730>",
      "text/html": "<style type=\"text/css\">\n</style>\n<table id=\"T_9dde3\">\n  <caption>All agreements (with listed)</caption>\n  <thead>\n    <tr>\n      <th class=\"blank level0\" >&nbsp;</th>\n      <th id=\"T_9dde3_level0_col0\" class=\"col_heading level0 col0\" >University</th>\n      <th id=\"T_9dde3_level0_col1\" class=\"col_heading level0 col1\" >Agreements</th>\n    </tr>\n  </thead>\n  <tbody>\n    <tr>\n      <th id=\"T_9dde3_level0_row0\" class=\"row_heading level0 row0\" >0</th>\n      <td id=\"T_9dde3_row0_col0\" class=\"data row0 col0\" >МФТИ</td>\n      <td id=\"T_9dde3_row0_col1\" class=\"data row0 col1\" >0</td>\n    </tr>\n    <tr>\n      <th id=\"T_9dde3_level0_row1\" class=\"row_heading level0 row1\" >1</th>\n      <td id=\"T_9dde3_row1_col0\" class=\"data row1 col0\" >ВШЭ</td>\n      <td id=\"T_9dde3_row1_col1\" class=\"data row1 col1\" >0</td>\n    </tr>\n    <tr>\n      <th id=\"T_9dde3_level0_row2\" class=\"row_heading level0 row2\" >2</th>\n      <td id=\"T_9dde3_row2_col0\" class=\"data row2 col0\" >МГУ</td>\n      <td id=\"T_9dde3_row2_col1\" class=\"data row2 col1\" >0</td>\n    </tr>\n    <tr>\n      <th id=\"T_9dde3_level0_row3\" class=\"row_heading level0 row3\" >3</th>\n      <td id=\"T_9dde3_row3_col0\" class=\"data row3 col0\" >МИФИ</td>\n      <td id=\"T_9dde3_row3_col1\" class=\"data row3 col1\" >0</td>\n    </tr>\n    <tr>\n      <th id=\"T_9dde3_level0_row4\" class=\"row_heading level0 row4\" >4</th>\n      <td id=\"T_9dde3_row4_col0\" class=\"data row4 col0\" >Бауманка</td>\n      <td id=\"T_9dde3_row4_col1\" class=\"data row4 col1\" >0</td>\n    </tr>\n    <tr>\n      <th id=\"T_9dde3_level0_row5\" class=\"row_heading level0 row5\" >5</th>\n      <td id=\"T_9dde3_row5_col0\" class=\"data row5 col0\" >МИРЭА</td>\n      <td id=\"T_9dde3_row5_col1\" class=\"data row5 col1\" >0</td>\n    </tr>\n    <tr>\n      <th id=\"T_9dde3_level0_row6\" class=\"row_heading level0 row6\" >6</th>\n      <td id=\"T_9dde3_row6_col0\" class=\"data row6 col0\" >МАИ</td>\n      <td id=\"T_9dde3_row6_col1\" class=\"data row6 col1\" >0</td>\n    </tr>\n    <tr>\n      <th id=\"T_9dde3_level0_row7\" class=\"row_heading level0 row7\" >7</th>\n      <td id=\"T_9dde3_row7_col0\" class=\"data row7 col0\" >МЭИ</td>\n      <td id=\"T_9dde3_row7_col1\" class=\"data row7 col1\" >0</td>\n    </tr>\n    <tr>\n      <th id=\"T_9dde3_level0_row8\" class=\"row_heading level0 row8\" >8</th>\n      <td id=\"T_9dde3_row8_col0\" class=\"data row8 col0\" >МТУСИ</td>\n      <td id=\"T_9dde3_row8_col1\" class=\"data row8 col1\" >0</td>\n    </tr>\n    <tr>\n      <th id=\"T_9dde3_level0_row9\" class=\"row_heading level0 row9\" >9</th>\n      <td id=\"T_9dde3_row9_col0\" class=\"data row9 col0\" >МосПолитех</td>\n      <td id=\"T_9dde3_row9_col1\" class=\"data row9 col1\" >0</td>\n    </tr>\n    <tr>\n      <th id=\"T_9dde3_level0_row10\" class=\"row_heading level0 row10\" >10</th>\n      <td id=\"T_9dde3_row10_col0\" class=\"data row10 col0\" >МИЭТ</td>\n      <td id=\"T_9dde3_row10_col1\" class=\"data row10 col1\" >0</td>\n    </tr>\n    <tr>\n      <th id=\"T_9dde3_level0_row11\" class=\"row_heading level0 row11\" >11</th>\n      <td id=\"T_9dde3_row11_col0\" class=\"data row11 col0\" >ИТМО</td>\n      <td id=\"T_9dde3_row11_col1\" class=\"data row11 col1\" >0</td>\n    </tr>\n    <tr>\n      <th id=\"T_9dde3_level0_row12\" class=\"row_heading level0 row12\" >12</th>\n      <td id=\"T_9dde3_row12_col0\" class=\"data row12 col0\" >СПБГУ</td>\n      <td id=\"T_9dde3_row12_col1\" class=\"data row12 col1\" >0</td>\n    </tr>\n  </tbody>\n</table>\n"
     },
     "metadata": {},
     "output_type": "display_data"
    }
   ],
   "source": [
    "system.show_number_of_agreements_by_university()"
   ],
   "metadata": {
    "collapsed": false,
    "pycharm": {
     "name": "#%%\n"
    }
   }
  },
  {
   "cell_type": "code",
   "execution_count": 8,
   "outputs": [
    {
     "data": {
      "text/plain": "<pandas.io.formats.style.Styler at 0x14508585c10>",
      "text/html": "<style type=\"text/css\">\n</style>\n<table id=\"T_41626\">\n  <caption>All pending agreements</caption>\n  <thead>\n    <tr>\n      <th class=\"blank level0\" >&nbsp;</th>\n      <th id=\"T_41626_level0_col0\" class=\"col_heading level0 col0\" >University</th>\n      <th id=\"T_41626_level0_col1\" class=\"col_heading level0 col1\" >Agreements</th>\n    </tr>\n  </thead>\n  <tbody>\n    <tr>\n      <th id=\"T_41626_level0_row0\" class=\"row_heading level0 row0\" >0</th>\n      <td id=\"T_41626_row0_col0\" class=\"data row0 col0\" >МФТИ</td>\n      <td id=\"T_41626_row0_col1\" class=\"data row0 col1\" >0</td>\n    </tr>\n    <tr>\n      <th id=\"T_41626_level0_row1\" class=\"row_heading level0 row1\" >1</th>\n      <td id=\"T_41626_row1_col0\" class=\"data row1 col0\" >ВШЭ</td>\n      <td id=\"T_41626_row1_col1\" class=\"data row1 col1\" >0</td>\n    </tr>\n    <tr>\n      <th id=\"T_41626_level0_row2\" class=\"row_heading level0 row2\" >2</th>\n      <td id=\"T_41626_row2_col0\" class=\"data row2 col0\" >МГУ</td>\n      <td id=\"T_41626_row2_col1\" class=\"data row2 col1\" >0</td>\n    </tr>\n    <tr>\n      <th id=\"T_41626_level0_row3\" class=\"row_heading level0 row3\" >3</th>\n      <td id=\"T_41626_row3_col0\" class=\"data row3 col0\" >МИФИ</td>\n      <td id=\"T_41626_row3_col1\" class=\"data row3 col1\" >0</td>\n    </tr>\n    <tr>\n      <th id=\"T_41626_level0_row4\" class=\"row_heading level0 row4\" >4</th>\n      <td id=\"T_41626_row4_col0\" class=\"data row4 col0\" >Бауманка</td>\n      <td id=\"T_41626_row4_col1\" class=\"data row4 col1\" >0</td>\n    </tr>\n    <tr>\n      <th id=\"T_41626_level0_row5\" class=\"row_heading level0 row5\" >5</th>\n      <td id=\"T_41626_row5_col0\" class=\"data row5 col0\" >МИРЭА</td>\n      <td id=\"T_41626_row5_col1\" class=\"data row5 col1\" >0</td>\n    </tr>\n    <tr>\n      <th id=\"T_41626_level0_row6\" class=\"row_heading level0 row6\" >6</th>\n      <td id=\"T_41626_row6_col0\" class=\"data row6 col0\" >МАИ</td>\n      <td id=\"T_41626_row6_col1\" class=\"data row6 col1\" >0</td>\n    </tr>\n    <tr>\n      <th id=\"T_41626_level0_row7\" class=\"row_heading level0 row7\" >7</th>\n      <td id=\"T_41626_row7_col0\" class=\"data row7 col0\" >МЭИ</td>\n      <td id=\"T_41626_row7_col1\" class=\"data row7 col1\" >0</td>\n    </tr>\n    <tr>\n      <th id=\"T_41626_level0_row8\" class=\"row_heading level0 row8\" >8</th>\n      <td id=\"T_41626_row8_col0\" class=\"data row8 col0\" >МТУСИ</td>\n      <td id=\"T_41626_row8_col1\" class=\"data row8 col1\" >0</td>\n    </tr>\n    <tr>\n      <th id=\"T_41626_level0_row9\" class=\"row_heading level0 row9\" >9</th>\n      <td id=\"T_41626_row9_col0\" class=\"data row9 col0\" >МосПолитех</td>\n      <td id=\"T_41626_row9_col1\" class=\"data row9 col1\" >0</td>\n    </tr>\n    <tr>\n      <th id=\"T_41626_level0_row10\" class=\"row_heading level0 row10\" >10</th>\n      <td id=\"T_41626_row10_col0\" class=\"data row10 col0\" >МИЭТ</td>\n      <td id=\"T_41626_row10_col1\" class=\"data row10 col1\" >0</td>\n    </tr>\n    <tr>\n      <th id=\"T_41626_level0_row11\" class=\"row_heading level0 row11\" >11</th>\n      <td id=\"T_41626_row11_col0\" class=\"data row11 col0\" >ИТМО</td>\n      <td id=\"T_41626_row11_col1\" class=\"data row11 col1\" >0</td>\n    </tr>\n    <tr>\n      <th id=\"T_41626_level0_row12\" class=\"row_heading level0 row12\" >12</th>\n      <td id=\"T_41626_row12_col0\" class=\"data row12 col0\" >СПБГУ</td>\n      <td id=\"T_41626_row12_col1\" class=\"data row12 col1\" >0</td>\n    </tr>\n  </tbody>\n</table>\n"
     },
     "metadata": {},
     "output_type": "display_data"
    }
   ],
   "source": [
    "system.show_number_of_pending_agreements_by_university()"
   ],
   "metadata": {
    "collapsed": false,
    "pycharm": {
     "name": "#%%\n"
    }
   }
  },
  {
   "cell_type": "code",
   "execution_count": 9,
   "outputs": [
    {
     "data": {
      "text/plain": "Empty DataFrame\nColumns: [University, N of Agreements, Average score, Median score, Top 5% score, Top 10% score, Top 20% score]\nIndex: []",
      "text/html": "<div>\n<style scoped>\n    .dataframe tbody tr th:only-of-type {\n        vertical-align: middle;\n    }\n\n    .dataframe tbody tr th {\n        vertical-align: top;\n    }\n\n    .dataframe thead th {\n        text-align: right;\n    }\n</style>\n<table border=\"1\" class=\"dataframe\">\n  <thead>\n    <tr style=\"text-align: right;\">\n      <th></th>\n      <th>University</th>\n      <th>N of Agreements</th>\n      <th>Average score</th>\n      <th>Median score</th>\n      <th>Top 5% score</th>\n      <th>Top 10% score</th>\n      <th>Top 20% score</th>\n    </tr>\n  </thead>\n  <tbody>\n  </tbody>\n</table>\n</div>"
     },
     "metadata": {},
     "output_type": "display_data"
    }
   ],
   "source": [
    "system.show_agreements_statistics_by_universities()"
   ],
   "metadata": {
    "collapsed": false,
    "pycharm": {
     "name": "#%%\n"
    }
   }
  },
  {
   "cell_type": "code",
   "execution_count": 10,
   "outputs": [
    {
     "data": {
      "text/plain": "Empty DataFrame\nColumns: [University, Profile, N of Agreements, Average score, Median score, Top 5% score, Top 10% score, Top 20% score]\nIndex: []",
      "text/html": "<div>\n<style scoped>\n    .dataframe tbody tr th:only-of-type {\n        vertical-align: middle;\n    }\n\n    .dataframe tbody tr th {\n        vertical-align: top;\n    }\n\n    .dataframe thead th {\n        text-align: right;\n    }\n</style>\n<table border=\"1\" class=\"dataframe\">\n  <thead>\n    <tr style=\"text-align: right;\">\n      <th></th>\n      <th>University</th>\n      <th>Profile</th>\n      <th>N of Agreements</th>\n      <th>Average score</th>\n      <th>Median score</th>\n      <th>Top 5% score</th>\n      <th>Top 10% score</th>\n      <th>Top 20% score</th>\n    </tr>\n  </thead>\n  <tbody>\n  </tbody>\n</table>\n</div>"
     },
     "metadata": {},
     "output_type": "display_data"
    }
   ],
   "source": [
    "system.show_agreements_statistics_by_universities_and_profiles()"
   ],
   "metadata": {
    "collapsed": false,
    "pycharm": {
     "name": "#%%\n"
    }
   }
  },
  {
   "cell_type": "code",
   "execution_count": 11,
   "outputs": [
    {
     "name": "stdout",
     "output_type": "stream",
     "text": [
      "\u001B[33mWARNING: student id=111-111-111 07 not found\u001B[0m\n"
     ]
    },
    {
     "ename": "KeyError",
     "evalue": "'111-111-111 07'",
     "output_type": "error",
     "traceback": [
      "\u001B[1;31m---------------------------------------------------------------------------\u001B[0m",
      "\u001B[1;31mKeyError\u001B[0m                                  Traceback (most recent call last)",
      "Input \u001B[1;32mIn [11]\u001B[0m, in \u001B[0;36m<cell line: 1>\u001B[1;34m()\u001B[0m\n\u001B[1;32m----> 1\u001B[0m \u001B[43msystem\u001B[49m\u001B[38;5;241;43m.\u001B[39;49m\u001B[43mshow_current_situation_for\u001B[49m\u001B[43m(\u001B[49m\u001B[38;5;124;43m\"\u001B[39;49m\u001B[38;5;124;43m111-111-111 07\u001B[39;49m\u001B[38;5;124;43m\"\u001B[39;49m\u001B[43m)\u001B[49m\n",
      "File \u001B[1;32mD:\\Personal\\IT\\Programming\\Projects\\UniversityApplicationSystem\\src\\application\\application_system.py:223\u001B[0m, in \u001B[0;36mApplicationSystem.show_current_situation_for\u001B[1;34m(self, student_id)\u001B[0m\n\u001B[0;32m    220\u001B[0m min_scores \u001B[38;5;241m=\u001B[39m \u001B[38;5;28mself\u001B[39m\u001B[38;5;241m.\u001B[39mget_current_min_scores()\n\u001B[0;32m    222\u001B[0m universities_and_profiles \u001B[38;5;241m=\u001B[39m []\n\u001B[1;32m--> 223\u001B[0m \u001B[38;5;28;01mfor\u001B[39;00m university \u001B[38;5;129;01min\u001B[39;00m \u001B[38;5;28;43mself\u001B[39;49m\u001B[38;5;241;43m.\u001B[39;49m\u001B[43m__student_applications\u001B[49m\u001B[43m[\u001B[49m\u001B[43mstudent_id\u001B[49m\u001B[43m]\u001B[49m\u001B[38;5;241m.\u001B[39mkeys():\n\u001B[0;32m    224\u001B[0m     \u001B[38;5;28;01mfor\u001B[39;00m profile \u001B[38;5;129;01min\u001B[39;00m \u001B[38;5;28mself\u001B[39m\u001B[38;5;241m.\u001B[39m__student_applications[student_id][university]\u001B[38;5;241m.\u001B[39mkeys():\n\u001B[0;32m    225\u001B[0m         universities_and_profiles\u001B[38;5;241m.\u001B[39mappend([university, profile])\n",
      "\u001B[1;31mKeyError\u001B[0m: '111-111-111 07'"
     ]
    }
   ],
   "source": [
    "system.show_current_situation_for(\"111-111-111 07\")"
   ],
   "metadata": {
    "collapsed": false,
    "pycharm": {
     "name": "#%%\n"
    }
   }
  }
 ],
 "metadata": {
  "kernelspec": {
   "display_name": "Python 3 (ipykernel)",
   "language": "python",
   "name": "python3"
  },
  "language_info": {
   "codemirror_mode": {
    "name": "ipython",
    "version": 3
   },
   "file_extension": ".py",
   "mimetype": "text/x-python",
   "name": "python",
   "nbconvert_exporter": "python",
   "pygments_lexer": "ipython3",
   "version": "3.9.12"
  }
 },
 "nbformat": 4,
 "nbformat_minor": 5
}