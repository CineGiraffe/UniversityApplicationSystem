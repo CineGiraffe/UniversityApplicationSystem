{
 "cells": [
  {
   "cell_type": "code",
   "execution_count": null,
   "id": "4b7e05c4",
   "metadata": {
    "pycharm": {
     "name": "#%%\n"
    }
   },
   "outputs": [],
   "source": [
    "from src.core import Profile, StudentId, Student, University\n",
    "from src.application import ApplicationService, DataVisualizer\n",
    "\n",
    "from functools import cmp_to_key"
   ]
  },
  {
   "cell_type": "code",
   "execution_count": null,
   "id": "3b3701ff",
   "metadata": {
    "pycharm": {
     "name": "#%%\n"
    }
   },
   "outputs": [],
   "source": [
    "test_university: University = University.MIPT\n",
    "print(test_university)\n",
    "print(test_university.value)"
   ]
  },
  {
   "cell_type": "code",
   "execution_count": null,
   "id": "fe697a2e",
   "metadata": {
    "pycharm": {
     "name": "#%%\n"
    }
   },
   "outputs": [],
   "source": [
    "test_student = Student(StudentId(\"123\"), 275, False)\n",
    "print(test_student)"
   ]
  },
  {
   "cell_type": "code",
   "execution_count": null,
   "id": "f1986aa3",
   "metadata": {
    "pycharm": {
     "name": "#%%\n"
    }
   },
   "outputs": [],
   "source": [
    "service = ApplicationService()"
   ]
  },
  {
   "cell_type": "code",
   "execution_count": null,
   "metadata": {
    "collapsed": false,
    "pycharm": {
     "name": "#%%\n"
    }
   },
   "outputs": [],
   "source": [
    "MAI_PMI = []\n",
    "BMSTU_PMI = []\n",
    "MIREA_PMI = []\n",
    "MIREA_PR_INJ = []\n",
    "MIPT_PMI = []\n",
    "\n",
    "# for BVI we can use 1000\n",
    "\n",
    "MAI_PMI.append(Student(StudentId('111-111-111 01'), 297, False))\n",
    "BMSTU_PMI.append(Student(StudentId('111-111-111 01'), 297, True))\n",
    "MIREA_PMI.append(Student(StudentId('111-111-111 01'), 297, False))\n",
    "MIREA_PR_INJ.append(Student(StudentId('111-111-111 01'), 297, False))\n",
    "MIPT_PMI.append(Student(StudentId('111-111-111 01'), 297, False))\n",
    "\n",
    "MAI_PMI.append(Student(StudentId('111-111-111 02'), 285, True))\n",
    "BMSTU_PMI.append(Student(StudentId('111-111-111 02'), 285, False))\n",
    "MIREA_PMI.append(Student(StudentId('111-111-111 02'), 285, False))\n",
    "MIREA_PR_INJ.append(Student(StudentId('111-111-111 02'), 285, False))\n",
    "\n",
    "MAI_PMI.append(Student(StudentId('111-111-111 03'), 271, False))\n",
    "BMSTU_PMI.append(Student(StudentId('111-111-111 03'), 271, False))\n",
    "MIREA_PMI.append(Student(StudentId('111-111-111 03'), 271, False))\n",
    "MIREA_PR_INJ.append(Student(StudentId('111-111-111 03'), 271, False))\n",
    "\n",
    "MAI_PMI.append(Student(StudentId('111-111-111 04'), 272, False))\n",
    "BMSTU_PMI.append(Student(StudentId('111-111-111 04'), 272, False))\n",
    "MIREA_PMI.append(Student(StudentId('111-111-111 04'), 272, True))\n",
    "MIREA_PR_INJ.append(Student(StudentId('111-111-111 04'), 272, False))\n",
    "\n",
    "MAI_PMI.append(Student(StudentId('111-111-111 05'), 272, False))\n",
    "BMSTU_PMI.append(Student(StudentId('111-111-111 05'), 272, False))\n",
    "MIREA_PMI.append(Student(StudentId('111-111-111 05'), 272, False))\n",
    "MIREA_PR_INJ.append(Student(StudentId('111-111-111 05'), 272, True))\n",
    "\n",
    "MAI_PMI.append(Student(StudentId('111-111-111 06'), 272, True))\n",
    "BMSTU_PMI.append(Student(StudentId('111-111-111 06'), 272, False))\n",
    "MIREA_PMI.append(Student(StudentId('111-111-111 06'), 272, False))\n",
    "MIREA_PR_INJ.append(Student(StudentId('111-111-111 06'), 272, False))\n",
    "\n",
    "MAI_PMI.append(Student(StudentId('111-111-111 07'), 272, False))\n",
    "BMSTU_PMI.append(Student(StudentId('111-111-111 07'), 272, False))\n",
    "MIREA_PMI.append(Student(StudentId('111-111-111 07'), 272, False))\n",
    "MIREA_PR_INJ.append(Student(StudentId('111-111-111 07'), 272, False))\n",
    "\n",
    "MAI_PMI.append(Student(StudentId('111-111-111 08'), 273, False))\n",
    "BMSTU_PMI.append(Student(StudentId('111-111-111 08'), 273, False))\n",
    "MIREA_PMI.append(Student(StudentId('111-111-111 08'), 273, False))\n",
    "MIREA_PR_INJ.append(Student(StudentId('111-111-111 08'), 273, False))\n",
    "\n",
    "MAI_PMI.append(Student(StudentId('111-111-111 09'), 273, True))\n",
    "BMSTU_PMI.append(Student(StudentId('111-111-111 09'), 273, False))\n",
    "MIREA_PMI.append(Student(StudentId('111-111-111 09'), 273, False))\n",
    "MIREA_PR_INJ.append(Student(StudentId('111-111-111 09'), 273, False))\n",
    "\n",
    "MAI_PMI.append(Student(StudentId('111-111-111 10'), 273, False))\n",
    "BMSTU_PMI.append(Student(StudentId('111-111-111 10'), 273, False))\n",
    "MIREA_PMI.append(Student(StudentId('111-111-111 10'), 273, True))\n",
    "MIREA_PR_INJ.append(Student(StudentId('111-111-111 10'), 273, False))\n",
    "\n",
    "MAI_PMI.append(Student(StudentId('111-111-111 11'), 273, False))\n",
    "BMSTU_PMI.append(Student(StudentId('111-111-111 11'), 273, False))\n",
    "MIREA_PMI.append(Student(StudentId('111-111-111 11'), 273, False))\n",
    "MIREA_PR_INJ.append(Student(StudentId('111-111-111 11'), 273, True))\n",
    "\n",
    "def cmp_func(x, y):\n",
    "    if x.score < y.score:\n",
    "        return 1\n",
    "    elif x.score > y.score:\n",
    "        return -1\n",
    "    else:\n",
    "        if x.id.id > y.id.id:\n",
    "            return 1\n",
    "        else:\n",
    "            return -1\n",
    "my_cmp = cmp_to_key(cmp_func)\n",
    "\n",
    "service.add_profile_students_data(University.MAI, Profile('01.03.02'), sorted(MAI_PMI, key=my_cmp))\n",
    "service.add_profile_students_data(University.BMSTU, Profile('01.03.02'), sorted(BMSTU_PMI, key=my_cmp))\n",
    "service.add_profile_students_data(University.MIREA, Profile('01.03.02'), sorted(MIREA_PMI, key=my_cmp))\n",
    "service.add_profile_students_data(University.MIREA, Profile('09.03.04'), sorted(MIREA_PR_INJ, key=my_cmp))\n",
    "service.add_profile_students_data(University.MIPT, Profile('01.03.02'), sorted(MIPT_PMI, key=my_cmp))"
   ]
  },
  {
   "cell_type": "code",
   "execution_count": null,
   "metadata": {
    "collapsed": false,
    "pycharm": {
     "name": "#%%\n"
    }
   },
   "outputs": [],
   "source": [
    "places = {University.MIPT: {Profile('01.03.02'): 2}, University.MAI: {Profile('01.03.02'): 6}, University.MIREA: {Profile('01.03.02'): 3, Profile('09.03.04'): 3}, University.BMSTU: {Profile('01.03.02'): 2}}\n",
    "service.add_places_details(places)"
   ]
  },
  {
   "cell_type": "code",
   "execution_count": null,
   "metadata": {
    "collapsed": false,
    "pycharm": {
     "name": "#%%\n"
    }
   },
   "outputs": [],
   "source": [
    "visualizer = DataVisualizer(service)"
   ]
  },
  {
   "cell_type": "code",
   "execution_count": null,
   "metadata": {
    "collapsed": false,
    "pycharm": {
     "name": "#%%\n"
    }
   },
   "outputs": [],
   "source": [
    "visualizer.show_agreements_distribution()"
   ]
  },
  {
   "cell_type": "code",
   "execution_count": null,
   "metadata": {
    "collapsed": false,
    "pycharm": {
     "name": "#%%\n"
    }
   },
   "outputs": [],
   "source": [
    "visualizer.show_pending_agreements_distribution()"
   ]
  },
  {
   "cell_type": "code",
   "execution_count": null,
   "metadata": {
    "collapsed": false,
    "pycharm": {
     "name": "#%%\n"
    }
   },
   "outputs": [],
   "source": [
    "visualizer.show_universities_statistics()"
   ]
  },
  {
   "cell_type": "code",
   "execution_count": null,
   "metadata": {
    "collapsed": false,
    "pycharm": {
     "name": "#%%\n"
    }
   },
   "outputs": [],
   "source": [
    "visualizer.show_universities_and_profiles_statistics()"
   ]
  },
  {
   "cell_type": "code",
   "execution_count": null,
   "metadata": {
    "collapsed": false,
    "pycharm": {
     "name": "#%%\n"
    }
   },
   "outputs": [],
   "source": [
    "visualizer.show_current_applications_details_for(StudentId(\"111-111-111 07\"))"
   ]
  },
  {
   "cell_type": "code",
   "execution_count": null,
   "metadata": {
    "collapsed": false,
    "pycharm": {
     "name": "#%%\n"
    }
   },
   "outputs": [],
   "source": [
    "visualizer.show_all_students_and_agreement_where_score_ge(University.MIREA, Profile('01.03.02'), 270)"
   ]
  },
  {
   "cell_type": "code",
   "execution_count": null,
   "metadata": {
    "collapsed": false,
    "pycharm": {
     "name": "#%%\n"
    }
   },
   "outputs": [],
   "source": [
    "visualizer.show_all_students_and_chosen_profile_where_score_ge_and_admission_possible(University.MIREA, Profile('01.03.02'), 270)"
   ]
  }
 ],
 "metadata": {
  "kernelspec": {
   "display_name": "Python 3 (ipykernel)",
   "language": "python",
   "name": "python3"
  },
  "language_info": {
   "codemirror_mode": {
    "name": "ipython",
    "version": 3
   },
   "file_extension": ".py",
   "mimetype": "text/x-python",
   "name": "python",
   "nbconvert_exporter": "python",
   "pygments_lexer": "ipython3",
   "version": "3.12.4"
  }
 },
 "nbformat": 4,
 "nbformat_minor": 5
}
