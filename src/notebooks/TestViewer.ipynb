{
 "cells": [
  {
   "cell_type": "code",
   "execution_count": 1,
   "id": "4b7e05c4",
   "metadata": {
    "pycharm": {
     "name": "#%%\n"
    }
   },
   "outputs": [],
   "source": [
    "from src.core import Profile, StudentId, Student, University\n",
    "from src.application import ApplicationSystem\n",
    "\n",
    "from functools import cmp_to_key"
   ]
  },
  {
   "cell_type": "code",
   "execution_count": 2,
   "id": "3b3701ff",
   "metadata": {
    "pycharm": {
     "name": "#%%\n"
    }
   },
   "outputs": [
    {
     "name": "stdout",
     "output_type": "stream",
     "text": [
      "MIPT\n",
      "МФТИ\n"
     ]
    }
   ],
   "source": [
    "test_university: University = University.MIPT\n",
    "print(test_university)\n",
    "print(test_university.value)"
   ]
  },
  {
   "cell_type": "code",
   "execution_count": 3,
   "id": "fe697a2e",
   "metadata": {
    "pycharm": {
     "name": "#%%\n"
    }
   },
   "outputs": [
    {
     "name": "stdout",
     "output_type": "stream",
     "text": [
      "{\"id\": {\"id\": \"123\"}, \"score\": 275, \"agreementSubmitted\": false}\n"
     ]
    }
   ],
   "source": [
    "test_student = Student(StudentId(\"123\"), 275, False)\n",
    "print(test_student)"
   ]
  },
  {
   "cell_type": "code",
   "execution_count": 4,
   "id": "f1986aa3",
   "metadata": {
    "pycharm": {
     "name": "#%%\n"
    }
   },
   "outputs": [],
   "source": [
    "system = ApplicationSystem()"
   ]
  },
  {
   "cell_type": "code",
   "execution_count": 5,
   "outputs": [],
   "source": [
    "MAI_PMI = []\n",
    "BMSTU_PMI = []\n",
    "MIREA_PMI = []\n",
    "MIREA_PR_INJ = []\n",
    "MIPT_PMI = []\n",
    "\n",
    "# for BVI we can use 1000\n",
    "\n",
    "MAI_PMI.append(Student(StudentId('111-111-111 01'), 297, False))\n",
    "BMSTU_PMI.append(Student(StudentId('111-111-111 01'), 297, True))\n",
    "MIREA_PMI.append(Student(StudentId('111-111-111 01'), 297, False))\n",
    "MIREA_PR_INJ.append(Student(StudentId('111-111-111 01'), 297, False))\n",
    "MIPT_PMI.append(Student(StudentId('111-111-111 01'), 297, False))\n",
    "\n",
    "MAI_PMI.append(Student(StudentId('111-111-111 02'), 285, True))\n",
    "BMSTU_PMI.append(Student(StudentId('111-111-111 02'), 285, False))\n",
    "MIREA_PMI.append(Student(StudentId('111-111-111 02'), 285, False))\n",
    "MIREA_PR_INJ.append(Student(StudentId('111-111-111 02'), 285, False))\n",
    "\n",
    "MAI_PMI.append(Student(StudentId('111-111-111 03'), 271, False))\n",
    "BMSTU_PMI.append(Student(StudentId('111-111-111 03'), 271, False))\n",
    "MIREA_PMI.append(Student(StudentId('111-111-111 03'), 271, False))\n",
    "MIREA_PR_INJ.append(Student(StudentId('111-111-111 03'), 271, False))\n",
    "\n",
    "MAI_PMI.append(Student(StudentId('111-111-111 04'), 272, False))\n",
    "BMSTU_PMI.append(Student(StudentId('111-111-111 04'), 272, False))\n",
    "MIREA_PMI.append(Student(StudentId('111-111-111 04'), 272, True))\n",
    "MIREA_PR_INJ.append(Student(StudentId('111-111-111 04'), 272, False))\n",
    "\n",
    "MAI_PMI.append(Student(StudentId('111-111-111 05'), 272, False))\n",
    "BMSTU_PMI.append(Student(StudentId('111-111-111 05'), 272, False))\n",
    "MIREA_PMI.append(Student(StudentId('111-111-111 05'), 272, False))\n",
    "MIREA_PR_INJ.append(Student(StudentId('111-111-111 05'), 272, True))\n",
    "\n",
    "MAI_PMI.append(Student(StudentId('111-111-111 06'), 272, True))\n",
    "BMSTU_PMI.append(Student(StudentId('111-111-111 06'), 272, False))\n",
    "MIREA_PMI.append(Student(StudentId('111-111-111 06'), 272, False))\n",
    "MIREA_PR_INJ.append(Student(StudentId('111-111-111 06'), 272, False))\n",
    "\n",
    "MAI_PMI.append(Student(StudentId('111-111-111 07'), 272, False))\n",
    "BMSTU_PMI.append(Student(StudentId('111-111-111 07'), 272, False))\n",
    "MIREA_PMI.append(Student(StudentId('111-111-111 07'), 272, False))\n",
    "MIREA_PR_INJ.append(Student(StudentId('111-111-111 07'), 272, False))\n",
    "\n",
    "MAI_PMI.append(Student(StudentId('111-111-111 08'), 273, False))\n",
    "BMSTU_PMI.append(Student(StudentId('111-111-111 08'), 273, False))\n",
    "MIREA_PMI.append(Student(StudentId('111-111-111 08'), 273, False))\n",
    "MIREA_PR_INJ.append(Student(StudentId('111-111-111 08'), 273, False))\n",
    "\n",
    "MAI_PMI.append(Student(StudentId('111-111-111 09'), 273, True))\n",
    "BMSTU_PMI.append(Student(StudentId('111-111-111 09'), 273, False))\n",
    "MIREA_PMI.append(Student(StudentId('111-111-111 09'), 273, False))\n",
    "MIREA_PR_INJ.append(Student(StudentId('111-111-111 09'), 273, False))\n",
    "\n",
    "MAI_PMI.append(Student(StudentId('111-111-111 10'), 273, False))\n",
    "BMSTU_PMI.append(Student(StudentId('111-111-111 10'), 273, False))\n",
    "MIREA_PMI.append(Student(StudentId('111-111-111 10'), 273, True))\n",
    "MIREA_PR_INJ.append(Student(StudentId('111-111-111 10'), 273, False))\n",
    "\n",
    "MAI_PMI.append(Student(StudentId('111-111-111 11'), 273, False))\n",
    "BMSTU_PMI.append(Student(StudentId('111-111-111 11'), 273, False))\n",
    "MIREA_PMI.append(Student(StudentId('111-111-111 11'), 273, False))\n",
    "MIREA_PR_INJ.append(Student(StudentId('111-111-111 11'), 273, True))\n",
    "\n",
    "def cmp_func(x, y):\n",
    "    if x.score < y.score:\n",
    "        return 1\n",
    "    elif x.score > y.score:\n",
    "        return -1\n",
    "    else:\n",
    "        if x.id.id > y.id.id:\n",
    "            return 1\n",
    "        else:\n",
    "            return -1\n",
    "my_cmp = cmp_to_key(cmp_func)\n",
    "\n",
    "system.add_profile_students_data(University.MAI, Profile('01.03.02'), sorted(MAI_PMI, key=my_cmp))\n",
    "system.add_profile_students_data(University.BMSTU, Profile('01.03.02'), sorted(BMSTU_PMI, key=my_cmp))\n",
    "system.add_profile_students_data(University.MIREA, Profile('01.03.02'), sorted(MIREA_PMI, key=my_cmp))\n",
    "system.add_profile_students_data(University.MIREA, Profile('09.03.04'), sorted(MIREA_PR_INJ, key=my_cmp))\n",
    "system.add_profile_students_data(University.MIPT, Profile('01.03.02'), sorted(MIPT_PMI, key=my_cmp))"
   ],
   "metadata": {
    "collapsed": false,
    "pycharm": {
     "name": "#%%\n"
    }
   }
  },
  {
   "cell_type": "code",
   "execution_count": 6,
   "outputs": [],
   "source": [
    "places = {University.MIPT: {Profile('01.03.02'): 2}, University.MAI: {Profile('01.03.02'): 6}, University.MIREA: {Profile('01.03.02'): 3, Profile('09.03.04'): 3}, University.BMSTU: {Profile('01.03.02'): 2}}\n",
    "system.add_places_details(places)"
   ],
   "metadata": {
    "collapsed": false,
    "pycharm": {
     "name": "#%%\n"
    }
   }
  },
  {
   "cell_type": "code",
   "execution_count": 7,
   "id": "6ab2d727",
   "metadata": {
    "pycharm": {
     "name": "#%%\n"
    }
   },
   "outputs": [
    {
     "data": {
      "text/plain": "[{\"id\": {\"id\": \"111-111-111 01\"}, \"score\": 297, \"agreementSubmitted\": false},\n {\"id\": {\"id\": \"111-111-111 02\"}, \"score\": 285, \"agreementSubmitted\": false},\n {\"id\": {\"id\": \"111-111-111 08\"}, \"score\": 273, \"agreementSubmitted\": false},\n {\"id\": {\"id\": \"111-111-111 09\"}, \"score\": 273, \"agreementSubmitted\": false},\n {\"id\": {\"id\": \"111-111-111 10\"}, \"score\": 273, \"agreementSubmitted\": true},\n {\"id\": {\"id\": \"111-111-111 11\"}, \"score\": 273, \"agreementSubmitted\": false},\n {\"id\": {\"id\": \"111-111-111 04\"}, \"score\": 272, \"agreementSubmitted\": true},\n {\"id\": {\"id\": \"111-111-111 05\"}, \"score\": 272, \"agreementSubmitted\": false},\n {\"id\": {\"id\": \"111-111-111 06\"}, \"score\": 272, \"agreementSubmitted\": false},\n {\"id\": {\"id\": \"111-111-111 07\"}, \"score\": 272, \"agreementSubmitted\": false},\n {\"id\": {\"id\": \"111-111-111 03\"}, \"score\": 271, \"agreementSubmitted\": false}]"
     },
     "execution_count": 7,
     "metadata": {},
     "output_type": "execute_result"
    }
   ],
   "source": [
    "system.get_all_students_where_score_ge(University.MIREA, Profile('01.03.02'), 271)"
   ]
  },
  {
   "cell_type": "code",
   "execution_count": 8,
   "id": "15414019",
   "metadata": {
    "pycharm": {
     "name": "#%%\n"
    }
   },
   "outputs": [
    {
     "data": {
      "text/plain": "[{\"id\": {\"id\": \"111-111-111 08\"}, \"score\": 273, \"agreementSubmitted\": false},\n {\"id\": {\"id\": \"111-111-111 10\"}, \"score\": 273, \"agreementSubmitted\": true},\n {\"id\": {\"id\": \"111-111-111 11\"}, \"score\": 273, \"agreementSubmitted\": false},\n {\"id\": {\"id\": \"111-111-111 04\"}, \"score\": 272, \"agreementSubmitted\": true},\n {\"id\": {\"id\": \"111-111-111 05\"}, \"score\": 272, \"agreementSubmitted\": false},\n {\"id\": {\"id\": \"111-111-111 07\"}, \"score\": 272, \"agreementSubmitted\": false},\n {\"id\": {\"id\": \"111-111-111 03\"}, \"score\": 271, \"agreementSubmitted\": false}]"
     },
     "execution_count": 8,
     "metadata": {},
     "output_type": "execute_result"
    }
   ],
   "source": [
    "system.get_all_students_where_score_ge_and_admission_possible(University.MIREA,Profile('01.03.02'), 271)"
   ]
  },
  {
   "cell_type": "code",
   "execution_count": 9,
   "id": "da09ed97",
   "metadata": {
    "pycharm": {
     "name": "#%%\n"
    }
   },
   "outputs": [
    {
     "data": {
      "text/plain": "[{\"id\": {\"id\": \"111-111-111 01\"}, \"score\": 297, \"agreementSubmitted\": true},\n {\"id\": {\"id\": \"111-111-111 08\"}, \"score\": 273, \"agreementSubmitted\": false},\n {\"id\": {\"id\": \"111-111-111 07\"}, \"score\": 272, \"agreementSubmitted\": false},\n {\"id\": {\"id\": \"111-111-111 03\"}, \"score\": 271, \"agreementSubmitted\": false}]"
     },
     "execution_count": 9,
     "metadata": {},
     "output_type": "execute_result"
    }
   ],
   "source": [
    "system.get_all_students_where_score_ge_and_admission_possible(University.BMSTU, Profile('01.03.02'), 271)"
   ]
  },
  {
   "cell_type": "code",
   "execution_count": 10,
   "id": "a92c3e8e",
   "metadata": {
    "pycharm": {
     "name": "#%%\n"
    }
   },
   "outputs": [
    {
     "name": "stdout",
     "output_type": "stream",
     "text": [
      "\u001B[31mNot found students for 01.03.02 in MIPT\u001B[0m\n"
     ]
    },
    {
     "data": {
      "text/plain": "{MIPT: {01.03.02: -1},\n VSE: {},\n MSU: {},\n MEPHI: {},\n BMSTU: {01.03.02: 273},\n MIREA: {01.03.02: 273, 09.03.04: 273},\n MAI: {01.03.02: 271},\n MPEI: {},\n MTUCI: {},\n MPOLITECH: {},\n MIET: {},\n ITMO: {},\n SPBSU: {}}"
     },
     "execution_count": 10,
     "metadata": {},
     "output_type": "execute_result"
    }
   ],
   "source": [
    "system.get_current_min_scores()"
   ]
  },
  {
   "cell_type": "code",
   "execution_count": 11,
   "id": "10f6ae1b",
   "metadata": {
    "pycharm": {
     "name": "#%%\n"
    }
   },
   "outputs": [
    {
     "data": {
      "text/plain": "{MAI: {01.03.02: (5, 272)},\n BMSTU: {01.03.02: (3, 272)},\n MIREA: {01.03.02: (6, 272), 09.03.04: (6, 272)}}"
     },
     "execution_count": 11,
     "metadata": {},
     "output_type": "execute_result"
    }
   ],
   "source": [
    "system.get_current_positions(StudentId(\"111-111-111 07\"))"
   ]
  },
  {
   "cell_type": "code",
   "execution_count": 12,
   "outputs": [
    {
     "data": {
      "text/plain": "    University  Agreements\n1         МФТИ           0\n2          ВШЭ           0\n3          МГУ           0\n4         МИФИ           0\n5     Бауманка           1\n6        МИРЭА           4\n7          МАИ           3\n8          МЭИ           0\n9        МТУСИ           0\n10  МосПолитех           0\n11        МИЭТ           0\n12        ИТМО           0\n13       СПБГУ           0",
      "text/html": "<div>\n<style scoped>\n    .dataframe tbody tr th:only-of-type {\n        vertical-align: middle;\n    }\n\n    .dataframe tbody tr th {\n        vertical-align: top;\n    }\n\n    .dataframe thead th {\n        text-align: right;\n    }\n</style>\n<table border=\"1\" class=\"dataframe\">\n  <thead>\n    <tr style=\"text-align: right;\">\n      <th></th>\n      <th>University</th>\n      <th>Agreements</th>\n    </tr>\n  </thead>\n  <tbody>\n    <tr>\n      <th>1</th>\n      <td>МФТИ</td>\n      <td>0</td>\n    </tr>\n    <tr>\n      <th>2</th>\n      <td>ВШЭ</td>\n      <td>0</td>\n    </tr>\n    <tr>\n      <th>3</th>\n      <td>МГУ</td>\n      <td>0</td>\n    </tr>\n    <tr>\n      <th>4</th>\n      <td>МИФИ</td>\n      <td>0</td>\n    </tr>\n    <tr>\n      <th>5</th>\n      <td>Бауманка</td>\n      <td>1</td>\n    </tr>\n    <tr>\n      <th>6</th>\n      <td>МИРЭА</td>\n      <td>4</td>\n    </tr>\n    <tr>\n      <th>7</th>\n      <td>МАИ</td>\n      <td>3</td>\n    </tr>\n    <tr>\n      <th>8</th>\n      <td>МЭИ</td>\n      <td>0</td>\n    </tr>\n    <tr>\n      <th>9</th>\n      <td>МТУСИ</td>\n      <td>0</td>\n    </tr>\n    <tr>\n      <th>10</th>\n      <td>МосПолитех</td>\n      <td>0</td>\n    </tr>\n    <tr>\n      <th>11</th>\n      <td>МИЭТ</td>\n      <td>0</td>\n    </tr>\n    <tr>\n      <th>12</th>\n      <td>ИТМО</td>\n      <td>0</td>\n    </tr>\n    <tr>\n      <th>13</th>\n      <td>СПБГУ</td>\n      <td>0</td>\n    </tr>\n  </tbody>\n</table>\n</div>"
     },
     "metadata": {},
     "output_type": "display_data"
    }
   ],
   "source": [
    "system.show_number_of_agreements_by_university()"
   ],
   "metadata": {
    "collapsed": false,
    "pycharm": {
     "name": "#%%\n"
    }
   }
  },
  {
   "cell_type": "code",
   "execution_count": 13,
   "outputs": [
    {
     "data": {
      "text/plain": "    University  Agreements\n1         МФТИ           0\n2          ВШЭ           0\n3          МГУ           0\n4         МИФИ           0\n5     Бауманка           1\n6        МИРЭА           4\n7          МАИ           3\n8          МЭИ           0\n9        МТУСИ           0\n10  МосПолитех           0\n11        МИЭТ           0\n12        ИТМО           0\n13       СПБГУ           0",
      "text/html": "<div>\n<style scoped>\n    .dataframe tbody tr th:only-of-type {\n        vertical-align: middle;\n    }\n\n    .dataframe tbody tr th {\n        vertical-align: top;\n    }\n\n    .dataframe thead th {\n        text-align: right;\n    }\n</style>\n<table border=\"1\" class=\"dataframe\">\n  <thead>\n    <tr style=\"text-align: right;\">\n      <th></th>\n      <th>University</th>\n      <th>Agreements</th>\n    </tr>\n  </thead>\n  <tbody>\n    <tr>\n      <th>1</th>\n      <td>МФТИ</td>\n      <td>0</td>\n    </tr>\n    <tr>\n      <th>2</th>\n      <td>ВШЭ</td>\n      <td>0</td>\n    </tr>\n    <tr>\n      <th>3</th>\n      <td>МГУ</td>\n      <td>0</td>\n    </tr>\n    <tr>\n      <th>4</th>\n      <td>МИФИ</td>\n      <td>0</td>\n    </tr>\n    <tr>\n      <th>5</th>\n      <td>Бауманка</td>\n      <td>1</td>\n    </tr>\n    <tr>\n      <th>6</th>\n      <td>МИРЭА</td>\n      <td>4</td>\n    </tr>\n    <tr>\n      <th>7</th>\n      <td>МАИ</td>\n      <td>3</td>\n    </tr>\n    <tr>\n      <th>8</th>\n      <td>МЭИ</td>\n      <td>0</td>\n    </tr>\n    <tr>\n      <th>9</th>\n      <td>МТУСИ</td>\n      <td>0</td>\n    </tr>\n    <tr>\n      <th>10</th>\n      <td>МосПолитех</td>\n      <td>0</td>\n    </tr>\n    <tr>\n      <th>11</th>\n      <td>МИЭТ</td>\n      <td>0</td>\n    </tr>\n    <tr>\n      <th>12</th>\n      <td>ИТМО</td>\n      <td>0</td>\n    </tr>\n    <tr>\n      <th>13</th>\n      <td>СПБГУ</td>\n      <td>0</td>\n    </tr>\n  </tbody>\n</table>\n</div>"
     },
     "metadata": {},
     "output_type": "display_data"
    }
   ],
   "source": [
    "system.show_number_of_pending_agreements_by_university()"
   ],
   "metadata": {
    "collapsed": false,
    "pycharm": {
     "name": "#%%\n"
    }
   }
  },
  {
   "cell_type": "code",
   "execution_count": 14,
   "outputs": [
    {
     "data": {
      "text/plain": "  University  N of Agreements  Average score  Median score  Top 5% score  \\\n1      МИРЭА                4          272.5         272.5         273.0   \n2        МАИ                3          276.7         273.0         294.6   \n\n   Top 10% score  Top 20% score  \n1          273.0          273.0  \n2          292.2          287.4  ",
      "text/html": "<div>\n<style scoped>\n    .dataframe tbody tr th:only-of-type {\n        vertical-align: middle;\n    }\n\n    .dataframe tbody tr th {\n        vertical-align: top;\n    }\n\n    .dataframe thead th {\n        text-align: right;\n    }\n</style>\n<table border=\"1\" class=\"dataframe\">\n  <thead>\n    <tr style=\"text-align: right;\">\n      <th></th>\n      <th>University</th>\n      <th>N of Agreements</th>\n      <th>Average score</th>\n      <th>Median score</th>\n      <th>Top 5% score</th>\n      <th>Top 10% score</th>\n      <th>Top 20% score</th>\n    </tr>\n  </thead>\n  <tbody>\n    <tr>\n      <th>1</th>\n      <td>МИРЭА</td>\n      <td>4</td>\n      <td>272.5</td>\n      <td>272.5</td>\n      <td>273.0</td>\n      <td>273.0</td>\n      <td>273.0</td>\n    </tr>\n    <tr>\n      <th>2</th>\n      <td>МАИ</td>\n      <td>3</td>\n      <td>276.7</td>\n      <td>273.0</td>\n      <td>294.6</td>\n      <td>292.2</td>\n      <td>287.4</td>\n    </tr>\n  </tbody>\n</table>\n</div>"
     },
     "metadata": {},
     "output_type": "display_data"
    }
   ],
   "source": [
    "system.show_agreements_statistics_by_universities()"
   ],
   "metadata": {
    "collapsed": false,
    "pycharm": {
     "name": "#%%\n"
    }
   }
  },
  {
   "cell_type": "code",
   "execution_count": 15,
   "outputs": [
    {
     "data": {
      "text/plain": "  University   Profile  N of Agreements  Average score  Median score  \\\n1      МИРЭА  01.03.02                2          272.5         272.5   \n2      МИРЭА  09.03.04                2          272.5         272.5   \n3        МАИ  01.03.02                3          276.7         273.0   \n\n   Top 5% score  Top 10% score  Top 20% score  \n1         273.8          273.7          273.4  \n2         273.8          273.7          273.4  \n3         294.6          292.2          287.4  ",
      "text/html": "<div>\n<style scoped>\n    .dataframe tbody tr th:only-of-type {\n        vertical-align: middle;\n    }\n\n    .dataframe tbody tr th {\n        vertical-align: top;\n    }\n\n    .dataframe thead th {\n        text-align: right;\n    }\n</style>\n<table border=\"1\" class=\"dataframe\">\n  <thead>\n    <tr style=\"text-align: right;\">\n      <th></th>\n      <th>University</th>\n      <th>Profile</th>\n      <th>N of Agreements</th>\n      <th>Average score</th>\n      <th>Median score</th>\n      <th>Top 5% score</th>\n      <th>Top 10% score</th>\n      <th>Top 20% score</th>\n    </tr>\n  </thead>\n  <tbody>\n    <tr>\n      <th>1</th>\n      <td>МИРЭА</td>\n      <td>01.03.02</td>\n      <td>2</td>\n      <td>272.5</td>\n      <td>272.5</td>\n      <td>273.8</td>\n      <td>273.7</td>\n      <td>273.4</td>\n    </tr>\n    <tr>\n      <th>2</th>\n      <td>МИРЭА</td>\n      <td>09.03.04</td>\n      <td>2</td>\n      <td>272.5</td>\n      <td>272.5</td>\n      <td>273.8</td>\n      <td>273.7</td>\n      <td>273.4</td>\n    </tr>\n    <tr>\n      <th>3</th>\n      <td>МАИ</td>\n      <td>01.03.02</td>\n      <td>3</td>\n      <td>276.7</td>\n      <td>273.0</td>\n      <td>294.6</td>\n      <td>292.2</td>\n      <td>287.4</td>\n    </tr>\n  </tbody>\n</table>\n</div>"
     },
     "metadata": {},
     "output_type": "display_data"
    }
   ],
   "source": [
    "system.show_agreements_statistics_by_universities_and_profiles()"
   ],
   "metadata": {
    "collapsed": false,
    "pycharm": {
     "name": "#%%\n"
    }
   }
  },
  {
   "cell_type": "code",
   "execution_count": 16,
   "outputs": [
    {
     "name": "stdout",
     "output_type": "stream",
     "text": [
      "\u001B[31mNot found students for 01.03.02 in MIPT\u001B[0m\n"
     ]
    },
    {
     "data": {
      "text/plain": "  University   Profile  Current Position  Number of Places  Score  Min Score\n1        MAI  01.03.02                 5                 6    272        271\n2      BMSTU  01.03.02                 3                 2    272        273\n3      MIREA  01.03.02                 6                 3    272        273\n4      MIREA  09.03.04                 6                 3    272        273",
      "text/html": "<div>\n<style scoped>\n    .dataframe tbody tr th:only-of-type {\n        vertical-align: middle;\n    }\n\n    .dataframe tbody tr th {\n        vertical-align: top;\n    }\n\n    .dataframe thead th {\n        text-align: right;\n    }\n</style>\n<table border=\"1\" class=\"dataframe\">\n  <thead>\n    <tr style=\"text-align: right;\">\n      <th></th>\n      <th>University</th>\n      <th>Profile</th>\n      <th>Current Position</th>\n      <th>Number of Places</th>\n      <th>Score</th>\n      <th>Min Score</th>\n    </tr>\n  </thead>\n  <tbody>\n    <tr>\n      <th>1</th>\n      <td>MAI</td>\n      <td>01.03.02</td>\n      <td>5</td>\n      <td>6</td>\n      <td>272</td>\n      <td>271</td>\n    </tr>\n    <tr>\n      <th>2</th>\n      <td>BMSTU</td>\n      <td>01.03.02</td>\n      <td>3</td>\n      <td>2</td>\n      <td>272</td>\n      <td>273</td>\n    </tr>\n    <tr>\n      <th>3</th>\n      <td>MIREA</td>\n      <td>01.03.02</td>\n      <td>6</td>\n      <td>3</td>\n      <td>272</td>\n      <td>273</td>\n    </tr>\n    <tr>\n      <th>4</th>\n      <td>MIREA</td>\n      <td>09.03.04</td>\n      <td>6</td>\n      <td>3</td>\n      <td>272</td>\n      <td>273</td>\n    </tr>\n  </tbody>\n</table>\n</div>"
     },
     "metadata": {},
     "output_type": "display_data"
    }
   ],
   "source": [
    "system.show_current_situation_for(StudentId(\"111-111-111 07\"))"
   ],
   "metadata": {
    "collapsed": false,
    "pycharm": {
     "name": "#%%\n"
    }
   }
  },
  {
   "cell_type": "code",
   "execution_count": 17,
   "outputs": [
    {
     "data": {
      "text/plain": "                Id  Score Chosen University Chosen Profile\n1   111-111-111 01    297             BMSTU       01.03.02\n2   111-111-111 02    285               MAI       01.03.02\n3   111-111-111 08    273                                 \n4   111-111-111 09    273               MAI       01.03.02\n5   111-111-111 10    273             MIREA       01.03.02\n6   111-111-111 11    273             MIREA       09.03.04\n7   111-111-111 04    272             MIREA       01.03.02\n8   111-111-111 05    272             MIREA       09.03.04\n9   111-111-111 06    272               MAI       01.03.02\n10  111-111-111 07    272                                 \n11  111-111-111 03    271                                 ",
      "text/html": "<div>\n<style scoped>\n    .dataframe tbody tr th:only-of-type {\n        vertical-align: middle;\n    }\n\n    .dataframe tbody tr th {\n        vertical-align: top;\n    }\n\n    .dataframe thead th {\n        text-align: right;\n    }\n</style>\n<table border=\"1\" class=\"dataframe\">\n  <thead>\n    <tr style=\"text-align: right;\">\n      <th></th>\n      <th>Id</th>\n      <th>Score</th>\n      <th>Chosen University</th>\n      <th>Chosen Profile</th>\n    </tr>\n  </thead>\n  <tbody>\n    <tr>\n      <th>1</th>\n      <td>111-111-111 01</td>\n      <td>297</td>\n      <td>BMSTU</td>\n      <td>01.03.02</td>\n    </tr>\n    <tr>\n      <th>2</th>\n      <td>111-111-111 02</td>\n      <td>285</td>\n      <td>MAI</td>\n      <td>01.03.02</td>\n    </tr>\n    <tr>\n      <th>3</th>\n      <td>111-111-111 08</td>\n      <td>273</td>\n      <td></td>\n      <td></td>\n    </tr>\n    <tr>\n      <th>4</th>\n      <td>111-111-111 09</td>\n      <td>273</td>\n      <td>MAI</td>\n      <td>01.03.02</td>\n    </tr>\n    <tr>\n      <th>5</th>\n      <td>111-111-111 10</td>\n      <td>273</td>\n      <td>MIREA</td>\n      <td>01.03.02</td>\n    </tr>\n    <tr>\n      <th>6</th>\n      <td>111-111-111 11</td>\n      <td>273</td>\n      <td>MIREA</td>\n      <td>09.03.04</td>\n    </tr>\n    <tr>\n      <th>7</th>\n      <td>111-111-111 04</td>\n      <td>272</td>\n      <td>MIREA</td>\n      <td>01.03.02</td>\n    </tr>\n    <tr>\n      <th>8</th>\n      <td>111-111-111 05</td>\n      <td>272</td>\n      <td>MIREA</td>\n      <td>09.03.04</td>\n    </tr>\n    <tr>\n      <th>9</th>\n      <td>111-111-111 06</td>\n      <td>272</td>\n      <td>MAI</td>\n      <td>01.03.02</td>\n    </tr>\n    <tr>\n      <th>10</th>\n      <td>111-111-111 07</td>\n      <td>272</td>\n      <td></td>\n      <td></td>\n    </tr>\n    <tr>\n      <th>11</th>\n      <td>111-111-111 03</td>\n      <td>271</td>\n      <td></td>\n      <td></td>\n    </tr>\n  </tbody>\n</table>\n</div>"
     },
     "metadata": {},
     "output_type": "display_data"
    }
   ],
   "source": [
    "system.show_all_students_with_score_ge_and_their_agreement(University.MIREA, Profile('01.03.02'), 270)"
   ],
   "metadata": {
    "collapsed": false,
    "pycharm": {
     "name": "#%%\n"
    }
   }
  },
  {
   "cell_type": "code",
   "execution_count": 18,
   "outputs": [
    {
     "data": {
      "text/plain": "               Id  Score Chosen Profile in MIREA\n1  111-111-111 08    273                        \n2  111-111-111 10    273                01.03.02\n3  111-111-111 11    273                09.03.04\n4  111-111-111 04    272                01.03.02\n5  111-111-111 05    272                09.03.04\n6  111-111-111 07    272                        \n7  111-111-111 03    271                        ",
      "text/html": "<div>\n<style scoped>\n    .dataframe tbody tr th:only-of-type {\n        vertical-align: middle;\n    }\n\n    .dataframe tbody tr th {\n        vertical-align: top;\n    }\n\n    .dataframe thead th {\n        text-align: right;\n    }\n</style>\n<table border=\"1\" class=\"dataframe\">\n  <thead>\n    <tr style=\"text-align: right;\">\n      <th></th>\n      <th>Id</th>\n      <th>Score</th>\n      <th>Chosen Profile in MIREA</th>\n    </tr>\n  </thead>\n  <tbody>\n    <tr>\n      <th>1</th>\n      <td>111-111-111 08</td>\n      <td>273</td>\n      <td></td>\n    </tr>\n    <tr>\n      <th>2</th>\n      <td>111-111-111 10</td>\n      <td>273</td>\n      <td>01.03.02</td>\n    </tr>\n    <tr>\n      <th>3</th>\n      <td>111-111-111 11</td>\n      <td>273</td>\n      <td>09.03.04</td>\n    </tr>\n    <tr>\n      <th>4</th>\n      <td>111-111-111 04</td>\n      <td>272</td>\n      <td>01.03.02</td>\n    </tr>\n    <tr>\n      <th>5</th>\n      <td>111-111-111 05</td>\n      <td>272</td>\n      <td>09.03.04</td>\n    </tr>\n    <tr>\n      <th>6</th>\n      <td>111-111-111 07</td>\n      <td>272</td>\n      <td></td>\n    </tr>\n    <tr>\n      <th>7</th>\n      <td>111-111-111 03</td>\n      <td>271</td>\n      <td></td>\n    </tr>\n  </tbody>\n</table>\n</div>"
     },
     "metadata": {},
     "output_type": "display_data"
    }
   ],
   "source": [
    "system.show_all_students_with_score_ge_and_admission_possible(University.MIREA, Profile('01.03.02'), 270)"
   ],
   "metadata": {
    "collapsed": false,
    "pycharm": {
     "name": "#%%\n"
    }
   }
  }
 ],
 "metadata": {
  "kernelspec": {
   "display_name": "Python 3 (ipykernel)",
   "language": "python",
   "name": "python3"
  },
  "language_info": {
   "codemirror_mode": {
    "name": "ipython",
    "version": 3
   },
   "file_extension": ".py",
   "mimetype": "text/x-python",
   "name": "python",
   "nbconvert_exporter": "python",
   "pygments_lexer": "ipython3",
   "version": "3.9.12"
  }
 },
 "nbformat": 4,
 "nbformat_minor": 5
}