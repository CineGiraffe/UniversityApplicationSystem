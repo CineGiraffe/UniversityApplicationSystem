{
 "cells": [
  {
   "cell_type": "code",
   "execution_count": 1,
   "id": "45ed1f37",
   "metadata": {
    "pycharm": {
     "name": "#%%\n"
    }
   },
   "outputs": [],
   "source": [
    "from University import *\n",
    "from Student import *\n",
    "from ApplicationSystem import *"
   ]
  },
  {
   "cell_type": "code",
   "execution_count": 2,
   "outputs": [
    {
     "name": "stdout",
     "output_type": "stream",
     "text": [
      "МФТИ\n"
     ]
    }
   ],
   "source": [
    "print(University.MIPT.value)"
   ],
   "metadata": {
    "collapsed": false,
    "pycharm": {
     "name": "#%%\n"
    }
   }
  },
  {
   "cell_type": "code",
   "execution_count": 3,
   "outputs": [],
   "source": [
    "test_student = Student(\"123\", 275, False)"
   ],
   "metadata": {
    "collapsed": false,
    "pycharm": {
     "name": "#%%\n"
    }
   }
  },
  {
   "cell_type": "code",
   "execution_count": 4,
   "outputs": [],
   "source": [
    "agreement = Agreement(University.MIPT, \"01.03.02\")"
   ],
   "metadata": {
    "collapsed": false,
    "pycharm": {
     "name": "#%%\n"
    }
   }
  },
  {
   "cell_type": "code",
   "execution_count": 5,
   "outputs": [],
   "source": [
    "system = ApplicationSystem()"
   ],
   "metadata": {
    "collapsed": false,
    "pycharm": {
     "name": "#%%\n"
    }
   }
  },
  {
   "cell_type": "code",
   "execution_count": 6,
   "outputs": [],
   "source": [
    "system.add_profile_students_data(University.MIPT, \"01.03.02\", [Student(\"1234\", 299, False), Student(\"1222\", 306, True)])"
   ],
   "metadata": {
    "collapsed": false,
    "pycharm": {
     "name": "#%%\n"
    }
   }
  },
  {
   "cell_type": "code",
   "execution_count": 7,
   "outputs": [
    {
     "name": "stdout",
     "output_type": "stream",
     "text": [
      "{<University.MIPT: 'МФТИ'>: {'01.03.02': [<Student.Student object at 0x000001DAE28FCFA0>, <Student.Student object at 0x000001DAE28FCF10>]}, <University.VSE: 'ВШЭ'>: {}, <University.MSU: 'МГУ'>: {}, <University.MEPHI: 'МИФИ'>: {}, <University.BMSTU: 'Бауманка'>: {}, <University.MIREA: 'МИРЭА'>: {}, <University.MAI: 'МАИ'>: {}, <University.MPEI: 'МЭИ'>: {}, <University.MTUCI: 'МТУСИ'>: {}, <University.MPOLITECH: 'МосПолитех'>: {}, <University.MIET: 'МИЭТ'>: {}, <University.ITMO: 'ИТМО'>: {}, <University.SPBSU: 'СПБГУ'>: {}}\n"
     ]
    }
   ],
   "source": [
    "print(system.all_students_data)"
   ],
   "metadata": {
    "collapsed": false,
    "pycharm": {
     "name": "#%%\n"
    }
   }
  },
  {
   "cell_type": "code",
   "execution_count": null,
   "outputs": [],
   "source": [],
   "metadata": {
    "collapsed": false,
    "pycharm": {
     "name": "#%%\n"
    }
   }
  }
 ],
 "metadata": {
  "kernelspec": {
   "display_name": "Python 3 (ipykernel)",
   "language": "python",
   "name": "python3"
  },
  "language_info": {
   "codemirror_mode": {
    "name": "ipython",
    "version": 3
   },
   "file_extension": ".py",
   "mimetype": "text/x-python",
   "name": "python",
   "nbconvert_exporter": "python",
   "pygments_lexer": "ipython3",
   "version": "3.9.12"
  }
 },
 "nbformat": 4,
 "nbformat_minor": 5
}